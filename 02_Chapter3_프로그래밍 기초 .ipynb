{
 "cells": [
  {
   "cell_type": "markdown",
   "metadata": {},
   "source": [
    "### 함수 "
   ]
  },
  {
   "cell_type": "code",
   "execution_count": 4,
   "metadata": {
    "scrolled": true
   },
   "outputs": [
    {
     "name": "stdout",
     "output_type": "stream",
     "text": [
      "3 x 1 = 3 \n",
      "3 x 2 = 6 \n",
      "3 x 3 = 9 \n",
      "3 x 4 = 12 \n",
      "3 x 5 = 15 \n",
      "3 x 6 = 18 \n",
      "3 x 7 = 21 \n",
      "3 x 8 = 24 \n",
      "3 x 9 = 27 \n",
      "\n",
      "6 x 1 = 6 \n",
      "6 x 2 = 12 \n",
      "6 x 3 = 18 \n",
      "6 x 4 = 24 \n",
      "6 x 5 = 30 \n",
      "6 x 6 = 36 \n",
      "6 x 7 = 42 \n",
      "6 x 8 = 48 \n",
      "6 x 9 = 54 \n"
     ]
    }
   ],
   "source": [
    "# 문제1: 구구단 출력 함수 만들기 (입력값에 대한 구구단 함수 출력)\n",
    "fun1 <- function(x){\n",
    "    for (i in 1:9){\n",
    "        cat(x,\"x\",i,\"=\",x*i,\"\\n\")\n",
    "    }\n",
    "}\n",
    "fun1(3)\n",
    "cat(\"\\n\")\n",
    "fun1(6)"
   ]
  },
  {
   "cell_type": "markdown",
   "metadata": {},
   "source": [
    "### R 데이터 타입"
   ]
  },
  {
   "cell_type": "code",
   "execution_count": 14,
   "metadata": {},
   "outputs": [
    {
     "data": {
      "text/html": [
       "'numeric'"
      ],
      "text/latex": [
       "'numeric'"
      ],
      "text/markdown": [
       "'numeric'"
      ],
      "text/plain": [
       "[1] \"numeric\""
      ]
     },
     "metadata": {},
     "output_type": "display_data"
    }
   ],
   "source": [
    "x <- 8\n",
    "class(x)"
   ]
  },
  {
   "cell_type": "code",
   "execution_count": 15,
   "metadata": {},
   "outputs": [
    {
     "data": {
      "text/html": [
       "'character'"
      ],
      "text/latex": [
       "'character'"
      ],
      "text/markdown": [
       "'character'"
      ],
      "text/plain": [
       "[1] \"character\""
      ]
     },
     "metadata": {},
     "output_type": "display_data"
    }
   ],
   "source": [
    "y <- \"kim\"\n",
    "class(y)"
   ]
  },
  {
   "cell_type": "code",
   "execution_count": 16,
   "metadata": {},
   "outputs": [
    {
     "data": {
      "text/html": [
       "'factor'"
      ],
      "text/latex": [
       "'factor'"
      ],
      "text/markdown": [
       "'factor'"
      ],
      "text/plain": [
       "[1] \"factor\""
      ]
     },
     "metadata": {},
     "output_type": "display_data"
    }
   ],
   "source": [
    "z <- factor(c(\"T\",\"F\",\"TF\"))\n",
    "class(z)"
   ]
  },
  {
   "cell_type": "code",
   "execution_count": 17,
   "metadata": {},
   "outputs": [
    {
     "data": {
      "text/html": [
       "<ol class=list-inline>\n",
       "\t<li>TRUE</li>\n",
       "\t<li>FALSE</li>\n",
       "\t<li>TRUE</li>\n",
       "\t<li>FALSE</li>\n",
       "</ol>\n"
      ],
      "text/latex": [
       "\\begin{enumerate*}\n",
       "\\item TRUE\n",
       "\\item FALSE\n",
       "\\item TRUE\n",
       "\\item FALSE\n",
       "\\end{enumerate*}\n"
      ],
      "text/markdown": [
       "1. TRUE\n",
       "2. FALSE\n",
       "3. TRUE\n",
       "4. FALSE\n",
       "\n",
       "\n"
      ],
      "text/plain": [
       "[1]  TRUE FALSE  TRUE FALSE"
      ]
     },
     "metadata": {},
     "output_type": "display_data"
    }
   ],
   "source": [
    "w <- as.logical(c(1,0,1,0))\n",
    "w"
   ]
  },
  {
   "cell_type": "markdown",
   "metadata": {},
   "source": [
    "### R 데이터 구조 "
   ]
  },
  {
   "cell_type": "markdown",
   "metadata": {},
   "source": [
    "#### 1. 벡터 "
   ]
  },
  {
   "cell_type": "code",
   "execution_count": 1,
   "metadata": {},
   "outputs": [
    {
     "data": {
      "text/html": [
       "<ol class=list-inline>\n",
       "\t<li>1</li>\n",
       "\t<li>2</li>\n",
       "\t<li>3</li>\n",
       "\t<li>4</li>\n",
       "\t<li>5</li>\n",
       "</ol>\n"
      ],
      "text/latex": [
       "\\begin{enumerate*}\n",
       "\\item 1\n",
       "\\item 2\n",
       "\\item 3\n",
       "\\item 4\n",
       "\\item 5\n",
       "\\end{enumerate*}\n"
      ],
      "text/markdown": [
       "1. 1\n",
       "2. 2\n",
       "3. 3\n",
       "4. 4\n",
       "5. 5\n",
       "\n",
       "\n"
      ],
      "text/plain": [
       "[1] 1 2 3 4 5"
      ]
     },
     "metadata": {},
     "output_type": "display_data"
    }
   ],
   "source": [
    "x <- c(1,2,3,4,5)\n",
    "x"
   ]
  },
  {
   "cell_type": "code",
   "execution_count": 2,
   "metadata": {},
   "outputs": [
    {
     "data": {
      "text/html": [
       "2"
      ],
      "text/latex": [
       "2"
      ],
      "text/markdown": [
       "2"
      ],
      "text/plain": [
       "[1] 2"
      ]
     },
     "metadata": {},
     "output_type": "display_data"
    }
   ],
   "source": [
    "x[2]"
   ]
  },
  {
   "cell_type": "code",
   "execution_count": 3,
   "metadata": {},
   "outputs": [
    {
     "data": {
      "text/html": [
       "<ol class=list-inline>\n",
       "\t<li>1</li>\n",
       "\t<li>2</li>\n",
       "\t<li>3</li>\n",
       "\t<li>0</li>\n",
       "\t<li>5</li>\n",
       "</ol>\n"
      ],
      "text/latex": [
       "\\begin{enumerate*}\n",
       "\\item 1\n",
       "\\item 2\n",
       "\\item 3\n",
       "\\item 0\n",
       "\\item 5\n",
       "\\end{enumerate*}\n"
      ],
      "text/markdown": [
       "1. 1\n",
       "2. 2\n",
       "3. 3\n",
       "4. 0\n",
       "5. 5\n",
       "\n",
       "\n"
      ],
      "text/plain": [
       "[1] 1 2 3 0 5"
      ]
     },
     "metadata": {},
     "output_type": "display_data"
    }
   ],
   "source": [
    "x[4] <- 0 \n",
    "x"
   ]
  },
  {
   "cell_type": "code",
   "execution_count": 5,
   "metadata": {},
   "outputs": [
    {
     "data": {
      "text/html": [
       "<ol class=list-inline>\n",
       "\t<li>1</li>\n",
       "\t<li>2</li>\n",
       "\t<li>3</li>\n",
       "\t<li>0</li>\n",
       "\t<li>5</li>\n",
       "\t<li>4</li>\n",
       "</ol>\n"
      ],
      "text/latex": [
       "\\begin{enumerate*}\n",
       "\\item 1\n",
       "\\item 2\n",
       "\\item 3\n",
       "\\item 0\n",
       "\\item 5\n",
       "\\item 4\n",
       "\\end{enumerate*}\n"
      ],
      "text/markdown": [
       "1. 1\n",
       "2. 2\n",
       "3. 3\n",
       "4. 0\n",
       "5. 5\n",
       "6. 4\n",
       "\n",
       "\n"
      ],
      "text/plain": [
       "[1] 1 2 3 0 5 4"
      ]
     },
     "metadata": {},
     "output_type": "display_data"
    }
   ],
   "source": [
    "c(x,4)"
   ]
  },
  {
   "cell_type": "markdown",
   "metadata": {},
   "source": [
    "#### 2. 행렬(Matrix)\n",
    "##### 행렬은 동일한 형으로 구성된 2차원의 데이터 구조이며, 배열의 한 형태 \n",
    "##### 배열은 다차원이나 행렬은 '행','열'의 속성을 갖는 2차원\n",
    "##### 행렬은 만드는 방법은 matrix()함수를 이용하며, '열 우선 배열' 방식으로 생성됨 "
   ]
  },
  {
   "cell_type": "code",
   "execution_count": 21,
   "metadata": {},
   "outputs": [
    {
     "data": {
      "text/html": [
       "<table>\n",
       "<tbody>\n",
       "\t<tr><td>1</td><td>3</td></tr>\n",
       "\t<tr><td>2</td><td>4</td></tr>\n",
       "</tbody>\n",
       "</table>\n"
      ],
      "text/latex": [
       "\\begin{tabular}{ll}\n",
       "\t 1 & 3\\\\\n",
       "\t 2 & 4\\\\\n",
       "\\end{tabular}\n"
      ],
      "text/markdown": [
       "\n",
       "| 1 | 3 | \n",
       "| 2 | 4 | \n",
       "\n",
       "\n"
      ],
      "text/plain": [
       "     [,1] [,2]\n",
       "[1,] 1    3   \n",
       "[2,] 2    4   "
      ]
     },
     "metadata": {},
     "output_type": "display_data"
    }
   ],
   "source": [
    "x <- matrix(c(1,2,3,4),nrow = 2, ncol = 2)\n",
    "x"
   ]
  },
  {
   "cell_type": "code",
   "execution_count": 24,
   "metadata": {
    "scrolled": true
   },
   "outputs": [
    {
     "data": {
      "text/html": [
       "<table>\n",
       "<tbody>\n",
       "\t<tr><td>1</td></tr>\n",
       "\t<tr><td>2</td></tr>\n",
       "\t<tr><td>3</td></tr>\n",
       "\t<tr><td>4</td></tr>\n",
       "</tbody>\n",
       "</table>\n"
      ],
      "text/latex": [
       "\\begin{tabular}{l}\n",
       "\t 1\\\\\n",
       "\t 2\\\\\n",
       "\t 3\\\\\n",
       "\t 4\\\\\n",
       "\\end{tabular}\n"
      ],
      "text/markdown": [
       "\n",
       "| 1 | \n",
       "| 2 | \n",
       "| 3 | \n",
       "| 4 | \n",
       "\n",
       "\n"
      ],
      "text/plain": [
       "     [,1]\n",
       "[1,] 1   \n",
       "[2,] 2   \n",
       "[3,] 3   \n",
       "[4,] 4   "
      ]
     },
     "metadata": {},
     "output_type": "display_data"
    }
   ],
   "source": [
    "#row와 columns을 설정해주지 않아 한줄로 행렬이 생성 \n",
    "x <- matrix(c(1,2,3,4))\n",
    "x\n"
   ]
  },
  {
   "cell_type": "code",
   "execution_count": 26,
   "metadata": {},
   "outputs": [
    {
     "data": {
      "text/html": [
       "<table>\n",
       "<tbody>\n",
       "\t<tr><td>1</td><td>2</td></tr>\n",
       "\t<tr><td>3</td><td>4</td></tr>\n",
       "</tbody>\n",
       "</table>\n"
      ],
      "text/latex": [
       "\\begin{tabular}{ll}\n",
       "\t 1 & 2\\\\\n",
       "\t 3 & 4\\\\\n",
       "\\end{tabular}\n"
      ],
      "text/markdown": [
       "\n",
       "| 1 | 2 | \n",
       "| 3 | 4 | \n",
       "\n",
       "\n"
      ],
      "text/plain": [
       "     [,1] [,2]\n",
       "[1,] 1    2   \n",
       "[2,] 3    4   "
      ]
     },
     "metadata": {},
     "output_type": "display_data"
    }
   ],
   "source": [
    "# row와 columns을 설정해주고  byrow를 활용하여 행 우선배열로 변경\n",
    "y <- matrix(c(1,2,3,4),nrow = 2,ncol = 2, byrow = T)\n",
    "y"
   ]
  },
  {
   "cell_type": "code",
   "execution_count": 27,
   "metadata": {},
   "outputs": [
    {
     "data": {
      "text/html": [
       "<table>\n",
       "<tbody>\n",
       "\t<tr><th scope=row>r1</th><td>1</td><td>4</td><td>7</td></tr>\n",
       "\t<tr><th scope=row>r2</th><td>2</td><td>5</td><td>8</td></tr>\n",
       "\t<tr><th scope=row>r3</th><td>3</td><td>6</td><td>9</td></tr>\n",
       "</tbody>\n",
       "</table>\n"
      ],
      "text/latex": [
       "\\begin{tabular}{r|lll}\n",
       "\tr1 & 1 & 4 & 7\\\\\n",
       "\tr2 & 2 & 5 & 8\\\\\n",
       "\tr3 & 3 & 6 & 9\\\\\n",
       "\\end{tabular}\n"
      ],
      "text/markdown": [
       "\n",
       "| r1 | 1 | 4 | 7 | \n",
       "| r2 | 2 | 5 | 8 | \n",
       "| r3 | 3 | 6 | 9 | \n",
       "\n",
       "\n"
      ],
      "text/plain": [
       "   [,1] [,2] [,3]\n",
       "r1 1    4    7   \n",
       "r2 2    5    8   \n",
       "r3 3    6    9   "
      ]
     },
     "metadata": {},
     "output_type": "display_data"
    }
   ],
   "source": [
    "# 행렬 - 벡터를 활용한 행렬 생성 \n",
    "r1 <- c(1,4,7)\n",
    "r2 <- c(2,5,8)\n",
    "r3 <- c(3,6,9)\n",
    "# rbind = row을 기준으로 병합\n",
    "rbind(r1,r2,r3)"
   ]
  },
  {
   "cell_type": "code",
   "execution_count": 28,
   "metadata": {
    "scrolled": true
   },
   "outputs": [
    {
     "data": {
      "text/html": [
       "<table>\n",
       "<thead><tr><th scope=col>c1</th><th scope=col>c2</th><th scope=col>c3</th></tr></thead>\n",
       "<tbody>\n",
       "\t<tr><td>1</td><td>4</td><td>7</td></tr>\n",
       "\t<tr><td>2</td><td>5</td><td>8</td></tr>\n",
       "\t<tr><td>3</td><td>6</td><td>9</td></tr>\n",
       "</tbody>\n",
       "</table>\n"
      ],
      "text/latex": [
       "\\begin{tabular}{lll}\n",
       " c1 & c2 & c3\\\\\n",
       "\\hline\n",
       "\t 1 & 4 & 7\\\\\n",
       "\t 2 & 5 & 8\\\\\n",
       "\t 3 & 6 & 9\\\\\n",
       "\\end{tabular}\n"
      ],
      "text/markdown": [
       "\n",
       "c1 | c2 | c3 | \n",
       "|---|---|---|\n",
       "| 1 | 4 | 7 | \n",
       "| 2 | 5 | 8 | \n",
       "| 3 | 6 | 9 | \n",
       "\n",
       "\n"
      ],
      "text/plain": [
       "     c1 c2 c3\n",
       "[1,] 1  4  7 \n",
       "[2,] 2  5  8 \n",
       "[3,] 3  6  9 "
      ]
     },
     "metadata": {},
     "output_type": "display_data"
    }
   ],
   "source": [
    "c1 <- 1:3\n",
    "c2 <- 4:6\n",
    "c3 <- 7:9\n",
    "# cbind = columns을 기준으로 병합\n",
    "cbind(c1,c2,c3)"
   ]
  },
  {
   "cell_type": "markdown",
   "metadata": {},
   "source": [
    "#### 3. 배열 \n",
    "##### 배열은 행렬을 2차원 이상으로 확장시킨 데이터 구조\n",
    "##### 행렬은 2차원이지만 배열은 필요에 따라 3차원, 4차원 .. 임의의 차원을 생성 할 수 있음\n",
    "##### 배열의 생성은 array()와 dim() 함수를 이용하여 각 차원의 요소 수를 벡터로 지정 "
   ]
  },
  {
   "cell_type": "code",
   "execution_count": 29,
   "metadata": {},
   "outputs": [
    {
     "data": {
      "text/html": [
       "<ol class=list-inline>\n",
       "\t<li>1</li>\n",
       "\t<li>2</li>\n",
       "\t<li>3</li>\n",
       "\t<li>4</li>\n",
       "\t<li>5</li>\n",
       "\t<li>6</li>\n",
       "</ol>\n"
      ],
      "text/latex": [
       "\\begin{enumerate*}\n",
       "\\item 1\n",
       "\\item 2\n",
       "\\item 3\n",
       "\\item 4\n",
       "\\item 5\n",
       "\\item 6\n",
       "\\end{enumerate*}\n"
      ],
      "text/markdown": [
       "1. 1\n",
       "2. 2\n",
       "3. 3\n",
       "4. 4\n",
       "5. 5\n",
       "6. 6\n",
       "\n",
       "\n"
      ],
      "text/plain": [
       "[1] 1 2 3 4 5 6"
      ]
     },
     "metadata": {},
     "output_type": "display_data"
    }
   ],
   "source": [
    "array(1:6)"
   ]
  },
  {
   "cell_type": "code",
   "execution_count": 30,
   "metadata": {},
   "outputs": [
    {
     "data": {
      "text/html": [
       "<table>\n",
       "<tbody>\n",
       "\t<tr><td>1</td><td>3</td><td>5</td></tr>\n",
       "\t<tr><td>2</td><td>4</td><td>6</td></tr>\n",
       "</tbody>\n",
       "</table>\n"
      ],
      "text/latex": [
       "\\begin{tabular}{lll}\n",
       "\t 1 & 3 & 5\\\\\n",
       "\t 2 & 4 & 6\\\\\n",
       "\\end{tabular}\n"
      ],
      "text/markdown": [
       "\n",
       "| 1 | 3 | 5 | \n",
       "| 2 | 4 | 6 | \n",
       "\n",
       "\n"
      ],
      "text/plain": [
       "     [,1] [,2] [,3]\n",
       "[1,] 1    3    5   \n",
       "[2,] 2    4    6   "
      ]
     },
     "metadata": {},
     "output_type": "display_data"
    }
   ],
   "source": [
    "array(1:6,c(2,3))\n"
   ]
  },
  {
   "cell_type": "code",
   "execution_count": 32,
   "metadata": {},
   "outputs": [
    {
     "data": {
      "text/html": [
       "<ol class=list-inline>\n",
       "\t<li>1</li>\n",
       "\t<li>2</li>\n",
       "\t<li>3</li>\n",
       "\t<li>4</li>\n",
       "\t<li>5</li>\n",
       "\t<li>6</li>\n",
       "\t<li>7</li>\n",
       "\t<li>8</li>\n",
       "</ol>\n"
      ],
      "text/latex": [
       "\\begin{enumerate*}\n",
       "\\item 1\n",
       "\\item 2\n",
       "\\item 3\n",
       "\\item 4\n",
       "\\item 5\n",
       "\\item 6\n",
       "\\item 7\n",
       "\\item 8\n",
       "\\end{enumerate*}\n"
      ],
      "text/markdown": [
       "1. 1\n",
       "2. 2\n",
       "3. 3\n",
       "4. 4\n",
       "5. 5\n",
       "6. 6\n",
       "7. 7\n",
       "8. 8\n",
       "\n",
       "\n"
      ],
      "text/plain": [
       ", , 1\n",
       "\n",
       "     [,1] [,2]\n",
       "[1,]    1    3\n",
       "[2,]    2    4\n",
       "\n",
       ", , 2\n",
       "\n",
       "     [,1] [,2]\n",
       "[1,]    5    7\n",
       "[2,]    6    8\n"
      ]
     },
     "metadata": {},
     "output_type": "display_data"
    }
   ],
   "source": [
    "array(1:8, c(2,2,2)) ### 1 ~ 8의 자료로 3차원 배열 생성, 주피터 노트북에선 활용이 안되는듯"
   ]
  },
  {
   "cell_type": "code",
   "execution_count": 33,
   "metadata": {},
   "outputs": [
    {
     "data": {
      "text/html": [
       "<ol class=list-inline>\n",
       "\t<li>1</li>\n",
       "\t<li>2</li>\n",
       "\t<li>3</li>\n",
       "\t<li>4</li>\n",
       "\t<li>5</li>\n",
       "\t<li>6</li>\n",
       "\t<li>7</li>\n",
       "\t<li>8</li>\n",
       "\t<li>9</li>\n",
       "\t<li>10</li>\n",
       "\t<li>11</li>\n",
       "\t<li>12</li>\n",
       "\t<li>13</li>\n",
       "\t<li>14</li>\n",
       "\t<li>15</li>\n",
       "\t<li>16</li>\n",
       "\t<li>17</li>\n",
       "\t<li>18</li>\n",
       "\t<li>19</li>\n",
       "\t<li>20</li>\n",
       "\t<li>21</li>\n",
       "\t<li>22</li>\n",
       "\t<li>23</li>\n",
       "\t<li>24</li>\n",
       "</ol>\n"
      ],
      "text/latex": [
       "\\begin{enumerate*}\n",
       "\\item 1\n",
       "\\item 2\n",
       "\\item 3\n",
       "\\item 4\n",
       "\\item 5\n",
       "\\item 6\n",
       "\\item 7\n",
       "\\item 8\n",
       "\\item 9\n",
       "\\item 10\n",
       "\\item 11\n",
       "\\item 12\n",
       "\\item 13\n",
       "\\item 14\n",
       "\\item 15\n",
       "\\item 16\n",
       "\\item 17\n",
       "\\item 18\n",
       "\\item 19\n",
       "\\item 20\n",
       "\\item 21\n",
       "\\item 22\n",
       "\\item 23\n",
       "\\item 24\n",
       "\\end{enumerate*}\n"
      ],
      "text/markdown": [
       "1. 1\n",
       "2. 2\n",
       "3. 3\n",
       "4. 4\n",
       "5. 5\n",
       "6. 6\n",
       "7. 7\n",
       "8. 8\n",
       "9. 9\n",
       "10. 10\n",
       "11. 11\n",
       "12. 12\n",
       "13. 13\n",
       "14. 14\n",
       "15. 15\n",
       "16. 16\n",
       "17. 17\n",
       "18. 18\n",
       "19. 19\n",
       "20. 20\n",
       "21. 21\n",
       "22. 22\n",
       "23. 23\n",
       "24. 24\n",
       "\n",
       "\n"
      ],
      "text/plain": [
       ", , 1\n",
       "\n",
       "     [,1] [,2] [,3] [,4]\n",
       "[1,]    1    4    7   10\n",
       "[2,]    2    5    8   11\n",
       "[3,]    3    6    9   12\n",
       "\n",
       ", , 2\n",
       "\n",
       "     [,1] [,2] [,3] [,4]\n",
       "[1,]   13   16   19   22\n",
       "[2,]   14   17   20   23\n",
       "[3,]   15   18   21   24\n"
      ]
     },
     "metadata": {},
     "output_type": "display_data"
    }
   ],
   "source": []
  },
  {
   "cell_type": "markdown",
   "metadata": {},
   "source": [
    "#### 4. 데이터 프레임 \n",
    "##### 데이터 프레임은 행렬과 비슷한 형태로 되어 있으나, 행렬은 차원으로 표시되며 같은 데이터 형태를 갖는 반면에, 데이터 프레임은 각 열들이 서로 다른 형태의 데이터 유형을 포함할 수 있음 \n",
    "##### 범주형 변수를 가질 수도 있기 때문에 범주형 자료 분석에도 유용하게 사용\n",
    "##### 데이터 프레임의 생성방법은 data.frame()함수 이용 "
   ]
  },
  {
   "cell_type": "code",
   "execution_count": 35,
   "metadata": {},
   "outputs": [
    {
     "data": {
      "text/html": [
       "<ol class=list-inline>\n",
       "\t<li>'A'</li>\n",
       "\t<li>'A'</li>\n",
       "\t<li>'B'</li>\n",
       "\t<li>'B'</li>\n",
       "\t<li>'C'</li>\n",
       "</ol>\n"
      ],
      "text/latex": [
       "\\begin{enumerate*}\n",
       "\\item 'A'\n",
       "\\item 'A'\n",
       "\\item 'B'\n",
       "\\item 'B'\n",
       "\\item 'C'\n",
       "\\end{enumerate*}\n"
      ],
      "text/markdown": [
       "1. 'A'\n",
       "2. 'A'\n",
       "3. 'B'\n",
       "4. 'B'\n",
       "5. 'C'\n",
       "\n",
       "\n"
      ],
      "text/plain": [
       "[1] \"A\" \"A\" \"B\" \"B\" \"C\""
      ]
     },
     "metadata": {},
     "output_type": "display_data"
    },
    {
     "data": {
      "text/html": [
       "<ol class=list-inline>\n",
       "\t<li>1</li>\n",
       "\t<li>1</li>\n",
       "\t<li>2</li>\n",
       "\t<li>2</li>\n",
       "\t<li>3</li>\n",
       "</ol>\n"
      ],
      "text/latex": [
       "\\begin{enumerate*}\n",
       "\\item 1\n",
       "\\item 1\n",
       "\\item 2\n",
       "\\item 2\n",
       "\\item 3\n",
       "\\end{enumerate*}\n"
      ],
      "text/markdown": [
       "1. 1\n",
       "2. 1\n",
       "3. 2\n",
       "4. 2\n",
       "5. 3\n",
       "\n",
       "\n"
      ],
      "text/plain": [
       "[1] 1 1 2 2 3"
      ]
     },
     "metadata": {},
     "output_type": "display_data"
    },
    {
     "data": {
      "text/html": [
       "<table>\n",
       "<thead><tr><th scope=col>char1</th><th scope=col>num1</th></tr></thead>\n",
       "<tbody>\n",
       "\t<tr><td>A</td><td>1</td></tr>\n",
       "\t<tr><td>A</td><td>1</td></tr>\n",
       "\t<tr><td>B</td><td>2</td></tr>\n",
       "\t<tr><td>B</td><td>2</td></tr>\n",
       "\t<tr><td>C</td><td>3</td></tr>\n",
       "</tbody>\n",
       "</table>\n"
      ],
      "text/latex": [
       "\\begin{tabular}{r|ll}\n",
       " char1 & num1\\\\\n",
       "\\hline\n",
       "\t A & 1\\\\\n",
       "\t A & 1\\\\\n",
       "\t B & 2\\\\\n",
       "\t B & 2\\\\\n",
       "\t C & 3\\\\\n",
       "\\end{tabular}\n"
      ],
      "text/markdown": [
       "\n",
       "char1 | num1 | \n",
       "|---|---|---|---|---|\n",
       "| A | 1 | \n",
       "| A | 1 | \n",
       "| B | 2 | \n",
       "| B | 2 | \n",
       "| C | 3 | \n",
       "\n",
       "\n"
      ],
      "text/plain": [
       "  char1 num1\n",
       "1 A     1   \n",
       "2 A     1   \n",
       "3 B     2   \n",
       "4 B     2   \n",
       "5 C     3   "
      ]
     },
     "metadata": {},
     "output_type": "display_data"
    },
    {
     "data": {
      "text/html": [
       "'data.frame'"
      ],
      "text/latex": [
       "'data.frame'"
      ],
      "text/markdown": [
       "'data.frame'"
      ],
      "text/plain": [
       "[1] \"data.frame\""
      ]
     },
     "metadata": {},
     "output_type": "display_data"
    }
   ],
   "source": [
    "char1 <- c(\"A\",\"A\",\"B\",\"B\",\"C\")\n",
    "char1\n",
    "num1 <- c(1,1,2,2,3)\n",
    "num1 \n",
    "test1 <- data.frame(char1,num1)\n",
    "test1\n",
    "class(test1)"
   ]
  },
  {
   "cell_type": "code",
   "execution_count": 38,
   "metadata": {},
   "outputs": [
    {
     "data": {
      "text/html": [
       "<table>\n",
       "<thead><tr><th scope=col>char1</th><th scope=col>num1</th></tr></thead>\n",
       "<tbody>\n",
       "\t<tr><td>A</td><td>1</td></tr>\n",
       "\t<tr><td>A</td><td>1</td></tr>\n",
       "\t<tr><td>B</td><td>2</td></tr>\n",
       "\t<tr><td>B</td><td>2</td></tr>\n",
       "\t<tr><td>C</td><td>3</td></tr>\n",
       "\t<tr><td>C</td><td>4</td></tr>\n",
       "</tbody>\n",
       "</table>\n"
      ],
      "text/latex": [
       "\\begin{tabular}{r|ll}\n",
       " char1 & num1\\\\\n",
       "\\hline\n",
       "\t A & 1\\\\\n",
       "\t A & 1\\\\\n",
       "\t B & 2\\\\\n",
       "\t B & 2\\\\\n",
       "\t C & 3\\\\\n",
       "\t C & 4\\\\\n",
       "\\end{tabular}\n"
      ],
      "text/markdown": [
       "\n",
       "char1 | num1 | \n",
       "|---|---|---|---|---|---|\n",
       "| A | 1 | \n",
       "| A | 1 | \n",
       "| B | 2 | \n",
       "| B | 2 | \n",
       "| C | 3 | \n",
       "| C | 4 | \n",
       "\n",
       "\n"
      ],
      "text/plain": [
       "  char1 num1\n",
       "1 A     1   \n",
       "2 A     1   \n",
       "3 B     2   \n",
       "4 B     2   \n",
       "5 C     3   \n",
       "6 C     4   "
      ]
     },
     "metadata": {},
     "output_type": "display_data"
    }
   ],
   "source": [
    "test3 <- rbind(test1,c(\"C\",4))\n",
    "test3"
   ]
  },
  {
   "cell_type": "code",
   "execution_count": 37,
   "metadata": {},
   "outputs": [
    {
     "data": {
      "text/html": [
       "<table>\n",
       "<thead><tr><th scope=col>char1</th><th scope=col>num1</th><th scope=col>married</th></tr></thead>\n",
       "<tbody>\n",
       "\t<tr><td>A    </td><td>1    </td><td> TRUE</td></tr>\n",
       "\t<tr><td>A    </td><td>1    </td><td> TRUE</td></tr>\n",
       "\t<tr><td>B    </td><td>2    </td><td> TRUE</td></tr>\n",
       "\t<tr><td>B    </td><td>2    </td><td>FALSE</td></tr>\n",
       "\t<tr><td>C    </td><td>3    </td><td>FALSE</td></tr>\n",
       "</tbody>\n",
       "</table>\n"
      ],
      "text/latex": [
       "\\begin{tabular}{r|lll}\n",
       " char1 & num1 & married\\\\\n",
       "\\hline\n",
       "\t A     & 1     &  TRUE\\\\\n",
       "\t A     & 1     &  TRUE\\\\\n",
       "\t B     & 2     &  TRUE\\\\\n",
       "\t B     & 2     & FALSE\\\\\n",
       "\t C     & 3     & FALSE\\\\\n",
       "\\end{tabular}\n"
      ],
      "text/markdown": [
       "\n",
       "char1 | num1 | married | \n",
       "|---|---|---|---|---|\n",
       "| A     | 1     |  TRUE | \n",
       "| A     | 1     |  TRUE | \n",
       "| B     | 2     |  TRUE | \n",
       "| B     | 2     | FALSE | \n",
       "| C     | 3     | FALSE | \n",
       "\n",
       "\n"
      ],
      "text/plain": [
       "  char1 num1 married\n",
       "1 A     1     TRUE  \n",
       "2 A     1     TRUE  \n",
       "3 B     2     TRUE  \n",
       "4 B     2    FALSE  \n",
       "5 C     3    FALSE  "
      ]
     },
     "metadata": {},
     "output_type": "display_data"
    }
   ],
   "source": [
    "test2 <- cbind(test1,married = c(T,T,T,F,F))\n",
    "test2"
   ]
  },
  {
   "cell_type": "code",
   "execution_count": null,
   "metadata": {},
   "outputs": [],
   "source": []
  },
  {
   "cell_type": "markdown",
   "metadata": {},
   "source": [
    "#### 5. 리스트 \n",
    "##### 서로 다른 데이터 형의 집합을 정의할 필요가 있을때 사용할 수 있는 데이터 구조 \n",
    "##### 리스트는 서로 다른 형태의 데이터로 구성됨\n",
    "##### 리스트 생성 함수는 list()"
   ]
  },
  {
   "cell_type": "code",
   "execution_count": 19,
   "metadata": {},
   "outputs": [
    {
     "data": {
      "text/html": [
       "<ol>\n",
       "\t<li>'kim'</li>\n",
       "\t<li><ol class=list-inline>\n",
       "\t<li>94</li>\n",
       "\t<li>82</li>\n",
       "\t<li>92</li>\n",
       "</ol>\n",
       "</li>\n",
       "\t<li><ol class=list-inline>\n",
       "\t<li>TRUE</li>\n",
       "\t<li>FALSE</li>\n",
       "\t<li>TRUE</li>\n",
       "</ol>\n",
       "</li>\n",
       "</ol>\n"
      ],
      "text/latex": [
       "\\begin{enumerate}\n",
       "\\item 'kim'\n",
       "\\item \\begin{enumerate*}\n",
       "\\item 94\n",
       "\\item 82\n",
       "\\item 92\n",
       "\\end{enumerate*}\n",
       "\n",
       "\\item \\begin{enumerate*}\n",
       "\\item TRUE\n",
       "\\item FALSE\n",
       "\\item TRUE\n",
       "\\end{enumerate*}\n",
       "\n",
       "\\end{enumerate}\n"
      ],
      "text/markdown": [
       "1. 'kim'\n",
       "2. 1. 94\n",
       "2. 82\n",
       "3. 92\n",
       "\n",
       "\n",
       "\n",
       "3. 1. TRUE\n",
       "2. FALSE\n",
       "3. TRUE\n",
       "\n",
       "\n",
       "\n",
       "\n",
       "\n"
      ],
      "text/plain": [
       "[[1]]\n",
       "[1] \"kim\"\n",
       "\n",
       "[[2]]\n",
       "[1] 94 82 92\n",
       "\n",
       "[[3]]\n",
       "[1]  TRUE FALSE  TRUE\n"
      ]
     },
     "metadata": {},
     "output_type": "display_data"
    },
    {
     "data": {
      "text/html": [
       "'kim'"
      ],
      "text/latex": [
       "'kim'"
      ],
      "text/markdown": [
       "'kim'"
      ],
      "text/plain": [
       "[1] \"kim\""
      ]
     },
     "metadata": {},
     "output_type": "display_data"
    },
    {
     "data": {
      "text/html": [
       "<ol class=list-inline>\n",
       "\t<li>94</li>\n",
       "\t<li>82</li>\n",
       "\t<li>92</li>\n",
       "</ol>\n"
      ],
      "text/latex": [
       "\\begin{enumerate*}\n",
       "\\item 94\n",
       "\\item 82\n",
       "\\item 92\n",
       "\\end{enumerate*}\n"
      ],
      "text/markdown": [
       "1. 94\n",
       "2. 82\n",
       "3. 92\n",
       "\n",
       "\n"
      ],
      "text/plain": [
       "[1] 94 82 92"
      ]
     },
     "metadata": {},
     "output_type": "display_data"
    },
    {
     "data": {
      "text/html": [
       "<ol class=list-inline>\n",
       "\t<li>TRUE</li>\n",
       "\t<li>FALSE</li>\n",
       "\t<li>TRUE</li>\n",
       "</ol>\n"
      ],
      "text/latex": [
       "\\begin{enumerate*}\n",
       "\\item TRUE\n",
       "\\item FALSE\n",
       "\\item TRUE\n",
       "\\end{enumerate*}\n"
      ],
      "text/markdown": [
       "1. TRUE\n",
       "2. FALSE\n",
       "3. TRUE\n",
       "\n",
       "\n"
      ],
      "text/plain": [
       "[1]  TRUE FALSE  TRUE"
      ]
     },
     "metadata": {},
     "output_type": "display_data"
    },
    {
     "data": {
      "text/html": [
       "TRUE"
      ],
      "text/latex": [
       "TRUE"
      ],
      "text/markdown": [
       "TRUE"
      ],
      "text/plain": [
       "[1] TRUE"
      ]
     },
     "metadata": {},
     "output_type": "display_data"
    }
   ],
   "source": [
    "test <- list(\"kim\",c(94,82,92),c(T,F,T)) # list(문자, 숫자, 논리형 데이터 )\n",
    "test\n",
    "test[[1]]\n",
    "test[[2]]\n",
    "test[[3]]\n",
    "test[[3]][3]"
   ]
  },
  {
   "cell_type": "code",
   "execution_count": 7,
   "metadata": {},
   "outputs": [
    {
     "data": {
      "text/html": [
       "<dl>\n",
       "\t<dt>$son.name</dt>\n",
       "\t\t<dd><ol class=list-inline>\n",
       "\t<li>'Minsu'</li>\n",
       "\t<li>'Minchul'</li>\n",
       "</ol>\n",
       "</dd>\n",
       "\t<dt>$son.gender</dt>\n",
       "\t\t<dd><ol class=list-inline>\n",
       "\t<li>'Male'</li>\n",
       "\t<li>'Male'</li>\n",
       "</ol>\n",
       "</dd>\n",
       "\t<dt>$son.age</dt>\n",
       "\t\t<dd><ol class=list-inline>\n",
       "\t<li>2</li>\n",
       "\t<li>6</li>\n",
       "</ol>\n",
       "</dd>\n",
       "</dl>\n"
      ],
      "text/latex": [
       "\\begin{description}\n",
       "\\item[\\$son.name] \\begin{enumerate*}\n",
       "\\item 'Minsu'\n",
       "\\item 'Minchul'\n",
       "\\end{enumerate*}\n",
       "\n",
       "\\item[\\$son.gender] \\begin{enumerate*}\n",
       "\\item 'Male'\n",
       "\\item 'Male'\n",
       "\\end{enumerate*}\n",
       "\n",
       "\\item[\\$son.age] \\begin{enumerate*}\n",
       "\\item 2\n",
       "\\item 6\n",
       "\\end{enumerate*}\n",
       "\n",
       "\\end{description}\n"
      ],
      "text/markdown": [
       "$son.name\n",
       ":   1. 'Minsu'\n",
       "2. 'Minchul'\n",
       "\n",
       "\n",
       "\n",
       "$son.gender\n",
       ":   1. 'Male'\n",
       "2. 'Male'\n",
       "\n",
       "\n",
       "\n",
       "$son.age\n",
       ":   1. 2\n",
       "2. 6\n",
       "\n",
       "\n",
       "\n",
       "\n",
       "\n"
      ],
      "text/plain": [
       "$son.name\n",
       "[1] \"Minsu\"   \"Minchul\"\n",
       "\n",
       "$son.gender\n",
       "[1] \"Male\" \"Male\"\n",
       "\n",
       "$son.age\n",
       "[1] 2 6\n"
      ]
     },
     "metadata": {},
     "output_type": "display_data"
    }
   ],
   "source": [
    "# 리스트 성분별 이름 정의하기 \n",
    "son <- list(son.name = c(\"Minsu\",\"Minchul\"), son.gender = c(\"Male\",\"Male\"),son.age = c(2,6))\n",
    "son"
   ]
  },
  {
   "cell_type": "code",
   "execution_count": 11,
   "metadata": {},
   "outputs": [
    {
     "data": {
      "text/html": [
       "<ol class=list-inline>\n",
       "\t<li>'Male'</li>\n",
       "\t<li>'Male'</li>\n",
       "</ol>\n"
      ],
      "text/latex": [
       "\\begin{enumerate*}\n",
       "\\item 'Male'\n",
       "\\item 'Male'\n",
       "\\end{enumerate*}\n"
      ],
      "text/markdown": [
       "1. 'Male'\n",
       "2. 'Male'\n",
       "\n",
       "\n"
      ],
      "text/plain": [
       "[1] \"Male\" \"Male\""
      ]
     },
     "metadata": {},
     "output_type": "display_data"
    },
    {
     "data": {
      "text/html": [
       "6"
      ],
      "text/latex": [
       "6"
      ],
      "text/markdown": [
       "6"
      ],
      "text/plain": [
       "[1] 6"
      ]
     },
     "metadata": {},
     "output_type": "display_data"
    },
    {
     "data": {
      "text/html": [
       "<ol class=list-inline>\n",
       "\t<li>'Minsu'</li>\n",
       "\t<li>'Minchul'</li>\n",
       "</ol>\n"
      ],
      "text/latex": [
       "\\begin{enumerate*}\n",
       "\\item 'Minsu'\n",
       "\\item 'Minchul'\n",
       "\\end{enumerate*}\n"
      ],
      "text/markdown": [
       "1. 'Minsu'\n",
       "2. 'Minchul'\n",
       "\n",
       "\n"
      ],
      "text/plain": [
       "[1] \"Minsu\"   \"Minchul\""
      ]
     },
     "metadata": {},
     "output_type": "display_data"
    },
    {
     "data": {
      "text/html": [
       "<ol class=list-inline>\n",
       "\t<li>'Male'</li>\n",
       "\t<li>'Male'</li>\n",
       "</ol>\n"
      ],
      "text/latex": [
       "\\begin{enumerate*}\n",
       "\\item 'Male'\n",
       "\\item 'Male'\n",
       "\\end{enumerate*}\n"
      ],
      "text/markdown": [
       "1. 'Male'\n",
       "2. 'Male'\n",
       "\n",
       "\n"
      ],
      "text/plain": [
       "[1] \"Male\" \"Male\""
      ]
     },
     "metadata": {},
     "output_type": "display_data"
    },
    {
     "data": {
      "text/html": [
       "<ol class=list-inline>\n",
       "\t<li>2</li>\n",
       "\t<li>6</li>\n",
       "</ol>\n"
      ],
      "text/latex": [
       "\\begin{enumerate*}\n",
       "\\item 2\n",
       "\\item 6\n",
       "\\end{enumerate*}\n"
      ],
      "text/markdown": [
       "1. 2\n",
       "2. 6\n",
       "\n",
       "\n"
      ],
      "text/plain": [
       "[1] 2 6"
      ]
     },
     "metadata": {},
     "output_type": "display_data"
    }
   ],
   "source": [
    "son[[2]]\n",
    "son[[3]][2]\n",
    "names(son) <- c(\"name\",\"gender\",\"age\")\n",
    "son$name\n",
    "son$gender\n",
    "son$age"
   ]
  },
  {
   "cell_type": "markdown",
   "metadata": {},
   "source": [
    "### R 데이터 파일 관리 "
   ]
  },
  {
   "cell_type": "markdown",
   "metadata": {},
   "source": [
    "#### 프로그램 설정 경로 확인 "
   ]
  },
  {
   "cell_type": "code",
   "execution_count": 3,
   "metadata": {},
   "outputs": [
    {
     "data": {
      "text/html": [
       "'D:/py_fi/Bigdata_talent'"
      ],
      "text/latex": [
       "'D:/py\\_fi/Bigdata\\_talent'"
      ],
      "text/markdown": [
       "'D:/py_fi/Bigdata_talent'"
      ],
      "text/plain": [
       "[1] \"D:/py_fi/Bigdata_talent\""
      ]
     },
     "metadata": {},
     "output_type": "display_data"
    }
   ],
   "source": [
    "# 현재 작업중인 파일 경로 확인\n",
    "getwd()"
   ]
  },
  {
   "cell_type": "code",
   "execution_count": 2,
   "metadata": {},
   "outputs": [],
   "source": [
    "# 특정 위치를 작업 파일 경로로 설정 \n",
    "setwd(\"D:/py_fi/Bigdata_talent\")"
   ]
  },
  {
   "cell_type": "markdown",
   "metadata": {},
   "source": [
    "##### 데이터 파일 R로 불러오기 "
   ]
  },
  {
   "cell_type": "code",
   "execution_count": 18,
   "metadata": {},
   "outputs": [],
   "source": [
    "# txt파일 \n",
    "student_list = read.table(file ='studentlist.txt',sep = \",\",header = T,stringsAsFactors = FALSE)\n",
    "# file: 불러올 파일의 경로와 파일명, 현재의 작업 경로에서 불러올 경우 파일명만 작성 \n",
    "# header = 'T'이면 데이터의 첫 번째 행을 열 이름으로,'F'이면 첫 번째 행부터 데이터로 사용\n",
    "# sep = 구분자, 기본탭(\\t)\n",
    "# StringAsFactors: \"T\"이면 문자형 변수를 범주형으로 변환, 'F'면 문자형 변수 그대로 사용"
   ]
  },
  {
   "cell_type": "code",
   "execution_count": 19,
   "metadata": {},
   "outputs": [
    {
     "data": {
      "text/html": [
       "<table>\n",
       "<thead><tr><th scope=col>name</th><th scope=col>sex</th><th scope=col>age</th><th scope=col>grade</th><th scope=col>absence</th><th scope=col>bloodtype</th><th scope=col>height</th><th scope=col>weight</th></tr></thead>\n",
       "<tbody>\n",
       "\t<tr><td>김길동</td><td>남자  </td><td>23    </td><td>3     </td><td>유    </td><td>O     </td><td>165.3 </td><td>68.2  </td></tr>\n",
       "\t<tr><td>이미린</td><td>여자  </td><td>22    </td><td>2     </td><td>무    </td><td>AB    </td><td>170.1 </td><td>53.0  </td></tr>\n",
       "\t<tr><td>홍길동</td><td>남자  </td><td>24    </td><td>4     </td><td>무    </td><td>B     </td><td>175.0 </td><td>80.1  </td></tr>\n",
       "\t<tr><td>김철수</td><td>남자  </td><td>23    </td><td>3     </td><td>무    </td><td>AB    </td><td>182.1 </td><td>85.7  </td></tr>\n",
       "\t<tr><td>손세수</td><td>여자  </td><td>20    </td><td>1     </td><td>유    </td><td>A     </td><td>168.0 </td><td>49.5  </td></tr>\n",
       "\t<tr><td>박미희</td><td>여자  </td><td>21    </td><td>2     </td><td>무    </td><td>O     </td><td>162.0 </td><td>52.0  </td></tr>\n",
       "\t<tr><td>강수친</td><td>여자  </td><td>22    </td><td>1     </td><td>무    </td><td>O     </td><td>155.2 </td><td>45.3  </td></tr>\n",
       "\t<tr><td>이희수</td><td>여자  </td><td>23    </td><td>1     </td><td>무    </td><td>A     </td><td>176.9 </td><td>55.0  </td></tr>\n",
       "\t<tr><td>이철린</td><td>남자  </td><td>23    </td><td>3     </td><td>무    </td><td>B     </td><td>178.5 </td><td>64.2  </td></tr>\n",
       "\t<tr><td>방희철</td><td>남자  </td><td>22    </td><td>2     </td><td>무    </td><td>B     </td><td>176.1 </td><td>61.3  </td></tr>\n",
       "\t<tr><td>박수호</td><td>남자  </td><td>24    </td><td>4     </td><td>유    </td><td>O     </td><td>167.1 </td><td>62.0  </td></tr>\n",
       "\t<tr><td>임동민</td><td>남자  </td><td>22    </td><td>2     </td><td>무    </td><td>AB    </td><td>180.0 </td><td>75.8  </td></tr>\n",
       "\t<tr><td>김민수</td><td>남자  </td><td>21    </td><td>1     </td><td>무    </td><td>A     </td><td>162.2 </td><td>55.3  </td></tr>\n",
       "\t<tr><td>이희진</td><td>여자  </td><td>23    </td><td>3     </td><td>무    </td><td>O     </td><td>176.1 </td><td>53.1  </td></tr>\n",
       "\t<tr><td>김미진</td><td>여자  </td><td>22    </td><td>2     </td><td>무    </td><td>B     </td><td>158.2 </td><td>45.2  </td></tr>\n",
       "\t<tr><td>김동수</td><td>남자  </td><td>24    </td><td>4     </td><td>유    </td><td>B     </td><td>168.6 </td><td>70.2  </td></tr>\n",
       "\t<tr><td>여수근</td><td>남자  </td><td>21    </td><td>1     </td><td>무    </td><td>A     </td><td>169.2 </td><td>62.2  </td></tr>\n",
       "</tbody>\n",
       "</table>\n"
      ],
      "text/latex": [
       "\\begin{tabular}{r|llllllll}\n",
       " name & sex & age & grade & absence & bloodtype & height & weight\\\\\n",
       "\\hline\n",
       "\t 김길동 & 남자   & 23     & 3      & 유     & O      & 165.3  & 68.2  \\\\\n",
       "\t 이미린 & 여자   & 22     & 2      & 무     & AB     & 170.1  & 53.0  \\\\\n",
       "\t 홍길동 & 남자   & 24     & 4      & 무     & B      & 175.0  & 80.1  \\\\\n",
       "\t 김철수 & 남자   & 23     & 3      & 무     & AB     & 182.1  & 85.7  \\\\\n",
       "\t 손세수 & 여자   & 20     & 1      & 유     & A      & 168.0  & 49.5  \\\\\n",
       "\t 박미희 & 여자   & 21     & 2      & 무     & O      & 162.0  & 52.0  \\\\\n",
       "\t 강수친 & 여자   & 22     & 1      & 무     & O      & 155.2  & 45.3  \\\\\n",
       "\t 이희수 & 여자   & 23     & 1      & 무     & A      & 176.9  & 55.0  \\\\\n",
       "\t 이철린 & 남자   & 23     & 3      & 무     & B      & 178.5  & 64.2  \\\\\n",
       "\t 방희철 & 남자   & 22     & 2      & 무     & B      & 176.1  & 61.3  \\\\\n",
       "\t 박수호 & 남자   & 24     & 4      & 유     & O      & 167.1  & 62.0  \\\\\n",
       "\t 임동민 & 남자   & 22     & 2      & 무     & AB     & 180.0  & 75.8  \\\\\n",
       "\t 김민수 & 남자   & 21     & 1      & 무     & A      & 162.2  & 55.3  \\\\\n",
       "\t 이희진 & 여자   & 23     & 3      & 무     & O      & 176.1  & 53.1  \\\\\n",
       "\t 김미진 & 여자   & 22     & 2      & 무     & B      & 158.2  & 45.2  \\\\\n",
       "\t 김동수 & 남자   & 24     & 4      & 유     & B      & 168.6  & 70.2  \\\\\n",
       "\t 여수근 & 남자   & 21     & 1      & 무     & A      & 169.2  & 62.2  \\\\\n",
       "\\end{tabular}\n"
      ],
      "text/markdown": [
       "\n",
       "name | sex | age | grade | absence | bloodtype | height | weight | \n",
       "|---|---|---|---|---|---|---|---|---|---|---|---|---|---|---|---|---|\n",
       "| 김길동 | 남자   | 23     | 3      | 유     | O      | 165.3  | 68.2   | \n",
       "| 이미린 | 여자   | 22     | 2      | 무     | AB     | 170.1  | 53.0   | \n",
       "| 홍길동 | 남자   | 24     | 4      | 무     | B      | 175.0  | 80.1   | \n",
       "| 김철수 | 남자   | 23     | 3      | 무     | AB     | 182.1  | 85.7   | \n",
       "| 손세수 | 여자   | 20     | 1      | 유     | A      | 168.0  | 49.5   | \n",
       "| 박미희 | 여자   | 21     | 2      | 무     | O      | 162.0  | 52.0   | \n",
       "| 강수친 | 여자   | 22     | 1      | 무     | O      | 155.2  | 45.3   | \n",
       "| 이희수 | 여자   | 23     | 1      | 무     | A      | 176.9  | 55.0   | \n",
       "| 이철린 | 남자   | 23     | 3      | 무     | B      | 178.5  | 64.2   | \n",
       "| 방희철 | 남자   | 22     | 2      | 무     | B      | 176.1  | 61.3   | \n",
       "| 박수호 | 남자   | 24     | 4      | 유     | O      | 167.1  | 62.0   | \n",
       "| 임동민 | 남자   | 22     | 2      | 무     | AB     | 180.0  | 75.8   | \n",
       "| 김민수 | 남자   | 21     | 1      | 무     | A      | 162.2  | 55.3   | \n",
       "| 이희진 | 여자   | 23     | 3      | 무     | O      | 176.1  | 53.1   | \n",
       "| 김미진 | 여자   | 22     | 2      | 무     | B      | 158.2  | 45.2   | \n",
       "| 김동수 | 남자   | 24     | 4      | 유     | B      | 168.6  | 70.2   | \n",
       "| 여수근 | 남자   | 21     | 1      | 무     | A      | 169.2  | 62.2   | \n",
       "\n",
       "\n"
      ],
      "text/plain": [
       "   name   sex  age grade absence bloodtype height weight\n",
       "1  김길동 남자 23  3     유      O         165.3  68.2  \n",
       "2  이미린 여자 22  2     무      AB        170.1  53.0  \n",
       "3  홍길동 남자 24  4     무      B         175.0  80.1  \n",
       "4  김철수 남자 23  3     무      AB        182.1  85.7  \n",
       "5  손세수 여자 20  1     유      A         168.0  49.5  \n",
       "6  박미희 여자 21  2     무      O         162.0  52.0  \n",
       "7  강수친 여자 22  1     무      O         155.2  45.3  \n",
       "8  이희수 여자 23  1     무      A         176.9  55.0  \n",
       "9  이철린 남자 23  3     무      B         178.5  64.2  \n",
       "10 방희철 남자 22  2     무      B         176.1  61.3  \n",
       "11 박수호 남자 24  4     유      O         167.1  62.0  \n",
       "12 임동민 남자 22  2     무      AB        180.0  75.8  \n",
       "13 김민수 남자 21  1     무      A         162.2  55.3  \n",
       "14 이희진 여자 23  3     무      O         176.1  53.1  \n",
       "15 김미진 여자 22  2     무      B         158.2  45.2  \n",
       "16 김동수 남자 24  4     유      B         168.6  70.2  \n",
       "17 여수근 남자 21  1     무      A         169.2  62.2  "
      ]
     },
     "metadata": {},
     "output_type": "display_data"
    }
   ],
   "source": [
    "student_list"
   ]
  },
  {
   "cell_type": "code",
   "execution_count": 25,
   "metadata": {},
   "outputs": [
    {
     "data": {
      "text/html": [
       "<table>\n",
       "<thead><tr><th scope=col>name</th><th scope=col>sex</th><th scope=col>age</th><th scope=col>grade</th><th scope=col>absence</th><th scope=col>bloodtype</th><th scope=col>height</th><th scope=col>weight</th></tr></thead>\n",
       "<tbody>\n",
       "\t<tr><td>김길동</td><td>남자  </td><td>23    </td><td>3     </td><td>유    </td><td>O     </td><td>165.3 </td><td>68.2  </td></tr>\n",
       "\t<tr><td>이미린</td><td>여자  </td><td>22    </td><td>2     </td><td>무    </td><td>AB    </td><td>170.1 </td><td>53.0  </td></tr>\n",
       "\t<tr><td>홍길동</td><td>남자  </td><td>24    </td><td>4     </td><td>무    </td><td>B     </td><td>175.0 </td><td>80.1  </td></tr>\n",
       "\t<tr><td>김철수</td><td>남자  </td><td>23    </td><td>3     </td><td>무    </td><td>AB    </td><td>182.1 </td><td>85.7  </td></tr>\n",
       "\t<tr><td>손세수</td><td>여자  </td><td>20    </td><td>1     </td><td>유    </td><td>A     </td><td>168.0 </td><td>49.5  </td></tr>\n",
       "\t<tr><td>박미희</td><td>여자  </td><td>21    </td><td>2     </td><td>무    </td><td>O     </td><td>162.0 </td><td>52.0  </td></tr>\n",
       "\t<tr><td>강수친</td><td>여자  </td><td>22    </td><td>1     </td><td>무    </td><td>O     </td><td>155.2 </td><td>45.3  </td></tr>\n",
       "\t<tr><td>이희수</td><td>여자  </td><td>23    </td><td>1     </td><td>무    </td><td>A     </td><td>176.9 </td><td>55.0  </td></tr>\n",
       "\t<tr><td>이철린</td><td>남자  </td><td>23    </td><td>3     </td><td>무    </td><td>B     </td><td>178.5 </td><td>64.2  </td></tr>\n",
       "\t<tr><td>방희철</td><td>남자  </td><td>22    </td><td>2     </td><td>무    </td><td>B     </td><td>176.1 </td><td>61.3  </td></tr>\n",
       "\t<tr><td>박수호</td><td>남자  </td><td>24    </td><td>4     </td><td>유    </td><td>O     </td><td>167.1 </td><td>62.0  </td></tr>\n",
       "\t<tr><td>임동민</td><td>남자  </td><td>22    </td><td>2     </td><td>무    </td><td>AB    </td><td>180.0 </td><td>75.8  </td></tr>\n",
       "\t<tr><td>김민수</td><td>남자  </td><td>21    </td><td>1     </td><td>무    </td><td>A     </td><td>162.2 </td><td>55.3  </td></tr>\n",
       "\t<tr><td>이희진</td><td>여자  </td><td>23    </td><td>3     </td><td>무    </td><td>O     </td><td>176.1 </td><td>53.1  </td></tr>\n",
       "\t<tr><td>김미진</td><td>여자  </td><td>22    </td><td>2     </td><td>무    </td><td>B     </td><td>158.2 </td><td>45.2  </td></tr>\n",
       "\t<tr><td>김동수</td><td>남자  </td><td>24    </td><td>4     </td><td>유    </td><td>B     </td><td>168.6 </td><td>70.2  </td></tr>\n",
       "\t<tr><td>여수근</td><td>남자  </td><td>21    </td><td>1     </td><td>무    </td><td>A     </td><td>169.2 </td><td>62.2  </td></tr>\n",
       "</tbody>\n",
       "</table>\n"
      ],
      "text/latex": [
       "\\begin{tabular}{r|llllllll}\n",
       " name & sex & age & grade & absence & bloodtype & height & weight\\\\\n",
       "\\hline\n",
       "\t 김길동 & 남자   & 23     & 3      & 유     & O      & 165.3  & 68.2  \\\\\n",
       "\t 이미린 & 여자   & 22     & 2      & 무     & AB     & 170.1  & 53.0  \\\\\n",
       "\t 홍길동 & 남자   & 24     & 4      & 무     & B      & 175.0  & 80.1  \\\\\n",
       "\t 김철수 & 남자   & 23     & 3      & 무     & AB     & 182.1  & 85.7  \\\\\n",
       "\t 손세수 & 여자   & 20     & 1      & 유     & A      & 168.0  & 49.5  \\\\\n",
       "\t 박미희 & 여자   & 21     & 2      & 무     & O      & 162.0  & 52.0  \\\\\n",
       "\t 강수친 & 여자   & 22     & 1      & 무     & O      & 155.2  & 45.3  \\\\\n",
       "\t 이희수 & 여자   & 23     & 1      & 무     & A      & 176.9  & 55.0  \\\\\n",
       "\t 이철린 & 남자   & 23     & 3      & 무     & B      & 178.5  & 64.2  \\\\\n",
       "\t 방희철 & 남자   & 22     & 2      & 무     & B      & 176.1  & 61.3  \\\\\n",
       "\t 박수호 & 남자   & 24     & 4      & 유     & O      & 167.1  & 62.0  \\\\\n",
       "\t 임동민 & 남자   & 22     & 2      & 무     & AB     & 180.0  & 75.8  \\\\\n",
       "\t 김민수 & 남자   & 21     & 1      & 무     & A      & 162.2  & 55.3  \\\\\n",
       "\t 이희진 & 여자   & 23     & 3      & 무     & O      & 176.1  & 53.1  \\\\\n",
       "\t 김미진 & 여자   & 22     & 2      & 무     & B      & 158.2  & 45.2  \\\\\n",
       "\t 김동수 & 남자   & 24     & 4      & 유     & B      & 168.6  & 70.2  \\\\\n",
       "\t 여수근 & 남자   & 21     & 1      & 무     & A      & 169.2  & 62.2  \\\\\n",
       "\\end{tabular}\n"
      ],
      "text/markdown": [
       "\n",
       "name | sex | age | grade | absence | bloodtype | height | weight | \n",
       "|---|---|---|---|---|---|---|---|---|---|---|---|---|---|---|---|---|\n",
       "| 김길동 | 남자   | 23     | 3      | 유     | O      | 165.3  | 68.2   | \n",
       "| 이미린 | 여자   | 22     | 2      | 무     | AB     | 170.1  | 53.0   | \n",
       "| 홍길동 | 남자   | 24     | 4      | 무     | B      | 175.0  | 80.1   | \n",
       "| 김철수 | 남자   | 23     | 3      | 무     | AB     | 182.1  | 85.7   | \n",
       "| 손세수 | 여자   | 20     | 1      | 유     | A      | 168.0  | 49.5   | \n",
       "| 박미희 | 여자   | 21     | 2      | 무     | O      | 162.0  | 52.0   | \n",
       "| 강수친 | 여자   | 22     | 1      | 무     | O      | 155.2  | 45.3   | \n",
       "| 이희수 | 여자   | 23     | 1      | 무     | A      | 176.9  | 55.0   | \n",
       "| 이철린 | 남자   | 23     | 3      | 무     | B      | 178.5  | 64.2   | \n",
       "| 방희철 | 남자   | 22     | 2      | 무     | B      | 176.1  | 61.3   | \n",
       "| 박수호 | 남자   | 24     | 4      | 유     | O      | 167.1  | 62.0   | \n",
       "| 임동민 | 남자   | 22     | 2      | 무     | AB     | 180.0  | 75.8   | \n",
       "| 김민수 | 남자   | 21     | 1      | 무     | A      | 162.2  | 55.3   | \n",
       "| 이희진 | 여자   | 23     | 3      | 무     | O      | 176.1  | 53.1   | \n",
       "| 김미진 | 여자   | 22     | 2      | 무     | B      | 158.2  | 45.2   | \n",
       "| 김동수 | 남자   | 24     | 4      | 유     | B      | 168.6  | 70.2   | \n",
       "| 여수근 | 남자   | 21     | 1      | 무     | A      | 169.2  | 62.2   | \n",
       "\n",
       "\n"
      ],
      "text/plain": [
       "   name   sex  age grade absence bloodtype height weight\n",
       "1  김길동 남자 23  3     유      O         165.3  68.2  \n",
       "2  이미린 여자 22  2     무      AB        170.1  53.0  \n",
       "3  홍길동 남자 24  4     무      B         175.0  80.1  \n",
       "4  김철수 남자 23  3     무      AB        182.1  85.7  \n",
       "5  손세수 여자 20  1     유      A         168.0  49.5  \n",
       "6  박미희 여자 21  2     무      O         162.0  52.0  \n",
       "7  강수친 여자 22  1     무      O         155.2  45.3  \n",
       "8  이희수 여자 23  1     무      A         176.9  55.0  \n",
       "9  이철린 남자 23  3     무      B         178.5  64.2  \n",
       "10 방희철 남자 22  2     무      B         176.1  61.3  \n",
       "11 박수호 남자 24  4     유      O         167.1  62.0  \n",
       "12 임동민 남자 22  2     무      AB        180.0  75.8  \n",
       "13 김민수 남자 21  1     무      A         162.2  55.3  \n",
       "14 이희진 여자 23  3     무      O         176.1  53.1  \n",
       "15 김미진 여자 22  2     무      B         158.2  45.2  \n",
       "16 김동수 남자 24  4     유      B         168.6  70.2  \n",
       "17 여수근 남자 21  1     무      A         169.2  62.2  "
      ]
     },
     "metadata": {},
     "output_type": "display_data"
    }
   ],
   "source": [
    "read.csv('example_studentlist.csv',header = T,sep = ',',stringsAsFactors = F)"
   ]
  },
  {
   "cell_type": "code",
   "execution_count": null,
   "metadata": {},
   "outputs": [],
   "source": [
    "##### R 데이터 내보내기 "
   ]
  },
  {
   "cell_type": "code",
   "execution_count": 28,
   "metadata": {},
   "outputs": [],
   "source": [
    "# txt파일 \n",
    "write.table(student_list,file='bye_student.txt',sep = ',',row.names = F, col.names = T)\n",
    "# x: 저장할 데이터 \n",
    "# file : 저장할 경로와 파일명, 현재의 작업 경로에 그대로 저장할 경우 파일명만 작성 \n",
    "# row.names: 'T'이면 행 이름(번호) 포함, 'F'이면 행 이름(번호)가 생략됨\n",
    "# col.names: 'T'이면 열 이름 포함, 'F'이면 열 이름 생략하여 저장 "
   ]
  },
  {
   "cell_type": "code",
   "execution_count": 30,
   "metadata": {},
   "outputs": [],
   "source": [
    "# csv파일 \n",
    "write.csv(student_list,file='bye_stduent2.csv',row.names = F)\n",
    "# x: 저장할 데이터\n",
    "# file: 저장할 경로와 파일명, 현재의 작업 경로에 그대로 저장할 경우 파일명만 작성\n",
    "# row.names: 'T'이면 행 이름(번호) 포함 'F'면 생략됨"
   ]
  }
 ],
 "metadata": {
  "kernelspec": {
   "display_name": "R",
   "language": "R",
   "name": "ir"
  },
  "language_info": {
   "codemirror_mode": "r",
   "file_extension": ".r",
   "mimetype": "text/x-r-source",
   "name": "R",
   "pygments_lexer": "r",
   "version": "3.5.1"
  }
 },
 "nbformat": 4,
 "nbformat_minor": 2
}
