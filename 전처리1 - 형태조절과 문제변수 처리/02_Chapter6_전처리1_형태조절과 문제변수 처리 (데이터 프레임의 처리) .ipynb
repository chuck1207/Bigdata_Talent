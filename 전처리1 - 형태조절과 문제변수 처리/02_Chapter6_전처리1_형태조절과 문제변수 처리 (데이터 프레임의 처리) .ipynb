{
 "cells": [
  {
   "cell_type": "code",
   "execution_count": null,
   "metadata": {},
   "outputs": [],
   "source": [
    "## 데이터 프레임 처리 "
   ]
  },
  {
   "cell_type": "code",
   "execution_count": null,
   "metadata": {},
   "outputs": [],
   "source": [
    "###데이터프레임 "
   ]
  },
  {
   "cell_type": "markdown",
   "metadata": {},
   "source": [
    "#### 데이터프레임 생성 1: 파일에서\n",
    "> - 데이터 프레임은 R에서 가장 널리 사용되는 구조이다.\n",
    "> - 데이터 셋을 조작하고 저장하는 표준 자료구조이다. "
   ]
  },
  {
   "cell_type": "code",
   "execution_count": 1,
   "metadata": {},
   "outputs": [
    {
     "data": {
      "text/html": [
       "<table>\n",
       "<thead><tr><th scope=col>item</th><th scope=col>price</th><th scope=col>sales</th></tr></thead>\n",
       "<tbody>\n",
       "\t<tr><td>풍선    </td><td>  100   </td><td>200     </td></tr>\n",
       "\t<tr><td>펌프    </td><td> 3000   </td><td>  5     </td></tr>\n",
       "\t<tr><td>테이프  </td><td>  300   </td><td> 20     </td></tr>\n",
       "\t<tr><td>플랜카드</td><td>20000   </td><td>  1     </td></tr>\n",
       "\t<tr><td>색종이  </td><td>  150   </td><td>100     </td></tr>\n",
       "</tbody>\n",
       "</table>\n"
      ],
      "text/latex": [
       "\\begin{tabular}{r|lll}\n",
       " item & price & sales\\\\\n",
       "\\hline\n",
       "\t 풍선     &   100    & 200     \\\\\n",
       "\t 펌프     &  3000    &   5     \\\\\n",
       "\t 테이프   &   300    &  20     \\\\\n",
       "\t 플랜카드 & 20000    &   1     \\\\\n",
       "\t 색종이   &   150    & 100     \\\\\n",
       "\\end{tabular}\n"
      ],
      "text/markdown": [
       "\n",
       "item | price | sales | \n",
       "|---|---|---|---|---|\n",
       "| 풍선     |   100    | 200      | \n",
       "| 펌프     |  3000    |   5      | \n",
       "| 테이프   |   300    |  20      | \n",
       "| 플랜카드 | 20000    |   1      | \n",
       "| 색종이   |   150    | 100      | \n",
       "\n",
       "\n"
      ],
      "text/plain": [
       "  item     price sales\n",
       "1 풍선       100 200  \n",
       "2 펌프      3000   5  \n",
       "3 테이프     300  20  \n",
       "4 플랜카드 20000   1  \n",
       "5 색종이     150 100  "
      ]
     },
     "metadata": {},
     "output_type": "display_data"
    }
   ],
   "source": [
    "read.csv('test.csv')"
   ]
  },
  {
   "cell_type": "code",
   "execution_count": 2,
   "metadata": {},
   "outputs": [
    {
     "data": {
      "text/html": [
       "<table>\n",
       "<thead><tr><th scope=col>x</th><th scope=col>y</th><th scope=col>z</th></tr></thead>\n",
       "<tbody>\n",
       "\t<tr><td>1 </td><td>10</td><td>M </td></tr>\n",
       "\t<tr><td>2 </td><td>20</td><td>M </td></tr>\n",
       "\t<tr><td>3 </td><td>30</td><td>M </td></tr>\n",
       "\t<tr><td>4 </td><td>40</td><td>F </td></tr>\n",
       "\t<tr><td>5 </td><td>50</td><td>F </td></tr>\n",
       "</tbody>\n",
       "</table>\n"
      ],
      "text/latex": [
       "\\begin{tabular}{r|lll}\n",
       " x & y & z\\\\\n",
       "\\hline\n",
       "\t 1  & 10 & M \\\\\n",
       "\t 2  & 20 & M \\\\\n",
       "\t 3  & 30 & M \\\\\n",
       "\t 4  & 40 & F \\\\\n",
       "\t 5  & 50 & F \\\\\n",
       "\\end{tabular}\n"
      ],
      "text/markdown": [
       "\n",
       "x | y | z | \n",
       "|---|---|---|---|---|\n",
       "| 1  | 10 | M  | \n",
       "| 2  | 20 | M  | \n",
       "| 3  | 30 | M  | \n",
       "| 4  | 40 | F  | \n",
       "| 5  | 50 | F  | \n",
       "\n",
       "\n"
      ],
      "text/plain": [
       "  x y  z\n",
       "1 1 10 M\n",
       "2 2 20 M\n",
       "3 3 30 M\n",
       "4 4 40 F\n",
       "5 5 50 F"
      ]
     },
     "metadata": {},
     "output_type": "display_data"
    }
   ],
   "source": [
    "#### 데이터 프레임 생성 2: data.frame()\n",
    "\n",
    "x <- c(1,2,3,4,5)\n",
    "y <- c(10,20,30,40,50)\n",
    "z <- c(\"M\",\"M\",'M','F','F')\n",
    "\n",
    "d <- data.frame(x,y,z)\n",
    "d\n"
   ]
  },
  {
   "cell_type": "code",
   "execution_count": 4,
   "metadata": {},
   "outputs": [
    {
     "data": {
      "text/html": [
       "<table>\n",
       "<thead><tr><th scope=col>x</th><th scope=col>y</th></tr></thead>\n",
       "<tbody>\n",
       "\t<tr><td>1 </td><td>10</td></tr>\n",
       "\t<tr><td>2 </td><td>20</td></tr>\n",
       "\t<tr><td>3 </td><td>30</td></tr>\n",
       "</tbody>\n",
       "</table>\n"
      ],
      "text/latex": [
       "\\begin{tabular}{r|ll}\n",
       " x & y\\\\\n",
       "\\hline\n",
       "\t 1  & 10\\\\\n",
       "\t 2  & 20\\\\\n",
       "\t 3  & 30\\\\\n",
       "\\end{tabular}\n"
      ],
      "text/markdown": [
       "\n",
       "x | y | \n",
       "|---|---|---|\n",
       "| 1  | 10 | \n",
       "| 2  | 20 | \n",
       "| 3  | 30 | \n",
       "\n",
       "\n"
      ],
      "text/plain": [
       "  x y \n",
       "1 1 10\n",
       "2 2 20\n",
       "3 3 30"
      ]
     },
     "metadata": {},
     "output_type": "display_data"
    }
   ],
   "source": [
    "# 아래와 같은 형태로 만들 수도 있다. \n",
    "d <- data.frame(x = c(1,2,3),y = c(10,20,30))\n",
    "d"
   ]
  },
  {
   "cell_type": "code",
   "execution_count": 6,
   "metadata": {},
   "outputs": [
    {
     "data": {
      "text/html": [
       "<table>\n",
       "<thead><tr><th scope=col>id</th><th scope=col>factory</th><th scope=col>sales</th></tr></thead>\n",
       "<tbody>\n",
       "\t<tr><td>1        </td><td>평택지부1</td><td>70       </td></tr>\n",
       "\t<tr><td>2        </td><td>평택지부2</td><td>90       </td></tr>\n",
       "\t<tr><td>3        </td><td>안산지부 </td><td>80       </td></tr>\n",
       "\t<tr><td>4        </td><td>인천지부 </td><td>85       </td></tr>\n",
       "\t<tr><td>5        </td><td>원주서부 </td><td>87       </td></tr>\n",
       "</tbody>\n",
       "</table>\n"
      ],
      "text/latex": [
       "\\begin{tabular}{r|lll}\n",
       " id & factory & sales\\\\\n",
       "\\hline\n",
       "\t 1         & 평택지부1 & 70       \\\\\n",
       "\t 2         & 평택지부2 & 90       \\\\\n",
       "\t 3         & 안산지부  & 80       \\\\\n",
       "\t 4         & 인천지부  & 85       \\\\\n",
       "\t 5         & 원주서부  & 87       \\\\\n",
       "\\end{tabular}\n"
      ],
      "text/markdown": [
       "\n",
       "id | factory | sales | \n",
       "|---|---|---|---|---|\n",
       "| 1         | 평택지부1 | 70        | \n",
       "| 2         | 평택지부2 | 90        | \n",
       "| 3         | 안산지부  | 80        | \n",
       "| 4         | 인천지부  | 85        | \n",
       "| 5         | 원주서부  | 87        | \n",
       "\n",
       "\n"
      ],
      "text/plain": [
       "  id factory   sales\n",
       "1 1  평택지부1 70   \n",
       "2 2  평택지부2 90   \n",
       "3 3  안산지부  80   \n",
       "4 4  인천지부  85   \n",
       "5 5  원주서부  87   "
      ]
     },
     "metadata": {},
     "output_type": "display_data"
    },
    {
     "name": "stdout",
     "output_type": "stream",
     "text": [
      "'data.frame':\t5 obs. of  3 variables:\n",
      " $ id     : num  1 2 3 4 5\n",
      " $ factory: Factor w/ 5 levels \"안산지부\",\"원주서부\",..: 4 5 1 3 2\n",
      " $ sales  : num  70 90 80 85 87\n"
     ]
    }
   ],
   "source": [
    "id <- c(1,2,3,4,5)\n",
    "factory <- c(\"평택지부1\",\"평택지부2\",\"안산지부\",\"인천지부\",\"원주서부\")\n",
    "sales <- c(70,90,80,85,87)\n",
    "\n",
    "d <- data.frame(id, factory, sales) \n",
    "# 이름과 같이 factor저장되는 것이 불필요한 자료들이 있을 수 있다. 그럴 경우에는 data.frame인자에서 stringAsfactors를 FALSE로 지정 \n",
    "d\n",
    "str(d)"
   ]
  },
  {
   "cell_type": "code",
   "execution_count": null,
   "metadata": {},
   "outputs": [],
   "source": [
    "#### 특정컬럼 데이터 유형 변환"
   ]
  },
  {
   "cell_type": "code",
   "execution_count": 8,
   "metadata": {},
   "outputs": [
    {
     "name": "stdout",
     "output_type": "stream",
     "text": [
      "'data.frame':\t5 obs. of  4 variables:\n",
      " $ id     : num  1 2 3 4 5\n",
      " $ factory: chr  \"평택지부1\" \"평택지부2\" \"안산지부\" \"인천지부\" ...\n",
      " $ type   : chr  \"공장\" \"공장\" \"오피스\" \"오피스\" ...\n",
      " $ sales  : num  70 90 80 85 87\n",
      "'data.frame':\t5 obs. of  4 variables:\n",
      " $ id     : num  1 2 3 4 5\n",
      " $ factory: chr  \"평택지부1\" \"평택지부2\" \"안산지부\" \"인천지부\" ...\n",
      " $ type   : Factor w/ 2 levels \"공장\",\"오피스\": 1 1 2 2 2\n",
      " $ sales  : num  70 90 80 85 87\n"
     ]
    }
   ],
   "source": [
    "id <- c(1,2,3,4,5)\n",
    "factory <- c(\"평택지부1\",\"평택지부2\",\"안산지부\",\"인천지부\",\"원주서부\")\n",
    "type <- c(\"공장\",\"공장\",\"오피스\",\"오피스\",\"오피스\")\n",
    "sales <- c(70,90,80,85,87)\n",
    "\n",
    "d <- data.frame(id,factory,type,sales ,stringsAsFactors = FALSE)\n",
    "str(d)\n",
    "\n",
    "d$type <- as.factor(d$type)\n",
    "str(d)"
   ]
  },
  {
   "cell_type": "code",
   "execution_count": null,
   "metadata": {},
   "outputs": [],
   "source": [
    "#### 데이터 프레임 다루기: 특정 컬럼 선택"
   ]
  },
  {
   "cell_type": "code",
   "execution_count": 11,
   "metadata": {},
   "outputs": [
    {
     "data": {
      "text/html": [
       "<ol class=list-inline>\n",
       "\t<li>'김원경'</li>\n",
       "\t<li>'박찬웅'</li>\n",
       "\t<li>'조해선'</li>\n",
       "\t<li>'김선영'</li>\n",
       "\t<li>'이화영'</li>\n",
       "\t<li>'양영욱'</li>\n",
       "\t<li>'최필선'</li>\n",
       "</ol>\n"
      ],
      "text/latex": [
       "\\begin{enumerate*}\n",
       "\\item '김원경'\n",
       "\\item '박찬웅'\n",
       "\\item '조해선'\n",
       "\\item '김선영'\n",
       "\\item '이화영'\n",
       "\\item '양영욱'\n",
       "\\item '최필선'\n",
       "\\end{enumerate*}\n"
      ],
      "text/markdown": [
       "1. '김원경'\n",
       "2. '박찬웅'\n",
       "3. '조해선'\n",
       "4. '김선영'\n",
       "5. '이화영'\n",
       "6. '양영욱'\n",
       "7. '최필선'\n",
       "\n",
       "\n"
      ],
      "text/plain": [
       "[1] \"김원경\" \"박찬웅\" \"조해선\" \"김선영\" \"이화영\" \"양영욱\" \"최필선\""
      ]
     },
     "metadata": {},
     "output_type": "display_data"
    },
    {
     "data": {
      "text/html": [
       "<ol class=list-inline>\n",
       "\t<li>'김원경'</li>\n",
       "\t<li>'박찬웅'</li>\n",
       "\t<li>'조해선'</li>\n",
       "\t<li>'김선영'</li>\n",
       "\t<li>'이화영'</li>\n",
       "\t<li>'양영욱'</li>\n",
       "\t<li>'최필선'</li>\n",
       "</ol>\n"
      ],
      "text/latex": [
       "\\begin{enumerate*}\n",
       "\\item '김원경'\n",
       "\\item '박찬웅'\n",
       "\\item '조해선'\n",
       "\\item '김선영'\n",
       "\\item '이화영'\n",
       "\\item '양영욱'\n",
       "\\item '최필선'\n",
       "\\end{enumerate*}\n"
      ],
      "text/markdown": [
       "1. '김원경'\n",
       "2. '박찬웅'\n",
       "3. '조해선'\n",
       "4. '김선영'\n",
       "5. '이화영'\n",
       "6. '양영욱'\n",
       "7. '최필선'\n",
       "\n",
       "\n"
      ],
      "text/plain": [
       "[1] \"김원경\" \"박찬웅\" \"조해선\" \"김선영\" \"이화영\" \"양영욱\" \"최필선\""
      ]
     },
     "metadata": {},
     "output_type": "display_data"
    },
    {
     "data": {
      "text/html": [
       "<ol class=list-inline>\n",
       "\t<li>'김원경'</li>\n",
       "\t<li>'박찬웅'</li>\n",
       "\t<li>'조해선'</li>\n",
       "\t<li>'김선영'</li>\n",
       "\t<li>'이화영'</li>\n",
       "\t<li>'양영욱'</li>\n",
       "\t<li>'최필선'</li>\n",
       "</ol>\n"
      ],
      "text/latex": [
       "\\begin{enumerate*}\n",
       "\\item '김원경'\n",
       "\\item '박찬웅'\n",
       "\\item '조해선'\n",
       "\\item '김선영'\n",
       "\\item '이화영'\n",
       "\\item '양영욱'\n",
       "\\item '최필선'\n",
       "\\end{enumerate*}\n"
      ],
      "text/markdown": [
       "1. '김원경'\n",
       "2. '박찬웅'\n",
       "3. '조해선'\n",
       "4. '김선영'\n",
       "5. '이화영'\n",
       "6. '양영욱'\n",
       "7. '최필선'\n",
       "\n",
       "\n"
      ],
      "text/plain": [
       "[1] \"김원경\" \"박찬웅\" \"조해선\" \"김선영\" \"이화영\" \"양영욱\" \"최필선\""
      ]
     },
     "metadata": {},
     "output_type": "display_data"
    }
   ],
   "source": [
    "id <- 1:7\n",
    "name <- c(\"김원경\",\"박찬웅\",\"조해선\",\"김선영\",\"이화영\",\"양영욱\",\"최필선\")\n",
    "gender <- c(\"F\",\"M\",\"F\",\"F\",\"F\",\"M\",\"M\")\n",
    "sales <- c(1000,2000,1500,2200,1700,2000,2200)\n",
    "\n",
    "d <- data.frame(id,name,gender,sales,stringsAsFactors = F)\n",
    "## 컬럼을 선택하는 다양한 방법 \n",
    "d.col <- d$name\n",
    "d.col\n",
    "d.col <- d[,2]\n",
    "d.col\n",
    "d.col <- d[,\"name\"]\n",
    "d.col\n"
   ]
  },
  {
   "cell_type": "markdown",
   "metadata": {},
   "source": [
    "###### dplyr을 이용해서도 특정 컬럼을 불러올 수 있다. 이때 ctrl,shift,M 키를 함께 눌러주면 d 뒤에 있는 명령어를 입력할 수 있다. "
   ]
  },
  {
   "cell_type": "code",
   "execution_count": 13,
   "metadata": {},
   "outputs": [
    {
     "data": {
      "text/html": [
       "<table>\n",
       "<thead><tr><th scope=col>name</th></tr></thead>\n",
       "<tbody>\n",
       "\t<tr><td>김원경</td></tr>\n",
       "\t<tr><td>박찬웅</td></tr>\n",
       "\t<tr><td>조해선</td></tr>\n",
       "\t<tr><td>김선영</td></tr>\n",
       "\t<tr><td>이화영</td></tr>\n",
       "\t<tr><td>양영욱</td></tr>\n",
       "\t<tr><td>최필선</td></tr>\n",
       "</tbody>\n",
       "</table>\n"
      ],
      "text/latex": [
       "\\begin{tabular}{r|l}\n",
       " name\\\\\n",
       "\\hline\n",
       "\t 김원경\\\\\n",
       "\t 박찬웅\\\\\n",
       "\t 조해선\\\\\n",
       "\t 김선영\\\\\n",
       "\t 이화영\\\\\n",
       "\t 양영욱\\\\\n",
       "\t 최필선\\\\\n",
       "\\end{tabular}\n"
      ],
      "text/markdown": [
       "\n",
       "name | \n",
       "|---|---|---|---|---|---|---|\n",
       "| 김원경 | \n",
       "| 박찬웅 | \n",
       "| 조해선 | \n",
       "| 김선영 | \n",
       "| 이화영 | \n",
       "| 양영욱 | \n",
       "| 최필선 | \n",
       "\n",
       "\n"
      ],
      "text/plain": [
       "  name  \n",
       "1 김원경\n",
       "2 박찬웅\n",
       "3 조해선\n",
       "4 김선영\n",
       "5 이화영\n",
       "6 양영욱\n",
       "7 최필선"
      ]
     },
     "metadata": {},
     "output_type": "display_data"
    }
   ],
   "source": [
    "d  %>%  select(name) "
   ]
  },
  {
   "cell_type": "code",
   "execution_count": null,
   "metadata": {},
   "outputs": [],
   "source": [
    "#### 데이터 프레임 다루기: 다중 컬럼 선택"
   ]
  },
  {
   "cell_type": "code",
   "execution_count": 16,
   "metadata": {},
   "outputs": [
    {
     "data": {
      "text/html": [
       "<table>\n",
       "<thead><tr><th scope=col>name</th><th scope=col>gender</th><th scope=col>sales</th></tr></thead>\n",
       "<tbody>\n",
       "\t<tr><td>김원경</td><td>F     </td><td>1000  </td></tr>\n",
       "\t<tr><td>박찬웅</td><td>M     </td><td>2000  </td></tr>\n",
       "\t<tr><td>조해선</td><td>F     </td><td>1500  </td></tr>\n",
       "\t<tr><td>김선영</td><td>F     </td><td>2200  </td></tr>\n",
       "\t<tr><td>이화영</td><td>F     </td><td>1700  </td></tr>\n",
       "\t<tr><td>양영욱</td><td>M     </td><td>2000  </td></tr>\n",
       "\t<tr><td>최필선</td><td>M     </td><td>2200  </td></tr>\n",
       "</tbody>\n",
       "</table>\n"
      ],
      "text/latex": [
       "\\begin{tabular}{r|lll}\n",
       " name & gender & sales\\\\\n",
       "\\hline\n",
       "\t 김원경 & F      & 1000  \\\\\n",
       "\t 박찬웅 & M      & 2000  \\\\\n",
       "\t 조해선 & F      & 1500  \\\\\n",
       "\t 김선영 & F      & 2200  \\\\\n",
       "\t 이화영 & F      & 1700  \\\\\n",
       "\t 양영욱 & M      & 2000  \\\\\n",
       "\t 최필선 & M      & 2200  \\\\\n",
       "\\end{tabular}\n"
      ],
      "text/markdown": [
       "\n",
       "name | gender | sales | \n",
       "|---|---|---|---|---|---|---|\n",
       "| 김원경 | F      | 1000   | \n",
       "| 박찬웅 | M      | 2000   | \n",
       "| 조해선 | F      | 1500   | \n",
       "| 김선영 | F      | 2200   | \n",
       "| 이화영 | F      | 1700   | \n",
       "| 양영욱 | M      | 2000   | \n",
       "| 최필선 | M      | 2200   | \n",
       "\n",
       "\n"
      ],
      "text/plain": [
       "  name   gender sales\n",
       "1 김원경 F      1000 \n",
       "2 박찬웅 M      2000 \n",
       "3 조해선 F      1500 \n",
       "4 김선영 F      2200 \n",
       "5 이화영 F      1700 \n",
       "6 양영욱 M      2000 \n",
       "7 최필선 M      2200 "
      ]
     },
     "metadata": {},
     "output_type": "display_data"
    },
    {
     "data": {
      "text/html": [
       "<table>\n",
       "<thead><tr><th scope=col>name</th><th scope=col>gender</th><th scope=col>sales</th></tr></thead>\n",
       "<tbody>\n",
       "\t<tr><td>김원경</td><td>F     </td><td>1000  </td></tr>\n",
       "\t<tr><td>박찬웅</td><td>M     </td><td>2000  </td></tr>\n",
       "\t<tr><td>조해선</td><td>F     </td><td>1500  </td></tr>\n",
       "\t<tr><td>김선영</td><td>F     </td><td>2200  </td></tr>\n",
       "\t<tr><td>이화영</td><td>F     </td><td>1700  </td></tr>\n",
       "\t<tr><td>양영욱</td><td>M     </td><td>2000  </td></tr>\n",
       "\t<tr><td>최필선</td><td>M     </td><td>2200  </td></tr>\n",
       "</tbody>\n",
       "</table>\n"
      ],
      "text/latex": [
       "\\begin{tabular}{r|lll}\n",
       " name & gender & sales\\\\\n",
       "\\hline\n",
       "\t 김원경 & F      & 1000  \\\\\n",
       "\t 박찬웅 & M      & 2000  \\\\\n",
       "\t 조해선 & F      & 1500  \\\\\n",
       "\t 김선영 & F      & 2200  \\\\\n",
       "\t 이화영 & F      & 1700  \\\\\n",
       "\t 양영욱 & M      & 2000  \\\\\n",
       "\t 최필선 & M      & 2200  \\\\\n",
       "\\end{tabular}\n"
      ],
      "text/markdown": [
       "\n",
       "name | gender | sales | \n",
       "|---|---|---|---|---|---|---|\n",
       "| 김원경 | F      | 1000   | \n",
       "| 박찬웅 | M      | 2000   | \n",
       "| 조해선 | F      | 1500   | \n",
       "| 김선영 | F      | 2200   | \n",
       "| 이화영 | F      | 1700   | \n",
       "| 양영욱 | M      | 2000   | \n",
       "| 최필선 | M      | 2200   | \n",
       "\n",
       "\n"
      ],
      "text/plain": [
       "  name   gender sales\n",
       "1 김원경 F      1000 \n",
       "2 박찬웅 M      2000 \n",
       "3 조해선 F      1500 \n",
       "4 김선영 F      2200 \n",
       "5 이화영 F      1700 \n",
       "6 양영욱 M      2000 \n",
       "7 최필선 M      2200 "
      ]
     },
     "metadata": {},
     "output_type": "display_data"
    },
    {
     "data": {
      "text/html": [
       "<table>\n",
       "<thead><tr><th scope=col>name</th><th scope=col>gender</th><th scope=col>sales</th></tr></thead>\n",
       "<tbody>\n",
       "\t<tr><td>김원경</td><td>F     </td><td>1000  </td></tr>\n",
       "\t<tr><td>박찬웅</td><td>M     </td><td>2000  </td></tr>\n",
       "\t<tr><td>조해선</td><td>F     </td><td>1500  </td></tr>\n",
       "\t<tr><td>김선영</td><td>F     </td><td>2200  </td></tr>\n",
       "\t<tr><td>이화영</td><td>F     </td><td>1700  </td></tr>\n",
       "\t<tr><td>양영욱</td><td>M     </td><td>2000  </td></tr>\n",
       "\t<tr><td>최필선</td><td>M     </td><td>2200  </td></tr>\n",
       "</tbody>\n",
       "</table>\n"
      ],
      "text/latex": [
       "\\begin{tabular}{r|lll}\n",
       " name & gender & sales\\\\\n",
       "\\hline\n",
       "\t 김원경 & F      & 1000  \\\\\n",
       "\t 박찬웅 & M      & 2000  \\\\\n",
       "\t 조해선 & F      & 1500  \\\\\n",
       "\t 김선영 & F      & 2200  \\\\\n",
       "\t 이화영 & F      & 1700  \\\\\n",
       "\t 양영욱 & M      & 2000  \\\\\n",
       "\t 최필선 & M      & 2200  \\\\\n",
       "\\end{tabular}\n"
      ],
      "text/markdown": [
       "\n",
       "name | gender | sales | \n",
       "|---|---|---|---|---|---|---|\n",
       "| 김원경 | F      | 1000   | \n",
       "| 박찬웅 | M      | 2000   | \n",
       "| 조해선 | F      | 1500   | \n",
       "| 김선영 | F      | 2200   | \n",
       "| 이화영 | F      | 1700   | \n",
       "| 양영욱 | M      | 2000   | \n",
       "| 최필선 | M      | 2200   | \n",
       "\n",
       "\n"
      ],
      "text/plain": [
       "  name   gender sales\n",
       "1 김원경 F      1000 \n",
       "2 박찬웅 M      2000 \n",
       "3 조해선 F      1500 \n",
       "4 김선영 F      2200 \n",
       "5 이화영 F      1700 \n",
       "6 양영욱 M      2000 \n",
       "7 최필선 M      2200 "
      ]
     },
     "metadata": {},
     "output_type": "display_data"
    }
   ],
   "source": [
    "d.cols <- d[,c(2,3,4)]\n",
    "d.cols\n",
    "d.cols <- d[,2:4]\n",
    "d.cols\n",
    "d.cols <- d[,c(\"name\",'gender',\"sales\")]\n",
    "d.cols"
   ]
  },
  {
   "cell_type": "code",
   "execution_count": null,
   "metadata": {},
   "outputs": [],
   "source": [
    "#### 데이터 프레임 다루기: 행 및 원소 선택"
   ]
  },
  {
   "cell_type": "code",
   "execution_count": 18,
   "metadata": {},
   "outputs": [
    {
     "data": {
      "text/html": [
       "<table>\n",
       "<thead><tr><th></th><th scope=col>id</th><th scope=col>name</th><th scope=col>gender</th><th scope=col>sales</th></tr></thead>\n",
       "<tbody>\n",
       "\t<tr><th scope=row>2</th><td>2     </td><td>박찬웅</td><td>M     </td><td>2000  </td></tr>\n",
       "</tbody>\n",
       "</table>\n"
      ],
      "text/latex": [
       "\\begin{tabular}{r|llll}\n",
       "  & id & name & gender & sales\\\\\n",
       "\\hline\n",
       "\t2 & 2      & 박찬웅 & M      & 2000  \\\\\n",
       "\\end{tabular}\n"
      ],
      "text/markdown": [
       "\n",
       "| <!--/--> | id | name | gender | sales | \n",
       "|---|\n",
       "| 2 | 2      | 박찬웅 | M      | 2000   | \n",
       "\n",
       "\n"
      ],
      "text/plain": [
       "  id name   gender sales\n",
       "2 2  박찬웅 M      2000 "
      ]
     },
     "metadata": {},
     "output_type": "display_data"
    },
    {
     "data": {
      "text/html": [
       "'M'"
      ],
      "text/latex": [
       "'M'"
      ],
      "text/markdown": [
       "'M'"
      ],
      "text/plain": [
       "[1] \"M\""
      ]
     },
     "metadata": {},
     "output_type": "display_data"
    }
   ],
   "source": [
    "d.row <- d[2,] #특정 행 선택 \n",
    "d.row\n",
    "d.element <- d[2,3] # 특정 행,열(원소) 선택\n",
    "d.element"
   ]
  },
  {
   "cell_type": "code",
   "execution_count": null,
   "metadata": {},
   "outputs": [],
   "source": [
    "#### 데이터프레임 다루기: 조건에 맞는 행 선택1"
   ]
  },
  {
   "cell_type": "code",
   "execution_count": 20,
   "metadata": {},
   "outputs": [
    {
     "data": {
      "text/html": [
       "<table>\n",
       "<thead><tr><th></th><th scope=col>id</th><th scope=col>name</th><th scope=col>gender</th><th scope=col>sales</th></tr></thead>\n",
       "<tbody>\n",
       "\t<tr><th scope=row>2</th><td>2     </td><td>박찬웅</td><td>M     </td><td>2000  </td></tr>\n",
       "\t<tr><th scope=row>6</th><td>6     </td><td>양영욱</td><td>M     </td><td>2000  </td></tr>\n",
       "\t<tr><th scope=row>7</th><td>7     </td><td>최필선</td><td>M     </td><td>2200  </td></tr>\n",
       "</tbody>\n",
       "</table>\n"
      ],
      "text/latex": [
       "\\begin{tabular}{r|llll}\n",
       "  & id & name & gender & sales\\\\\n",
       "\\hline\n",
       "\t2 & 2      & 박찬웅 & M      & 2000  \\\\\n",
       "\t6 & 6      & 양영욱 & M      & 2000  \\\\\n",
       "\t7 & 7      & 최필선 & M      & 2200  \\\\\n",
       "\\end{tabular}\n"
      ],
      "text/markdown": [
       "\n",
       "| <!--/--> | id | name | gender | sales | \n",
       "|---|---|---|\n",
       "| 2 | 2      | 박찬웅 | M      | 2000   | \n",
       "| 6 | 6      | 양영욱 | M      | 2000   | \n",
       "| 7 | 7      | 최필선 | M      | 2200   | \n",
       "\n",
       "\n"
      ],
      "text/plain": [
       "  id name   gender sales\n",
       "2 2  박찬웅 M      2000 \n",
       "6 6  양영욱 M      2000 \n",
       "7 7  최필선 M      2200 "
      ]
     },
     "metadata": {},
     "output_type": "display_data"
    },
    {
     "data": {
      "text/html": [
       "<table>\n",
       "<thead><tr><th></th><th scope=col>id</th><th scope=col>name</th><th scope=col>gender</th><th scope=col>sales</th></tr></thead>\n",
       "<tbody>\n",
       "\t<tr><th scope=row>1</th><td>1     </td><td>김원경</td><td>F     </td><td>1000  </td></tr>\n",
       "\t<tr><th scope=row>3</th><td>3     </td><td>조해선</td><td>F     </td><td>1500  </td></tr>\n",
       "\t<tr><th scope=row>4</th><td>4     </td><td>김선영</td><td>F     </td><td>2200  </td></tr>\n",
       "\t<tr><th scope=row>5</th><td>5     </td><td>이화영</td><td>F     </td><td>1700  </td></tr>\n",
       "</tbody>\n",
       "</table>\n"
      ],
      "text/latex": [
       "\\begin{tabular}{r|llll}\n",
       "  & id & name & gender & sales\\\\\n",
       "\\hline\n",
       "\t1 & 1      & 김원경 & F      & 1000  \\\\\n",
       "\t3 & 3      & 조해선 & F      & 1500  \\\\\n",
       "\t4 & 4      & 김선영 & F      & 2200  \\\\\n",
       "\t5 & 5      & 이화영 & F      & 1700  \\\\\n",
       "\\end{tabular}\n"
      ],
      "text/markdown": [
       "\n",
       "| <!--/--> | id | name | gender | sales | \n",
       "|---|---|---|---|\n",
       "| 1 | 1      | 김원경 | F      | 1000   | \n",
       "| 3 | 3      | 조해선 | F      | 1500   | \n",
       "| 4 | 4      | 김선영 | F      | 2200   | \n",
       "| 5 | 5      | 이화영 | F      | 1700   | \n",
       "\n",
       "\n"
      ],
      "text/plain": [
       "  id name   gender sales\n",
       "1 1  김원경 F      1000 \n",
       "3 3  조해선 F      1500 \n",
       "4 4  김선영 F      2200 \n",
       "5 5  이화영 F      1700 "
      ]
     },
     "metadata": {},
     "output_type": "display_data"
    }
   ],
   "source": [
    "d.man <- d[d$gender == \"M\",] # gender행의 컬럼 내용이 M인 행만 가져온다. \n",
    "d.man\n",
    "d.woman <- d[d$gender == \"F\",] # gender 컬럼 내용이 'F'인 행만 가져온다. \n",
    "d.woman"
   ]
  },
  {
   "cell_type": "code",
   "execution_count": 25,
   "metadata": {},
   "outputs": [
    {
     "data": {
      "text/html": [
       "<table>\n",
       "<thead><tr><th></th><th scope=col>id</th><th scope=col>name</th><th scope=col>gender</th><th scope=col>sales</th></tr></thead>\n",
       "<tbody>\n",
       "\t<tr><th scope=row>4</th><td>4     </td><td>김선영</td><td>F     </td><td>2200  </td></tr>\n",
       "\t<tr><th scope=row>7</th><td>7     </td><td>최필선</td><td>M     </td><td>2200  </td></tr>\n",
       "</tbody>\n",
       "</table>\n"
      ],
      "text/latex": [
       "\\begin{tabular}{r|llll}\n",
       "  & id & name & gender & sales\\\\\n",
       "\\hline\n",
       "\t4 & 4      & 김선영 & F      & 2200  \\\\\n",
       "\t7 & 7      & 최필선 & M      & 2200  \\\\\n",
       "\\end{tabular}\n"
      ],
      "text/markdown": [
       "\n",
       "| <!--/--> | id | name | gender | sales | \n",
       "|---|---|\n",
       "| 4 | 4      | 김선영 | F      | 2200   | \n",
       "| 7 | 7      | 최필선 | M      | 2200   | \n",
       "\n",
       "\n"
      ],
      "text/plain": [
       "  id name   gender sales\n",
       "4 4  김선영 F      2200 \n",
       "7 7  최필선 M      2200 "
      ]
     },
     "metadata": {},
     "output_type": "display_data"
    },
    {
     "data": {
      "text/html": [
       "<table>\n",
       "<thead><tr><th></th><th scope=col>id</th><th scope=col>name</th><th scope=col>gender</th><th scope=col>sales</th></tr></thead>\n",
       "<tbody>\n",
       "\t<tr><th scope=row>4</th><td>4     </td><td>김선영</td><td>F     </td><td>2200  </td></tr>\n",
       "</tbody>\n",
       "</table>\n"
      ],
      "text/latex": [
       "\\begin{tabular}{r|llll}\n",
       "  & id & name & gender & sales\\\\\n",
       "\\hline\n",
       "\t4 & 4      & 김선영 & F      & 2200  \\\\\n",
       "\\end{tabular}\n"
      ],
      "text/markdown": [
       "\n",
       "| <!--/--> | id | name | gender | sales | \n",
       "|---|\n",
       "| 4 | 4      | 김선영 | F      | 2200   | \n",
       "\n",
       "\n"
      ],
      "text/plain": [
       "  id name   gender sales\n",
       "4 4  김선영 F      2200 "
      ]
     },
     "metadata": {},
     "output_type": "display_data"
    },
    {
     "data": {
      "text/html": [
       "<table>\n",
       "<thead><tr><th></th><th scope=col>id</th><th scope=col>name</th><th scope=col>gender</th><th scope=col>sales</th></tr></thead>\n",
       "<tbody>\n",
       "\t<tr><th scope=row>1</th><td>1     </td><td>김원경</td><td>F     </td><td>1000  </td></tr>\n",
       "\t<tr><th scope=row>3</th><td>3     </td><td>조해선</td><td>F     </td><td>1500  </td></tr>\n",
       "\t<tr><th scope=row>4</th><td>4     </td><td>김선영</td><td>F     </td><td>2200  </td></tr>\n",
       "\t<tr><th scope=row>5</th><td>5     </td><td>이화영</td><td>F     </td><td>1700  </td></tr>\n",
       "\t<tr><th scope=row>7</th><td>7     </td><td>최필선</td><td>M     </td><td>2200  </td></tr>\n",
       "</tbody>\n",
       "</table>\n"
      ],
      "text/latex": [
       "\\begin{tabular}{r|llll}\n",
       "  & id & name & gender & sales\\\\\n",
       "\\hline\n",
       "\t1 & 1      & 김원경 & F      & 1000  \\\\\n",
       "\t3 & 3      & 조해선 & F      & 1500  \\\\\n",
       "\t4 & 4      & 김선영 & F      & 2200  \\\\\n",
       "\t5 & 5      & 이화영 & F      & 1700  \\\\\n",
       "\t7 & 7      & 최필선 & M      & 2200  \\\\\n",
       "\\end{tabular}\n"
      ],
      "text/markdown": [
       "\n",
       "| <!--/--> | id | name | gender | sales | \n",
       "|---|---|---|---|---|\n",
       "| 1 | 1      | 김원경 | F      | 1000   | \n",
       "| 3 | 3      | 조해선 | F      | 1500   | \n",
       "| 4 | 4      | 김선영 | F      | 2200   | \n",
       "| 5 | 5      | 이화영 | F      | 1700   | \n",
       "| 7 | 7      | 최필선 | M      | 2200   | \n",
       "\n",
       "\n"
      ],
      "text/plain": [
       "  id name   gender sales\n",
       "1 1  김원경 F      1000 \n",
       "3 3  조해선 F      1500 \n",
       "4 4  김선영 F      2200 \n",
       "5 5  이화영 F      1700 \n",
       "7 7  최필선 M      2200 "
      ]
     },
     "metadata": {},
     "output_type": "display_data"
    }
   ],
   "source": [
    "d[(d$sales>2000),] # 매출이 2000이상인 행만 추출\n",
    "d[(d$gender == 'F')& (d$sales>2000),] # 매출이 2000이상, 성별이 여성인 행만 추출\n",
    "d[(d$gender == 'F')|(d$sales>2000),] # 매출이 2000이상이거나 성별이 여성인 행만 추출"
   ]
  },
  {
   "cell_type": "code",
   "execution_count": 26,
   "metadata": {},
   "outputs": [
    {
     "data": {
      "text/html": [
       "<table>\n",
       "<thead><tr><th></th><th scope=col>id</th><th scope=col>name</th><th scope=col>gender</th><th scope=col>sales</th></tr></thead>\n",
       "<tbody>\n",
       "\t<tr><th scope=row>2</th><td>2     </td><td>박찬웅</td><td>M     </td><td>2000  </td></tr>\n",
       "\t<tr><th scope=row>6</th><td>6     </td><td>양영욱</td><td>M     </td><td>2000  </td></tr>\n",
       "\t<tr><th scope=row>7</th><td>7     </td><td>최필선</td><td>M     </td><td>2200  </td></tr>\n",
       "</tbody>\n",
       "</table>\n"
      ],
      "text/latex": [
       "\\begin{tabular}{r|llll}\n",
       "  & id & name & gender & sales\\\\\n",
       "\\hline\n",
       "\t2 & 2      & 박찬웅 & M      & 2000  \\\\\n",
       "\t6 & 6      & 양영욱 & M      & 2000  \\\\\n",
       "\t7 & 7      & 최필선 & M      & 2200  \\\\\n",
       "\\end{tabular}\n"
      ],
      "text/markdown": [
       "\n",
       "| <!--/--> | id | name | gender | sales | \n",
       "|---|---|---|\n",
       "| 2 | 2      | 박찬웅 | M      | 2000   | \n",
       "| 6 | 6      | 양영욱 | M      | 2000   | \n",
       "| 7 | 7      | 최필선 | M      | 2200   | \n",
       "\n",
       "\n"
      ],
      "text/plain": [
       "  id name   gender sales\n",
       "2 2  박찬웅 M      2000 \n",
       "6 6  양영욱 M      2000 \n",
       "7 7  최필선 M      2200 "
      ]
     },
     "metadata": {},
     "output_type": "display_data"
    },
    {
     "data": {
      "text/html": [
       "<table>\n",
       "<thead><tr><th scope=col>id</th><th scope=col>name</th><th scope=col>gender</th><th scope=col>sales</th></tr></thead>\n",
       "<tbody>\n",
       "\t<tr><td>1     </td><td>김원경</td><td>F     </td><td>1000  </td></tr>\n",
       "\t<tr><td>2     </td><td>박찬웅</td><td>M     </td><td>2000  </td></tr>\n",
       "\t<tr><td>3     </td><td>조해선</td><td>F     </td><td>1500  </td></tr>\n",
       "\t<tr><td>4     </td><td>김선영</td><td>F     </td><td>2200  </td></tr>\n",
       "\t<tr><td>5     </td><td>이화영</td><td>F     </td><td>1700  </td></tr>\n",
       "\t<tr><td>6     </td><td>양영욱</td><td>M     </td><td>2000  </td></tr>\n",
       "\t<tr><td>7     </td><td>최필선</td><td>M     </td><td>2200  </td></tr>\n",
       "</tbody>\n",
       "</table>\n"
      ],
      "text/latex": [
       "\\begin{tabular}{r|llll}\n",
       " id & name & gender & sales\\\\\n",
       "\\hline\n",
       "\t 1      & 김원경 & F      & 1000  \\\\\n",
       "\t 2      & 박찬웅 & M      & 2000  \\\\\n",
       "\t 3      & 조해선 & F      & 1500  \\\\\n",
       "\t 4      & 김선영 & F      & 2200  \\\\\n",
       "\t 5      & 이화영 & F      & 1700  \\\\\n",
       "\t 6      & 양영욱 & M      & 2000  \\\\\n",
       "\t 7      & 최필선 & M      & 2200  \\\\\n",
       "\\end{tabular}\n"
      ],
      "text/markdown": [
       "\n",
       "id | name | gender | sales | \n",
       "|---|---|---|---|---|---|---|\n",
       "| 1      | 김원경 | F      | 1000   | \n",
       "| 2      | 박찬웅 | M      | 2000   | \n",
       "| 3      | 조해선 | F      | 1500   | \n",
       "| 4      | 김선영 | F      | 2200   | \n",
       "| 5      | 이화영 | F      | 1700   | \n",
       "| 6      | 양영욱 | M      | 2000   | \n",
       "| 7      | 최필선 | M      | 2200   | \n",
       "\n",
       "\n"
      ],
      "text/plain": [
       "  id name   gender sales\n",
       "1 1  김원경 F      1000 \n",
       "2 2  박찬웅 M      2000 \n",
       "3 3  조해선 F      1500 \n",
       "4 4  김선영 F      2200 \n",
       "5 5  이화영 F      1700 \n",
       "6 6  양영욱 M      2000 \n",
       "7 7  최필선 M      2200 "
      ]
     },
     "metadata": {},
     "output_type": "display_data"
    },
    {
     "data": {
      "text/html": [
       "<table>\n",
       "<thead><tr><th></th><th scope=col>name</th><th scope=col>gender</th></tr></thead>\n",
       "<tbody>\n",
       "\t<tr><th scope=row>1</th><td>김원경</td><td>F     </td></tr>\n",
       "\t<tr><th scope=row>3</th><td>조해선</td><td>F     </td></tr>\n",
       "\t<tr><th scope=row>4</th><td>김선영</td><td>F     </td></tr>\n",
       "\t<tr><th scope=row>5</th><td>이화영</td><td>F     </td></tr>\n",
       "</tbody>\n",
       "</table>\n"
      ],
      "text/latex": [
       "\\begin{tabular}{r|ll}\n",
       "  & name & gender\\\\\n",
       "\\hline\n",
       "\t1 & 김원경 & F     \\\\\n",
       "\t3 & 조해선 & F     \\\\\n",
       "\t4 & 김선영 & F     \\\\\n",
       "\t5 & 이화영 & F     \\\\\n",
       "\\end{tabular}\n"
      ],
      "text/markdown": [
       "\n",
       "| <!--/--> | name | gender | \n",
       "|---|---|---|---|\n",
       "| 1 | 김원경 | F      | \n",
       "| 3 | 조해선 | F      | \n",
       "| 4 | 김선영 | F      | \n",
       "| 5 | 이화영 | F      | \n",
       "\n",
       "\n"
      ],
      "text/plain": [
       "  name   gender\n",
       "1 김원경 F     \n",
       "3 조해선 F     \n",
       "4 김선영 F     \n",
       "5 이화영 F     "
      ]
     },
     "metadata": {},
     "output_type": "display_data"
    }
   ],
   "source": [
    "d.man <- subset(d,gender == \"M\")\n",
    "d.man\n",
    "\n",
    "d.woman <- subset(d,gender = 'F') # gender 컬럼 내용이 'F인'행만\n",
    "d.woman\n",
    "\n",
    "subset(d,gender == \"F\",select = c(name,gender)) # 특정 컬럼 선택"
   ]
  },
  {
   "cell_type": "code",
   "execution_count": 27,
   "metadata": {},
   "outputs": [
    {
     "data": {
      "text/html": [
       "<table>\n",
       "<thead><tr><th></th><th scope=col>id</th><th scope=col>name</th><th scope=col>gender</th><th scope=col>sales</th></tr></thead>\n",
       "<tbody>\n",
       "\t<tr><th scope=row>4</th><td>4     </td><td>김선영</td><td>F     </td><td>2200  </td></tr>\n",
       "\t<tr><th scope=row>7</th><td>7     </td><td>최필선</td><td>M     </td><td>2200  </td></tr>\n",
       "</tbody>\n",
       "</table>\n"
      ],
      "text/latex": [
       "\\begin{tabular}{r|llll}\n",
       "  & id & name & gender & sales\\\\\n",
       "\\hline\n",
       "\t4 & 4      & 김선영 & F      & 2200  \\\\\n",
       "\t7 & 7      & 최필선 & M      & 2200  \\\\\n",
       "\\end{tabular}\n"
      ],
      "text/markdown": [
       "\n",
       "| <!--/--> | id | name | gender | sales | \n",
       "|---|---|\n",
       "| 4 | 4      | 김선영 | F      | 2200   | \n",
       "| 7 | 7      | 최필선 | M      | 2200   | \n",
       "\n",
       "\n"
      ],
      "text/plain": [
       "  id name   gender sales\n",
       "4 4  김선영 F      2200 \n",
       "7 7  최필선 M      2200 "
      ]
     },
     "metadata": {},
     "output_type": "display_data"
    },
    {
     "data": {
      "text/html": [
       "<table>\n",
       "<thead><tr><th></th><th scope=col>id</th><th scope=col>name</th><th scope=col>gender</th><th scope=col>sales</th></tr></thead>\n",
       "<tbody>\n",
       "\t<tr><th scope=row>4</th><td>4     </td><td>김선영</td><td>F     </td><td>2200  </td></tr>\n",
       "</tbody>\n",
       "</table>\n"
      ],
      "text/latex": [
       "\\begin{tabular}{r|llll}\n",
       "  & id & name & gender & sales\\\\\n",
       "\\hline\n",
       "\t4 & 4      & 김선영 & F      & 2200  \\\\\n",
       "\\end{tabular}\n"
      ],
      "text/markdown": [
       "\n",
       "| <!--/--> | id | name | gender | sales | \n",
       "|---|\n",
       "| 4 | 4      | 김선영 | F      | 2200   | \n",
       "\n",
       "\n"
      ],
      "text/plain": [
       "  id name   gender sales\n",
       "4 4  김선영 F      2200 "
      ]
     },
     "metadata": {},
     "output_type": "display_data"
    },
    {
     "data": {
      "text/html": [
       "<table>\n",
       "<thead><tr><th></th><th scope=col>id</th><th scope=col>name</th><th scope=col>gender</th><th scope=col>sales</th></tr></thead>\n",
       "<tbody>\n",
       "\t<tr><th scope=row>1</th><td>1     </td><td>김원경</td><td>F     </td><td>1000  </td></tr>\n",
       "\t<tr><th scope=row>3</th><td>3     </td><td>조해선</td><td>F     </td><td>1500  </td></tr>\n",
       "\t<tr><th scope=row>4</th><td>4     </td><td>김선영</td><td>F     </td><td>2200  </td></tr>\n",
       "\t<tr><th scope=row>5</th><td>5     </td><td>이화영</td><td>F     </td><td>1700  </td></tr>\n",
       "\t<tr><th scope=row>7</th><td>7     </td><td>최필선</td><td>M     </td><td>2200  </td></tr>\n",
       "</tbody>\n",
       "</table>\n"
      ],
      "text/latex": [
       "\\begin{tabular}{r|llll}\n",
       "  & id & name & gender & sales\\\\\n",
       "\\hline\n",
       "\t1 & 1      & 김원경 & F      & 1000  \\\\\n",
       "\t3 & 3      & 조해선 & F      & 1500  \\\\\n",
       "\t4 & 4      & 김선영 & F      & 2200  \\\\\n",
       "\t5 & 5      & 이화영 & F      & 1700  \\\\\n",
       "\t7 & 7      & 최필선 & M      & 2200  \\\\\n",
       "\\end{tabular}\n"
      ],
      "text/markdown": [
       "\n",
       "| <!--/--> | id | name | gender | sales | \n",
       "|---|---|---|---|---|\n",
       "| 1 | 1      | 김원경 | F      | 1000   | \n",
       "| 3 | 3      | 조해선 | F      | 1500   | \n",
       "| 4 | 4      | 김선영 | F      | 2200   | \n",
       "| 5 | 5      | 이화영 | F      | 1700   | \n",
       "| 7 | 7      | 최필선 | M      | 2200   | \n",
       "\n",
       "\n"
      ],
      "text/plain": [
       "  id name   gender sales\n",
       "1 1  김원경 F      1000 \n",
       "3 3  조해선 F      1500 \n",
       "4 4  김선영 F      2200 \n",
       "5 5  이화영 F      1700 \n",
       "7 7  최필선 M      2200 "
      ]
     },
     "metadata": {},
     "output_type": "display_data"
    },
    {
     "data": {
      "text/html": [
       "<table>\n",
       "<thead><tr><th></th><th scope=col>name</th><th scope=col>gender</th></tr></thead>\n",
       "<tbody>\n",
       "\t<tr><th scope=row>1</th><td>김원경</td><td>F     </td></tr>\n",
       "\t<tr><th scope=row>3</th><td>조해선</td><td>F     </td></tr>\n",
       "\t<tr><th scope=row>4</th><td>김선영</td><td>F     </td></tr>\n",
       "\t<tr><th scope=row>5</th><td>이화영</td><td>F     </td></tr>\n",
       "\t<tr><th scope=row>7</th><td>최필선</td><td>M     </td></tr>\n",
       "</tbody>\n",
       "</table>\n"
      ],
      "text/latex": [
       "\\begin{tabular}{r|ll}\n",
       "  & name & gender\\\\\n",
       "\\hline\n",
       "\t1 & 김원경 & F     \\\\\n",
       "\t3 & 조해선 & F     \\\\\n",
       "\t4 & 김선영 & F     \\\\\n",
       "\t5 & 이화영 & F     \\\\\n",
       "\t7 & 최필선 & M     \\\\\n",
       "\\end{tabular}\n"
      ],
      "text/markdown": [
       "\n",
       "| <!--/--> | name | gender | \n",
       "|---|---|---|---|---|\n",
       "| 1 | 김원경 | F      | \n",
       "| 3 | 조해선 | F      | \n",
       "| 4 | 김선영 | F      | \n",
       "| 5 | 이화영 | F      | \n",
       "| 7 | 최필선 | M      | \n",
       "\n",
       "\n"
      ],
      "text/plain": [
       "  name   gender\n",
       "1 김원경 F     \n",
       "3 조해선 F     \n",
       "4 김선영 F     \n",
       "5 이화영 F     \n",
       "7 최필선 M     "
      ]
     },
     "metadata": {},
     "output_type": "display_data"
    }
   ],
   "source": [
    "subset(d,sales>2000)\n",
    "subset(d,gender ==\"F\" & sales>2000)\n",
    "subset(d,gender == \"F\"|sales>2000)\n",
    "\n",
    "subset(d,gender == \"F\"|sales>2000, select = c(name,gender))"
   ]
  },
  {
   "cell_type": "code",
   "execution_count": null,
   "metadata": {},
   "outputs": [],
   "source": [
    "#### 데이터 프레임 다루기: 조건에 맞는 행 선택 "
   ]
  },
  {
   "cell_type": "code",
   "execution_count": 28,
   "metadata": {},
   "outputs": [
    {
     "data": {
      "text/html": [
       "<table>\n",
       "<thead><tr><th scope=col>id</th><th scope=col>name</th><th scope=col>gender</th><th scope=col>sales</th></tr></thead>\n",
       "<tbody>\n",
       "\t<tr><td>2     </td><td>박찬웅</td><td>M     </td><td>2000  </td></tr>\n",
       "\t<tr><td>6     </td><td>양영욱</td><td>M     </td><td>2000  </td></tr>\n",
       "\t<tr><td>7     </td><td>최필선</td><td>M     </td><td>2200  </td></tr>\n",
       "</tbody>\n",
       "</table>\n"
      ],
      "text/latex": [
       "\\begin{tabular}{r|llll}\n",
       " id & name & gender & sales\\\\\n",
       "\\hline\n",
       "\t 2      & 박찬웅 & M      & 2000  \\\\\n",
       "\t 6      & 양영욱 & M      & 2000  \\\\\n",
       "\t 7      & 최필선 & M      & 2200  \\\\\n",
       "\\end{tabular}\n"
      ],
      "text/markdown": [
       "\n",
       "id | name | gender | sales | \n",
       "|---|---|---|\n",
       "| 2      | 박찬웅 | M      | 2000   | \n",
       "| 6      | 양영욱 | M      | 2000   | \n",
       "| 7      | 최필선 | M      | 2200   | \n",
       "\n",
       "\n"
      ],
      "text/plain": [
       "  id name   gender sales\n",
       "1 2  박찬웅 M      2000 \n",
       "2 6  양영욱 M      2000 \n",
       "3 7  최필선 M      2200 "
      ]
     },
     "metadata": {},
     "output_type": "display_data"
    }
   ],
   "source": [
    "library(dplyr)\n",
    "d.man <- d %>%  filter(gender ==\"M\") # gender 컬럼 내용이 \"M\"인 행(index)만\n",
    "d.man"
   ]
  },
  {
   "cell_type": "code",
   "execution_count": 30,
   "metadata": {},
   "outputs": [
    {
     "data": {
      "text/html": [
       "<table>\n",
       "<thead><tr><th scope=col>id</th><th scope=col>name</th><th scope=col>gender</th><th scope=col>sales</th></tr></thead>\n",
       "<tbody>\n",
       "\t<tr><td>1     </td><td>김원경</td><td>F     </td><td>1000  </td></tr>\n",
       "\t<tr><td>3     </td><td>조해선</td><td>F     </td><td>1500  </td></tr>\n",
       "\t<tr><td>4     </td><td>김선영</td><td>F     </td><td>2200  </td></tr>\n",
       "\t<tr><td>5     </td><td>이화영</td><td>F     </td><td>1700  </td></tr>\n",
       "</tbody>\n",
       "</table>\n"
      ],
      "text/latex": [
       "\\begin{tabular}{r|llll}\n",
       " id & name & gender & sales\\\\\n",
       "\\hline\n",
       "\t 1      & 김원경 & F      & 1000  \\\\\n",
       "\t 3      & 조해선 & F      & 1500  \\\\\n",
       "\t 4      & 김선영 & F      & 2200  \\\\\n",
       "\t 5      & 이화영 & F      & 1700  \\\\\n",
       "\\end{tabular}\n"
      ],
      "text/markdown": [
       "\n",
       "id | name | gender | sales | \n",
       "|---|---|---|---|\n",
       "| 1      | 김원경 | F      | 1000   | \n",
       "| 3      | 조해선 | F      | 1500   | \n",
       "| 4      | 김선영 | F      | 2200   | \n",
       "| 5      | 이화영 | F      | 1700   | \n",
       "\n",
       "\n"
      ],
      "text/plain": [
       "  id name   gender sales\n",
       "1 1  김원경 F      1000 \n",
       "2 3  조해선 F      1500 \n",
       "3 4  김선영 F      2200 \n",
       "4 5  이화영 F      1700 "
      ]
     },
     "metadata": {},
     "output_type": "display_data"
    }
   ],
   "source": [
    "d.woman <- d %>% filter(gender == \"F\")# gender 컬럼 내용이 \"F\"인 행(index)만 \n",
    "d.woman"
   ]
  },
  {
   "cell_type": "code",
   "execution_count": 31,
   "metadata": {},
   "outputs": [
    {
     "data": {
      "text/html": [
       "<table>\n",
       "<thead><tr><th scope=col>id</th><th scope=col>name</th><th scope=col>gender</th><th scope=col>sales</th></tr></thead>\n",
       "<tbody>\n",
       "\t<tr><td>4     </td><td>김선영</td><td>F     </td><td>2200  </td></tr>\n",
       "\t<tr><td>7     </td><td>최필선</td><td>M     </td><td>2200  </td></tr>\n",
       "</tbody>\n",
       "</table>\n"
      ],
      "text/latex": [
       "\\begin{tabular}{r|llll}\n",
       " id & name & gender & sales\\\\\n",
       "\\hline\n",
       "\t 4      & 김선영 & F      & 2200  \\\\\n",
       "\t 7      & 최필선 & M      & 2200  \\\\\n",
       "\\end{tabular}\n"
      ],
      "text/markdown": [
       "\n",
       "id | name | gender | sales | \n",
       "|---|---|\n",
       "| 4      | 김선영 | F      | 2200   | \n",
       "| 7      | 최필선 | M      | 2200   | \n",
       "\n",
       "\n"
      ],
      "text/plain": [
       "  id name   gender sales\n",
       "1 4  김선영 F      2200 \n",
       "2 7  최필선 M      2200 "
      ]
     },
     "metadata": {},
     "output_type": "display_data"
    },
    {
     "data": {
      "text/html": [
       "<table>\n",
       "<thead><tr><th scope=col>id</th><th scope=col>name</th><th scope=col>gender</th><th scope=col>sales</th></tr></thead>\n",
       "<tbody>\n",
       "\t<tr><td>4     </td><td>김선영</td><td>F     </td><td>2200  </td></tr>\n",
       "</tbody>\n",
       "</table>\n"
      ],
      "text/latex": [
       "\\begin{tabular}{r|llll}\n",
       " id & name & gender & sales\\\\\n",
       "\\hline\n",
       "\t 4      & 김선영 & F      & 2200  \\\\\n",
       "\\end{tabular}\n"
      ],
      "text/markdown": [
       "\n",
       "id | name | gender | sales | \n",
       "|---|\n",
       "| 4      | 김선영 | F      | 2200   | \n",
       "\n",
       "\n"
      ],
      "text/plain": [
       "  id name   gender sales\n",
       "1 4  김선영 F      2200 "
      ]
     },
     "metadata": {},
     "output_type": "display_data"
    },
    {
     "data": {
      "text/html": [
       "<table>\n",
       "<thead><tr><th scope=col>id</th><th scope=col>name</th><th scope=col>gender</th><th scope=col>sales</th></tr></thead>\n",
       "<tbody>\n",
       "\t<tr><td>1     </td><td>김원경</td><td>F     </td><td>1000  </td></tr>\n",
       "\t<tr><td>3     </td><td>조해선</td><td>F     </td><td>1500  </td></tr>\n",
       "\t<tr><td>4     </td><td>김선영</td><td>F     </td><td>2200  </td></tr>\n",
       "\t<tr><td>5     </td><td>이화영</td><td>F     </td><td>1700  </td></tr>\n",
       "\t<tr><td>7     </td><td>최필선</td><td>M     </td><td>2200  </td></tr>\n",
       "</tbody>\n",
       "</table>\n"
      ],
      "text/latex": [
       "\\begin{tabular}{r|llll}\n",
       " id & name & gender & sales\\\\\n",
       "\\hline\n",
       "\t 1      & 김원경 & F      & 1000  \\\\\n",
       "\t 3      & 조해선 & F      & 1500  \\\\\n",
       "\t 4      & 김선영 & F      & 2200  \\\\\n",
       "\t 5      & 이화영 & F      & 1700  \\\\\n",
       "\t 7      & 최필선 & M      & 2200  \\\\\n",
       "\\end{tabular}\n"
      ],
      "text/markdown": [
       "\n",
       "id | name | gender | sales | \n",
       "|---|---|---|---|---|\n",
       "| 1      | 김원경 | F      | 1000   | \n",
       "| 3      | 조해선 | F      | 1500   | \n",
       "| 4      | 김선영 | F      | 2200   | \n",
       "| 5      | 이화영 | F      | 1700   | \n",
       "| 7      | 최필선 | M      | 2200   | \n",
       "\n",
       "\n"
      ],
      "text/plain": [
       "  id name   gender sales\n",
       "1 1  김원경 F      1000 \n",
       "2 3  조해선 F      1500 \n",
       "3 4  김선영 F      2200 \n",
       "4 5  이화영 F      1700 \n",
       "5 7  최필선 M      2200 "
      ]
     },
     "metadata": {},
     "output_type": "display_data"
    }
   ],
   "source": [
    "d  %>%  filter(sales > 2000)\n",
    "d  %>%  filter(gender == \"F\"&sales > 2000)\n",
    "d  %>%  filter(gender == \"F\"|sales > 2000)"
   ]
  },
  {
   "cell_type": "code",
   "execution_count": null,
   "metadata": {},
   "outputs": [],
   "source": [
    "#### 연습1 \n",
    "> - 다음의 test.csv파일에서 기본방법(1번)과 subset() 함수를 이용한 방법(3번)을 이용하여 \n",
    "> 1) sales가 5를 넘는 행을 추출하시오 \n",
    "> 2) price가 300이상이면서 sales가 5이상인 행을 추출하시오 \n",
    "> 3) subset() 함수를 이용하여 2의 결과에서 item 컬럼만 추출하시오 "
   ]
  },
  {
   "cell_type": "code",
   "execution_count": 34,
   "metadata": {},
   "outputs": [],
   "source": [
    "test <- read.csv(\"test.csv\")"
   ]
  },
  {
   "cell_type": "code",
   "execution_count": 42,
   "metadata": {},
   "outputs": [
    {
     "data": {
      "text/html": [
       "<table>\n",
       "<thead><tr><th scope=col>item</th><th scope=col>price</th><th scope=col>sales</th></tr></thead>\n",
       "<tbody>\n",
       "\t<tr><td>풍선  </td><td>100   </td><td>200   </td></tr>\n",
       "\t<tr><td>테이프</td><td>300   </td><td> 20   </td></tr>\n",
       "\t<tr><td>색종이</td><td>150   </td><td>100   </td></tr>\n",
       "</tbody>\n",
       "</table>\n"
      ],
      "text/latex": [
       "\\begin{tabular}{r|lll}\n",
       " item & price & sales\\\\\n",
       "\\hline\n",
       "\t 풍선   & 100    & 200   \\\\\n",
       "\t 테이프 & 300    &  20   \\\\\n",
       "\t 색종이 & 150    & 100   \\\\\n",
       "\\end{tabular}\n"
      ],
      "text/markdown": [
       "\n",
       "item | price | sales | \n",
       "|---|---|---|\n",
       "| 풍선   | 100    | 200    | \n",
       "| 테이프 | 300    |  20    | \n",
       "| 색종이 | 150    | 100    | \n",
       "\n",
       "\n"
      ],
      "text/plain": [
       "  item   price sales\n",
       "1 풍선   100   200  \n",
       "2 테이프 300    20  \n",
       "3 색종이 150   100  "
      ]
     },
     "metadata": {},
     "output_type": "display_data"
    },
    {
     "data": {
      "text/html": [
       "<table>\n",
       "<thead><tr><th></th><th scope=col>item</th><th scope=col>price</th><th scope=col>sales</th></tr></thead>\n",
       "<tbody>\n",
       "\t<tr><th scope=row>1</th><td>풍선  </td><td>100   </td><td>200   </td></tr>\n",
       "\t<tr><th scope=row>3</th><td>테이프</td><td>300   </td><td> 20   </td></tr>\n",
       "\t<tr><th scope=row>5</th><td>색종이</td><td>150   </td><td>100   </td></tr>\n",
       "</tbody>\n",
       "</table>\n"
      ],
      "text/latex": [
       "\\begin{tabular}{r|lll}\n",
       "  & item & price & sales\\\\\n",
       "\\hline\n",
       "\t1 & 풍선   & 100    & 200   \\\\\n",
       "\t3 & 테이프 & 300    &  20   \\\\\n",
       "\t5 & 색종이 & 150    & 100   \\\\\n",
       "\\end{tabular}\n"
      ],
      "text/markdown": [
       "\n",
       "| <!--/--> | item | price | sales | \n",
       "|---|---|---|\n",
       "| 1 | 풍선   | 100    | 200    | \n",
       "| 3 | 테이프 | 300    |  20    | \n",
       "| 5 | 색종이 | 150    | 100    | \n",
       "\n",
       "\n"
      ],
      "text/plain": [
       "  item   price sales\n",
       "1 풍선   100   200  \n",
       "3 테이프 300    20  \n",
       "5 색종이 150   100  "
      ]
     },
     "metadata": {},
     "output_type": "display_data"
    }
   ],
   "source": [
    "#1)\n",
    "test %>% \n",
    "    filter(sales > 5)\n",
    "subset(test,sales > 5)"
   ]
  },
  {
   "cell_type": "code",
   "execution_count": 41,
   "metadata": {},
   "outputs": [],
   "source": [
    "# 2) \n",
    "a <- test  %>% \n",
    "    filter(sales > 5 & price>=300)\n",
    "a <- subset(test,sales > 5 & price>=300)"
   ]
  },
  {
   "cell_type": "code",
   "execution_count": 40,
   "metadata": {},
   "outputs": [
    {
     "data": {
      "text/html": [
       "<table>\n",
       "<thead><tr><th scope=col>item</th></tr></thead>\n",
       "<tbody>\n",
       "\t<tr><td>테이프</td></tr>\n",
       "</tbody>\n",
       "</table>\n"
      ],
      "text/latex": [
       "\\begin{tabular}{r|l}\n",
       " item\\\\\n",
       "\\hline\n",
       "\t 테이프\\\\\n",
       "\\end{tabular}\n"
      ],
      "text/markdown": [
       "\n",
       "item | \n",
       "|---|\n",
       "| 테이프 | \n",
       "\n",
       "\n"
      ],
      "text/plain": [
       "  item  \n",
       "1 테이프"
      ]
     },
     "metadata": {},
     "output_type": "display_data"
    }
   ],
   "source": [
    "a[1]"
   ]
  },
  {
   "cell_type": "markdown",
   "metadata": {},
   "source": [
    "#### 데이터프레임 다루기: 특정 요소 제외\n",
    "> - d[,-2]\n",
    "> - d[-2,]\n",
    "> - d[,c(-1,-2)]"
   ]
  },
  {
   "cell_type": "markdown",
   "metadata": {},
   "source": [
    "#### 데이터 프레임 다루기: 살펴보기\n",
    "> - head(d,3) # 앞에서 3개까지 보기(default값 = 6)\n",
    "> - tail(d,3) # 앞에서 3개까지 보기(default값 = 6)\n",
    "> - View(d) # 표 형태로 보기(대문자로 시작)"
   ]
  },
  {
   "cell_type": "code",
   "execution_count": 43,
   "metadata": {},
   "outputs": [
    {
     "data": {
      "text/html": [
       "<table>\n",
       "<thead><tr><th scope=col>id</th><th scope=col>name</th><th scope=col>gender</th><th scope=col>sales</th></tr></thead>\n",
       "<tbody>\n",
       "\t<tr><td>1     </td><td>김원경</td><td>F     </td><td>1000  </td></tr>\n",
       "\t<tr><td>2     </td><td>박찬웅</td><td>M     </td><td>2000  </td></tr>\n",
       "\t<tr><td>3     </td><td>조해선</td><td>F     </td><td>1500  </td></tr>\n",
       "\t<tr><td>4     </td><td>김선영</td><td>F     </td><td>2200  </td></tr>\n",
       "\t<tr><td>5     </td><td>이화영</td><td>F     </td><td>1700  </td></tr>\n",
       "\t<tr><td>6     </td><td>양영욱</td><td>M     </td><td>2000  </td></tr>\n",
       "</tbody>\n",
       "</table>\n"
      ],
      "text/latex": [
       "\\begin{tabular}{r|llll}\n",
       " id & name & gender & sales\\\\\n",
       "\\hline\n",
       "\t 1      & 김원경 & F      & 1000  \\\\\n",
       "\t 2      & 박찬웅 & M      & 2000  \\\\\n",
       "\t 3      & 조해선 & F      & 1500  \\\\\n",
       "\t 4      & 김선영 & F      & 2200  \\\\\n",
       "\t 5      & 이화영 & F      & 1700  \\\\\n",
       "\t 6      & 양영욱 & M      & 2000  \\\\\n",
       "\\end{tabular}\n"
      ],
      "text/markdown": [
       "\n",
       "id | name | gender | sales | \n",
       "|---|---|---|---|---|---|\n",
       "| 1      | 김원경 | F      | 1000   | \n",
       "| 2      | 박찬웅 | M      | 2000   | \n",
       "| 3      | 조해선 | F      | 1500   | \n",
       "| 4      | 김선영 | F      | 2200   | \n",
       "| 5      | 이화영 | F      | 1700   | \n",
       "| 6      | 양영욱 | M      | 2000   | \n",
       "\n",
       "\n"
      ],
      "text/plain": [
       "  id name   gender sales\n",
       "1 1  김원경 F      1000 \n",
       "2 2  박찬웅 M      2000 \n",
       "3 3  조해선 F      1500 \n",
       "4 4  김선영 F      2200 \n",
       "5 5  이화영 F      1700 \n",
       "6 6  양영욱 M      2000 "
      ]
     },
     "metadata": {},
     "output_type": "display_data"
    }
   ],
   "source": [
    "head(d)"
   ]
  },
  {
   "cell_type": "code",
   "execution_count": 47,
   "metadata": {},
   "outputs": [
    {
     "data": {
      "text/html": [
       "<table>\n",
       "<thead><tr><th scope=col>x1</th><th scope=col>x2</th><th scope=col>x3</th></tr></thead>\n",
       "<tbody>\n",
       "\t<tr><td>1</td><td>4</td><td>7</td></tr>\n",
       "\t<tr><td>2</td><td>5</td><td>8</td></tr>\n",
       "\t<tr><td>3</td><td>6</td><td>9</td></tr>\n",
       "</tbody>\n",
       "</table>\n"
      ],
      "text/latex": [
       "\\begin{tabular}{r|lll}\n",
       " x1 & x2 & x3\\\\\n",
       "\\hline\n",
       "\t 1 & 4 & 7\\\\\n",
       "\t 2 & 5 & 8\\\\\n",
       "\t 3 & 6 & 9\\\\\n",
       "\\end{tabular}\n"
      ],
      "text/markdown": [
       "\n",
       "x1 | x2 | x3 | \n",
       "|---|---|---|\n",
       "| 1 | 4 | 7 | \n",
       "| 2 | 5 | 8 | \n",
       "| 3 | 6 | 9 | \n",
       "\n",
       "\n"
      ],
      "text/plain": [
       "  x1 x2 x3\n",
       "1 1  4  7 \n",
       "2 2  5  8 \n",
       "3 3  6  9 "
      ]
     },
     "metadata": {},
     "output_type": "display_data"
    },
    {
     "data": {
      "text/html": [
       "<table>\n",
       "<thead><tr><th scope=col>x1</th><th scope=col>x2</th><th scope=col>x3</th><th scope=col>x4</th></tr></thead>\n",
       "<tbody>\n",
       "\t<tr><td>1 </td><td>4 </td><td>7 </td><td>10</td></tr>\n",
       "\t<tr><td>2 </td><td>5 </td><td>8 </td><td>11</td></tr>\n",
       "\t<tr><td>3 </td><td>6 </td><td>9 </td><td>12</td></tr>\n",
       "</tbody>\n",
       "</table>\n"
      ],
      "text/latex": [
       "\\begin{tabular}{r|llll}\n",
       " x1 & x2 & x3 & x4\\\\\n",
       "\\hline\n",
       "\t 1  & 4  & 7  & 10\\\\\n",
       "\t 2  & 5  & 8  & 11\\\\\n",
       "\t 3  & 6  & 9  & 12\\\\\n",
       "\\end{tabular}\n"
      ],
      "text/markdown": [
       "\n",
       "x1 | x2 | x3 | x4 | \n",
       "|---|---|---|\n",
       "| 1  | 4  | 7  | 10 | \n",
       "| 2  | 5  | 8  | 11 | \n",
       "| 3  | 6  | 9  | 12 | \n",
       "\n",
       "\n"
      ],
      "text/plain": [
       "  x1 x2 x3 x4\n",
       "1 1  4  7  10\n",
       "2 2  5  8  11\n",
       "3 3  6  9  12"
      ]
     },
     "metadata": {},
     "output_type": "display_data"
    },
    {
     "name": "stdout",
     "output_type": "stream",
     "text": [
      "'data.frame':\t3 obs. of  5 variables:\n",
      " $ x1: num  1 2 3\n",
      " $ x2: num  4 5 6\n",
      " $ x3: num  7 8 9\n",
      " $ x4: num  10 11 12\n",
      " $ x5: Factor w/ 3 levels \"James\",\"Mary\",..: 1 2 3\n"
     ]
    },
    {
     "data": {
      "text/html": [
       "<table>\n",
       "<thead><tr><th scope=col>x1</th><th scope=col>x2</th><th scope=col>x3</th><th scope=col>x4</th><th scope=col>x5</th></tr></thead>\n",
       "<tbody>\n",
       "\t<tr><td>1    </td><td>4    </td><td>7    </td><td>10   </td><td>James</td></tr>\n",
       "\t<tr><td>2    </td><td>5    </td><td>8    </td><td>11   </td><td>Mary </td></tr>\n",
       "\t<tr><td>3    </td><td>6    </td><td>9    </td><td>12   </td><td>Tony </td></tr>\n",
       "</tbody>\n",
       "</table>\n"
      ],
      "text/latex": [
       "\\begin{tabular}{r|lllll}\n",
       " x1 & x2 & x3 & x4 & x5\\\\\n",
       "\\hline\n",
       "\t 1     & 4     & 7     & 10    & James\\\\\n",
       "\t 2     & 5     & 8     & 11    & Mary \\\\\n",
       "\t 3     & 6     & 9     & 12    & Tony \\\\\n",
       "\\end{tabular}\n"
      ],
      "text/markdown": [
       "\n",
       "x1 | x2 | x3 | x4 | x5 | \n",
       "|---|---|---|\n",
       "| 1     | 4     | 7     | 10    | James | \n",
       "| 2     | 5     | 8     | 11    | Mary  | \n",
       "| 3     | 6     | 9     | 12    | Tony  | \n",
       "\n",
       "\n"
      ],
      "text/plain": [
       "  x1 x2 x3 x4 x5   \n",
       "1 1  4  7  10 James\n",
       "2 2  5  8  11 Mary \n",
       "3 3  6  9  12 Tony "
      ]
     },
     "metadata": {},
     "output_type": "display_data"
    }
   ],
   "source": [
    "x1 <- c(1,2,3)\n",
    "x2 <- c(4,5,6)\n",
    "x3 <- c(7,8,9)\n",
    "d <- data.frame(x1,x2,x3)\n",
    "d\n",
    "\n",
    "x4 <- c(10,11,12)\n",
    "d2 <- cbind(d,x4)\n",
    "d2\n",
    "\n",
    "x5 <- c(\"James\",\"Mary\",\"Tony\")\n",
    "d3 <- cbind(d2,x5)\n",
    "d3"
   ]
  },
  {
   "cell_type": "code",
   "execution_count": null,
   "metadata": {},
   "outputs": [],
   "source": [
    "#### 데이터 프레임 추후 연결하기 - 원 데이터프레임 변경"
   ]
  },
  {
   "cell_type": "code",
   "execution_count": 48,
   "metadata": {},
   "outputs": [
    {
     "data": {
      "text/html": [
       "<table>\n",
       "<thead><tr><th scope=col>x1</th><th scope=col>x2</th><th scope=col>x3</th></tr></thead>\n",
       "<tbody>\n",
       "\t<tr><td>1</td><td>4</td><td>7</td></tr>\n",
       "\t<tr><td>2</td><td>5</td><td>8</td></tr>\n",
       "\t<tr><td>3</td><td>6</td><td>9</td></tr>\n",
       "</tbody>\n",
       "</table>\n"
      ],
      "text/latex": [
       "\\begin{tabular}{r|lll}\n",
       " x1 & x2 & x3\\\\\n",
       "\\hline\n",
       "\t 1 & 4 & 7\\\\\n",
       "\t 2 & 5 & 8\\\\\n",
       "\t 3 & 6 & 9\\\\\n",
       "\\end{tabular}\n"
      ],
      "text/markdown": [
       "\n",
       "x1 | x2 | x3 | \n",
       "|---|---|---|\n",
       "| 1 | 4 | 7 | \n",
       "| 2 | 5 | 8 | \n",
       "| 3 | 6 | 9 | \n",
       "\n",
       "\n"
      ],
      "text/plain": [
       "  x1 x2 x3\n",
       "1 1  4  7 \n",
       "2 2  5  8 \n",
       "3 3  6  9 "
      ]
     },
     "metadata": {},
     "output_type": "display_data"
    },
    {
     "data": {
      "text/html": [
       "<table>\n",
       "<thead><tr><th scope=col>x1</th><th scope=col>x2</th><th scope=col>x3</th><th scope=col>x4</th></tr></thead>\n",
       "<tbody>\n",
       "\t<tr><td>1 </td><td>4 </td><td>7 </td><td>10</td></tr>\n",
       "\t<tr><td>2 </td><td>5 </td><td>8 </td><td>11</td></tr>\n",
       "\t<tr><td>3 </td><td>6 </td><td>9 </td><td>12</td></tr>\n",
       "</tbody>\n",
       "</table>\n"
      ],
      "text/latex": [
       "\\begin{tabular}{r|llll}\n",
       " x1 & x2 & x3 & x4\\\\\n",
       "\\hline\n",
       "\t 1  & 4  & 7  & 10\\\\\n",
       "\t 2  & 5  & 8  & 11\\\\\n",
       "\t 3  & 6  & 9  & 12\\\\\n",
       "\\end{tabular}\n"
      ],
      "text/markdown": [
       "\n",
       "x1 | x2 | x3 | x4 | \n",
       "|---|---|---|\n",
       "| 1  | 4  | 7  | 10 | \n",
       "| 2  | 5  | 8  | 11 | \n",
       "| 3  | 6  | 9  | 12 | \n",
       "\n",
       "\n"
      ],
      "text/plain": [
       "  x1 x2 x3 x4\n",
       "1 1  4  7  10\n",
       "2 2  5  8  11\n",
       "3 3  6  9  12"
      ]
     },
     "metadata": {},
     "output_type": "display_data"
    },
    {
     "data": {
      "text/html": [
       "<table>\n",
       "<thead><tr><th scope=col>x1</th><th scope=col>x2</th><th scope=col>x3</th><th scope=col>x4</th><th scope=col>x5</th></tr></thead>\n",
       "<tbody>\n",
       "\t<tr><td>1    </td><td>4    </td><td>7    </td><td>10   </td><td>James</td></tr>\n",
       "\t<tr><td>2    </td><td>5    </td><td>8    </td><td>11   </td><td>Mary </td></tr>\n",
       "\t<tr><td>3    </td><td>6    </td><td>9    </td><td>12   </td><td>Tony </td></tr>\n",
       "</tbody>\n",
       "</table>\n"
      ],
      "text/latex": [
       "\\begin{tabular}{r|lllll}\n",
       " x1 & x2 & x3 & x4 & x5\\\\\n",
       "\\hline\n",
       "\t 1     & 4     & 7     & 10    & James\\\\\n",
       "\t 2     & 5     & 8     & 11    & Mary \\\\\n",
       "\t 3     & 6     & 9     & 12    & Tony \\\\\n",
       "\\end{tabular}\n"
      ],
      "text/markdown": [
       "\n",
       "x1 | x2 | x3 | x4 | x5 | \n",
       "|---|---|---|\n",
       "| 1     | 4     | 7     | 10    | James | \n",
       "| 2     | 5     | 8     | 11    | Mary  | \n",
       "| 3     | 6     | 9     | 12    | Tony  | \n",
       "\n",
       "\n"
      ],
      "text/plain": [
       "  x1 x2 x3 x4 x5   \n",
       "1 1  4  7  10 James\n",
       "2 2  5  8  11 Mary \n",
       "3 3  6  9  12 Tony "
      ]
     },
     "metadata": {},
     "output_type": "display_data"
    }
   ],
   "source": [
    "x1 <- c(1,2,3)\n",
    "x2 <- c(4,5,6)\n",
    "x3 <- c(7,8,9)\n",
    "d <- data.frame(x1,x2,x3)\n",
    "d\n",
    "\n",
    "x4 <- c(10,11,12)\n",
    "d$x4 <- x4\n",
    "d\n",
    "\n",
    "\n",
    "x5 <- c(\"James\",\"Mary\",\"Tony\")\n",
    "d$x5 <- x5\n",
    "d"
   ]
  },
  {
   "cell_type": "code",
   "execution_count": null,
   "metadata": {},
   "outputs": [],
   "source": [
    "#### 데이터프레임 추후 연결하기 - 파생변수 만들기 "
   ]
  },
  {
   "cell_type": "code",
   "execution_count": 49,
   "metadata": {},
   "outputs": [
    {
     "data": {
      "text/html": [
       "<table>\n",
       "<thead><tr><th scope=col>x1</th><th scope=col>x2</th><th scope=col>x3</th></tr></thead>\n",
       "<tbody>\n",
       "\t<tr><td>1</td><td>4</td><td>7</td></tr>\n",
       "\t<tr><td>2</td><td>5</td><td>8</td></tr>\n",
       "\t<tr><td>3</td><td>6</td><td>9</td></tr>\n",
       "</tbody>\n",
       "</table>\n"
      ],
      "text/latex": [
       "\\begin{tabular}{r|lll}\n",
       " x1 & x2 & x3\\\\\n",
       "\\hline\n",
       "\t 1 & 4 & 7\\\\\n",
       "\t 2 & 5 & 8\\\\\n",
       "\t 3 & 6 & 9\\\\\n",
       "\\end{tabular}\n"
      ],
      "text/markdown": [
       "\n",
       "x1 | x2 | x3 | \n",
       "|---|---|---|\n",
       "| 1 | 4 | 7 | \n",
       "| 2 | 5 | 8 | \n",
       "| 3 | 6 | 9 | \n",
       "\n",
       "\n"
      ],
      "text/plain": [
       "  x1 x2 x3\n",
       "1 1  4  7 \n",
       "2 2  5  8 \n",
       "3 3  6  9 "
      ]
     },
     "metadata": {},
     "output_type": "display_data"
    },
    {
     "data": {
      "text/html": [
       "<table>\n",
       "<thead><tr><th scope=col>x1</th><th scope=col>x2</th><th scope=col>x3</th><th scope=col>sum</th></tr></thead>\n",
       "<tbody>\n",
       "\t<tr><td>1 </td><td>4 </td><td>7 </td><td>12</td></tr>\n",
       "\t<tr><td>2 </td><td>5 </td><td>8 </td><td>15</td></tr>\n",
       "\t<tr><td>3 </td><td>6 </td><td>9 </td><td>18</td></tr>\n",
       "</tbody>\n",
       "</table>\n"
      ],
      "text/latex": [
       "\\begin{tabular}{r|llll}\n",
       " x1 & x2 & x3 & sum\\\\\n",
       "\\hline\n",
       "\t 1  & 4  & 7  & 12\\\\\n",
       "\t 2  & 5  & 8  & 15\\\\\n",
       "\t 3  & 6  & 9  & 18\\\\\n",
       "\\end{tabular}\n"
      ],
      "text/markdown": [
       "\n",
       "x1 | x2 | x3 | sum | \n",
       "|---|---|---|\n",
       "| 1  | 4  | 7  | 12 | \n",
       "| 2  | 5  | 8  | 15 | \n",
       "| 3  | 6  | 9  | 18 | \n",
       "\n",
       "\n"
      ],
      "text/plain": [
       "  x1 x2 x3 sum\n",
       "1 1  4  7  12 \n",
       "2 2  5  8  15 \n",
       "3 3  6  9  18 "
      ]
     },
     "metadata": {},
     "output_type": "display_data"
    },
    {
     "data": {
      "text/html": [
       "<table>\n",
       "<thead><tr><th scope=col>x1</th><th scope=col>x2</th><th scope=col>x3</th><th scope=col>sum</th><th scope=col>pass</th></tr></thead>\n",
       "<tbody>\n",
       "\t<tr><td>1   </td><td>4   </td><td>7   </td><td>12  </td><td>fail</td></tr>\n",
       "\t<tr><td>2   </td><td>5   </td><td>8   </td><td>15  </td><td>fail</td></tr>\n",
       "\t<tr><td>3   </td><td>6   </td><td>9   </td><td>18  </td><td>pass</td></tr>\n",
       "</tbody>\n",
       "</table>\n"
      ],
      "text/latex": [
       "\\begin{tabular}{r|lllll}\n",
       " x1 & x2 & x3 & sum & pass\\\\\n",
       "\\hline\n",
       "\t 1    & 4    & 7    & 12   & fail\\\\\n",
       "\t 2    & 5    & 8    & 15   & fail\\\\\n",
       "\t 3    & 6    & 9    & 18   & pass\\\\\n",
       "\\end{tabular}\n"
      ],
      "text/markdown": [
       "\n",
       "x1 | x2 | x3 | sum | pass | \n",
       "|---|---|---|\n",
       "| 1    | 4    | 7    | 12   | fail | \n",
       "| 2    | 5    | 8    | 15   | fail | \n",
       "| 3    | 6    | 9    | 18   | pass | \n",
       "\n",
       "\n"
      ],
      "text/plain": [
       "  x1 x2 x3 sum pass\n",
       "1 1  4  7  12  fail\n",
       "2 2  5  8  15  fail\n",
       "3 3  6  9  18  pass"
      ]
     },
     "metadata": {},
     "output_type": "display_data"
    }
   ],
   "source": [
    "x1 <- c(1,2,3)\n",
    "x2 <- c(4,5,6)\n",
    "x3 <- c(7,8,9)\n",
    "d <- data.frame(x1,x2,x3)\n",
    "d\n",
    "\n",
    "d$sum <- d$x1 + d$x2 + d$x3\n",
    "d\n",
    "\n",
    "d$pass <- ifelse(d$sum > 15, \"pass\",\"fail\")\n",
    "d"
   ]
  },
  {
   "cell_type": "code",
   "execution_count": null,
   "metadata": {},
   "outputs": [],
   "source": [
    "#### 데이터 프레임 추후 연결하기 - 두 개의 데이터프레임을 같은 기준으로 묶을 떄 "
   ]
  },
  {
   "cell_type": "code",
   "execution_count": 59,
   "metadata": {},
   "outputs": [
    {
     "data": {
      "text/html": [
       "<table>\n",
       "<thead><tr><th scope=col>id</th><th scope=col>mid</th></tr></thead>\n",
       "<tbody>\n",
       "\t<tr><td>1 </td><td>30</td></tr>\n",
       "\t<tr><td>2 </td><td>40</td></tr>\n",
       "\t<tr><td>3 </td><td>50</td></tr>\n",
       "\t<tr><td>4 </td><td>60</td></tr>\n",
       "\t<tr><td>5 </td><td>70</td></tr>\n",
       "</tbody>\n",
       "</table>\n"
      ],
      "text/latex": [
       "\\begin{tabular}{r|ll}\n",
       " id & mid\\\\\n",
       "\\hline\n",
       "\t 1  & 30\\\\\n",
       "\t 2  & 40\\\\\n",
       "\t 3  & 50\\\\\n",
       "\t 4  & 60\\\\\n",
       "\t 5  & 70\\\\\n",
       "\\end{tabular}\n"
      ],
      "text/markdown": [
       "\n",
       "id | mid | \n",
       "|---|---|---|---|---|\n",
       "| 1  | 30 | \n",
       "| 2  | 40 | \n",
       "| 3  | 50 | \n",
       "| 4  | 60 | \n",
       "| 5  | 70 | \n",
       "\n",
       "\n"
      ],
      "text/plain": [
       "  id mid\n",
       "1 1  30 \n",
       "2 2  40 \n",
       "3 3  50 \n",
       "4 4  60 \n",
       "5 5  70 "
      ]
     },
     "metadata": {},
     "output_type": "display_data"
    },
    {
     "data": {
      "text/html": [
       "<table>\n",
       "<thead><tr><th scope=col>id</th><th scope=col>final</th></tr></thead>\n",
       "<tbody>\n",
       "\t<tr><td>6  </td><td> 80</td></tr>\n",
       "\t<tr><td>5  </td><td> 70</td></tr>\n",
       "\t<tr><td>4  </td><td> 90</td></tr>\n",
       "\t<tr><td>3  </td><td>100</td></tr>\n",
       "\t<tr><td>2  </td><td> 90</td></tr>\n",
       "\t<tr><td>1  </td><td> 80</td></tr>\n",
       "</tbody>\n",
       "</table>\n"
      ],
      "text/latex": [
       "\\begin{tabular}{r|ll}\n",
       " id & final\\\\\n",
       "\\hline\n",
       "\t 6   &  80\\\\\n",
       "\t 5   &  70\\\\\n",
       "\t 4   &  90\\\\\n",
       "\t 3   & 100\\\\\n",
       "\t 2   &  90\\\\\n",
       "\t 1   &  80\\\\\n",
       "\\end{tabular}\n"
      ],
      "text/markdown": [
       "\n",
       "id | final | \n",
       "|---|---|---|---|---|---|\n",
       "| 6   |  80 | \n",
       "| 5   |  70 | \n",
       "| 4   |  90 | \n",
       "| 3   | 100 | \n",
       "| 2   |  90 | \n",
       "| 1   |  80 | \n",
       "\n",
       "\n"
      ],
      "text/plain": [
       "  id final\n",
       "1 6   80  \n",
       "2 5   70  \n",
       "3 4   90  \n",
       "4 3  100  \n",
       "5 2   90  \n",
       "6 1   80  "
      ]
     },
     "metadata": {},
     "output_type": "display_data"
    },
    {
     "data": {
      "text/html": [
       "<table>\n",
       "<thead><tr><th scope=col>id</th><th scope=col>mid</th><th scope=col>final</th></tr></thead>\n",
       "<tbody>\n",
       "\t<tr><td>1  </td><td>30 </td><td> 80</td></tr>\n",
       "\t<tr><td>2  </td><td>40 </td><td> 90</td></tr>\n",
       "\t<tr><td>3  </td><td>50 </td><td>100</td></tr>\n",
       "\t<tr><td>4  </td><td>60 </td><td> 90</td></tr>\n",
       "\t<tr><td>5  </td><td>70 </td><td> 70</td></tr>\n",
       "</tbody>\n",
       "</table>\n"
      ],
      "text/latex": [
       "\\begin{tabular}{r|lll}\n",
       " id & mid & final\\\\\n",
       "\\hline\n",
       "\t 1   & 30  &  80\\\\\n",
       "\t 2   & 40  &  90\\\\\n",
       "\t 3   & 50  & 100\\\\\n",
       "\t 4   & 60  &  90\\\\\n",
       "\t 5   & 70  &  70\\\\\n",
       "\\end{tabular}\n"
      ],
      "text/markdown": [
       "\n",
       "id | mid | final | \n",
       "|---|---|---|---|---|\n",
       "| 1   | 30  |  80 | \n",
       "| 2   | 40  |  90 | \n",
       "| 3   | 50  | 100 | \n",
       "| 4   | 60  |  90 | \n",
       "| 5   | 70  |  70 | \n",
       "\n",
       "\n"
      ],
      "text/plain": [
       "  id mid final\n",
       "1 1  30   80  \n",
       "2 2  40   90  \n",
       "3 3  50  100  \n",
       "4 4  60   90  \n",
       "5 5  70   70  "
      ]
     },
     "metadata": {},
     "output_type": "display_data"
    },
    {
     "data": {
      "text/html": [
       "<table>\n",
       "<thead><tr><th scope=col>id</th><th scope=col>mid</th><th scope=col>final</th></tr></thead>\n",
       "<tbody>\n",
       "\t<tr><td>6  </td><td>NA </td><td> 80</td></tr>\n",
       "\t<tr><td>5  </td><td>70 </td><td> 70</td></tr>\n",
       "\t<tr><td>4  </td><td>60 </td><td> 90</td></tr>\n",
       "\t<tr><td>3  </td><td>50 </td><td>100</td></tr>\n",
       "\t<tr><td>2  </td><td>40 </td><td> 90</td></tr>\n",
       "\t<tr><td>1  </td><td>30 </td><td> 80</td></tr>\n",
       "</tbody>\n",
       "</table>\n"
      ],
      "text/latex": [
       "\\begin{tabular}{r|lll}\n",
       " id & mid & final\\\\\n",
       "\\hline\n",
       "\t 6   & NA  &  80\\\\\n",
       "\t 5   & 70  &  70\\\\\n",
       "\t 4   & 60  &  90\\\\\n",
       "\t 3   & 50  & 100\\\\\n",
       "\t 2   & 40  &  90\\\\\n",
       "\t 1   & 30  &  80\\\\\n",
       "\\end{tabular}\n"
      ],
      "text/markdown": [
       "\n",
       "id | mid | final | \n",
       "|---|---|---|---|---|---|\n",
       "| 6   | NA  |  80 | \n",
       "| 5   | 70  |  70 | \n",
       "| 4   | 60  |  90 | \n",
       "| 3   | 50  | 100 | \n",
       "| 2   | 40  |  90 | \n",
       "| 1   | 30  |  80 | \n",
       "\n",
       "\n"
      ],
      "text/plain": [
       "  id mid final\n",
       "1 6  NA   80  \n",
       "2 5  70   70  \n",
       "3 4  60   90  \n",
       "4 3  50  100  \n",
       "5 2  40   90  \n",
       "6 1  30   80  "
      ]
     },
     "metadata": {},
     "output_type": "display_data"
    },
    {
     "data": {
      "text/html": [
       "<table>\n",
       "<thead><tr><th scope=col>id</th><th scope=col>mid</th><th scope=col>final</th></tr></thead>\n",
       "<tbody>\n",
       "\t<tr><td>1  </td><td>30 </td><td> 80</td></tr>\n",
       "\t<tr><td>2  </td><td>40 </td><td> 90</td></tr>\n",
       "\t<tr><td>3  </td><td>50 </td><td>100</td></tr>\n",
       "\t<tr><td>4  </td><td>60 </td><td> 90</td></tr>\n",
       "\t<tr><td>5  </td><td>70 </td><td> 70</td></tr>\n",
       "\t<tr><td>6  </td><td>NA </td><td> 80</td></tr>\n",
       "</tbody>\n",
       "</table>\n"
      ],
      "text/latex": [
       "\\begin{tabular}{r|lll}\n",
       " id & mid & final\\\\\n",
       "\\hline\n",
       "\t 1   & 30  &  80\\\\\n",
       "\t 2   & 40  &  90\\\\\n",
       "\t 3   & 50  & 100\\\\\n",
       "\t 4   & 60  &  90\\\\\n",
       "\t 5   & 70  &  70\\\\\n",
       "\t 6   & NA  &  80\\\\\n",
       "\\end{tabular}\n"
      ],
      "text/markdown": [
       "\n",
       "id | mid | final | \n",
       "|---|---|---|---|---|---|\n",
       "| 1   | 30  |  80 | \n",
       "| 2   | 40  |  90 | \n",
       "| 3   | 50  | 100 | \n",
       "| 4   | 60  |  90 | \n",
       "| 5   | 70  |  70 | \n",
       "| 6   | NA  |  80 | \n",
       "\n",
       "\n"
      ],
      "text/plain": [
       "  id mid final\n",
       "1 1  30   80  \n",
       "2 2  40   90  \n",
       "3 3  50  100  \n",
       "4 4  60   90  \n",
       "5 5  70   70  \n",
       "6 6  NA   80  "
      ]
     },
     "metadata": {},
     "output_type": "display_data"
    }
   ],
   "source": [
    "a <- data.frame(id = c(1,2,3,4,5),mid = c(30,40,50,60,70))\n",
    "b <- data.frame(id = c(6,5,4,3,2,1),final = c(80,70,90,100,90,80))\n",
    "a\n",
    "b\n",
    "left_join(a,b,\"id\") # inner_join NA값은 제거\n",
    "right_join(a,b,\"id\")\n",
    "full_join(a,b,\"id\") # outer_join NA값은 비워둔 채로 join"
   ]
  },
  {
   "cell_type": "code",
   "execution_count": 60,
   "metadata": {},
   "outputs": [
    {
     "data": {
      "text/html": [
       "<table>\n",
       "<thead><tr><th scope=col>old1</th><th scope=col>old2</th><th scope=col>old3</th></tr></thead>\n",
       "<tbody>\n",
       "\t<tr><td>1</td><td>4</td><td>7</td></tr>\n",
       "\t<tr><td>2</td><td>5</td><td>8</td></tr>\n",
       "\t<tr><td>3</td><td>6</td><td>9</td></tr>\n",
       "</tbody>\n",
       "</table>\n"
      ],
      "text/latex": [
       "\\begin{tabular}{r|lll}\n",
       " old1 & old2 & old3\\\\\n",
       "\\hline\n",
       "\t 1 & 4 & 7\\\\\n",
       "\t 2 & 5 & 8\\\\\n",
       "\t 3 & 6 & 9\\\\\n",
       "\\end{tabular}\n"
      ],
      "text/markdown": [
       "\n",
       "old1 | old2 | old3 | \n",
       "|---|---|---|\n",
       "| 1 | 4 | 7 | \n",
       "| 2 | 5 | 8 | \n",
       "| 3 | 6 | 9 | \n",
       "\n",
       "\n"
      ],
      "text/plain": [
       "  old1 old2 old3\n",
       "1 1    4    7   \n",
       "2 2    5    8   \n",
       "3 3    6    9   "
      ]
     },
     "metadata": {},
     "output_type": "display_data"
    },
    {
     "data": {
      "text/html": [
       "<table>\n",
       "<thead><tr><th scope=col>new1</th><th scope=col>old2</th><th scope=col>old3</th></tr></thead>\n",
       "<tbody>\n",
       "\t<tr><td>1</td><td>4</td><td>7</td></tr>\n",
       "\t<tr><td>2</td><td>5</td><td>8</td></tr>\n",
       "\t<tr><td>3</td><td>6</td><td>9</td></tr>\n",
       "</tbody>\n",
       "</table>\n"
      ],
      "text/latex": [
       "\\begin{tabular}{r|lll}\n",
       " new1 & old2 & old3\\\\\n",
       "\\hline\n",
       "\t 1 & 4 & 7\\\\\n",
       "\t 2 & 5 & 8\\\\\n",
       "\t 3 & 6 & 9\\\\\n",
       "\\end{tabular}\n"
      ],
      "text/markdown": [
       "\n",
       "new1 | old2 | old3 | \n",
       "|---|---|---|\n",
       "| 1 | 4 | 7 | \n",
       "| 2 | 5 | 8 | \n",
       "| 3 | 6 | 9 | \n",
       "\n",
       "\n"
      ],
      "text/plain": [
       "  new1 old2 old3\n",
       "1 1    4    7   \n",
       "2 2    5    8   \n",
       "3 3    6    9   "
      ]
     },
     "metadata": {},
     "output_type": "display_data"
    }
   ],
   "source": [
    "old1 <- c(1,2,3)\n",
    "old2 <- c(4,5,6)\n",
    "old3 <- c(7,8,9)\n",
    "d <- data.frame(old1,old2,old3)\n",
    "d\n",
    "\n",
    "library(dplyr)\n",
    "d <-  rename(d,new1 = old1)\n",
    "d"
   ]
  },
  {
   "cell_type": "markdown",
   "metadata": {},
   "source": [
    "#### 연습2\n",
    "> - 타이타닉 데이터 셋을 남성과 여성으로 나누어 구분하고, 각각에 대한 생존율을 구하시오\n",
    "> - 남성이면서, 10대 미만, 10대, 20대의 생존율을 구하시오 \n",
    "> - 여성이면서, 10대 미만, 10대, 20대의 생존율을 구하시오 "
   ]
  },
  {
   "cell_type": "code",
   "execution_count": null,
   "metadata": {},
   "outputs": [],
   "source": []
  },
  {
   "cell_type": "code",
   "execution_count": 61,
   "metadata": {},
   "outputs": [],
   "source": [
    "train <- read.csv(\"train.csv\")\n",
    "library(dplyr)"
   ]
  },
  {
   "cell_type": "code",
   "execution_count": 63,
   "metadata": {},
   "outputs": [
    {
     "data": {
      "text/html": [
       "<table>\n",
       "<thead><tr><th scope=col>PassengerId</th><th scope=col>Survived</th><th scope=col>Pclass</th><th scope=col>Name</th><th scope=col>Sex</th><th scope=col>Age</th><th scope=col>SibSp</th><th scope=col>Parch</th><th scope=col>Ticket</th><th scope=col>Fare</th><th scope=col>Cabin</th><th scope=col>Embarked</th></tr></thead>\n",
       "<tbody>\n",
       "\t<tr><td>1                                                  </td><td>0                                                  </td><td>3                                                  </td><td>Braund, Mr. Owen Harris                            </td><td>male                                               </td><td>22                                                 </td><td>1                                                  </td><td>0                                                  </td><td>A/5 21171                                          </td><td> 7.2500                                            </td><td>                                                   </td><td>S                                                  </td></tr>\n",
       "\t<tr><td>2                                                  </td><td>1                                                  </td><td>1                                                  </td><td>Cumings, Mrs. John Bradley (Florence Briggs Thayer)</td><td>female                                             </td><td>38                                                 </td><td>1                                                  </td><td>0                                                  </td><td>PC 17599                                           </td><td>71.2833                                            </td><td>C85                                                </td><td>C                                                  </td></tr>\n",
       "\t<tr><td>3                                                  </td><td>1                                                  </td><td>3                                                  </td><td>Heikkinen, Miss. Laina                             </td><td>female                                             </td><td>26                                                 </td><td>0                                                  </td><td>0                                                  </td><td>STON/O2. 3101282                                   </td><td> 7.9250                                            </td><td>                                                   </td><td>S                                                  </td></tr>\n",
       "\t<tr><td>4                                                  </td><td>1                                                  </td><td>1                                                  </td><td>Futrelle, Mrs. Jacques Heath (Lily May Peel)       </td><td>female                                             </td><td>35                                                 </td><td>1                                                  </td><td>0                                                  </td><td>113803                                             </td><td>53.1000                                            </td><td>C123                                               </td><td>S                                                  </td></tr>\n",
       "\t<tr><td>5                                                  </td><td>0                                                  </td><td>3                                                  </td><td>Allen, Mr. William Henry                           </td><td>male                                               </td><td>35                                                 </td><td>0                                                  </td><td>0                                                  </td><td>373450                                             </td><td> 8.0500                                            </td><td>                                                   </td><td>S                                                  </td></tr>\n",
       "\t<tr><td>6                                                  </td><td>0                                                  </td><td>3                                                  </td><td>Moran, Mr. James                                   </td><td>male                                               </td><td>NA                                                 </td><td>0                                                  </td><td>0                                                  </td><td>330877                                             </td><td> 8.4583                                            </td><td>                                                   </td><td>Q                                                  </td></tr>\n",
       "</tbody>\n",
       "</table>\n"
      ],
      "text/latex": [
       "\\begin{tabular}{r|llllllllllll}\n",
       " PassengerId & Survived & Pclass & Name & Sex & Age & SibSp & Parch & Ticket & Fare & Cabin & Embarked\\\\\n",
       "\\hline\n",
       "\t 1                                                   & 0                                                   & 3                                                   & Braund, Mr. Owen Harris                             & male                                                & 22                                                  & 1                                                   & 0                                                   & A/5 21171                                           &  7.2500                                             &                                                     & S                                                  \\\\\n",
       "\t 2                                                   & 1                                                   & 1                                                   & Cumings, Mrs. John Bradley (Florence Briggs Thayer) & female                                              & 38                                                  & 1                                                   & 0                                                   & PC 17599                                            & 71.2833                                             & C85                                                 & C                                                  \\\\\n",
       "\t 3                                                   & 1                                                   & 3                                                   & Heikkinen, Miss. Laina                              & female                                              & 26                                                  & 0                                                   & 0                                                   & STON/O2. 3101282                                    &  7.9250                                             &                                                     & S                                                  \\\\\n",
       "\t 4                                                   & 1                                                   & 1                                                   & Futrelle, Mrs. Jacques Heath (Lily May Peel)        & female                                              & 35                                                  & 1                                                   & 0                                                   & 113803                                              & 53.1000                                             & C123                                                & S                                                  \\\\\n",
       "\t 5                                                   & 0                                                   & 3                                                   & Allen, Mr. William Henry                            & male                                                & 35                                                  & 0                                                   & 0                                                   & 373450                                              &  8.0500                                             &                                                     & S                                                  \\\\\n",
       "\t 6                                                   & 0                                                   & 3                                                   & Moran, Mr. James                                    & male                                                & NA                                                  & 0                                                   & 0                                                   & 330877                                              &  8.4583                                             &                                                     & Q                                                  \\\\\n",
       "\\end{tabular}\n"
      ],
      "text/markdown": [
       "\n",
       "PassengerId | Survived | Pclass | Name | Sex | Age | SibSp | Parch | Ticket | Fare | Cabin | Embarked | \n",
       "|---|---|---|---|---|---|\n",
       "| 1                                                   | 0                                                   | 3                                                   | Braund, Mr. Owen Harris                             | male                                                | 22                                                  | 1                                                   | 0                                                   | A/5 21171                                           |  7.2500                                             |                                                     | S                                                   | \n",
       "| 2                                                   | 1                                                   | 1                                                   | Cumings, Mrs. John Bradley (Florence Briggs Thayer) | female                                              | 38                                                  | 1                                                   | 0                                                   | PC 17599                                            | 71.2833                                             | C85                                                 | C                                                   | \n",
       "| 3                                                   | 1                                                   | 3                                                   | Heikkinen, Miss. Laina                              | female                                              | 26                                                  | 0                                                   | 0                                                   | STON/O2. 3101282                                    |  7.9250                                             |                                                     | S                                                   | \n",
       "| 4                                                   | 1                                                   | 1                                                   | Futrelle, Mrs. Jacques Heath (Lily May Peel)        | female                                              | 35                                                  | 1                                                   | 0                                                   | 113803                                              | 53.1000                                             | C123                                                | S                                                   | \n",
       "| 5                                                   | 0                                                   | 3                                                   | Allen, Mr. William Henry                            | male                                                | 35                                                  | 0                                                   | 0                                                   | 373450                                              |  8.0500                                             |                                                     | S                                                   | \n",
       "| 6                                                   | 0                                                   | 3                                                   | Moran, Mr. James                                    | male                                                | NA                                                  | 0                                                   | 0                                                   | 330877                                              |  8.4583                                             |                                                     | Q                                                   | \n",
       "\n",
       "\n"
      ],
      "text/plain": [
       "  PassengerId Survived Pclass\n",
       "1 1           0        3     \n",
       "2 2           1        1     \n",
       "3 3           1        3     \n",
       "4 4           1        1     \n",
       "5 5           0        3     \n",
       "6 6           0        3     \n",
       "  Name                                                Sex    Age SibSp Parch\n",
       "1 Braund, Mr. Owen Harris                             male   22  1     0    \n",
       "2 Cumings, Mrs. John Bradley (Florence Briggs Thayer) female 38  1     0    \n",
       "3 Heikkinen, Miss. Laina                              female 26  0     0    \n",
       "4 Futrelle, Mrs. Jacques Heath (Lily May Peel)        female 35  1     0    \n",
       "5 Allen, Mr. William Henry                            male   35  0     0    \n",
       "6 Moran, Mr. James                                    male   NA  0     0    \n",
       "  Ticket           Fare    Cabin Embarked\n",
       "1 A/5 21171         7.2500       S       \n",
       "2 PC 17599         71.2833 C85   C       \n",
       "3 STON/O2. 3101282  7.9250       S       \n",
       "4 113803           53.1000 C123  S       \n",
       "5 373450            8.0500       S       \n",
       "6 330877            8.4583       Q       "
      ]
     },
     "metadata": {},
     "output_type": "display_data"
    }
   ],
   "source": [
    "head(train)"
   ]
  },
  {
   "cell_type": "code",
   "execution_count": 74,
   "metadata": {},
   "outputs": [
    {
     "data": {
      "text/html": [
       "<table>\n",
       "<thead><tr><th scope=col>Age_group</th><th scope=col>생존율</th></tr></thead>\n",
       "<tbody>\n",
       "\t<tr><td>10대     </td><td>0.1228070</td></tr>\n",
       "\t<tr><td>10대 미만</td><td>0.5937500</td></tr>\n",
       "\t<tr><td>20대     </td><td>0.1689189</td></tr>\n",
       "</tbody>\n",
       "</table>\n"
      ],
      "text/latex": [
       "\\begin{tabular}{r|ll}\n",
       " Age\\_group & 생존율\\\\\n",
       "\\hline\n",
       "\t 10대      & 0.1228070\\\\\n",
       "\t 10대 미만 & 0.5937500\\\\\n",
       "\t 20대      & 0.1689189\\\\\n",
       "\\end{tabular}\n"
      ],
      "text/markdown": [
       "\n",
       "Age_group | 생존율 | \n",
       "|---|---|---|\n",
       "| 10대      | 0.1228070 | \n",
       "| 10대 미만 | 0.5937500 | \n",
       "| 20대      | 0.1689189 | \n",
       "\n",
       "\n"
      ],
      "text/plain": [
       "  Age_group 생존율   \n",
       "1 10대      0.1228070\n",
       "2 10대 미만 0.5937500\n",
       "3 20대      0.1689189"
      ]
     },
     "metadata": {},
     "output_type": "display_data"
    }
   ],
   "source": [
    "train  %>%  \n",
    "    filter(Sex == \"male\" & Age <30) %>% \n",
    "    mutate(Age_group= ifelse(Age <10,\"10대 미만\",ifelse(Age <20,\"10대\",\"20대\"))) %>% \n",
    "    group_by(Age_group) %>% \n",
    "    summarise(생존율 = mean(Survived))"
   ]
  },
  {
   "cell_type": "code",
   "execution_count": 75,
   "metadata": {},
   "outputs": [
    {
     "data": {
      "text/html": [
       "<table>\n",
       "<thead><tr><th scope=col>Age_group</th><th scope=col>생존율</th></tr></thead>\n",
       "<tbody>\n",
       "\t<tr><td>10대     </td><td>0.7555556</td></tr>\n",
       "\t<tr><td>10대 미만</td><td>0.6333333</td></tr>\n",
       "\t<tr><td>20대     </td><td>0.7222222</td></tr>\n",
       "</tbody>\n",
       "</table>\n"
      ],
      "text/latex": [
       "\\begin{tabular}{r|ll}\n",
       " Age\\_group & 생존율\\\\\n",
       "\\hline\n",
       "\t 10대      & 0.7555556\\\\\n",
       "\t 10대 미만 & 0.6333333\\\\\n",
       "\t 20대      & 0.7222222\\\\\n",
       "\\end{tabular}\n"
      ],
      "text/markdown": [
       "\n",
       "Age_group | 생존율 | \n",
       "|---|---|---|\n",
       "| 10대      | 0.7555556 | \n",
       "| 10대 미만 | 0.6333333 | \n",
       "| 20대      | 0.7222222 | \n",
       "\n",
       "\n"
      ],
      "text/plain": [
       "  Age_group 생존율   \n",
       "1 10대      0.7555556\n",
       "2 10대 미만 0.6333333\n",
       "3 20대      0.7222222"
      ]
     },
     "metadata": {},
     "output_type": "display_data"
    }
   ],
   "source": [
    "train  %>%  \n",
    "    filter(Sex == \"female\" & Age <30) %>% \n",
    "    mutate(Age_group= ifelse(Age <10,\"10대 미만\",ifelse(Age <20,\"10대\",\"20대\"))) %>% \n",
    "    group_by(Age_group) %>% \n",
    "    summarise(생존율 = mean(Survived))"
   ]
  }
 ],
 "metadata": {
  "kernelspec": {
   "display_name": "R",
   "language": "R",
   "name": "ir"
  },
  "language_info": {
   "codemirror_mode": "r",
   "file_extension": ".r",
   "mimetype": "text/x-r-source",
   "name": "R",
   "pygments_lexer": "r",
   "version": "3.5.1"
  }
 },
 "nbformat": 4,
 "nbformat_minor": 2
}
