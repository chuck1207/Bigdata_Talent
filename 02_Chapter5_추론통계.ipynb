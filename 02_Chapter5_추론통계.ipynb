{
 "cells": [
  {
   "cell_type": "markdown",
   "metadata": {},
   "source": [
    "# Chapter 5 추론 통계 \n",
    "## 가설 설정"
   ]
  },
  {
   "cell_type": "markdown",
   "metadata": {},
   "source": [
    "### 추론통계\n",
    "#### 추론 통계의 의의 \n",
    "> - 통계 조사에서 조사대상이 되는 전체 집단을 모집단이라고 하고, 모집단에서 뽑은 일부 자료를 표본이라고 한다.   \n",
    "> - 모집단으로부터 추출된 표본으로부터 모수와 관련된 통계량들의 값을 계산하고, 이것을 이용하여 모집단의 특성을 알아내는 과정을 추론 통계 분석이라고 한다.   \n",
    "> - 추론 통계는 예측은 물론, 머신러닝 등을 통해서 나온 분석의 결과가 통계적으로 유의한 지를 검증하는 역할을 한다.  "
   ]
  },
  {
   "cell_type": "markdown",
   "metadata": {},
   "source": [
    "### 가설의 설정\n",
    "#### 가설의 유형 \n",
    "> - 추론 통계에서는 귀무가설과 대립가설을 세우고, 귀무가설이 기각됨을 통해 본래 알아보고자 한 대립가설이 통계적으로 유의한 것인지를 확인\n",
    "\n",
    "> - 귀무가설(영가설)  \n",
    "> 알아보고자하는 내용과 반대되는 내용으로서 '두 변수 사이에 관계가 없다' 또는 '두 집단은 차이가 없다'와 같이 부정적인 형태로 진술된다.   \n",
    "> - 대립가설(연구가설)  \n",
    "> 알아보고자하는 내용으로서 '검정할 가설의 내용에는 차이가 있다. '또는 '효과가 있다.'와 같이 진술 된다.   "
   ]
  },
  {
   "cell_type": "markdown",
   "metadata": {},
   "source": [
    "#### 귀무가설의 기각 수준 \n",
    "> - 가설을 검증할 때는 귀무가설이 채택될 가능성을 본다. 보통 신뢰도 95%수준으로 본다. 따라서 귀무가설이 채택될 가능성이 평균을 중심으로 95%구간에 있으면 귀무가설은 채택되고, 대립가설은 기각된다. 즉, 본래 알아보고자 한 내용은 통계적으로 유의하지 않게 된다. \n",
    "> - 반대로 귀무가설이 채택될 가능성이 왼쪽 0.025, 오른쪽 0.025 구간에 속하게 되면 귀무가설은 기각되고 대립가설이 채택된다. 즉, 본래 알아보고자 한 내용이 통계적으로 유의함을 의미 "
   ]
  },
  {
   "cell_type": "markdown",
   "metadata": {},
   "source": [
    "#### p - value \n",
    "> - 이 때 사용된 기준을 유의수준(α)이라고 하고 이 경우에는 5% 즉, 0.05가 귀무가설이 기각되고 대립가설이 채택될 수 있는 기준이 된다.   \n",
    "> - 분석결과 가설이 속할 확률인 유의확률(p-value)가 0.05보다 크면 귀무가설을 채택하고, 0.05보다 작으면 대립가설을 채택  \n",
    "> - 보다 유의한 수준을 보기 위해서는 p-value가 0.01보다 작은지를 본다.  "
   ]
  },
  {
   "cell_type": "markdown",
   "metadata": {},
   "source": [
    "#### 정규분포 \n",
    "> - 가설의 검증은 일반적으로 정규분포를 기반으로 한다.   \n",
    "> - 많은 사회 현상은 정규분포곡선을 따르며 다음과 같은 모양을 가진다.  "
   ]
  },
  {
   "cell_type": "markdown",
   "metadata": {},
   "source": [
    "> - 정규분포는 평균과 표준푠차에 의해서 그래프의 모양과 위치가 결정된다. \n",
    "> - 평균과 표준편차를 0과 1로 둔 것을 표준정규분포라고 한다. "
   ]
  },
  {
   "cell_type": "code",
   "execution_count": 2,
   "metadata": {},
   "outputs": [
    {
     "data": {
      "image/png": "[encoded data removed]",
      "text/plain": [
       "plot without title"
      ]
     },
     "metadata": {},
     "output_type": "display_data"
    }
   ],
   "source": [
    "x <- seq(-5,5,length = 1000)\n",
    "y <- dnorm(x,mean = 0, sd =1)\n",
    "plot(x,y,type = 'l')\n",
    "\n",
    "\n",
    "den.norm <- function(x) dnorm(x, mean = 0, sd = 2)\n",
    "curve(den.norm, col = 'red',add = TRUE,lty = 2)\n",
    "\n",
    "den.norm <- function(x) dnorm(x, mean = 0, sd = 3)\n",
    "curve(den.norm, col = 'blue',add = TRUE,lty = 2)\n"
   ]
  },
  {
   "cell_type": "markdown",
   "metadata": {},
   "source": [
    "## 표본추출"
   ]
  },
  {
   "cell_type": "markdown",
   "metadata": {},
   "source": [
    "#### 단순임의추출\n",
    "> - 동일한 확률로 표본을 추출    \n",
    "> - 서로 다른 추출 확률을 사용한다.   \n",
    "> - 원소마다 다른 가중치를 가져야 할 때 사용한다.   "
   ]
  },
  {
   "cell_type": "code",
   "execution_count": 3,
   "metadata": {},
   "outputs": [
    {
     "data": {
      "text/html": [
       "<ol class=list-inline>\n",
       "\t<li>8</li>\n",
       "\t<li>6</li>\n",
       "\t<li>2</li>\n",
       "\t<li>7</li>\n",
       "\t<li>4</li>\n",
       "</ol>\n"
      ],
      "text/latex": [
       "\\begin{enumerate*}\n",
       "\\item 8\n",
       "\\item 6\n",
       "\\item 2\n",
       "\\item 7\n",
       "\\item 4\n",
       "\\end{enumerate*}\n"
      ],
      "text/markdown": [
       "1. 8\n",
       "2. 6\n",
       "3. 2\n",
       "4. 7\n",
       "5. 4\n",
       "\n",
       "\n"
      ],
      "text/plain": [
       "[1] 8 6 2 7 4"
      ]
     },
     "metadata": {},
     "output_type": "display_data"
    },
    {
     "data": {
      "text/html": [
       "<ol class=list-inline>\n",
       "\t<li>2</li>\n",
       "\t<li>2</li>\n",
       "\t<li>5</li>\n",
       "\t<li>4</li>\n",
       "\t<li>8</li>\n",
       "</ol>\n"
      ],
      "text/latex": [
       "\\begin{enumerate*}\n",
       "\\item 2\n",
       "\\item 2\n",
       "\\item 5\n",
       "\\item 4\n",
       "\\item 8\n",
       "\\end{enumerate*}\n"
      ],
      "text/markdown": [
       "1. 2\n",
       "2. 2\n",
       "3. 5\n",
       "4. 4\n",
       "5. 8\n",
       "\n",
       "\n"
      ],
      "text/plain": [
       "[1] 2 2 5 4 8"
      ]
     },
     "metadata": {},
     "output_type": "display_data"
    }
   ],
   "source": [
    "x <- c(1:10)\n",
    "sample(x,5)\n",
    "sample(x,5, replace = TRUE)"
   ]
  },
  {
   "cell_type": "code",
   "execution_count": 4,
   "metadata": {},
   "outputs": [
    {
     "data": {
      "text/html": [
       "<ol class=list-inline>\n",
       "\t<li>'A'</li>\n",
       "\t<li>'A'</li>\n",
       "\t<li>'D'</li>\n",
       "</ol>\n"
      ],
      "text/latex": [
       "\\begin{enumerate*}\n",
       "\\item 'A'\n",
       "\\item 'A'\n",
       "\\item 'D'\n",
       "\\end{enumerate*}\n"
      ],
      "text/markdown": [
       "1. 'A'\n",
       "2. 'A'\n",
       "3. 'D'\n",
       "\n",
       "\n"
      ],
      "text/plain": [
       "[1] \"A\" \"A\" \"D\""
      ]
     },
     "metadata": {},
     "output_type": "display_data"
    }
   ],
   "source": [
    "x <- c(\"A\",\"B\",\"C\",\"D\",\"E\")\n",
    "prob <- c(6,1,5,1,3) # 가중치   \n",
    "sample(x,3,replace = TRUE, prob = prob)"
   ]
  },
  {
   "cell_type": "markdown",
   "metadata": {},
   "source": [
    "#### 층화 임의 추출 \n",
    "> - 데이터의 종류별로 표본을 추출한다. "
   ]
  },
  {
   "cell_type": "code",
   "execution_count": 6,
   "metadata": {},
   "outputs": [
    {
     "name": "stderr",
     "output_type": "stream",
     "text": [
      "also installing the dependency 'lpSolve'\n",
      "\n",
      "Warning message:\n",
      "\"unable to access index for repository http://www.stats.ox.ac.uk/pub/RWin/bin/windows/contrib/3.5:\n",
      "  URL 'http://www.stats.ox.ac.uk/pub/RWin/bin/windows/contrib/3.5/PACKAGES'를 열 수 없습니다\""
     ]
    },
    {
     "name": "stdout",
     "output_type": "stream",
     "text": [
      "package 'lpSolve' successfully unpacked and MD5 sums checked\n",
      "package 'sampling' successfully unpacked and MD5 sums checked\n",
      "\n",
      "The downloaded binary packages are in\n",
      "\tC:\\Users\\Administrator\\AppData\\Local\\Temp\\Rtmpgz1m9k\\downloaded_packages\n"
     ]
    }
   ],
   "source": [
    "install.packages(\"sampling\")\n",
    "library(sampling)"
   ]
  },
  {
   "cell_type": "code",
   "execution_count": 7,
   "metadata": {},
   "outputs": [
    {
     "data": {
      "text/html": [
       "<table>\n",
       "<thead><tr><th></th><th scope=col>Species</th><th scope=col>ID_unit</th><th scope=col>Prob</th><th scope=col>Stratum</th></tr></thead>\n",
       "<tbody>\n",
       "\t<tr><th scope=row>22</th><td>setosa    </td><td> 22       </td><td>0.04      </td><td>1         </td></tr>\n",
       "\t<tr><th scope=row>36</th><td>setosa    </td><td> 36       </td><td>0.04      </td><td>1         </td></tr>\n",
       "\t<tr><th scope=row>53</th><td>versicolor</td><td> 53       </td><td>0.06      </td><td>2         </td></tr>\n",
       "\t<tr><th scope=row>86</th><td>versicolor</td><td> 86       </td><td>0.06      </td><td>2         </td></tr>\n",
       "\t<tr><th scope=row>91</th><td>versicolor</td><td> 91       </td><td>0.06      </td><td>2         </td></tr>\n",
       "\t<tr><th scope=row>108</th><td>virginica </td><td>108       </td><td>0.08      </td><td>3         </td></tr>\n",
       "\t<tr><th scope=row>125</th><td>virginica </td><td>125       </td><td>0.08      </td><td>3         </td></tr>\n",
       "\t<tr><th scope=row>129</th><td>virginica </td><td>129       </td><td>0.08      </td><td>3         </td></tr>\n",
       "\t<tr><th scope=row>130</th><td>virginica </td><td>130       </td><td>0.08      </td><td>3         </td></tr>\n",
       "</tbody>\n",
       "</table>\n"
      ],
      "text/latex": [
       "\\begin{tabular}{r|llll}\n",
       "  & Species & ID\\_unit & Prob & Stratum\\\\\n",
       "\\hline\n",
       "\t22 & setosa     &  22        & 0.04       & 1         \\\\\n",
       "\t36 & setosa     &  36        & 0.04       & 1         \\\\\n",
       "\t53 & versicolor &  53        & 0.06       & 2         \\\\\n",
       "\t86 & versicolor &  86        & 0.06       & 2         \\\\\n",
       "\t91 & versicolor &  91        & 0.06       & 2         \\\\\n",
       "\t108 & virginica  & 108        & 0.08       & 3         \\\\\n",
       "\t125 & virginica  & 125        & 0.08       & 3         \\\\\n",
       "\t129 & virginica  & 129        & 0.08       & 3         \\\\\n",
       "\t130 & virginica  & 130        & 0.08       & 3         \\\\\n",
       "\\end{tabular}\n"
      ],
      "text/markdown": [
       "\n",
       "| <!--/--> | Species | ID_unit | Prob | Stratum | \n",
       "|---|---|---|---|---|---|---|---|---|\n",
       "| 22 | setosa     |  22        | 0.04       | 1          | \n",
       "| 36 | setosa     |  36        | 0.04       | 1          | \n",
       "| 53 | versicolor |  53        | 0.06       | 2          | \n",
       "| 86 | versicolor |  86        | 0.06       | 2          | \n",
       "| 91 | versicolor |  91        | 0.06       | 2          | \n",
       "| 108 | virginica  | 108        | 0.08       | 3          | \n",
       "| 125 | virginica  | 125        | 0.08       | 3          | \n",
       "| 129 | virginica  | 129        | 0.08       | 3          | \n",
       "| 130 | virginica  | 130        | 0.08       | 3          | \n",
       "\n",
       "\n"
      ],
      "text/plain": [
       "    Species    ID_unit Prob Stratum\n",
       "22  setosa      22     0.04 1      \n",
       "36  setosa      36     0.04 1      \n",
       "53  versicolor  53     0.06 2      \n",
       "86  versicolor  86     0.06 2      \n",
       "91  versicolor  91     0.06 2      \n",
       "108 virginica  108     0.08 3      \n",
       "125 virginica  125     0.08 3      \n",
       "129 virginica  129     0.08 3      \n",
       "130 virginica  130     0.08 3      "
      ]
     },
     "metadata": {},
     "output_type": "display_data"
    }
   ],
   "source": [
    "strata(c(\"Species\"),size = c(2,3,4), method = 'srswor', data = iris)"
   ]
  },
  {
   "cell_type": "code",
   "execution_count": 1,
   "metadata": {},
   "outputs": [],
   "source": [
    "titanic <- read.csv('train.csv')"
   ]
  },
  {
   "cell_type": "code",
   "execution_count": 2,
   "metadata": {},
   "outputs": [
    {
     "data": {
      "text/html": [
       "<table>\n",
       "<thead><tr><th scope=col>PassengerId</th><th scope=col>Survived</th><th scope=col>Pclass</th><th scope=col>Name</th><th scope=col>Sex</th><th scope=col>Age</th><th scope=col>SibSp</th><th scope=col>Parch</th><th scope=col>Ticket</th><th scope=col>Fare</th><th scope=col>Cabin</th><th scope=col>Embarked</th></tr></thead>\n",
       "<tbody>\n",
       "\t<tr><td>1                                                  </td><td>0                                                  </td><td>3                                                  </td><td>Braund, Mr. Owen Harris                            </td><td>male                                               </td><td>22                                                 </td><td>1                                                  </td><td>0                                                  </td><td>A/5 21171                                          </td><td> 7.2500                                            </td><td>                                                   </td><td>S                                                  </td></tr>\n",
       "\t<tr><td>2                                                  </td><td>1                                                  </td><td>1                                                  </td><td>Cumings, Mrs. John Bradley (Florence Briggs Thayer)</td><td>female                                             </td><td>38                                                 </td><td>1                                                  </td><td>0                                                  </td><td>PC 17599                                           </td><td>71.2833                                            </td><td>C85                                                </td><td>C                                                  </td></tr>\n",
       "\t<tr><td>3                                                  </td><td>1                                                  </td><td>3                                                  </td><td>Heikkinen, Miss. Laina                             </td><td>female                                             </td><td>26                                                 </td><td>0                                                  </td><td>0                                                  </td><td>STON/O2. 3101282                                   </td><td> 7.9250                                            </td><td>                                                   </td><td>S                                                  </td></tr>\n",
       "\t<tr><td>4                                                  </td><td>1                                                  </td><td>1                                                  </td><td>Futrelle, Mrs. Jacques Heath (Lily May Peel)       </td><td>female                                             </td><td>35                                                 </td><td>1                                                  </td><td>0                                                  </td><td>113803                                             </td><td>53.1000                                            </td><td>C123                                               </td><td>S                                                  </td></tr>\n",
       "\t<tr><td>5                                                  </td><td>0                                                  </td><td>3                                                  </td><td>Allen, Mr. William Henry                           </td><td>male                                               </td><td>35                                                 </td><td>0                                                  </td><td>0                                                  </td><td>373450                                             </td><td> 8.0500                                            </td><td>                                                   </td><td>S                                                  </td></tr>\n",
       "\t<tr><td>6                                                  </td><td>0                                                  </td><td>3                                                  </td><td>Moran, Mr. James                                   </td><td>male                                               </td><td>NA                                                 </td><td>0                                                  </td><td>0                                                  </td><td>330877                                             </td><td> 8.4583                                            </td><td>                                                   </td><td>Q                                                  </td></tr>\n",
       "</tbody>\n",
       "</table>\n"
      ],
      "text/latex": [
       "\\begin{tabular}{r|llllllllllll}\n",
       " PassengerId & Survived & Pclass & Name & Sex & Age & SibSp & Parch & Ticket & Fare & Cabin & Embarked\\\\\n",
       "\\hline\n",
       "\t 1                                                   & 0                                                   & 3                                                   & Braund, Mr. Owen Harris                             & male                                                & 22                                                  & 1                                                   & 0                                                   & A/5 21171                                           &  7.2500                                             &                                                     & S                                                  \\\\\n",
       "\t 2                                                   & 1                                                   & 1                                                   & Cumings, Mrs. John Bradley (Florence Briggs Thayer) & female                                              & 38                                                  & 1                                                   & 0                                                   & PC 17599                                            & 71.2833                                             & C85                                                 & C                                                  \\\\\n",
       "\t 3                                                   & 1                                                   & 3                                                   & Heikkinen, Miss. Laina                              & female                                              & 26                                                  & 0                                                   & 0                                                   & STON/O2. 3101282                                    &  7.9250                                             &                                                     & S                                                  \\\\\n",
       "\t 4                                                   & 1                                                   & 1                                                   & Futrelle, Mrs. Jacques Heath (Lily May Peel)        & female                                              & 35                                                  & 1                                                   & 0                                                   & 113803                                              & 53.1000                                             & C123                                                & S                                                  \\\\\n",
       "\t 5                                                   & 0                                                   & 3                                                   & Allen, Mr. William Henry                            & male                                                & 35                                                  & 0                                                   & 0                                                   & 373450                                              &  8.0500                                             &                                                     & S                                                  \\\\\n",
       "\t 6                                                   & 0                                                   & 3                                                   & Moran, Mr. James                                    & male                                                & NA                                                  & 0                                                   & 0                                                   & 330877                                              &  8.4583                                             &                                                     & Q                                                  \\\\\n",
       "\\end{tabular}\n"
      ],
      "text/markdown": [
       "\n",
       "PassengerId | Survived | Pclass | Name | Sex | Age | SibSp | Parch | Ticket | Fare | Cabin | Embarked | \n",
       "|---|---|---|---|---|---|\n",
       "| 1                                                   | 0                                                   | 3                                                   | Braund, Mr. Owen Harris                             | male                                                | 22                                                  | 1                                                   | 0                                                   | A/5 21171                                           |  7.2500                                             |                                                     | S                                                   | \n",
       "| 2                                                   | 1                                                   | 1                                                   | Cumings, Mrs. John Bradley (Florence Briggs Thayer) | female                                              | 38                                                  | 1                                                   | 0                                                   | PC 17599                                            | 71.2833                                             | C85                                                 | C                                                   | \n",
       "| 3                                                   | 1                                                   | 3                                                   | Heikkinen, Miss. Laina                              | female                                              | 26                                                  | 0                                                   | 0                                                   | STON/O2. 3101282                                    |  7.9250                                             |                                                     | S                                                   | \n",
       "| 4                                                   | 1                                                   | 1                                                   | Futrelle, Mrs. Jacques Heath (Lily May Peel)        | female                                              | 35                                                  | 1                                                   | 0                                                   | 113803                                              | 53.1000                                             | C123                                                | S                                                   | \n",
       "| 5                                                   | 0                                                   | 3                                                   | Allen, Mr. William Henry                            | male                                                | 35                                                  | 0                                                   | 0                                                   | 373450                                              |  8.0500                                             |                                                     | S                                                   | \n",
       "| 6                                                   | 0                                                   | 3                                                   | Moran, Mr. James                                    | male                                                | NA                                                  | 0                                                   | 0                                                   | 330877                                              |  8.4583                                             |                                                     | Q                                                   | \n",
       "\n",
       "\n"
      ],
      "text/plain": [
       "  PassengerId Survived Pclass\n",
       "1 1           0        3     \n",
       "2 2           1        1     \n",
       "3 3           1        3     \n",
       "4 4           1        1     \n",
       "5 5           0        3     \n",
       "6 6           0        3     \n",
       "  Name                                                Sex    Age SibSp Parch\n",
       "1 Braund, Mr. Owen Harris                             male   22  1     0    \n",
       "2 Cumings, Mrs. John Bradley (Florence Briggs Thayer) female 38  1     0    \n",
       "3 Heikkinen, Miss. Laina                              female 26  0     0    \n",
       "4 Futrelle, Mrs. Jacques Heath (Lily May Peel)        female 35  1     0    \n",
       "5 Allen, Mr. William Henry                            male   35  0     0    \n",
       "6 Moran, Mr. James                                    male   NA  0     0    \n",
       "  Ticket           Fare    Cabin Embarked\n",
       "1 A/5 21171         7.2500       S       \n",
       "2 PC 17599         71.2833 C85   C       \n",
       "3 STON/O2. 3101282  7.9250       S       \n",
       "4 113803           53.1000 C123  S       \n",
       "5 373450            8.0500       S       \n",
       "6 330877            8.4583       Q       "
      ]
     },
     "metadata": {},
     "output_type": "display_data"
    }
   ],
   "source": [
    "head(titanic)"
   ]
  },
  {
   "cell_type": "code",
   "execution_count": 22,
   "metadata": {},
   "outputs": [],
   "source": [
    "titanic <- read.csv('train.csv') # csv파일 불러오기\n",
    "s <- table(titanic$Survived) #survived만 벡터로 저장"
   ]
  },
  {
   "cell_type": "code",
   "execution_count": 23,
   "metadata": {},
   "outputs": [],
   "source": [
    "n <- length(titanic$Survived) # survived의 수를 n에 저장 "
   ]
  },
  {
   "cell_type": "code",
   "execution_count": 30,
   "metadata": {},
   "outputs": [],
   "source": [
    "s5 <- table(sample(titanic$Survived, n/20 , replace = F)) # survived에서 5%만 표본추출 후 테이블에 저장"
   ]
  },
  {
   "cell_type": "code",
   "execution_count": 25,
   "metadata": {},
   "outputs": [],
   "source": [
    "s10 <- table(sample(titanic$Survived, n/10, replace = F)) # survive에서 10%만 표본추출 후 테이블에 저장"
   ]
  },
  {
   "cell_type": "code",
   "execution_count": 26,
   "metadata": {},
   "outputs": [],
   "source": [
    "s50 <- table(sample(titanic$Survived, n/2, replace = F)) # survived에서 50%만 표본추출 후 테이블에 저장"
   ]
  },
  {
   "cell_type": "code",
   "execution_count": 33,
   "metadata": {},
   "outputs": [],
   "source": [
    "rate <- function(x){ # 함수로 생존자/sum(생존자,사망자) 구현 \n",
    "    x[2]/sum(x)\n",
    "}"
   ]
  },
  {
   "cell_type": "code",
   "execution_count": 34,
   "metadata": {},
   "outputs": [
    {
     "data": {
      "text/html": [
       "<strong>1:</strong> 0.383838383838384"
      ],
      "text/latex": [
       "\\textbf{1:} 0.383838383838384"
      ],
      "text/markdown": [
       "**1:** 0.383838383838384"
      ],
      "text/plain": [
       "        1 \n",
       "0.3838384 "
      ]
     },
     "metadata": {},
     "output_type": "display_data"
    },
    {
     "data": {
      "text/html": [
       "<strong>1:</strong> 0.431818181818182"
      ],
      "text/latex": [
       "\\textbf{1:} 0.431818181818182"
      ],
      "text/markdown": [
       "**1:** 0.431818181818182"
      ],
      "text/plain": [
       "        1 \n",
       "0.4318182 "
      ]
     },
     "metadata": {},
     "output_type": "display_data"
    },
    {
     "data": {
      "text/html": [
       "<strong>1:</strong> 0.393258426966292"
      ],
      "text/latex": [
       "\\textbf{1:} 0.393258426966292"
      ],
      "text/markdown": [
       "**1:** 0.393258426966292"
      ],
      "text/plain": [
       "        1 \n",
       "0.3932584 "
      ]
     },
     "metadata": {},
     "output_type": "display_data"
    },
    {
     "data": {
      "text/html": [
       "<strong>1:</strong> 0.364044943820225"
      ],
      "text/latex": [
       "\\textbf{1:} 0.364044943820225"
      ],
      "text/markdown": [
       "**1:** 0.364044943820225"
      ],
      "text/plain": [
       "        1 \n",
       "0.3640449 "
      ]
     },
     "metadata": {},
     "output_type": "display_data"
    }
   ],
   "source": [
    "rate(s) # 전체 데이터의 생존율\n",
    "rate(s5) # 5% 표본추출한 데이터의 생존율\n",
    "rate(s10) # 10% 표본추출한 데이터의 생존율\n",
    "rate(s50) # 50% 표본추출한 데이터의 생존율"
   ]
  },
  {
   "cell_type": "code",
   "execution_count": 42,
   "metadata": {},
   "outputs": [
    {
     "name": "stdout",
     "output_type": "stream",
     "text": [
      "38.38 %\n",
      "34.09 %\n",
      "37.08 %\n",
      "36.63 %\n"
     ]
    }
   ],
   "source": [
    "cat(round(342/(549+342),4)*100,\"%\")\n",
    "cat('\\n')\n",
    "cat(round(15/(30+14),4) *100,\"%\")\n",
    "cat('\\n')\n",
    "cat(round(33/(56+33),4) * 100,\"%\")\n",
    "cat('\\n')\n",
    "cat(round(163/(279+166),4) * 100,\"%\")\n",
    "cat('\\n')"
   ]
  },
  {
   "cell_type": "markdown",
   "metadata": {},
   "source": [
    "#### 독립성 검정 \n",
    "> - 두 변수 사이에 상관관계가 있는지를 살펴본다. \n",
    "> - 성별과 운동량의 차이를 기록한 MASS::survey 데이터를 본다. "
   ]
  },
  {
   "cell_type": "code",
   "execution_count": 45,
   "metadata": {},
   "outputs": [
    {
     "data": {
      "text/html": [
       "<table>\n",
       "<thead><tr><th scope=col>Sex</th><th scope=col>Wr.Hnd</th><th scope=col>NW.Hnd</th><th scope=col>W.Hnd</th><th scope=col>Fold</th><th scope=col>Pulse</th><th scope=col>Clap</th><th scope=col>Exer</th><th scope=col>Smoke</th><th scope=col>Height</th><th scope=col>M.I</th><th scope=col>Age</th></tr></thead>\n",
       "<tbody>\n",
       "\t<tr><td>Female  </td><td>18.5    </td><td>18.0    </td><td>Right   </td><td>R on L  </td><td> 92     </td><td>Left    </td><td>Some    </td><td>Never   </td><td>173.00  </td><td>Metric  </td><td>18.250  </td></tr>\n",
       "\t<tr><td>Male    </td><td>19.5    </td><td>20.5    </td><td>Left    </td><td>R on L  </td><td>104     </td><td>Left    </td><td>None    </td><td>Regul   </td><td>177.80  </td><td>Imperial</td><td>17.583  </td></tr>\n",
       "\t<tr><td>Male    </td><td>18.0    </td><td>13.3    </td><td>Right   </td><td>L on R  </td><td> 87     </td><td>Neither </td><td>None    </td><td>Occas   </td><td>    NA  </td><td>NA      </td><td>16.917  </td></tr>\n",
       "\t<tr><td>Male    </td><td>18.8    </td><td>18.9    </td><td>Right   </td><td>R on L  </td><td> NA     </td><td>Neither </td><td>None    </td><td>Never   </td><td>160.00  </td><td>Metric  </td><td>20.333  </td></tr>\n",
       "\t<tr><td>Male    </td><td>20.0    </td><td>20.0    </td><td>Right   </td><td>Neither </td><td> 35     </td><td>Right   </td><td>Some    </td><td>Never   </td><td>165.00  </td><td>Metric  </td><td>23.667  </td></tr>\n",
       "\t<tr><td>Female  </td><td>18.0    </td><td>17.7    </td><td>Right   </td><td>L on R  </td><td> 64     </td><td>Right   </td><td>Some    </td><td>Never   </td><td>172.72  </td><td>Imperial</td><td>21.000  </td></tr>\n",
       "</tbody>\n",
       "</table>\n"
      ],
      "text/latex": [
       "\\begin{tabular}{r|llllllllllll}\n",
       " Sex & Wr.Hnd & NW.Hnd & W.Hnd & Fold & Pulse & Clap & Exer & Smoke & Height & M.I & Age\\\\\n",
       "\\hline\n",
       "\t Female   & 18.5     & 18.0     & Right    & R on L   &  92      & Left     & Some     & Never    & 173.00   & Metric   & 18.250  \\\\\n",
       "\t Male     & 19.5     & 20.5     & Left     & R on L   & 104      & Left     & None     & Regul    & 177.80   & Imperial & 17.583  \\\\\n",
       "\t Male     & 18.0     & 13.3     & Right    & L on R   &  87      & Neither  & None     & Occas    &     NA   & NA       & 16.917  \\\\\n",
       "\t Male     & 18.8     & 18.9     & Right    & R on L   &  NA      & Neither  & None     & Never    & 160.00   & Metric   & 20.333  \\\\\n",
       "\t Male     & 20.0     & 20.0     & Right    & Neither  &  35      & Right    & Some     & Never    & 165.00   & Metric   & 23.667  \\\\\n",
       "\t Female   & 18.0     & 17.7     & Right    & L on R   &  64      & Right    & Some     & Never    & 172.72   & Imperial & 21.000  \\\\\n",
       "\\end{tabular}\n"
      ],
      "text/markdown": [
       "\n",
       "Sex | Wr.Hnd | NW.Hnd | W.Hnd | Fold | Pulse | Clap | Exer | Smoke | Height | M.I | Age | \n",
       "|---|---|---|---|---|---|\n",
       "| Female   | 18.5     | 18.0     | Right    | R on L   |  92      | Left     | Some     | Never    | 173.00   | Metric   | 18.250   | \n",
       "| Male     | 19.5     | 20.5     | Left     | R on L   | 104      | Left     | None     | Regul    | 177.80   | Imperial | 17.583   | \n",
       "| Male     | 18.0     | 13.3     | Right    | L on R   |  87      | Neither  | None     | Occas    |     NA   | NA       | 16.917   | \n",
       "| Male     | 18.8     | 18.9     | Right    | R on L   |  NA      | Neither  | None     | Never    | 160.00   | Metric   | 20.333   | \n",
       "| Male     | 20.0     | 20.0     | Right    | Neither  |  35      | Right    | Some     | Never    | 165.00   | Metric   | 23.667   | \n",
       "| Female   | 18.0     | 17.7     | Right    | L on R   |  64      | Right    | Some     | Never    | 172.72   | Imperial | 21.000   | \n",
       "\n",
       "\n"
      ],
      "text/plain": [
       "  Sex    Wr.Hnd NW.Hnd W.Hnd Fold    Pulse Clap    Exer Smoke Height M.I     \n",
       "1 Female 18.5   18.0   Right R on L   92   Left    Some Never 173.00 Metric  \n",
       "2 Male   19.5   20.5   Left  R on L  104   Left    None Regul 177.80 Imperial\n",
       "3 Male   18.0   13.3   Right L on R   87   Neither None Occas     NA NA      \n",
       "4 Male   18.8   18.9   Right R on L   NA   Neither None Never 160.00 Metric  \n",
       "5 Male   20.0   20.0   Right Neither  35   Right   Some Never 165.00 Metric  \n",
       "6 Female 18.0   17.7   Right L on R   64   Right   Some Never 172.72 Imperial\n",
       "  Age   \n",
       "1 18.250\n",
       "2 17.583\n",
       "3 16.917\n",
       "4 20.333\n",
       "5 23.667\n",
       "6 21.000"
      ]
     },
     "metadata": {},
     "output_type": "display_data"
    }
   ],
   "source": [
    "library(MASS)\n",
    "data('survey')\n",
    "head(survey)"
   ]
  },
  {
   "cell_type": "code",
   "execution_count": 50,
   "metadata": {},
   "outputs": [
    {
     "name": "stdout",
     "output_type": "stream",
     "text": [
      "'data.frame':\t237 obs. of  12 variables:\n",
      " $ Sex   : Factor w/ 2 levels \"Female\",\"Male\": 1 2 2 2 2 1 2 1 2 2 ...\n",
      " $ Wr.Hnd: num  18.5 19.5 18 18.8 20 18 17.7 17 20 18.5 ...\n",
      " $ NW.Hnd: num  18 20.5 13.3 18.9 20 17.7 17.7 17.3 19.5 18.5 ...\n",
      " $ W.Hnd : Factor w/ 2 levels \"Left\",\"Right\": 2 1 2 2 2 2 2 2 2 2 ...\n",
      " $ Fold  : Factor w/ 3 levels \"L on R\",\"Neither\",..: 3 3 1 3 2 1 1 3 3 3 ...\n",
      " $ Pulse : int  92 104 87 NA 35 64 83 74 72 90 ...\n",
      " $ Clap  : Factor w/ 3 levels \"Left\",\"Neither\",..: 1 1 2 2 3 3 3 3 3 3 ...\n",
      " $ Exer  : Factor w/ 3 levels \"Freq\",\"None\",..: 3 2 2 2 3 3 1 1 3 3 ...\n",
      " $ Smoke : Factor w/ 4 levels \"Heavy\",\"Never\",..: 2 4 3 2 2 2 2 2 2 2 ...\n",
      " $ Height: num  173 178 NA 160 165 ...\n",
      " $ M.I   : Factor w/ 2 levels \"Imperial\",\"Metric\": 2 1 NA 2 2 1 1 2 2 2 ...\n",
      " $ Age   : num  18.2 17.6 16.9 20.3 23.7 ...\n"
     ]
    }
   ],
   "source": [
    "str(survey)"
   ]
  },
  {
   "cell_type": "code",
   "execution_count": 47,
   "metadata": {},
   "outputs": [],
   "source": [
    "xt <- xtabs(~Sex + Exer, data = survey)"
   ]
  },
  {
   "cell_type": "code",
   "execution_count": 49,
   "metadata": {},
   "outputs": [
    {
     "data": {
      "text/plain": [
       "\n",
       "\tPearson's Chi-squared test\n",
       "\n",
       "data:  xt\n",
       "X-squared = 5.7184, df = 2, p-value = 0.05731\n"
      ]
     },
     "metadata": {},
     "output_type": "display_data"
    }
   ],
   "source": [
    "chisq.test(xt)\n",
    "## 둘 사이의 상호 연관성이 없다. "
   ]
  },
  {
   "cell_type": "markdown",
   "metadata": {},
   "source": [
    "#### 피셔의 정확 검정 \n",
    "> - 표본수가 적거나, 표본이 한쪽에 치우치게 분포되어 있을때 사용한다. \n",
    "> - 카이제곱 검정이 부정확한 경우에 사용한다. "
   ]
  },
  {
   "cell_type": "code",
   "execution_count": 52,
   "metadata": {},
   "outputs": [
    {
     "name": "stderr",
     "output_type": "stream",
     "text": [
      "Warning message in chisq.test(xt):\n",
      "\"Chi-squared approximation may be incorrect\""
     ]
    },
    {
     "data": {
      "text/plain": [
       "\n",
       "\tPearson's Chi-squared test\n",
       "\n",
       "data:  xt\n",
       "X-squared = 19.252, df = 2, p-value = 6.598e-05\n"
      ]
     },
     "metadata": {},
     "output_type": "display_data"
    },
    {
     "data": {
      "text/plain": [
       "\n",
       "\tFisher's Exact Test for Count Data\n",
       "\n",
       "data:  xt\n",
       "p-value = 0.0001413\n",
       "alternative hypothesis: two.sided\n"
      ]
     },
     "metadata": {},
     "output_type": "display_data"
    }
   ],
   "source": [
    "xt <- xtabs(~W.Hnd + Clap, data = survey)\n",
    "chisq.test(xt)\n",
    "fisher.test(xt)"
   ]
  },
  {
   "cell_type": "markdown",
   "metadata": {},
   "source": [
    "#### 맥니마 검정\n",
    "> - 어떤 사건의 전후로 응답자의 성향 등을 조사할 때 사용한다.  \n",
    "> - TV 유세 후 지지율의 변화, 안전벨트 단속 전후 교통사고 비교 등이 예이다.  "
   ]
  },
  {
   "cell_type": "code",
   "execution_count": 54,
   "metadata": {},
   "outputs": [
    {
     "data": {
      "text/plain": [
       "\n",
       "\tMcNemar's Chi-squared test with continuity correction\n",
       "\n",
       "data:  Performance\n",
       "McNemar's chi-squared = 16.818, df = 1, p-value = 4.115e-05\n"
      ]
     },
     "metadata": {},
     "output_type": "display_data"
    }
   ],
   "source": [
    "Performance <- matrix(c(794,86,150,570),\n",
    "                     nrow = 2,\n",
    "                     dimnames = list(\"1st Survey\" = c(\"Approve\",\"Disapprove\"),\n",
    "                                    '2nd Survey' = c(\"Approve\",'Disapprove')))\n",
    "mcnemar.test(Performance)"
   ]
  },
  {
   "cell_type": "code",
   "execution_count": null,
   "metadata": {},
   "outputs": [],
   "source": [
    "#### 샤피로 월크 검정\n",
    "> - 표본이 정규분포로부터 추출된 것인지 살펴본다. "
   ]
  },
  {
   "cell_type": "code",
   "execution_count": 57,
   "metadata": {},
   "outputs": [
    {
     "data": {
      "text/plain": [
       "\n",
       "\tShapiro-Wilk normality test\n",
       "\n",
       "data:  x\n",
       "W = 0.99865, p-value = 0.6531\n"
      ]
     },
     "metadata": {},
     "output_type": "display_data"
    }
   ],
   "source": [
    "x <- rnorm(1000)\n",
    "shapiro.test(x)"
   ]
  },
  {
   "cell_type": "code",
   "execution_count": 58,
   "metadata": {},
   "outputs": [
    {
     "data": {
      "text/plain": [
       "\n",
       "\tTwo-sample Kolmogorov-Smirnov test\n",
       "\n",
       "data:  rnorm(100) and rnorm(90)\n",
       "D = 0.098889, p-value = 0.6982\n",
       "alternative hypothesis: two-sided\n"
      ]
     },
     "metadata": {},
     "output_type": "display_data"
    }
   ],
   "source": [
    "ks.test(rnorm(100),rnorm(90))"
   ]
  },
  {
   "cell_type": "code",
   "execution_count": null,
   "metadata": {},
   "outputs": [],
   "source": []
  },
  {
   "cell_type": "markdown",
   "metadata": {},
   "source": [
    "#### 연습 1 \n",
    "> - Factor인 성별(Sex),좌석등급(Pclass)와의 독립성을 검정하기 위해서는 생존여부(Survived)를 Factor로 변환하여야 한다.   "
   ]
  },
  {
   "cell_type": "code",
   "execution_count": 60,
   "metadata": {},
   "outputs": [],
   "source": [
    "titanic$Survived <- as.factor(titanic$Survived)"
   ]
  },
  {
   "cell_type": "code",
   "execution_count": 62,
   "metadata": {},
   "outputs": [
    {
     "data": {
      "text/plain": [
       "\n",
       "\tPearson's Chi-squared test with Yates' continuity correction\n",
       "\n",
       "data:  xt\n",
       "X-squared = 260.72, df = 1, p-value < 2.2e-16\n"
      ]
     },
     "metadata": {},
     "output_type": "display_data"
    }
   ],
   "source": [
    "xt <- xtabs(~Sex + Survived, data = titanic)\n",
    "chisq.test(xt)\n",
    "# 귀무가설 기각 성별에 따라 생존율은 차이가 존재 \n"
   ]
  },
  {
   "cell_type": "code",
   "execution_count": 63,
   "metadata": {},
   "outputs": [
    {
     "data": {
      "text/plain": [
       "\n",
       "\tPearson's Chi-squared test\n",
       "\n",
       "data:  xt\n",
       "X-squared = 102.89, df = 2, p-value < 2.2e-16\n"
      ]
     },
     "metadata": {},
     "output_type": "display_data"
    }
   ],
   "source": [
    "xt <- xtabs(~Pclass + Survived, data = titanic)\n",
    "chisq.test(xt)\n",
    "# 귀무가설 기각 좌석 등급간 생존여부의 차이가 있다고 할 수 있다. "
   ]
  },
  {
   "cell_type": "code",
   "execution_count": 4,
   "metadata": {},
   "outputs": [],
   "source": [
    "titanic <- read.csv('train.csv')"
   ]
  },
  {
   "cell_type": "code",
   "execution_count": null,
   "metadata": {},
   "outputs": [
    {
     "name": "stderr",
     "output_type": "stream",
     "text": [
      "Warning message in chisq.test(xt):\n",
      "\"Chi-squared approximation may be incorrect\""
     ]
    },
    {
     "data": {
      "text/plain": [
       "\n",
       "\tPearson's Chi-squared test\n",
       "\n",
       "data:  xt\n",
       "X-squared = 891, df = 890, p-value = 0.4842\n"
      ]
     },
     "metadata": {},
     "output_type": "display_data"
    }
   ],
   "source": [
    "xt <- xtabs(~Name + Survived, data = titanic)\n",
    "chisq.test(xt)\n",
    "fisher.test(xt,workspace = 1e+06, hybrid = TRUE)\n",
    "# 귀무가설 채택 이름과 생존여부는 차이가 있다고 보기 어렵다. "
   ]
  },
  {
   "cell_type": "markdown",
   "metadata": {},
   "source": [
    "#### 연습 2\n",
    "> - 60명의 대상자에 대해 A,B 그룹별로 대장암에 걸렸는지 검사한 결과는 아래와 같다. 그룹과 대장암 발생 여부 사이의 관련성을 검증하시오 (p.323) \n"
   ]
  },
  {
   "cell_type": "markdown",
   "metadata": {},
   "source": [
    "## 상관분석"
   ]
  },
  {
   "cell_type": "markdown",
   "metadata": {},
   "source": [
    "#### 상관계수\n",
    "> - 상관 분석은 두 변수 사이의 관련성을 파악하는 방법이다. \n",
    "> - 대표적으로는 피어슨 상관계수로 상관분석을 한다. \n",
    "\n",
    "> - 피어슨 상관 계수는 한 변수가 커질때 다른 변수가 함께 커지는 공분산을 표준편차로 나눈 값을 사용한다. \n",
    "> - 값은 -1 ~ 1 사이를 갖게 된다. \n",
    "\n",
    "> - 0보다 큰 상관 계수는 변수 A가 커지면 변수 B도 커지는 것을 0보다 작은 상관 계수는 A가 커지면 B는 작아지는 것을 의미 \n",
    "> - 만약 상관계수가 0이라면 상관관계가 없음을 의미 "
   ]
  },
  {
   "cell_type": "code",
   "execution_count": 35,
   "metadata": {},
   "outputs": [
    {
     "data": {
      "text/html": [
       "-0.117569784133002"
      ],
      "text/latex": [
       "-0.117569784133002"
      ],
      "text/markdown": [
       "-0.117569784133002"
      ],
      "text/plain": [
       "[1] -0.1175698"
      ]
     },
     "metadata": {},
     "output_type": "display_data"
    }
   ],
   "source": [
    "cor(iris$Sepal.Width, iris$Sepal.Length)"
   ]
  },
  {
   "cell_type": "code",
   "execution_count": null,
   "metadata": {},
   "outputs": [],
   "source": [
    "#### 피어슨 상관계수 \n",
    "> - 두 확률 변수 사이의 선형적 상관관계 측정\n",
    "> - 상관계수 중 가장 대표적인 방법\n",
    "> - 상관계수 값이 크면 데이터 간의 관계가 존재한다는 의미 "
   ]
  },
  {
   "cell_type": "code",
   "execution_count": 36,
   "metadata": {},
   "outputs": [
    {
     "data": {
      "text/html": [
       "0.876943976241028"
      ],
      "text/latex": [
       "0.876943976241028"
      ],
      "text/markdown": [
       "0.876943976241028"
      ],
      "text/plain": [
       "[1] 0.876944"
      ]
     },
     "metadata": {},
     "output_type": "display_data"
    }
   ],
   "source": [
    "x1<-c(1,3,6,8,10)\n",
    "x2<-c(-2,3,8,5,9)\n",
    "cor(x1,x2)"
   ]
  },
  {
   "cell_type": "code",
   "execution_count": 5,
   "metadata": {},
   "outputs": [
    {
     "data": {
      "text/html": [
       "<table>\n",
       "<thead><tr><th scope=col>Sepal.Length</th><th scope=col>Sepal.Width</th><th scope=col>Petal.Length</th><th scope=col>Petal.Width</th></tr></thead>\n",
       "<tbody>\n",
       "\t<tr><td>5.1</td><td>3.5</td><td>1.4</td><td>0.2</td></tr>\n",
       "\t<tr><td>4.9</td><td>3.0</td><td>1.4</td><td>0.2</td></tr>\n",
       "\t<tr><td>4.7</td><td>3.2</td><td>1.3</td><td>0.2</td></tr>\n",
       "\t<tr><td>4.6</td><td>3.1</td><td>1.5</td><td>0.2</td></tr>\n",
       "\t<tr><td>5.0</td><td>3.6</td><td>1.4</td><td>0.2</td></tr>\n",
       "\t<tr><td>5.4</td><td>3.9</td><td>1.7</td><td>0.4</td></tr>\n",
       "</tbody>\n",
       "</table>\n"
      ],
      "text/latex": [
       "\\begin{tabular}{r|llll}\n",
       " Sepal.Length & Sepal.Width & Petal.Length & Petal.Width\\\\\n",
       "\\hline\n",
       "\t 5.1 & 3.5 & 1.4 & 0.2\\\\\n",
       "\t 4.9 & 3.0 & 1.4 & 0.2\\\\\n",
       "\t 4.7 & 3.2 & 1.3 & 0.2\\\\\n",
       "\t 4.6 & 3.1 & 1.5 & 0.2\\\\\n",
       "\t 5.0 & 3.6 & 1.4 & 0.2\\\\\n",
       "\t 5.4 & 3.9 & 1.7 & 0.4\\\\\n",
       "\\end{tabular}\n"
      ],
      "text/markdown": [
       "\n",
       "Sepal.Length | Sepal.Width | Petal.Length | Petal.Width | \n",
       "|---|---|---|---|---|---|\n",
       "| 5.1 | 3.5 | 1.4 | 0.2 | \n",
       "| 4.9 | 3.0 | 1.4 | 0.2 | \n",
       "| 4.7 | 3.2 | 1.3 | 0.2 | \n",
       "| 4.6 | 3.1 | 1.5 | 0.2 | \n",
       "| 5.0 | 3.6 | 1.4 | 0.2 | \n",
       "| 5.4 | 3.9 | 1.7 | 0.4 | \n",
       "\n",
       "\n"
      ],
      "text/plain": [
       "  Sepal.Length Sepal.Width Petal.Length Petal.Width\n",
       "1 5.1          3.5         1.4          0.2        \n",
       "2 4.9          3.0         1.4          0.2        \n",
       "3 4.7          3.2         1.3          0.2        \n",
       "4 4.6          3.1         1.5          0.2        \n",
       "5 5.0          3.6         1.4          0.2        \n",
       "6 5.4          3.9         1.7          0.4        "
      ]
     },
     "metadata": {},
     "output_type": "display_data"
    },
    {
     "data": {
      "text/html": [
       "<table>\n",
       "<thead><tr><th></th><th scope=col>Sepal.Length</th><th scope=col>Sepal.Width</th><th scope=col>Petal.Length</th><th scope=col>Petal.Width</th></tr></thead>\n",
       "<tbody>\n",
       "\t<tr><th scope=row>Sepal.Length</th><td> 1.0000000</td><td>-0.1175698</td><td> 0.8717538</td><td> 0.8179411</td></tr>\n",
       "\t<tr><th scope=row>Sepal.Width</th><td>-0.1175698</td><td> 1.0000000</td><td>-0.4284401</td><td>-0.3661259</td></tr>\n",
       "\t<tr><th scope=row>Petal.Length</th><td> 0.8717538</td><td>-0.4284401</td><td> 1.0000000</td><td> 0.9628654</td></tr>\n",
       "\t<tr><th scope=row>Petal.Width</th><td> 0.8179411</td><td>-0.3661259</td><td> 0.9628654</td><td> 1.0000000</td></tr>\n",
       "</tbody>\n",
       "</table>\n"
      ],
      "text/latex": [
       "\\begin{tabular}{r|llll}\n",
       "  & Sepal.Length & Sepal.Width & Petal.Length & Petal.Width\\\\\n",
       "\\hline\n",
       "\tSepal.Length &  1.0000000 & -0.1175698 &  0.8717538 &  0.8179411\\\\\n",
       "\tSepal.Width & -0.1175698 &  1.0000000 & -0.4284401 & -0.3661259\\\\\n",
       "\tPetal.Length &  0.8717538 & -0.4284401 &  1.0000000 &  0.9628654\\\\\n",
       "\tPetal.Width &  0.8179411 & -0.3661259 &  0.9628654 &  1.0000000\\\\\n",
       "\\end{tabular}\n"
      ],
      "text/markdown": [
       "\n",
       "| <!--/--> | Sepal.Length | Sepal.Width | Petal.Length | Petal.Width | \n",
       "|---|---|---|---|\n",
       "| Sepal.Length |  1.0000000 | -0.1175698 |  0.8717538 |  0.8179411 | \n",
       "| Sepal.Width | -0.1175698 |  1.0000000 | -0.4284401 | -0.3661259 | \n",
       "| Petal.Length |  0.8717538 | -0.4284401 |  1.0000000 |  0.9628654 | \n",
       "| Petal.Width |  0.8179411 | -0.3661259 |  0.9628654 |  1.0000000 | \n",
       "\n",
       "\n"
      ],
      "text/plain": [
       "             Sepal.Length Sepal.Width Petal.Length Petal.Width\n",
       "Sepal.Length  1.0000000   -0.1175698   0.8717538    0.8179411 \n",
       "Sepal.Width  -0.1175698    1.0000000  -0.4284401   -0.3661259 \n",
       "Petal.Length  0.8717538   -0.4284401   1.0000000    0.9628654 \n",
       "Petal.Width   0.8179411   -0.3661259   0.9628654    1.0000000 "
      ]
     },
     "metadata": {},
     "output_type": "display_data"
    },
    {
     "data": {
      "text/plain": [
       "             S.L S.W P.L P.W\n",
       "Sepal.Length 1              \n",
       "Sepal.Width      1          \n",
       "Petal.Length +   .   1      \n",
       "Petal.Width  +   .   B   1  \n",
       "attr(,\"legend\")\n",
       "[1] 0 ' ' 0.3 '.' 0.6 ',' 0.8 '+' 0.9 '*' 0.95 'B' 1"
      ]
     },
     "metadata": {},
     "output_type": "display_data"
    }
   ],
   "source": [
    "x <- iris[,1:4]\n",
    "head(x)\n",
    "cor(x)\n",
    "symnum(cor(x))"
   ]
  },
  {
   "cell_type": "code",
   "execution_count": 3,
   "metadata": {},
   "outputs": [],
   "source": [
    "library(corrgram)"
   ]
  },
  {
   "cell_type": "code",
   "execution_count": 6,
   "metadata": {},
   "outputs": [
    {
     "data": {
      "image/png": "[encoded data removed]",
      "text/plain": [
       "plot without title"
      ]
     },
     "metadata": {},
     "output_type": "display_data"
    },
    {
     "data": {
      "image/png": "[encoded data removed]",
      "text/plain": [
       "plot without title"
      ]
     },
     "metadata": {},
     "output_type": "display_data"
    }
   ],
   "source": [
    "corrgram(x)\n",
    "corrgram(iris,upper.panel = panel.conf)"
   ]
  },
  {
   "cell_type": "markdown",
   "metadata": {},
   "source": [
    "#### 스피어만 상관계수\n",
    "> - 실제값 대신 두 값의 순위를 사용해 상관계수를 구하는 방식\n",
    "> - 비선형 상관관계도 측정가능\n",
    "> - 국어 점수와 영어 점수의 상관관계는 피어슨 상관계수로 국어 성적 석차와 영어 성적 석차의 상관계수는 스피어만 상관계수로 구한다. \n"
   ]
  },
  {
   "cell_type": "code",
   "execution_count": 9,
   "metadata": {
    "scrolled": true
   },
   "outputs": [
    {
     "data": {
      "text/html": [
       "<table>\n",
       "<tbody>\n",
       "\t<tr><td>85</td><td>88</td></tr>\n",
       "\t<tr><td>90</td><td>89</td></tr>\n",
       "\t<tr><td>87</td><td>68</td></tr>\n",
       "\t<tr><td>92</td><td>84</td></tr>\n",
       "\t<tr><td>95</td><td>91</td></tr>\n",
       "</tbody>\n",
       "</table>\n"
      ],
      "text/latex": [
       "\\begin{tabular}{ll}\n",
       "\t 85 & 88\\\\\n",
       "\t 90 & 89\\\\\n",
       "\t 87 & 68\\\\\n",
       "\t 92 & 84\\\\\n",
       "\t 95 & 91\\\\\n",
       "\\end{tabular}\n"
      ],
      "text/markdown": [
       "\n",
       "| 85 | 88 | \n",
       "| 90 | 89 | \n",
       "| 87 | 68 | \n",
       "| 92 | 84 | \n",
       "| 95 | 91 | \n",
       "\n",
       "\n"
      ],
      "text/plain": [
       "     [,1] [,2]\n",
       "[1,] 85   88  \n",
       "[2,] 90   89  \n",
       "[3,] 87   68  \n",
       "[4,] 92   84  \n",
       "[5,] 95   91  "
      ]
     },
     "metadata": {},
     "output_type": "display_data"
    },
    {
     "data": {
      "text/html": [
       "<table>\n",
       "<tbody>\n",
       "\t<tr><td>1.0</td><td>0.5</td></tr>\n",
       "\t<tr><td>0.5</td><td>1.0</td></tr>\n",
       "</tbody>\n",
       "</table>\n"
      ],
      "text/latex": [
       "\\begin{tabular}{ll}\n",
       "\t 1.0 & 0.5\\\\\n",
       "\t 0.5 & 1.0\\\\\n",
       "\\end{tabular}\n"
      ],
      "text/markdown": [
       "\n",
       "| 1.0 | 0.5 | \n",
       "| 0.5 | 1.0 | \n",
       "\n",
       "\n"
      ],
      "text/plain": [
       "     [,1] [,2]\n",
       "[1,] 1.0  0.5 \n",
       "[2,] 0.5  1.0 "
      ]
     },
     "metadata": {},
     "output_type": "display_data"
    }
   ],
   "source": [
    "\n",
    "kor <- c(85,90,87,92,95)\n",
    "eng <- c(88,89,68,84,91)\n",
    "m <- matrix(c(kor,eng),ncol = 2)\n",
    "m\n",
    "cor(m,method = \"spearman\")"
   ]
  },
  {
   "cell_type": "code",
   "execution_count": 37,
   "metadata": {},
   "outputs": [
    {
     "data": {
      "text/plain": [
       "\n",
       "\tPearson's product-moment correlation\n",
       "\n",
       "data:  x1 and x2\n",
       "t = 3.1605, df = 3, p-value = 0.05085\n",
       "alternative hypothesis: true correlation is not equal to 0\n",
       "95 percent confidence interval:\n",
       " -0.02351926  0.99183185\n",
       "sample estimates:\n",
       "     cor \n",
       "0.876944 \n"
      ]
     },
     "metadata": {},
     "output_type": "display_data"
    },
    {
     "data": {
      "text/plain": [
       "\n",
       "\tSpearman's rank correlation rho\n",
       "\n",
       "data:  x1 and x2\n",
       "S = 2, p-value = 0.08333\n",
       "alternative hypothesis: true rho is not equal to 0\n",
       "sample estimates:\n",
       "rho \n",
       "0.9 \n"
      ]
     },
     "metadata": {},
     "output_type": "display_data"
    }
   ],
   "source": [
    "# 귀무가설: 상관계수가 0 이다\n",
    "# 대립가설: 상관계수가 0 이 아니다. \n",
    "cor.test(x1,x2)\n",
    "cor.test(x1,x2,method = 'spearman')"
   ]
  },
  {
   "cell_type": "code",
   "execution_count": null,
   "metadata": {},
   "outputs": [],
   "source": [
    "#### 연습1"
   ]
  },
  {
   "cell_type": "code",
   "execution_count": 42,
   "metadata": {},
   "outputs": [],
   "source": [
    "train <- read.csv('train.csv')"
   ]
  },
  {
   "cell_type": "code",
   "execution_count": 39,
   "metadata": {
    "scrolled": true
   },
   "outputs": [
    {
     "data": {
      "text/plain": [
       "\n",
       "\tPearson's product-moment correlation\n",
       "\n",
       "data:  train$Pclass and train$Fare\n",
       "t = -19.61, df = 889, p-value < 2.2e-16\n",
       "alternative hypothesis: true correlation is not equal to 0\n",
       "95 percent confidence interval:\n",
       " -0.5937488 -0.5019370\n",
       "sample estimates:\n",
       "       cor \n",
       "-0.5494996 \n"
      ]
     },
     "metadata": {},
     "output_type": "display_data"
    }
   ],
   "source": [
    "cor.test(train$Pclass,train$Fare)"
   ]
  },
  {
   "cell_type": "code",
   "execution_count": null,
   "metadata": {},
   "outputs": [],
   "source": [
    "#### 연습2"
   ]
  },
  {
   "cell_type": "code",
   "execution_count": 46,
   "metadata": {},
   "outputs": [
    {
     "data": {
      "text/html": [
       "<table>\n",
       "<thead><tr><th scope=col>PassengerId</th><th scope=col>Survived</th><th scope=col>Pclass</th><th scope=col>Name</th><th scope=col>Sex</th><th scope=col>Age</th><th scope=col>SibSp</th><th scope=col>Parch</th><th scope=col>Ticket</th><th scope=col>Fare</th><th scope=col>Cabin</th><th scope=col>Embarked</th></tr></thead>\n",
       "<tbody>\n",
       "\t<tr><td>1                                                  </td><td>0                                                  </td><td>3                                                  </td><td>Braund, Mr. Owen Harris                            </td><td>male                                               </td><td>22                                                 </td><td>1                                                  </td><td>0                                                  </td><td>A/5 21171                                          </td><td> 7.2500                                            </td><td>                                                   </td><td>S                                                  </td></tr>\n",
       "\t<tr><td>2                                                  </td><td>1                                                  </td><td>1                                                  </td><td>Cumings, Mrs. John Bradley (Florence Briggs Thayer)</td><td>female                                             </td><td>38                                                 </td><td>1                                                  </td><td>0                                                  </td><td>PC 17599                                           </td><td>71.2833                                            </td><td>C85                                                </td><td>C                                                  </td></tr>\n",
       "\t<tr><td>3                                                  </td><td>1                                                  </td><td>3                                                  </td><td>Heikkinen, Miss. Laina                             </td><td>female                                             </td><td>26                                                 </td><td>0                                                  </td><td>0                                                  </td><td>STON/O2. 3101282                                   </td><td> 7.9250                                            </td><td>                                                   </td><td>S                                                  </td></tr>\n",
       "\t<tr><td>4                                                  </td><td>1                                                  </td><td>1                                                  </td><td>Futrelle, Mrs. Jacques Heath (Lily May Peel)       </td><td>female                                             </td><td>35                                                 </td><td>1                                                  </td><td>0                                                  </td><td>113803                                             </td><td>53.1000                                            </td><td>C123                                               </td><td>S                                                  </td></tr>\n",
       "\t<tr><td>5                                                  </td><td>0                                                  </td><td>3                                                  </td><td>Allen, Mr. William Henry                           </td><td>male                                               </td><td>35                                                 </td><td>0                                                  </td><td>0                                                  </td><td>373450                                             </td><td> 8.0500                                            </td><td>                                                   </td><td>S                                                  </td></tr>\n",
       "\t<tr><td>6                                                  </td><td>0                                                  </td><td>3                                                  </td><td>Moran, Mr. James                                   </td><td>male                                               </td><td>NA                                                 </td><td>0                                                  </td><td>0                                                  </td><td>330877                                             </td><td> 8.4583                                            </td><td>                                                   </td><td>Q                                                  </td></tr>\n",
       "</tbody>\n",
       "</table>\n"
      ],
      "text/latex": [
       "\\begin{tabular}{r|llllllllllll}\n",
       " PassengerId & Survived & Pclass & Name & Sex & Age & SibSp & Parch & Ticket & Fare & Cabin & Embarked\\\\\n",
       "\\hline\n",
       "\t 1                                                   & 0                                                   & 3                                                   & Braund, Mr. Owen Harris                             & male                                                & 22                                                  & 1                                                   & 0                                                   & A/5 21171                                           &  7.2500                                             &                                                     & S                                                  \\\\\n",
       "\t 2                                                   & 1                                                   & 1                                                   & Cumings, Mrs. John Bradley (Florence Briggs Thayer) & female                                              & 38                                                  & 1                                                   & 0                                                   & PC 17599                                            & 71.2833                                             & C85                                                 & C                                                  \\\\\n",
       "\t 3                                                   & 1                                                   & 3                                                   & Heikkinen, Miss. Laina                              & female                                              & 26                                                  & 0                                                   & 0                                                   & STON/O2. 3101282                                    &  7.9250                                             &                                                     & S                                                  \\\\\n",
       "\t 4                                                   & 1                                                   & 1                                                   & Futrelle, Mrs. Jacques Heath (Lily May Peel)        & female                                              & 35                                                  & 1                                                   & 0                                                   & 113803                                              & 53.1000                                             & C123                                                & S                                                  \\\\\n",
       "\t 5                                                   & 0                                                   & 3                                                   & Allen, Mr. William Henry                            & male                                                & 35                                                  & 0                                                   & 0                                                   & 373450                                              &  8.0500                                             &                                                     & S                                                  \\\\\n",
       "\t 6                                                   & 0                                                   & 3                                                   & Moran, Mr. James                                    & male                                                & NA                                                  & 0                                                   & 0                                                   & 330877                                              &  8.4583                                             &                                                     & Q                                                  \\\\\n",
       "\\end{tabular}\n"
      ],
      "text/markdown": [
       "\n",
       "PassengerId | Survived | Pclass | Name | Sex | Age | SibSp | Parch | Ticket | Fare | Cabin | Embarked | \n",
       "|---|---|---|---|---|---|\n",
       "| 1                                                   | 0                                                   | 3                                                   | Braund, Mr. Owen Harris                             | male                                                | 22                                                  | 1                                                   | 0                                                   | A/5 21171                                           |  7.2500                                             |                                                     | S                                                   | \n",
       "| 2                                                   | 1                                                   | 1                                                   | Cumings, Mrs. John Bradley (Florence Briggs Thayer) | female                                              | 38                                                  | 1                                                   | 0                                                   | PC 17599                                            | 71.2833                                             | C85                                                 | C                                                   | \n",
       "| 3                                                   | 1                                                   | 3                                                   | Heikkinen, Miss. Laina                              | female                                              | 26                                                  | 0                                                   | 0                                                   | STON/O2. 3101282                                    |  7.9250                                             |                                                     | S                                                   | \n",
       "| 4                                                   | 1                                                   | 1                                                   | Futrelle, Mrs. Jacques Heath (Lily May Peel)        | female                                              | 35                                                  | 1                                                   | 0                                                   | 113803                                              | 53.1000                                             | C123                                                | S                                                   | \n",
       "| 5                                                   | 0                                                   | 3                                                   | Allen, Mr. William Henry                            | male                                                | 35                                                  | 0                                                   | 0                                                   | 373450                                              |  8.0500                                             |                                                     | S                                                   | \n",
       "| 6                                                   | 0                                                   | 3                                                   | Moran, Mr. James                                    | male                                                | NA                                                  | 0                                                   | 0                                                   | 330877                                              |  8.4583                                             |                                                     | Q                                                   | \n",
       "\n",
       "\n"
      ],
      "text/plain": [
       "  PassengerId Survived Pclass\n",
       "1 1           0        3     \n",
       "2 2           1        1     \n",
       "3 3           1        3     \n",
       "4 4           1        1     \n",
       "5 5           0        3     \n",
       "6 6           0        3     \n",
       "  Name                                                Sex    Age SibSp Parch\n",
       "1 Braund, Mr. Owen Harris                             male   22  1     0    \n",
       "2 Cumings, Mrs. John Bradley (Florence Briggs Thayer) female 38  1     0    \n",
       "3 Heikkinen, Miss. Laina                              female 26  0     0    \n",
       "4 Futrelle, Mrs. Jacques Heath (Lily May Peel)        female 35  1     0    \n",
       "5 Allen, Mr. William Henry                            male   35  0     0    \n",
       "6 Moran, Mr. James                                    male   NA  0     0    \n",
       "  Ticket           Fare    Cabin Embarked\n",
       "1 A/5 21171         7.2500       S       \n",
       "2 PC 17599         71.2833 C85   C       \n",
       "3 STON/O2. 3101282  7.9250       S       \n",
       "4 113803           53.1000 C123  S       \n",
       "5 373450            8.0500       S       \n",
       "6 330877            8.4583       Q       "
      ]
     },
     "metadata": {},
     "output_type": "display_data"
    }
   ],
   "source": [
    "head(train)"
   ]
  },
  {
   "cell_type": "code",
   "execution_count": 48,
   "metadata": {
    "scrolled": true
   },
   "outputs": [
    {
     "name": "stdout",
     "output_type": "stream",
     "text": [
      "'data.frame':\t891 obs. of  4 variables:\n",
      " $ Pclass  : int  3 1 3 1 3 3 1 3 3 2 ...\n",
      " $ Fare    : num  7.25 71.28 7.92 53.1 8.05 ...\n",
      " $ Sex     : int  2 1 1 1 2 2 2 2 1 1 ...\n",
      " $ Survived: int  0 1 1 1 0 0 0 0 1 1 ...\n"
     ]
    }
   ],
   "source": [
    "for_corr <- data.frame(train$Pclass,train$Fare)\n",
    "colnames(for_corr) <- c('Pclass','Fare')\n",
    "for_corr$Sex <- as.integer(train$Sex)\n",
    "for_corr$Survived <- as.integer(train$Survived)\n",
    "str(for_corr)"
   ]
  },
  {
   "cell_type": "code",
   "execution_count": 56,
   "metadata": {},
   "outputs": [
    {
     "name": "stdout",
     "output_type": "stream",
     "text": [
      "'data.frame':\t891 obs. of  12 variables:\n",
      " $ PassengerId: int  1 2 3 4 5 6 7 8 9 10 ...\n",
      " $ Survived   : int  0 1 1 1 0 0 0 0 1 1 ...\n",
      " $ Pclass     : int  3 1 3 1 3 3 1 3 3 2 ...\n",
      " $ Name       : Factor w/ 891 levels \"Abbing, Mr. Anthony\",..: 109 191 358 277 16 559 520 629 417 581 ...\n",
      " $ Sex        : Factor w/ 2 levels \"female\",\"male\": 2 1 1 1 2 2 2 2 1 1 ...\n",
      " $ Age        : num  22 38 26 35 35 NA 54 2 27 14 ...\n",
      " $ SibSp      : int  1 1 0 1 0 0 0 3 0 1 ...\n",
      " $ Parch      : int  0 0 0 0 0 0 0 1 2 0 ...\n",
      " $ Ticket     : Factor w/ 681 levels \"110152\",\"110413\",..: 524 597 670 50 473 276 86 396 345 133 ...\n",
      " $ Fare       : num  7.25 71.28 7.92 53.1 8.05 ...\n",
      " $ Cabin      : Factor w/ 148 levels \"\",\"A10\",\"A14\",..: 1 83 1 57 1 1 131 1 1 1 ...\n",
      " $ Embarked   : Factor w/ 4 levels \"\",\"C\",\"Q\",\"S\": 4 2 4 4 4 3 4 4 4 2 ...\n"
     ]
    }
   ],
   "source": [
    "str(train)"
   ]
  },
  {
   "cell_type": "code",
   "execution_count": 50,
   "metadata": {},
   "outputs": [
    {
     "data": {
      "text/html": [
       "<table>\n",
       "<thead><tr><th></th><th scope=col>Pclass</th><th scope=col>Fare</th><th scope=col>Sex</th><th scope=col>Survived</th></tr></thead>\n",
       "<tbody>\n",
       "\t<tr><th scope=row>Pclass</th><td> 1.0000000</td><td>-0.5494996</td><td> 0.1319005</td><td>-0.3384810</td></tr>\n",
       "\t<tr><th scope=row>Fare</th><td>-0.5494996</td><td> 1.0000000</td><td>-0.1823328</td><td> 0.2573065</td></tr>\n",
       "\t<tr><th scope=row>Sex</th><td> 0.1319005</td><td>-0.1823328</td><td> 1.0000000</td><td>-0.5433514</td></tr>\n",
       "\t<tr><th scope=row>Survived</th><td>-0.3384810</td><td> 0.2573065</td><td>-0.5433514</td><td> 1.0000000</td></tr>\n",
       "</tbody>\n",
       "</table>\n"
      ],
      "text/latex": [
       "\\begin{tabular}{r|llll}\n",
       "  & Pclass & Fare & Sex & Survived\\\\\n",
       "\\hline\n",
       "\tPclass &  1.0000000 & -0.5494996 &  0.1319005 & -0.3384810\\\\\n",
       "\tFare & -0.5494996 &  1.0000000 & -0.1823328 &  0.2573065\\\\\n",
       "\tSex &  0.1319005 & -0.1823328 &  1.0000000 & -0.5433514\\\\\n",
       "\tSurvived & -0.3384810 &  0.2573065 & -0.5433514 &  1.0000000\\\\\n",
       "\\end{tabular}\n"
      ],
      "text/markdown": [
       "\n",
       "| <!--/--> | Pclass | Fare | Sex | Survived | \n",
       "|---|---|---|---|\n",
       "| Pclass |  1.0000000 | -0.5494996 |  0.1319005 | -0.3384810 | \n",
       "| Fare | -0.5494996 |  1.0000000 | -0.1823328 |  0.2573065 | \n",
       "| Sex |  0.1319005 | -0.1823328 |  1.0000000 | -0.5433514 | \n",
       "| Survived | -0.3384810 |  0.2573065 | -0.5433514 |  1.0000000 | \n",
       "\n",
       "\n"
      ],
      "text/plain": [
       "         Pclass     Fare       Sex        Survived  \n",
       "Pclass    1.0000000 -0.5494996  0.1319005 -0.3384810\n",
       "Fare     -0.5494996  1.0000000 -0.1823328  0.2573065\n",
       "Sex       0.1319005 -0.1823328  1.0000000 -0.5433514\n",
       "Survived -0.3384810  0.2573065 -0.5433514  1.0000000"
      ]
     },
     "metadata": {},
     "output_type": "display_data"
    }
   ],
   "source": [
    "cor(for_corr)"
   ]
  },
  {
   "cell_type": "code",
   "execution_count": 55,
   "metadata": {},
   "outputs": [
    {
     "data": {
      "image/png": "[encoded data removed]",
      "text/plain": [
       "plot without title"
      ]
     },
     "metadata": {},
     "output_type": "display_data"
    }
   ],
   "source": [
    "par (mfrow = c(1,2))\n",
    "library(corrgram)\n",
    "corrgram(for_corr,upper.panel = panel.conf)"
   ]
  },
  {
   "cell_type": "markdown",
   "metadata": {},
   "source": [
    "### 집단 차이 분석"
   ]
  },
  {
   "cell_type": "markdown",
   "metadata": {},
   "source": [
    "#### 추론 통계와 집단 차이 분석\n",
    "> - 추론 통계는 표본을 통해 모집단의 특성을 추정한다. \n",
    "> - 여기에서는 추론 통계 함수를 이용하여 모집단과 표본 또는 두 집단 사이의 차이를 분석하는 방법을 살펴본다.  "
   ]
  },
  {
   "cell_type": "markdown",
   "metadata": {},
   "source": [
    "#### 일표본 평균 \n",
    "> - 하나의 모집단으로부터 표본을 추출하여 평균 신뢰구간 구하기 \n",
    "> - alternative = c(\"two,sided\",\"less\",\"greater\") #대립가설\n",
    "> - mu = 0\n",
    "> - t.test(x)"
   ]
  },
  {
   "cell_type": "code",
   "execution_count": 59,
   "metadata": {},
   "outputs": [
    {
     "data": {
      "text/plain": [
       "\n",
       "\tOne Sample t-test\n",
       "\n",
       "data:  x\n",
       "t = 2.6265, df = 9, p-value = 0.02752\n",
       "alternative hypothesis: true mean is not equal to 0\n",
       "95 percent confidence interval:\n",
       "  1.428741 19.171259\n",
       "sample estimates:\n",
       "mean of x \n",
       "     10.3 \n"
      ]
     },
     "metadata": {},
     "output_type": "display_data"
    },
    {
     "data": {
      "text/plain": [
       "\n",
       "\tOne Sample t-test\n",
       "\n",
       "data:  x\n",
       "t = 0.33511, df = 29, p-value = 0.74\n",
       "alternative hypothesis: true mean is not equal to 0\n",
       "95 percent confidence interval:\n",
       " -0.2348588  0.3269031\n",
       "sample estimates:\n",
       " mean of x \n",
       "0.04602213 \n"
      ]
     },
     "metadata": {},
     "output_type": "display_data"
    }
   ],
   "source": [
    "alternative = c(\"two,sided\",\"less\",\"greater\") #대립가설\n",
    "mu = 0\n",
    "t.test(x)\n",
    "x <- rnorm(30)\n",
    "t.test(x)"
   ]
  },
  {
   "cell_type": "markdown",
   "metadata": {},
   "source": [
    "#### 독립 이표본 평균 \n",
    "> - 두 모집단에서 독립적인 표본을 추출하여 두 모집단의 평균이 같은지를 살펴봄  \n",
    "> 1) 데이터 확인: 서로 상관이 없는 두 그룹의 데이터인지 확인  \n",
    "> 2) 모분산이 같은지 확인: var.test(var~group, data) 사용  \n",
    "> 3) t.test(). 모분산이 같으면 var.equal =TRUE, 다르면 var.equal = FALSE   \n"
   ]
  },
  {
   "cell_type": "code",
   "execution_count": 63,
   "metadata": {},
   "outputs": [
    {
     "data": {
      "text/html": [
       "<table>\n",
       "<thead><tr><th scope=col>extra</th><th scope=col>group</th></tr></thead>\n",
       "<tbody>\n",
       "\t<tr><td> 0.7</td><td>1   </td></tr>\n",
       "\t<tr><td>-1.6</td><td>1   </td></tr>\n",
       "\t<tr><td>-0.2</td><td>1   </td></tr>\n",
       "\t<tr><td>-1.2</td><td>1   </td></tr>\n",
       "\t<tr><td>-0.1</td><td>1   </td></tr>\n",
       "\t<tr><td> 3.4</td><td>1   </td></tr>\n",
       "</tbody>\n",
       "</table>\n"
      ],
      "text/latex": [
       "\\begin{tabular}{r|ll}\n",
       " extra & group\\\\\n",
       "\\hline\n",
       "\t  0.7 & 1   \\\\\n",
       "\t -1.6 & 1   \\\\\n",
       "\t -0.2 & 1   \\\\\n",
       "\t -1.2 & 1   \\\\\n",
       "\t -0.1 & 1   \\\\\n",
       "\t  3.4 & 1   \\\\\n",
       "\\end{tabular}\n"
      ],
      "text/markdown": [
       "\n",
       "extra | group | \n",
       "|---|---|---|---|---|---|\n",
       "|  0.7 | 1    | \n",
       "| -1.6 | 1    | \n",
       "| -0.2 | 1    | \n",
       "| -1.2 | 1    | \n",
       "| -0.1 | 1    | \n",
       "|  3.4 | 1    | \n",
       "\n",
       "\n"
      ],
      "text/plain": [
       "  extra group\n",
       "1  0.7  1    \n",
       "2 -1.6  1    \n",
       "3 -0.2  1    \n",
       "4 -1.2  1    \n",
       "5 -0.1  1    \n",
       "6  3.4  1    "
      ]
     },
     "metadata": {},
     "output_type": "display_data"
    }
   ],
   "source": [
    "sleep2 <- sleep[,c(1,2)]\n",
    "head(sleep2)"
   ]
  },
  {
   "cell_type": "code",
   "execution_count": 64,
   "metadata": {},
   "outputs": [
    {
     "data": {
      "text/plain": [
       "\n",
       "\tF test to compare two variances\n",
       "\n",
       "data:  extra by group\n",
       "F = 0.79834, num df = 9, denom df = 9, p-value = 0.7427\n",
       "alternative hypothesis: true ratio of variances is not equal to 1\n",
       "95 percent confidence interval:\n",
       " 0.198297 3.214123\n",
       "sample estimates:\n",
       "ratio of variances \n",
       "         0.7983426 \n"
      ]
     },
     "metadata": {},
     "output_type": "display_data"
    }
   ],
   "source": [
    "# 신뢰구간 95% 안에 포함되므로 모분산은 일치\n",
    "var.test(extra ~ group,sleep2)"
   ]
  },
  {
   "cell_type": "code",
   "execution_count": 65,
   "metadata": {},
   "outputs": [
    {
     "data": {
      "text/plain": [
       "\n",
       "\tTwo Sample t-test\n",
       "\n",
       "data:  extra by group\n",
       "t = -1.8608, df = 18, p-value = 0.07919\n",
       "alternative hypothesis: true difference in means is not equal to 0\n",
       "95 percent confidence interval:\n",
       " -3.363874  0.203874\n",
       "sample estimates:\n",
       "mean in group 1 mean in group 2 \n",
       "           0.75            2.33 \n"
      ]
     },
     "metadata": {},
     "output_type": "display_data"
    }
   ],
   "source": [
    "# 그러나 독립표본 t검정 결과 신뢰수준 95%에 유의확률 0.0791로 귀무가설이 채택되어 두 그룹 사이에는 차이가 없다\n",
    "t.test(extra ~ group,data = sleep2, paired = FALSE, var.equal = TRUE)"
   ]
  },
  {
   "cell_type": "code",
   "execution_count": 66,
   "metadata": {},
   "outputs": [
    {
     "data": {
      "text/plain": [
       "\n",
       "\tPaired t-test\n",
       "\n",
       "data:  sleep$extra[sleep$group == 1] and sleep$extra[sleep$group == 2]\n",
       "t = -4.0621, df = 9, p-value = 0.002833\n",
       "alternative hypothesis: true difference in means is not equal to 0\n",
       "95 percent confidence interval:\n",
       " -2.4598858 -0.7001142\n",
       "sample estimates:\n",
       "mean of the differences \n",
       "                  -1.58 \n"
      ]
     },
     "metadata": {},
     "output_type": "display_data"
    }
   ],
   "source": [
    "t.test(sleep$extra[sleep$group == 1],sleep$extra[sleep$group == 2],paired = T)"
   ]
  },
  {
   "cell_type": "markdown",
   "metadata": {},
   "source": [
    "#### 일표본 비율1\n",
    "> - 표본으로부터 모집단의 비율을 추정 및 가설 검정할 때 사용된다. \n",
    "> - 예로, 찬성과 반대 중 어느 쪽의 비율이 큰 지를 추정할 때 사용할 수 있다. \n",
    "> - 정규 분포 근사를 사용한다. \n",
    "\n",
    "> - 100명중 42명이 찬성했다면 찬성 비율이 50%라고 할 수 있을까?"
   ]
  },
  {
   "cell_type": "code",
   "execution_count": 76,
   "metadata": {},
   "outputs": [
    {
     "data": {
      "text/plain": [
       "\n",
       "\t1-sample proportions test with continuity correction\n",
       "\n",
       "data:  42 out of 100, null probability 0.5\n",
       "X-squared = 2.25, df = 1, p-value = 0.1336\n",
       "alternative hypothesis: true p is not equal to 0.5\n",
       "95 percent confidence interval:\n",
       " 0.3233236 0.5228954\n",
       "sample estimates:\n",
       "   p \n",
       "0.42 \n"
      ]
     },
     "metadata": {},
     "output_type": "display_data"
    },
    {
     "data": {
      "text/plain": [
       "\n",
       "\t1-sample proportions test with continuity correction\n",
       "\n",
       "data:  40 out of 100, null probability 0.5\n",
       "X-squared = 3.61, df = 1, p-value = 0.05743\n",
       "alternative hypothesis: true p is not equal to 0.5\n",
       "95 percent confidence interval:\n",
       " 0.3047801 0.5029964\n",
       "sample estimates:\n",
       "  p \n",
       "0.4 \n"
      ]
     },
     "metadata": {},
     "output_type": "display_data"
    }
   ],
   "source": [
    "prop.test(42,100)\n",
    "prop.test(40,100,0.5)"
   ]
  },
  {
   "cell_type": "markdown",
   "metadata": {},
   "source": [
    "#### 일표본 비율 2 \n",
    "> - 표본으로부터 모집단의 비율을 추정 및 가설 검정할 때 사용된다. \n",
    "> - 예로, 찬성과 반대 중 어느 쪽의 비율이 큰 지를 추정할 때 사용할 수 있다. \n",
    "> - 정규분포를 사용하지 않고 신뢰구간을 직접 계산한다. "
   ]
  },
  {
   "cell_type": "code",
   "execution_count": 77,
   "metadata": {},
   "outputs": [
    {
     "data": {
      "text/plain": [
       "\n",
       "\tExact binomial test\n",
       "\n",
       "data:  42 and 100\n",
       "number of successes = 42, number of trials = 100, p-value = 0.1332\n",
       "alternative hypothesis: true probability of success is not equal to 0.5\n",
       "95 percent confidence interval:\n",
       " 0.3219855 0.5228808\n",
       "sample estimates:\n",
       "probability of success \n",
       "                  0.42 \n"
      ]
     },
     "metadata": {},
     "output_type": "display_data"
    },
    {
     "data": {
      "text/plain": [
       "\n",
       "\tExact binomial test\n",
       "\n",
       "data:  42 and 100\n",
       "number of successes = 42, number of trials = 100, p-value = 0.1332\n",
       "alternative hypothesis: true probability of success is not equal to 0.5\n",
       "95 percent confidence interval:\n",
       " 0.3219855 0.5228808\n",
       "sample estimates:\n",
       "probability of success \n",
       "                  0.42 \n"
      ]
     },
     "metadata": {},
     "output_type": "display_data"
    }
   ],
   "source": [
    "binom.test(42,100)\n",
    "binom.test(42,100,0.5)"
   ]
  },
  {
   "cell_type": "markdown",
   "metadata": {},
   "source": [
    "#### 이표본 비율 \n",
    "> - 두 표본으로부터 모집단의 비율을 추정 및 가설 검정할 때 사용된다. \n",
    "> - 예로, 남성의 흡연율과 여성의 흡연율에 차이가 있는지를 비교할 때 사용할 수 있다. "
   ]
  },
  {
   "cell_type": "code",
   "execution_count": 78,
   "metadata": {},
   "outputs": [
    {
     "data": {
      "text/plain": [
       "\n",
       "\t2-sample test for equality of proportions with continuity correction\n",
       "\n",
       "data:  c(45, 55) out of c(100, 90)\n",
       "X-squared = 4.3067, df = 1, p-value = 0.03796\n",
       "alternative hypothesis: two.sided\n",
       "95 percent confidence interval:\n",
       " -0.31185005 -0.01037217\n",
       "sample estimates:\n",
       "   prop 1    prop 2 \n",
       "0.4500000 0.6111111 \n"
      ]
     },
     "metadata": {},
     "output_type": "display_data"
    }
   ],
   "source": [
    "# 남성 100명 중 45명, 여성 90명중 55명이 흡연을 한다면 두 비율에 차이가 있을까? \n",
    "prop.test(c(45,55),c(100,90))"
   ]
  }
 ],
 "metadata": {
  "kernelspec": {
   "display_name": "R",
   "language": "R",
   "name": "ir"
  },
  "language_info": {
   "codemirror_mode": "r",
   "file_extension": ".r",
   "mimetype": "text/x-r-source",
   "name": "R",
   "pygments_lexer": "r",
   "version": "3.5.1"
  }
 },
 "nbformat": 4,
 "nbformat_minor": 2
}
