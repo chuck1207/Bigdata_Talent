{
 "cells": [
  {
   "cell_type": "code",
   "execution_count": null,
   "metadata": {},
   "outputs": [],
   "source": [
    "## 인공신경망 \n",
    "### 신경망"
   ]
  },
  {
   "cell_type": "markdown",
   "metadata": {},
   "source": [
    "#### 개념 \n",
    "> - 신경망은 인간의 뇌를 모방하여 만든 모델이다. \n",
    "> - 입력층(input Layer), 은닉층(Hidden Layer), 출력층(Output Layer)로 구성되어 있다. \n",
    "> - 특정 기억을 자주 떠올리면 시냅스가 활성화되 잘 기억하는 것 처럼 특정 입력을 다음 단계로 넘길지를 해당 입력-반응이 얼마나 자주 있었는지로 결정한다. \n",
    "> - 입력 - 반응을 결정하는 대표적인 함수는 sigmoid 함수이다."
   ]
  },
  {
   "cell_type": "markdown",
   "metadata": {},
   "source": [
    "#### 신경망 알고리즘\n",
    "> - 신경망 알고리즘은 은닉층에서 정보의 조합이 어떻게 이루어지는지 실행 중에 파악하기가 어려워 결과 도출 과정을 설명하기가 어렵고, 모델도 수정하기가 어렵다. \n",
    "> - 또한 변수 선택에 매우 민감하다. 변수 간 상관관계가 높은 것들은 제거하고, 종속변수에 유의한 관계가 있는 것들만 선별하여 모델을 구성해야 성능이 좋아진다. \n",
    "> - 인공신경망에서 학습이란 노드와 노드 사이의 링크에 부여된 가중치를 조절하는 과정이다. 가중치를 계속 조절해가며 오차가 작아지도록 한다. \n",
    "> - 가중치의 조정은 출력 노드부터 역방향으로 이루어지므로 역전파(back propagation) 알고리즘이라고 부른다. \n",
    "> - 입력 변수가 많으면 입력 노드가 많아지고, 노드가 많아지면 추정해야 하는 가중치의 수가 늘어나게 된다. 추정해야할 가중치의 수가 늘어나게 되면 과적합이 발생할 가능성이 높아져 train 데이터의 예측력은 높더라도 test 데이터의 예측력이 떨어지게 된다. \n",
    "> - 따라서 종속변수와의 관계가 깊은 주요 변수를 최소한으로 선택하는 것이 필요하다. "
   ]
  },
  {
   "cell_type": "code",
   "execution_count": null,
   "metadata": {},
   "outputs": [],
   "source": [
    "#### 자료 준비"
   ]
  },
  {
   "cell_type": "code",
   "execution_count": 14,
   "metadata": {},
   "outputs": [],
   "source": [
    "# 파일 입력\n",
    "autoparts <- read.csv(\"autoparts.csv\", header = TRUE)\n",
    "autoparts1 <- autoparts[autoparts$prod_no == \"90784-76001\", c(2:11)]\n",
    "autoparts2 <- autoparts1[autoparts1$c_thickness < 1000, ]\n",
    "autoparts2$g_class <- as.factor(ifelse(autoparts2$c_thickness < 20, 1,ifelse(autoparts2$c_thickness < 32, 2, 3)))\n",
    "# 트레이닝 셋, 테스트셋 분리 \n",
    "t_index <- sample(1:nrow(autoparts2), size = nrow(autoparts2) * 0.7)\n",
    "train <- autoparts2[t_index, ]\n",
    "test <- autoparts2[-t_index, ]"
   ]
  },
  {
   "cell_type": "code",
   "execution_count": 2,
   "metadata": {},
   "outputs": [],
   "source": [
    "# 신경망을 사용하기 위한 패키지를 불러오기\n",
    "library(nnet)"
   ]
  },
  {
   "cell_type": "code",
   "execution_count": 19,
   "metadata": {},
   "outputs": [
    {
     "name": "stdout",
     "output_type": "stream",
     "text": [
      "# weights:  133\n",
      "initial  value 10884.640905 \n",
      "iter  10 value 6640.891401\n",
      "iter  20 value 6323.949393\n",
      "iter  30 value 5645.437580\n",
      "iter  40 value 5540.116973\n",
      "iter  50 value 5448.313484\n",
      "iter  60 value 5390.277362\n",
      "iter  70 value 5338.399949\n",
      "iter  80 value 5253.905062\n",
      "iter  90 value 4937.910866\n",
      "iter 100 value 4466.030733\n",
      "final  value 4466.030733 \n",
      "stopped after 100 iterations\n"
     ]
    }
   ],
   "source": [
    "m <- nnet(g_class ~ fix_time + a_speed + b_speed + separation + s_separation +\n",
    "         rate_terms + mpa + load_time + highpressure_time, data = train, size = 10)"
   ]
  },
  {
   "cell_type": "code",
   "execution_count": 20,
   "metadata": {},
   "outputs": [
    {
     "data": {
      "text/plain": [
       "    predict\n",
       "real    1    2    3\n",
       "   1   93  489   43\n",
       "   2   20 5526  144\n",
       "   3    0    7  209"
      ]
     },
     "metadata": {},
     "output_type": "display_data"
    }
   ],
   "source": [
    "yhat_test <- predict(m, test, type = 'class') # 분류모델이므로 type이 class\n",
    "table <- table(real=test$g_class, predict = yhat_test)\n",
    "table"
   ]
  },
  {
   "cell_type": "markdown",
   "metadata": {},
   "source": [
    "#### 예측값 종류 부족 에러 \n",
    "> - table에 컬럼을 보충하여 정확도 계산이 이뤄질 수 있게 한다. \n",
    "> - x1 <- c(0,0,0)\n",
    "> - table <- cbind(x1,table)\n",
    "> - table\n",
    "> - (table[1,1] + table[2,2] + table[3,3])"
   ]
  },
  {
   "cell_type": "code",
   "execution_count": 21,
   "metadata": {},
   "outputs": [
    {
     "data": {
      "text/html": [
       "0.892359516153728"
      ],
      "text/latex": [
       "0.892359516153728"
      ],
      "text/markdown": [
       "0.892359516153728"
      ],
      "text/plain": [
       "[1] 0.8923595"
      ]
     },
     "metadata": {},
     "output_type": "display_data"
    }
   ],
   "source": [
    "(table[1,1] + table[2,2] + table[3,3])/sum(table)\n",
    "# 정분류율: 89.23% "
   ]
  },
  {
   "cell_type": "code",
   "execution_count": 22,
   "metadata": {},
   "outputs": [
    {
     "name": "stderr",
     "output_type": "stream",
     "text": [
      "SHA-1 hash of file is 74c80bd5ddbc17ab3ae5ece9c0ed9beb612e87ef\n",
      "Loading required package: scales\n",
      "Loading required package: reshape\n",
      "Warning message in library(package, lib.loc = lib.loc, character.only = TRUE, logical.return = TRUE, :\n",
      "\"there is no package called 'reshape'\"Loading required package: reshape\n",
      "Warning message in library(package, lib.loc = lib.loc, character.only = TRUE, logical.return = TRUE, :\n",
      "\"there is no package called 'reshape'\"Loading required package: reshape\n",
      "Warning message in library(package, lib.loc = lib.loc, character.only = TRUE, logical.return = TRUE, :\n",
      "\"there is no package called 'reshape'\"Loading required package: reshape\n",
      "Warning message in library(package, lib.loc = lib.loc, character.only = TRUE, logical.return = TRUE, :\n",
      "\"there is no package called 'reshape'\"Loading required package: reshape\n",
      "Warning message in library(package, lib.loc = lib.loc, character.only = TRUE, logical.return = TRUE, :\n",
      "\"there is no package called 'reshape'\"Loading required package: reshape\n",
      "Warning message in library(package, lib.loc = lib.loc, character.only = TRUE, logical.return = TRUE, :\n",
      "\"there is no package called 'reshape'\"Loading required package: reshape\n",
      "Warning message in library(package, lib.loc = lib.loc, character.only = TRUE, logical.return = TRUE, :\n",
      "\"there is no package called 'reshape'\"Loading required package: reshape\n",
      "Warning message in library(package, lib.loc = lib.loc, character.only = TRUE, logical.return = TRUE, :\n",
      "\"there is no package called 'reshape'\"Loading required package: reshape\n",
      "Warning message in library(package, lib.loc = lib.loc, character.only = TRUE, logical.return = TRUE, :\n",
      "\"there is no package called 'reshape'\"Loading required package: reshape\n",
      "Warning message in library(package, lib.loc = lib.loc, character.only = TRUE, logical.return = TRUE, :\n",
      "\"there is no package called 'reshape'\"Loading required package: reshape\n",
      "Warning message in library(package, lib.loc = lib.loc, character.only = TRUE, logical.return = TRUE, :\n",
      "\"there is no package called 'reshape'\"Loading required package: reshape\n",
      "Warning message in library(package, lib.loc = lib.loc, character.only = TRUE, logical.return = TRUE, :\n",
      "\"there is no package called 'reshape'\"Loading required package: reshape\n",
      "Warning message in library(package, lib.loc = lib.loc, character.only = TRUE, logical.return = TRUE, :\n",
      "\"there is no package called 'reshape'\"Loading required package: reshape\n",
      "Warning message in library(package, lib.loc = lib.loc, character.only = TRUE, logical.return = TRUE, :\n",
      "\"there is no package called 'reshape'\"Loading required package: reshape\n",
      "Warning message in library(package, lib.loc = lib.loc, character.only = TRUE, logical.return = TRUE, :\n",
      "\"there is no package called 'reshape'\"Loading required package: reshape\n",
      "Warning message in library(package, lib.loc = lib.loc, character.only = TRUE, logical.return = TRUE, :\n",
      "\"there is no package called 'reshape'\"Loading required package: reshape\n",
      "Warning message in library(package, lib.loc = lib.loc, character.only = TRUE, logical.return = TRUE, :\n",
      "\"there is no package called 'reshape'\"Loading required package: reshape\n",
      "Warning message in library(package, lib.loc = lib.loc, character.only = TRUE, logical.return = TRUE, :\n",
      "\"there is no package called 'reshape'\"Loading required package: reshape\n",
      "Warning message in library(package, lib.loc = lib.loc, character.only = TRUE, logical.return = TRUE, :\n",
      "\"there is no package called 'reshape'\"Loading required package: reshape\n",
      "Warning message in library(package, lib.loc = lib.loc, character.only = TRUE, logical.return = TRUE, :\n",
      "\"there is no package called 'reshape'\"Loading required package: reshape\n",
      "Warning message in library(package, lib.loc = lib.loc, character.only = TRUE, logical.return = TRUE, :\n",
      "\"there is no package called 'reshape'\"Loading required package: reshape\n",
      "Warning message in library(package, lib.loc = lib.loc, character.only = TRUE, logical.return = TRUE, :\n",
      "\"there is no package called 'reshape'\"Loading required package: reshape\n",
      "Warning message in library(package, lib.loc = lib.loc, character.only = TRUE, logical.return = TRUE, :\n",
      "\"there is no package called 'reshape'\"Loading required package: reshape\n",
      "Warning message in library(package, lib.loc = lib.loc, character.only = TRUE, logical.return = TRUE, :\n",
      "\"there is no package called 'reshape'\"Loading required package: reshape\n",
      "Warning message in library(package, lib.loc = lib.loc, character.only = TRUE, logical.return = TRUE, :\n",
      "\"there is no package called 'reshape'\"Loading required package: reshape\n",
      "Warning message in library(package, lib.loc = lib.loc, character.only = TRUE, logical.return = TRUE, :\n",
      "\"there is no package called 'reshape'\"Loading required package: reshape\n",
      "Warning message in library(package, lib.loc = lib.loc, character.only = TRUE, logical.return = TRUE, :\n",
      "\"there is no package called 'reshape'\"Loading required package: reshape\n",
      "Warning message in library(package, lib.loc = lib.loc, character.only = TRUE, logical.return = TRUE, :\n",
      "\"there is no package called 'reshape'\"Loading required package: reshape\n",
      "Warning message in library(package, lib.loc = lib.loc, character.only = TRUE, logical.return = TRUE, :\n",
      "\"there is no package called 'reshape'\""
     ]
    },
    {
     "data": {
      "image/png": "[encoded data removed]",
      "text/plain": [
       "plot without title"
      ]
     },
     "metadata": {},
     "output_type": "display_data"
    }
   ],
   "source": [
    "library(reshape2)\n",
    "library(devtools)\n",
    "source_url('http://gist.githubusercontent.com/fawda123/7471137/raw/466c1474d0a505ff044412703516c34f1a4684a5/nnet_plot_update.r')\n",
    "plot(m)"
   ]
  },
  {
   "cell_type": "code",
   "execution_count": null,
   "metadata": {},
   "outputs": [],
   "source": [
    "#### 데이터 예측 분류 "
   ]
  },
  {
   "cell_type": "code",
   "execution_count": 23,
   "metadata": {},
   "outputs": [
    {
     "data": {
      "text/html": [
       "<ol class=list-inline>\n",
       "\t<li>'2'</li>\n",
       "\t<li>'3'</li>\n",
       "</ol>\n"
      ],
      "text/latex": [
       "\\begin{enumerate*}\n",
       "\\item '2'\n",
       "\\item '3'\n",
       "\\end{enumerate*}\n"
      ],
      "text/markdown": [
       "1. '2'\n",
       "2. '3'\n",
       "\n",
       "\n"
      ],
      "text/plain": [
       "[1] \"2\" \"3\""
      ]
     },
     "metadata": {},
     "output_type": "display_data"
    }
   ],
   "source": [
    "new.data <- data.frame(fix_time = c(87,85.6), a_speed = c(0.609,0.472),\n",
    "                       b_speed = c(1.175,1.685),\n",
    "                      separation = c(242.7,243.4), s_separation = c(657.5,657.9),\n",
    "                      rate_terms = c(95,95), mpa = c(78,28.8),\n",
    "                       load_time =c(18.1,18.2),highpressure_time =c(82,60))\n",
    "\n",
    "predict(m,newdata = new.data, type = 'class')"
   ]
  },
  {
   "cell_type": "code",
   "execution_count": null,
   "metadata": {},
   "outputs": [],
   "source": []
  },
  {
   "cell_type": "code",
   "execution_count": null,
   "metadata": {},
   "outputs": [],
   "source": []
  },
  {
   "cell_type": "code",
   "execution_count": null,
   "metadata": {},
   "outputs": [],
   "source": []
  },
  {
   "cell_type": "code",
   "execution_count": null,
   "metadata": {},
   "outputs": [],
   "source": []
  },
  {
   "cell_type": "code",
   "execution_count": null,
   "metadata": {},
   "outputs": [],
   "source": []
  },
  {
   "cell_type": "code",
   "execution_count": null,
   "metadata": {},
   "outputs": [],
   "source": []
  },
  {
   "cell_type": "code",
   "execution_count": null,
   "metadata": {},
   "outputs": [],
   "source": []
  },
  {
   "cell_type": "code",
   "execution_count": null,
   "metadata": {},
   "outputs": [],
   "source": []
  },
  {
   "cell_type": "code",
   "execution_count": null,
   "metadata": {},
   "outputs": [],
   "source": []
  },
  {
   "cell_type": "code",
   "execution_count": null,
   "metadata": {},
   "outputs": [],
   "source": []
  },
  {
   "cell_type": "code",
   "execution_count": null,
   "metadata": {},
   "outputs": [],
   "source": []
  }
 ],
 "metadata": {
  "kernelspec": {
   "display_name": "R",
   "language": "R",
   "name": "ir"
  },
  "language_info": {
   "codemirror_mode": "r",
   "file_extension": ".r",
   "mimetype": "text/x-r-source",
   "name": "R",
   "pygments_lexer": "r",
   "version": "3.5.1"
  }
 },
 "nbformat": 4,
 "nbformat_minor": 2
}
