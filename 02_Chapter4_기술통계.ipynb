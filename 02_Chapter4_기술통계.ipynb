{
 "cells": [
  {
   "cell_type": "markdown",
   "metadata": {},
   "source": [
    "# Chapter 4 기술통계 (2019/07/10"
   ]
  },
  {
   "cell_type": "markdown",
   "metadata": {},
   "source": [
    "### 중심 위치의 측정 "
   ]
  },
  {
   "cell_type": "markdown",
   "metadata": {},
   "source": [
    "### 기술 통계 "
   ]
  },
  {
   "cell_type": "markdown",
   "metadata": {},
   "source": [
    "#### 기술 통계의 의의\n",
    "> 빅데이터 분석이란 대량의 데이터를 대상으로 다양한 분석 기법을 적용하여 새로운 통찰이나 가치를 발견하고, 새로운 데이터 혹은 미래의 상황을 예측하는 일련의 과정을 말함  \n",
    "  \n",
    "> 빅데이터 분석을 위해서는 기존 사실에 대한 객관적인 수치를 찾아내는 기술 통계를 기초로 하며, 이를 통해서 데이터의 특징이 수량화되어 정리가 된다. 또한 기술 통계를 통하여 분석자는 데이터에 대한 이해를 하게 되어 이후 분석 과정을 정밀하게 설계할 수 있게 된다. \n"
   ]
  },
  {
   "cell_type": "code",
   "execution_count": null,
   "metadata": {},
   "outputs": [],
   "source": []
  },
  {
   "cell_type": "code",
   "execution_count": 2,
   "metadata": {},
   "outputs": [
    {
     "data": {
      "text/html": [
       "71.8"
      ],
      "text/latex": [
       "71.8"
      ],
      "text/markdown": [
       "71.8"
      ],
      "text/plain": [
       "[1] 71.8"
      ]
     },
     "metadata": {},
     "output_type": "display_data"
    }
   ],
   "source": [
    "weight <- c(72,67,60,78,82)\n",
    "mean(weight)"
   ]
  },
  {
   "cell_type": "markdown",
   "metadata": {},
   "source": [
    "#### 결측치가 있는 경우의 평균 \n",
    "> - 먼저 100개의 난수를 생성한다.   \n",
    "> - 1~100까지의 난수 100개를 복원추출의 방법으로 생성하여 평균을 구한다  \n",
    "> - 복원추출이란 추출된 숫자가 다시 추출될 수 있도록 하는 것을 말한다.  "
   ]
  },
  {
   "cell_type": "code",
   "execution_count": 3,
   "metadata": {},
   "outputs": [
    {
     "data": {
      "text/html": [
       "<ol class=list-inline>\n",
       "\t<li>37</li>\n",
       "\t<li>14</li>\n",
       "\t<li>58</li>\n",
       "\t<li>98</li>\n",
       "\t<li>80</li>\n",
       "\t<li>23</li>\n",
       "\t<li>60</li>\n",
       "\t<li>33</li>\n",
       "\t<li>22</li>\n",
       "\t<li>74</li>\n",
       "\t<li>43</li>\n",
       "\t<li>70</li>\n",
       "\t<li>73</li>\n",
       "\t<li>14</li>\n",
       "\t<li>24</li>\n",
       "\t<li>79</li>\n",
       "\t<li>26</li>\n",
       "\t<li>24</li>\n",
       "\t<li>94</li>\n",
       "\t<li>99</li>\n",
       "\t<li>36</li>\n",
       "\t<li>68</li>\n",
       "\t<li>39</li>\n",
       "\t<li>49</li>\n",
       "\t<li>48</li>\n",
       "\t<li>29</li>\n",
       "\t<li>71</li>\n",
       "\t<li>76</li>\n",
       "\t<li>60</li>\n",
       "\t<li>40</li>\n",
       "\t<li>20</li>\n",
       "\t<li>55</li>\n",
       "\t<li>2</li>\n",
       "\t<li>100</li>\n",
       "\t<li>83</li>\n",
       "\t<li>12</li>\n",
       "\t<li>17</li>\n",
       "\t<li>16</li>\n",
       "\t<li>21</li>\n",
       "\t<li>92</li>\n",
       "\t<li>18</li>\n",
       "\t<li>93</li>\n",
       "\t<li>13</li>\n",
       "\t<li>2</li>\n",
       "\t<li>46</li>\n",
       "\t<li>17</li>\n",
       "\t<li>42</li>\n",
       "\t<li>47</li>\n",
       "\t<li>86</li>\n",
       "\t<li>88</li>\n",
       "\t<li>63</li>\n",
       "\t<li>41</li>\n",
       "\t<li>51</li>\n",
       "\t<li>44</li>\n",
       "\t<li>41</li>\n",
       "\t<li>42</li>\n",
       "\t<li>38</li>\n",
       "\t<li>24</li>\n",
       "\t<li>19</li>\n",
       "\t<li>39</li>\n",
       "\t<li>100</li>\n",
       "\t<li>63</li>\n",
       "\t<li>57</li>\n",
       "\t<li>67</li>\n",
       "\t<li>15</li>\n",
       "\t<li>31</li>\n",
       "\t<li>13</li>\n",
       "\t<li>89</li>\n",
       "\t<li>45</li>\n",
       "\t<li>23</li>\n",
       "\t<li>30</li>\n",
       "\t<li>64</li>\n",
       "\t<li>59</li>\n",
       "\t<li>25</li>\n",
       "\t<li>64</li>\n",
       "\t<li>56</li>\n",
       "\t<li>32</li>\n",
       "\t<li>88</li>\n",
       "\t<li>79</li>\n",
       "\t<li>38</li>\n",
       "\t<li>77</li>\n",
       "\t<li>37</li>\n",
       "\t<li>39</li>\n",
       "\t<li>15</li>\n",
       "\t<li>39</li>\n",
       "\t<li>60</li>\n",
       "\t<li>80</li>\n",
       "\t<li>16</li>\n",
       "\t<li>12</li>\n",
       "\t<li>3</li>\n",
       "\t<li>99</li>\n",
       "\t<li>27</li>\n",
       "\t<li>17</li>\n",
       "\t<li>7</li>\n",
       "\t<li>69</li>\n",
       "\t<li>24</li>\n",
       "\t<li>81</li>\n",
       "\t<li>88</li>\n",
       "\t<li>57</li>\n",
       "\t<li>14</li>\n",
       "</ol>\n"
      ],
      "text/latex": [
       "\\begin{enumerate*}\n",
       "\\item 37\n",
       "\\item 14\n",
       "\\item 58\n",
       "\\item 98\n",
       "\\item 80\n",
       "\\item 23\n",
       "\\item 60\n",
       "\\item 33\n",
       "\\item 22\n",
       "\\item 74\n",
       "\\item 43\n",
       "\\item 70\n",
       "\\item 73\n",
       "\\item 14\n",
       "\\item 24\n",
       "\\item 79\n",
       "\\item 26\n",
       "\\item 24\n",
       "\\item 94\n",
       "\\item 99\n",
       "\\item 36\n",
       "\\item 68\n",
       "\\item 39\n",
       "\\item 49\n",
       "\\item 48\n",
       "\\item 29\n",
       "\\item 71\n",
       "\\item 76\n",
       "\\item 60\n",
       "\\item 40\n",
       "\\item 20\n",
       "\\item 55\n",
       "\\item 2\n",
       "\\item 100\n",
       "\\item 83\n",
       "\\item 12\n",
       "\\item 17\n",
       "\\item 16\n",
       "\\item 21\n",
       "\\item 92\n",
       "\\item 18\n",
       "\\item 93\n",
       "\\item 13\n",
       "\\item 2\n",
       "\\item 46\n",
       "\\item 17\n",
       "\\item 42\n",
       "\\item 47\n",
       "\\item 86\n",
       "\\item 88\n",
       "\\item 63\n",
       "\\item 41\n",
       "\\item 51\n",
       "\\item 44\n",
       "\\item 41\n",
       "\\item 42\n",
       "\\item 38\n",
       "\\item 24\n",
       "\\item 19\n",
       "\\item 39\n",
       "\\item 100\n",
       "\\item 63\n",
       "\\item 57\n",
       "\\item 67\n",
       "\\item 15\n",
       "\\item 31\n",
       "\\item 13\n",
       "\\item 89\n",
       "\\item 45\n",
       "\\item 23\n",
       "\\item 30\n",
       "\\item 64\n",
       "\\item 59\n",
       "\\item 25\n",
       "\\item 64\n",
       "\\item 56\n",
       "\\item 32\n",
       "\\item 88\n",
       "\\item 79\n",
       "\\item 38\n",
       "\\item 77\n",
       "\\item 37\n",
       "\\item 39\n",
       "\\item 15\n",
       "\\item 39\n",
       "\\item 60\n",
       "\\item 80\n",
       "\\item 16\n",
       "\\item 12\n",
       "\\item 3\n",
       "\\item 99\n",
       "\\item 27\n",
       "\\item 17\n",
       "\\item 7\n",
       "\\item 69\n",
       "\\item 24\n",
       "\\item 81\n",
       "\\item 88\n",
       "\\item 57\n",
       "\\item 14\n",
       "\\end{enumerate*}\n"
      ],
      "text/markdown": [
       "1. 37\n",
       "2. 14\n",
       "3. 58\n",
       "4. 98\n",
       "5. 80\n",
       "6. 23\n",
       "7. 60\n",
       "8. 33\n",
       "9. 22\n",
       "10. 74\n",
       "11. 43\n",
       "12. 70\n",
       "13. 73\n",
       "14. 14\n",
       "15. 24\n",
       "16. 79\n",
       "17. 26\n",
       "18. 24\n",
       "19. 94\n",
       "20. 99\n",
       "21. 36\n",
       "22. 68\n",
       "23. 39\n",
       "24. 49\n",
       "25. 48\n",
       "26. 29\n",
       "27. 71\n",
       "28. 76\n",
       "29. 60\n",
       "30. 40\n",
       "31. 20\n",
       "32. 55\n",
       "33. 2\n",
       "34. 100\n",
       "35. 83\n",
       "36. 12\n",
       "37. 17\n",
       "38. 16\n",
       "39. 21\n",
       "40. 92\n",
       "41. 18\n",
       "42. 93\n",
       "43. 13\n",
       "44. 2\n",
       "45. 46\n",
       "46. 17\n",
       "47. 42\n",
       "48. 47\n",
       "49. 86\n",
       "50. 88\n",
       "51. 63\n",
       "52. 41\n",
       "53. 51\n",
       "54. 44\n",
       "55. 41\n",
       "56. 42\n",
       "57. 38\n",
       "58. 24\n",
       "59. 19\n",
       "60. 39\n",
       "61. 100\n",
       "62. 63\n",
       "63. 57\n",
       "64. 67\n",
       "65. 15\n",
       "66. 31\n",
       "67. 13\n",
       "68. 89\n",
       "69. 45\n",
       "70. 23\n",
       "71. 30\n",
       "72. 64\n",
       "73. 59\n",
       "74. 25\n",
       "75. 64\n",
       "76. 56\n",
       "77. 32\n",
       "78. 88\n",
       "79. 79\n",
       "80. 38\n",
       "81. 77\n",
       "82. 37\n",
       "83. 39\n",
       "84. 15\n",
       "85. 39\n",
       "86. 60\n",
       "87. 80\n",
       "88. 16\n",
       "89. 12\n",
       "90. 3\n",
       "91. 99\n",
       "92. 27\n",
       "93. 17\n",
       "94. 7\n",
       "95. 69\n",
       "96. 24\n",
       "97. 81\n",
       "98. 88\n",
       "99. 57\n",
       "100. 14\n",
       "\n",
       "\n"
      ],
      "text/plain": [
       "  [1]  37  14  58  98  80  23  60  33  22  74  43  70  73  14  24  79  26  24\n",
       " [19]  94  99  36  68  39  49  48  29  71  76  60  40  20  55   2 100  83  12\n",
       " [37]  17  16  21  92  18  93  13   2  46  17  42  47  86  88  63  41  51  44\n",
       " [55]  41  42  38  24  19  39 100  63  57  67  15  31  13  89  45  23  30  64\n",
       " [73]  59  25  64  56  32  88  79  38  77  37  39  15  39  60  80  16  12   3\n",
       " [91]  99  27  17   7  69  24  81  88  57  14"
      ]
     },
     "metadata": {},
     "output_type": "display_data"
    },
    {
     "data": {
      "text/html": [
       "47.32"
      ],
      "text/latex": [
       "47.32"
      ],
      "text/markdown": [
       "47.32"
      ],
      "text/plain": [
       "[1] 47.32"
      ]
     },
     "metadata": {},
     "output_type": "display_data"
    }
   ],
   "source": [
    "myNum <- sample(x = 1:100,size=100,replace = TRUE) #replace = T는 복원추출을 의미 \n",
    "myNum \n",
    "mean(myNum)"
   ]
  },
  {
   "cell_type": "markdown",
   "metadata": {},
   "source": [
    "> - 이제 생성된 myNum 벡터 100개 중 20%에 대하여 결측치를 만들어 본다  \n",
    "> - NA가 있는 벡터에 바로 mean()함수를 사용하면 NA가 출력된다.   "
   ]
  },
  {
   "cell_type": "code",
   "execution_count": 4,
   "metadata": {},
   "outputs": [
    {
     "data": {
      "text/html": [
       "<ol class=list-inline>\n",
       "\t<li>37</li>\n",
       "\t<li>&lt;NA&gt;</li>\n",
       "\t<li>58</li>\n",
       "\t<li>&lt;NA&gt;</li>\n",
       "\t<li>80</li>\n",
       "\t<li>23</li>\n",
       "\t<li>60</li>\n",
       "\t<li>33</li>\n",
       "\t<li>22</li>\n",
       "\t<li>74</li>\n",
       "\t<li>43</li>\n",
       "\t<li>70</li>\n",
       "\t<li>73</li>\n",
       "\t<li>&lt;NA&gt;</li>\n",
       "\t<li>&lt;NA&gt;</li>\n",
       "\t<li>79</li>\n",
       "\t<li>26</li>\n",
       "\t<li>24</li>\n",
       "\t<li>94</li>\n",
       "\t<li>&lt;NA&gt;</li>\n",
       "\t<li>36</li>\n",
       "\t<li>&lt;NA&gt;</li>\n",
       "\t<li>39</li>\n",
       "\t<li>49</li>\n",
       "\t<li>48</li>\n",
       "\t<li>29</li>\n",
       "\t<li>71</li>\n",
       "\t<li>76</li>\n",
       "\t<li>60</li>\n",
       "\t<li>40</li>\n",
       "\t<li>20</li>\n",
       "\t<li>55</li>\n",
       "\t<li>2</li>\n",
       "\t<li>&lt;NA&gt;</li>\n",
       "\t<li>83</li>\n",
       "\t<li>12</li>\n",
       "\t<li>&lt;NA&gt;</li>\n",
       "\t<li>&lt;NA&gt;</li>\n",
       "\t<li>21</li>\n",
       "\t<li>92</li>\n",
       "\t<li>&lt;NA&gt;</li>\n",
       "\t<li>&lt;NA&gt;</li>\n",
       "\t<li>13</li>\n",
       "\t<li>2</li>\n",
       "\t<li>46</li>\n",
       "\t<li>17</li>\n",
       "\t<li>42</li>\n",
       "\t<li>47</li>\n",
       "\t<li>86</li>\n",
       "\t<li>&lt;NA&gt;</li>\n",
       "\t<li>63</li>\n",
       "\t<li>41</li>\n",
       "\t<li>51</li>\n",
       "\t<li>44</li>\n",
       "\t<li>41</li>\n",
       "\t<li>42</li>\n",
       "\t<li>38</li>\n",
       "\t<li>24</li>\n",
       "\t<li>&lt;NA&gt;</li>\n",
       "\t<li>&lt;NA&gt;</li>\n",
       "\t<li>100</li>\n",
       "\t<li>63</li>\n",
       "\t<li>57</li>\n",
       "\t<li>67</li>\n",
       "\t<li>15</li>\n",
       "\t<li>31</li>\n",
       "\t<li>13</li>\n",
       "\t<li>&lt;NA&gt;</li>\n",
       "\t<li>45</li>\n",
       "\t<li>23</li>\n",
       "\t<li>30</li>\n",
       "\t<li>&lt;NA&gt;</li>\n",
       "\t<li>59</li>\n",
       "\t<li>25</li>\n",
       "\t<li>64</li>\n",
       "\t<li>56</li>\n",
       "\t<li>32</li>\n",
       "\t<li>88</li>\n",
       "\t<li>79</li>\n",
       "\t<li>38</li>\n",
       "\t<li>77</li>\n",
       "\t<li>&lt;NA&gt;</li>\n",
       "\t<li>39</li>\n",
       "\t<li>15</li>\n",
       "\t<li>39</li>\n",
       "\t<li>&lt;NA&gt;</li>\n",
       "\t<li>80</li>\n",
       "\t<li>16</li>\n",
       "\t<li>&lt;NA&gt;</li>\n",
       "\t<li>3</li>\n",
       "\t<li>99</li>\n",
       "\t<li>27</li>\n",
       "\t<li>17</li>\n",
       "\t<li>7</li>\n",
       "\t<li>&lt;NA&gt;</li>\n",
       "\t<li>24</li>\n",
       "\t<li>81</li>\n",
       "\t<li>88</li>\n",
       "\t<li>57</li>\n",
       "\t<li>14</li>\n",
       "</ol>\n"
      ],
      "text/latex": [
       "\\begin{enumerate*}\n",
       "\\item 37\n",
       "\\item <NA>\n",
       "\\item 58\n",
       "\\item <NA>\n",
       "\\item 80\n",
       "\\item 23\n",
       "\\item 60\n",
       "\\item 33\n",
       "\\item 22\n",
       "\\item 74\n",
       "\\item 43\n",
       "\\item 70\n",
       "\\item 73\n",
       "\\item <NA>\n",
       "\\item <NA>\n",
       "\\item 79\n",
       "\\item 26\n",
       "\\item 24\n",
       "\\item 94\n",
       "\\item <NA>\n",
       "\\item 36\n",
       "\\item <NA>\n",
       "\\item 39\n",
       "\\item 49\n",
       "\\item 48\n",
       "\\item 29\n",
       "\\item 71\n",
       "\\item 76\n",
       "\\item 60\n",
       "\\item 40\n",
       "\\item 20\n",
       "\\item 55\n",
       "\\item 2\n",
       "\\item <NA>\n",
       "\\item 83\n",
       "\\item 12\n",
       "\\item <NA>\n",
       "\\item <NA>\n",
       "\\item 21\n",
       "\\item 92\n",
       "\\item <NA>\n",
       "\\item <NA>\n",
       "\\item 13\n",
       "\\item 2\n",
       "\\item 46\n",
       "\\item 17\n",
       "\\item 42\n",
       "\\item 47\n",
       "\\item 86\n",
       "\\item <NA>\n",
       "\\item 63\n",
       "\\item 41\n",
       "\\item 51\n",
       "\\item 44\n",
       "\\item 41\n",
       "\\item 42\n",
       "\\item 38\n",
       "\\item 24\n",
       "\\item <NA>\n",
       "\\item <NA>\n",
       "\\item 100\n",
       "\\item 63\n",
       "\\item 57\n",
       "\\item 67\n",
       "\\item 15\n",
       "\\item 31\n",
       "\\item 13\n",
       "\\item <NA>\n",
       "\\item 45\n",
       "\\item 23\n",
       "\\item 30\n",
       "\\item <NA>\n",
       "\\item 59\n",
       "\\item 25\n",
       "\\item 64\n",
       "\\item 56\n",
       "\\item 32\n",
       "\\item 88\n",
       "\\item 79\n",
       "\\item 38\n",
       "\\item 77\n",
       "\\item <NA>\n",
       "\\item 39\n",
       "\\item 15\n",
       "\\item 39\n",
       "\\item <NA>\n",
       "\\item 80\n",
       "\\item 16\n",
       "\\item <NA>\n",
       "\\item 3\n",
       "\\item 99\n",
       "\\item 27\n",
       "\\item 17\n",
       "\\item 7\n",
       "\\item <NA>\n",
       "\\item 24\n",
       "\\item 81\n",
       "\\item 88\n",
       "\\item 57\n",
       "\\item 14\n",
       "\\end{enumerate*}\n"
      ],
      "text/markdown": [
       "1. 37\n",
       "2. &lt;NA&gt;\n",
       "3. 58\n",
       "4. &lt;NA&gt;\n",
       "5. 80\n",
       "6. 23\n",
       "7. 60\n",
       "8. 33\n",
       "9. 22\n",
       "10. 74\n",
       "11. 43\n",
       "12. 70\n",
       "13. 73\n",
       "14. &lt;NA&gt;\n",
       "15. &lt;NA&gt;\n",
       "16. 79\n",
       "17. 26\n",
       "18. 24\n",
       "19. 94\n",
       "20. &lt;NA&gt;\n",
       "21. 36\n",
       "22. &lt;NA&gt;\n",
       "23. 39\n",
       "24. 49\n",
       "25. 48\n",
       "26. 29\n",
       "27. 71\n",
       "28. 76\n",
       "29. 60\n",
       "30. 40\n",
       "31. 20\n",
       "32. 55\n",
       "33. 2\n",
       "34. &lt;NA&gt;\n",
       "35. 83\n",
       "36. 12\n",
       "37. &lt;NA&gt;\n",
       "38. &lt;NA&gt;\n",
       "39. 21\n",
       "40. 92\n",
       "41. &lt;NA&gt;\n",
       "42. &lt;NA&gt;\n",
       "43. 13\n",
       "44. 2\n",
       "45. 46\n",
       "46. 17\n",
       "47. 42\n",
       "48. 47\n",
       "49. 86\n",
       "50. &lt;NA&gt;\n",
       "51. 63\n",
       "52. 41\n",
       "53. 51\n",
       "54. 44\n",
       "55. 41\n",
       "56. 42\n",
       "57. 38\n",
       "58. 24\n",
       "59. &lt;NA&gt;\n",
       "60. &lt;NA&gt;\n",
       "61. 100\n",
       "62. 63\n",
       "63. 57\n",
       "64. 67\n",
       "65. 15\n",
       "66. 31\n",
       "67. 13\n",
       "68. &lt;NA&gt;\n",
       "69. 45\n",
       "70. 23\n",
       "71. 30\n",
       "72. &lt;NA&gt;\n",
       "73. 59\n",
       "74. 25\n",
       "75. 64\n",
       "76. 56\n",
       "77. 32\n",
       "78. 88\n",
       "79. 79\n",
       "80. 38\n",
       "81. 77\n",
       "82. &lt;NA&gt;\n",
       "83. 39\n",
       "84. 15\n",
       "85. 39\n",
       "86. &lt;NA&gt;\n",
       "87. 80\n",
       "88. 16\n",
       "89. &lt;NA&gt;\n",
       "90. 3\n",
       "91. 99\n",
       "92. 27\n",
       "93. 17\n",
       "94. 7\n",
       "95. &lt;NA&gt;\n",
       "96. 24\n",
       "97. 81\n",
       "98. 88\n",
       "99. 57\n",
       "100. 14\n",
       "\n",
       "\n"
      ],
      "text/plain": [
       "  [1]  37  NA  58  NA  80  23  60  33  22  74  43  70  73  NA  NA  79  26  24\n",
       " [19]  94  NA  36  NA  39  49  48  29  71  76  60  40  20  55   2  NA  83  12\n",
       " [37]  NA  NA  21  92  NA  NA  13   2  46  17  42  47  86  NA  63  41  51  44\n",
       " [55]  41  42  38  24  NA  NA 100  63  57  67  15  31  13  NA  45  23  30  NA\n",
       " [73]  59  25  64  56  32  88  79  38  77  NA  39  15  39  NA  80  16  NA   3\n",
       " [91]  99  27  17   7  NA  24  81  88  57  14"
      ]
     },
     "metadata": {},
     "output_type": "display_data"
    },
    {
     "data": {
      "text/html": [
       "&lt;NA&gt;"
      ],
      "text/latex": [
       "<NA>"
      ],
      "text/markdown": [
       "&lt;NA&gt;"
      ],
      "text/plain": [
       "[1] NA"
      ]
     },
     "metadata": {},
     "output_type": "display_data"
    }
   ],
   "source": [
    "myNum[sample(x = 1:100, size = 20, replace = FALSE)] <- NA\n",
    "myNum\n",
    "mean(myNum) \n",
    "# NA가 포함되어있는 기술통계는 결과도 NA로 뱉는다. (값이 비어있기 때문)\n",
    "# 그러나 Null 값은 모르는 것을 의미하며 평균 등 통계량 계산시에 Null값을 제외하고 계산한다. "
   ]
  },
  {
   "cell_type": "markdown",
   "metadata": {},
   "source": [
    "> - 따라서 NA값을 제외하고 계산하려면 na.rm = TRUE 옵션을 설정한다  \n",
    "> - 기초 계산 함수는 na.rm 옵션을 받는다. help() 함수로 확인이 가능하다   \n",
    "> - na.rm 옵션을 갖지 않는 함수의 처리는 추후 다른다.   "
   ]
  },
  {
   "cell_type": "code",
   "execution_count": 6,
   "metadata": {},
   "outputs": [
    {
     "data": {
      "text/html": [
       "46.175"
      ],
      "text/latex": [
       "46.175"
      ],
      "text/markdown": [
       "46.175"
      ],
      "text/plain": [
       "[1] 46.175"
      ]
     },
     "metadata": {},
     "output_type": "display_data"
    },
    {
     "data": {
      "text/html": [
       "3694"
      ],
      "text/latex": [
       "3694"
      ],
      "text/markdown": [
       "3694"
      ],
      "text/plain": [
       "[1] 3694"
      ]
     },
     "metadata": {},
     "output_type": "display_data"
    },
    {
     "data": {
      "text/html": [
       "669.057594936709"
      ],
      "text/latex": [
       "669.057594936709"
      ],
      "text/markdown": [
       "669.057594936709"
      ],
      "text/plain": [
       "[1] 669.0576"
      ]
     },
     "metadata": {},
     "output_type": "display_data"
    },
    {
     "data": {
      "text/html": [
       "25.8661476632433"
      ],
      "text/latex": [
       "25.8661476632433"
      ],
      "text/markdown": [
       "25.8661476632433"
      ],
      "text/plain": [
       "[1] 25.86615"
      ]
     },
     "metadata": {},
     "output_type": "display_data"
    }
   ],
   "source": [
    "mean(myNum,na.rm = TRUE)\n",
    "sum(myNum,na.rm = TRUE)\n",
    "var(myNum,na.rm = TRUE)\n",
    "sd(myNum,na.rm = TRUE)"
   ]
  },
  {
   "cell_type": "markdown",
   "metadata": {},
   "source": []
  },
  {
   "cell_type": "markdown",
   "metadata": {},
   "source": [
    "#### 가중평균의 예 1\n",
    "> - 한 대리점에서는 네 종류의 핸드폰을 판매하는데, 목표치 대비 각각 95%,72%,87%,65% 판매하였다. 그리고 네 종류의 휴대폰이 대리점에서 갖는 중요도는 50%, 25%, 12.5%, 12.5%이다.   \n",
    "    > 1) 네 휴대폰 목표 대비 판매율의 평균을 계산하시오  \n",
    "    > 2) 네 종류의 휴대폰이 갖는 중요도를 고려하여 이 대리점의 전체 목표 대비 판매율 평균을 계산하시오   "
   ]
  },
  {
   "cell_type": "code",
   "execution_count": 9,
   "metadata": {},
   "outputs": [
    {
     "data": {
      "text/html": [
       "79.75"
      ],
      "text/latex": [
       "79.75"
      ],
      "text/markdown": [
       "79.75"
      ],
      "text/plain": [
       "[1] 79.75"
      ]
     },
     "metadata": {},
     "output_type": "display_data"
    },
    {
     "data": {
      "text/html": [
       "84.5"
      ],
      "text/latex": [
       "84.5"
      ],
      "text/markdown": [
       "84.5"
      ],
      "text/plain": [
       "[1] 84.5"
      ]
     },
     "metadata": {},
     "output_type": "display_data"
    }
   ],
   "source": [
    "sales <- c(95,72,87,65)\n",
    "weights <- c(0.5,0.25,0.125,0.125)\n",
    "mean(sales)\n",
    "weighted.mean(sales,weights)"
   ]
  },
  {
   "cell_type": "markdown",
   "metadata": {},
   "source": [
    "#### 가중평균의 예 2\n",
    "> 통계학은 3학점, 전산학은 2학점짜리 과목이다. A,B 두과목을 수강한 결과 A는 통계학에서 4.0, 전산학에서 3.0을 B는 통계학에서 3.0,전산학에서 4.0을 받았다. A,B 두 학생의 평균 평점을 구하시오   "
   ]
  },
  {
   "cell_type": "code",
   "execution_count": 11,
   "metadata": {},
   "outputs": [],
   "source": [
    "A.score <- c(4.0,3.0)\n",
    "B.score <- c(3.0,4.0)\n",
    "count <- c(3,2)\n",
    "weight <- count/sum(count)\n",
    "# weight = (0.6,0.4)"
   ]
  },
  {
   "cell_type": "code",
   "execution_count": 12,
   "metadata": {},
   "outputs": [
    {
     "data": {
      "text/html": [
       "3.6"
      ],
      "text/latex": [
       "3.6"
      ],
      "text/markdown": [
       "3.6"
      ],
      "text/plain": [
       "[1] 3.6"
      ]
     },
     "metadata": {},
     "output_type": "display_data"
    },
    {
     "data": {
      "text/html": [
       "3.4"
      ],
      "text/latex": [
       "3.4"
      ],
      "text/markdown": [
       "3.4"
      ],
      "text/plain": [
       "[1] 3.4"
      ]
     },
     "metadata": {},
     "output_type": "display_data"
    }
   ],
   "source": [
    "weighted.mean(A.score,weight)\n",
    "weighted.mean(B.score,weight)"
   ]
  },
  {
   "cell_type": "markdown",
   "metadata": {},
   "source": [
    "#### 가중평균의 예 3\n",
    "> 어느 학급의 기말시험 성적별 학생수가 아래와 같을때 이 학급의 평균 점수를 구하시오"
   ]
  },
  {
   "cell_type": "code",
   "execution_count": 14,
   "metadata": {},
   "outputs": [
    {
     "data": {
      "text/html": [
       "73.7142857142857"
      ],
      "text/latex": [
       "73.7142857142857"
      ],
      "text/markdown": [
       "73.7142857142857"
      ],
      "text/plain": [
       "[1] 73.71429"
      ]
     },
     "metadata": {},
     "output_type": "display_data"
    }
   ],
   "source": [
    "score <- c(90,80,70,60)\n",
    "count <- c(3,12,15,5)\n",
    "weight <- count/sum(count)\n",
    "weighted.mean(score,weight)"
   ]
  },
  {
   "cell_type": "markdown",
   "metadata": {},
   "source": [
    "#### 중앙값\n",
    "> - 중앙값이란 데이터 값들을 오름차순으로 정렬했을때, 중앙에 위치한 값을 말한다.   \n",
    "\n",
    "> 예) 어느 상담부서의 전화통화시간은 다음과 같다. 이 자료의 평균과 중앙값을 구하시오 "
   ]
  },
  {
   "cell_type": "code",
   "execution_count": 16,
   "metadata": {},
   "outputs": [
    {
     "data": {
      "text/html": [
       "7.27272727272727"
      ],
      "text/latex": [
       "7.27272727272727"
      ],
      "text/markdown": [
       "7.27272727272727"
      ],
      "text/plain": [
       "[1] 7.272727"
      ]
     },
     "metadata": {},
     "output_type": "display_data"
    },
    {
     "data": {
      "text/html": [
       "8"
      ],
      "text/latex": [
       "8"
      ],
      "text/markdown": [
       "8"
      ],
      "text/plain": [
       "[1] 8"
      ]
     },
     "metadata": {},
     "output_type": "display_data"
    }
   ],
   "source": [
    "time <- c(7,2,3,7,6,9,10,8,9,9,10)\n",
    "mean(time)\n",
    "median(time)"
   ]
  },
  {
   "cell_type": "code",
   "execution_count": 17,
   "metadata": {},
   "outputs": [
    {
     "data": {
      "text/html": [
       "7.5"
      ],
      "text/latex": [
       "7.5"
      ],
      "text/markdown": [
       "7.5"
      ],
      "text/plain": [
       "[1] 7.5"
      ]
     },
     "metadata": {},
     "output_type": "display_data"
    },
    {
     "data": {
      "text/plain": [
       "   Min. 1st Qu.  Median    Mean 3rd Qu.    Max. \n",
       "   2.00    6.25    7.50    7.10    9.00   10.00 "
      ]
     },
     "metadata": {},
     "output_type": "display_data"
    }
   ],
   "source": [
    "time <- c(7,2,3,7,6,9,10,8,9,10)\n",
    "median(time)\n",
    "summary(time)"
   ]
  },
  {
   "cell_type": "code",
   "execution_count": null,
   "metadata": {},
   "outputs": [],
   "source": [
    "#### 최빈값\n",
    "> - 최빈값이란 데이터 값들 중에서 빈도수가 가장 높은 값을 말한다. "
   ]
  },
  {
   "cell_type": "code",
   "execution_count": 18,
   "metadata": {},
   "outputs": [
    {
     "data": {
      "text/plain": [
       "num.v\n",
       "0 1 2 3 4 5 7 9 \n",
       "1 1 4 2 1 2 1 1 "
      ]
     },
     "metadata": {},
     "output_type": "display_data"
    },
    {
     "data": {
      "text/html": [
       "<strong>2:</strong> 3"
      ],
      "text/latex": [
       "\\textbf{2:} 3"
      ],
      "text/markdown": [
       "**2:** 3"
      ],
      "text/plain": [
       "2 \n",
       "3 "
      ]
     },
     "metadata": {},
     "output_type": "display_data"
    },
    {
     "data": {
      "text/html": [
       "'2'"
      ],
      "text/latex": [
       "'2'"
      ],
      "text/markdown": [
       "'2'"
      ],
      "text/plain": [
       "[1] \"2\""
      ]
     },
     "metadata": {},
     "output_type": "display_data"
    }
   ],
   "source": [
    "num.v <- c(1,2,2,3,4,3,5,5,7,9,2,2,0)\n",
    "char.v <- c('o','it','the','it','it','가','가','가','가','가')\n",
    "\n",
    "freq <- table(num.v)\n",
    "freq\n",
    "which.max(freq)\n",
    "names(freq)[3]"
   ]
  },
  {
   "cell_type": "code",
   "execution_count": 19,
   "metadata": {},
   "outputs": [
    {
     "data": {
      "text/plain": [
       "char.v\n",
       " it   o the  가 \n",
       "  3   1   1   5 "
      ]
     },
     "metadata": {},
     "output_type": "display_data"
    },
    {
     "data": {
      "text/html": [
       "<strong>가:</strong> 4"
      ],
      "text/latex": [
       "\\textbf{가:} 4"
      ],
      "text/markdown": [
       "**가:** 4"
      ],
      "text/plain": [
       "가 \n",
       " 4 "
      ]
     },
     "metadata": {},
     "output_type": "display_data"
    },
    {
     "data": {
      "text/html": [
       "'가'"
      ],
      "text/latex": [
       "'가'"
      ],
      "text/markdown": [
       "'가'"
      ],
      "text/plain": [
       "[1] \"가\""
      ]
     },
     "metadata": {},
     "output_type": "display_data"
    }
   ],
   "source": [
    "freq <- table(char.v)\n",
    "freq\n",
    "which.max(freq)\n",
    "names(freq)[4]"
   ]
  },
  {
   "cell_type": "markdown",
   "metadata": {},
   "source": [
    "#### 빈도표 \n",
    "> 벡터의 내용을 빈도조사하여 표로 만든다"
   ]
  },
  {
   "cell_type": "code",
   "execution_count": 21,
   "metadata": {},
   "outputs": [
    {
     "data": {
      "text/plain": [
       "x\n",
       "a b c d \n",
       "1 1 3 2 "
      ]
     },
     "metadata": {},
     "output_type": "display_data"
    }
   ],
   "source": [
    "x <- c(\"a\",\"b\",\"c\",\"c\",\"c\",\"d\",\"d\")\n",
    "table(x)"
   ]
  },
  {
   "cell_type": "markdown",
   "metadata": {},
   "source": [
    "#### 최대값,최소값의 색인 \n",
    "> 가장 큰/작은 수의 색인(index)을 구한다."
   ]
  },
  {
   "cell_type": "code",
   "execution_count": 22,
   "metadata": {},
   "outputs": [
    {
     "data": {
      "text/html": [
       "5"
      ],
      "text/latex": [
       "5"
      ],
      "text/markdown": [
       "5"
      ],
      "text/plain": [
       "[1] 5"
      ]
     },
     "metadata": {},
     "output_type": "display_data"
    },
    {
     "data": {
      "text/html": [
       "1"
      ],
      "text/latex": [
       "1"
      ],
      "text/markdown": [
       "1"
      ],
      "text/plain": [
       "[1] 1"
      ]
     },
     "metadata": {},
     "output_type": "display_data"
    }
   ],
   "source": [
    "x <- c(1,2,3,NA,5)\n",
    "which.max(x)\n",
    "which.min(x)"
   ]
  },
  {
   "cell_type": "markdown",
   "metadata": {},
   "source": [
    "#### 최대값 최소값\n",
    "> 가장 큰/작은 수를 구한다."
   ]
  },
  {
   "cell_type": "code",
   "execution_count": 23,
   "metadata": {
    "scrolled": true
   },
   "outputs": [
    {
     "data": {
      "text/html": [
       "4"
      ],
      "text/latex": [
       "4"
      ],
      "text/markdown": [
       "4"
      ],
      "text/plain": [
       "[1] 4"
      ]
     },
     "metadata": {},
     "output_type": "display_data"
    },
    {
     "data": {
      "text/html": [
       "1"
      ],
      "text/latex": [
       "1"
      ],
      "text/markdown": [
       "1"
      ],
      "text/plain": [
       "[1] 1"
      ]
     },
     "metadata": {},
     "output_type": "display_data"
    }
   ],
   "source": [
    "x <- c(1,2,3,NA,4)\n",
    "max(x,na.rm = TRUE)\n",
    "min(x,na.rm = TRUE)"
   ]
  },
  {
   "cell_type": "markdown",
   "metadata": {},
   "source": [
    "#### 숙제 \n",
    "> 주사위를 하나 던져 나올 수 있는 눈의 평균과 표준편차를 다음 순서에 따라 구하시오   \n",
    "> 1) 이론적으로 예상할 수 있는 평균과 표준편차는 얼마인가?   \n",
    "> 2) 주사위를 10번 던졌을 때 평균과 표준편차를 R로 구하시오    \n",
    "> 3) 주사위를 1,000,000번 던졌을 때의 평균과 표준편차를 R로 구하시오  \n",
    "> 4) 1,2,3에서 각각 구한 값을 비교하여, 값의 차이가 나는 이유를 설명하시오  "
   ]
  },
  {
   "cell_type": "code",
   "execution_count": 25,
   "metadata": {},
   "outputs": [
    {
     "data": {
      "text/html": [
       "0.166666666666667"
      ],
      "text/latex": [
       "0.166666666666667"
      ],
      "text/markdown": [
       "0.166666666666667"
      ],
      "text/plain": [
       "[1] 0.1666667"
      ]
     },
     "metadata": {},
     "output_type": "display_data"
    },
    {
     "data": {
      "text/html": [
       "0"
      ],
      "text/latex": [
       "0"
      ],
      "text/markdown": [
       "0"
      ],
      "text/plain": [
       "[1] 0"
      ]
     },
     "metadata": {},
     "output_type": "display_data"
    }
   ],
   "source": [
    "x <- c(1/6,1/6,1/6,1/6,1/6,1/6)\n",
    "mean(x)\n",
    "var(x)\n"
   ]
  },
  {
   "cell_type": "markdown",
   "metadata": {},
   "source": [
    "## 자료의 분산 "
   ]
  },
  {
   "cell_type": "markdown",
   "metadata": {},
   "source": [
    "### 자료의 퍼짐 정도 측정 "
   ]
  },
  {
   "cell_type": "markdown",
   "metadata": {},
   "source": [
    "#### 분산\n",
    "> 분산이란 자료가 얼마나 퍼져 있는지를 의미  \n",
    "> 자료의 퍼짐 정도를 측정하는 방법으로는 세 가지 정도 사용됨   \n",
    "> 범위, 분산, 표준편차   "
   ]
  },
  {
   "cell_type": "markdown",
   "metadata": {},
   "source": [
    "#### 범위 \n",
    "> 범위란 데이터 값들 중에서 최대 데이터 값과 최소 데이터 값 사이의 차이를 말한다. \n",
    "> - 5명의 체중이 72,67,60,78,82일 때 이 데이터의 범위를 구하시오"
   ]
  },
  {
   "cell_type": "code",
   "execution_count": 27,
   "metadata": {},
   "outputs": [
    {
     "data": {
      "text/html": [
       "22"
      ],
      "text/latex": [
       "22"
      ],
      "text/markdown": [
       "22"
      ],
      "text/plain": [
       "[1] 22"
      ]
     },
     "metadata": {},
     "output_type": "display_data"
    }
   ],
   "source": [
    "weight <- c(72,67,60,78,82)\n",
    "max(weight) - min(weight)"
   ]
  },
  {
   "cell_type": "markdown",
   "metadata": {},
   "source": [
    "#### 분산 \n",
    "> 5명의 체중이 72, 67, 60, 78, 82 일때 이 데이터의 분산을 구하시오"
   ]
  },
  {
   "cell_type": "code",
   "execution_count": 28,
   "metadata": {},
   "outputs": [
    {
     "data": {
      "text/html": [
       "76.2"
      ],
      "text/latex": [
       "76.2"
      ],
      "text/markdown": [
       "76.2"
      ],
      "text/plain": [
       "[1] 76.2"
      ]
     },
     "metadata": {},
     "output_type": "display_data"
    }
   ],
   "source": [
    "weight <- c(72,67,60,78,82)\n",
    "var(weight)"
   ]
  },
  {
   "cell_type": "markdown",
   "metadata": {},
   "source": [
    "#### 표준편차\n",
    "> 표준편차는 단순히 분산에 제곱근을 취한 것이다. 분산은 제곱값이어서 데이터 값 단위와 일치하지 않기 때문에 다시 제곱근을 취한 표준편차를 많이 이용한다. "
   ]
  },
  {
   "cell_type": "code",
   "execution_count": 30,
   "metadata": {},
   "outputs": [
    {
     "data": {
      "text/html": [
       "8.72926113711808"
      ],
      "text/latex": [
       "8.72926113711808"
      ],
      "text/markdown": [
       "8.72926113711808"
      ],
      "text/plain": [
       "[1] 8.729261"
      ]
     },
     "metadata": {},
     "output_type": "display_data"
    }
   ],
   "source": [
    "weight <- c(72,67,60,78,82)\n",
    "sd(weight)"
   ]
  },
  {
   "cell_type": "markdown",
   "metadata": {},
   "source": [
    "## 데이터의 위치 "
   ]
  },
  {
   "cell_type": "markdown",
   "metadata": {},
   "source": [
    "### 구간별 데이터 파악"
   ]
  },
  {
   "cell_type": "markdown",
   "metadata": {},
   "source": [
    "#### 사분위수 \n",
    "> 사분위수란 자료를 크기순으로 배열하고, 누적 백분율을 4등분한 각 점에 해당하는 값을 말함   \n",
    "> summary()함수로도 구할 수 있음  \n",
    "> 중앙값 외에도 평균값을 제시   \n",
    "> na.rm = TRUE가 default다.  "
   ]
  },
  {
   "cell_type": "code",
   "execution_count": 33,
   "metadata": {},
   "outputs": [
    {
     "data": {
      "text/html": [
       "<dl class=dl-horizontal>\n",
       "\t<dt>0%</dt>\n",
       "\t\t<dd>130</dd>\n",
       "\t<dt>25%</dt>\n",
       "\t\t<dd>135</dd>\n",
       "\t<dt>50%</dt>\n",
       "\t\t<dd>147.5</dd>\n",
       "\t<dt>75%</dt>\n",
       "\t\t<dd>170</dd>\n",
       "\t<dt>100%</dt>\n",
       "\t\t<dd>186</dd>\n",
       "</dl>\n"
      ],
      "text/latex": [
       "\\begin{description*}\n",
       "\\item[0\\textbackslash{}\\%] 130\n",
       "\\item[25\\textbackslash{}\\%] 135\n",
       "\\item[50\\textbackslash{}\\%] 147.5\n",
       "\\item[75\\textbackslash{}\\%] 170\n",
       "\\item[100\\textbackslash{}\\%] 186\n",
       "\\end{description*}\n"
      ],
      "text/markdown": [
       "0%\n",
       ":   13025%\n",
       ":   13550%\n",
       ":   147.575%\n",
       ":   170100%\n",
       ":   186\n",
       "\n"
      ],
      "text/plain": [
       "   0%   25%   50%   75%  100% \n",
       "130.0 135.0 147.5 170.0 186.0 "
      ]
     },
     "metadata": {},
     "output_type": "display_data"
    },
    {
     "data": {
      "text/plain": [
       "   Min. 1st Qu.  Median    Mean 3rd Qu.    Max. \n",
       "  130.0   135.0   147.5   153.4   170.0   186.0 "
      ]
     },
     "metadata": {},
     "output_type": "display_data"
    },
    {
     "data": {
      "text/html": [
       "<strong>25%:</strong> 135"
      ],
      "text/latex": [
       "\\textbf{25\\textbackslash{}\\%:} 135"
      ],
      "text/markdown": [
       "**25%:** 135"
      ],
      "text/plain": [
       "25% \n",
       "135 "
      ]
     },
     "metadata": {},
     "output_type": "display_data"
    },
    {
     "data": {
      "text/html": [
       "<strong>30%:</strong> 136.4"
      ],
      "text/latex": [
       "\\textbf{30\\textbackslash{}\\%:} 136.4"
      ],
      "text/markdown": [
       "**30%:** 136.4"
      ],
      "text/plain": [
       "  30% \n",
       "136.4 "
      ]
     },
     "metadata": {},
     "output_type": "display_data"
    },
    {
     "data": {
      "text/html": [
       "<dl class=dl-horizontal>\n",
       "\t<dt>25%</dt>\n",
       "\t\t<dd>135</dd>\n",
       "\t<dt>30%</dt>\n",
       "\t\t<dd>136.4</dd>\n",
       "</dl>\n"
      ],
      "text/latex": [
       "\\begin{description*}\n",
       "\\item[25\\textbackslash{}\\%] 135\n",
       "\\item[30\\textbackslash{}\\%] 136.4\n",
       "\\end{description*}\n"
      ],
      "text/markdown": [
       "25%\n",
       ":   13530%\n",
       ":   136.4\n",
       "\n"
      ],
      "text/plain": [
       "  25%   30% \n",
       "135.0 136.4 "
      ]
     },
     "metadata": {},
     "output_type": "display_data"
    }
   ],
   "source": [
    "x <- c(136,182,166,132,130,186,140,155)\n",
    "quantile(x) #4분위수 파악 가능\n",
    "summary(x) # 4분위수와 최소 최대값까지 파악 가능\n",
    " #구간 지정도 가능하다\n",
    "quantile(x,0.25)\n",
    "quantile(x,0.3)\n",
    "quantile(x,c(0.25,0.3))"
   ]
  },
  {
   "cell_type": "code",
   "execution_count": 37,
   "metadata": {},
   "outputs": [
    {
     "data": {
      "text/plain": [
       "  Sepal.Length    Sepal.Width     Petal.Length    Petal.Width   \n",
       " Min.   :4.300   Min.   :2.000   Min.   :1.000   Min.   :0.100  \n",
       " 1st Qu.:5.100   1st Qu.:2.800   1st Qu.:1.600   1st Qu.:0.300  \n",
       " Median :5.800   Median :3.000   Median :4.350   Median :1.300  \n",
       " Mean   :5.843   Mean   :3.057   Mean   :3.758   Mean   :1.199  \n",
       " 3rd Qu.:6.400   3rd Qu.:3.300   3rd Qu.:5.100   3rd Qu.:1.800  \n",
       " Max.   :7.900   Max.   :4.400   Max.   :6.900   Max.   :2.500  \n",
       "       Species  \n",
       " setosa    :50  \n",
       " versicolor:50  \n",
       " virginica :50  \n",
       "                \n",
       "                \n",
       "                "
      ]
     },
     "metadata": {},
     "output_type": "display_data"
    }
   ],
   "source": [
    "summary(iris)"
   ]
  },
  {
   "cell_type": "markdown",
   "metadata": {},
   "source": [
    "#### Boxplot \n",
    "> Boxplot(상자그림)은 자료의 분포 형태를 4분위수(Q1~Q3)와 최소값, 최대값의 다섯 가지 정보로 나타낸 그래프이다.  "
   ]
  },
  {
   "cell_type": "code",
   "execution_count": 36,
   "metadata": {},
   "outputs": [
    {
     "data": {
      "image/png": "[encoded data removed]",
      "text/plain": [
       "plot without title"
      ]
     },
     "metadata": {},
     "output_type": "display_data"
    }
   ],
   "source": [
    "x <- c(136, 182, 166, 132, 130, 186, 140, 155)\n",
    "boxplot(x)"
   ]
  },
  {
   "cell_type": "markdown",
   "metadata": {},
   "source": [
    "#### 도수분포표\n",
    "> - 수집된 데이터에서 값의 종류가 매우 다양할 경우 모든 값에 대하여 빈도 조사를 하는 것은 큰 의미가 없을 수 있다.  \n",
    "> - 이러한 경우 전체 데이터를 일정한 구간으로 설정해 각 구간의 범위 안에 조사된 데이터 값들이 몇 개씩 속하는지를 볼 필요가 있다.   \n",
    "> - 구간 별 빈도 조사를 한 표를 도수분포표라고 한다.  "
   ]
  },
  {
   "cell_type": "markdown",
   "metadata": {},
   "source": [
    "#### 계급과 급간 \n",
    "> - 따라서 구간을 설정해야 하는 경우, 설정된 각 구간을 계급이라고 한다\n",
    "> - 그리고 각 계급에 속한 데이터 값들의 개수를 도수라한다. \n",
    "> - 또, 각 계급에 설정된 구간의 범위, 즉 계급의 간격을 급간이라고 한다  \n",
    "> - 계급의 수와 급간은 일반적으로 다음과 같은 식을 취하되, 데이터의 성격에 따라 조정이 가능하다. \n",
    "> - 계급의 수 = (자료의 측정값들의 개수) ^(1/3)\n",
    "> - 급간 = (가장 큰 측정값 - 가장 작은 측정값)/ 계급 수"
   ]
  },
  {
   "cell_type": "code",
   "execution_count": null,
   "metadata": {},
   "outputs": [],
   "source": [
    "#### 계급과 급간의 예 1\n",
    "> 통계학을 수강하는 학생 100명으로부터 20명을 표본으로 추출하여 통계학 점수를 아래와 같이 조사하였다. \n",
    "> 88,67,76,80,86,94,78,84,82,75,80,75,65,84,78,82,71,60,87,75\n",
    "\n"
   ]
  },
  {
   "cell_type": "code",
   "execution_count": 9,
   "metadata": {},
   "outputs": [
    {
     "data": {
      "text/html": [
       "3"
      ],
      "text/latex": [
       "3"
      ],
      "text/markdown": [
       "3"
      ],
      "text/plain": [
       "[1] 3"
      ]
     },
     "metadata": {},
     "output_type": "display_data"
    },
    {
     "data": {
      "text/html": [
       "8"
      ],
      "text/latex": [
       "8"
      ],
      "text/markdown": [
       "8"
      ],
      "text/plain": [
       "[1] 8"
      ]
     },
     "metadata": {},
     "output_type": "display_data"
    }
   ],
   "source": [
    "x <- c(88,67,76,80,86,94,78,84,82,75,80,75,65,84,78,82,71,60,87,75)\n",
    "# 계급 \n",
    "g = round(length(x)^(1/3))\n",
    "g\n",
    "# but, 실제 자료는 60~90까지므로 10씩 4구간을 계급을 설정\n",
    "\n",
    "#급간 \n",
    "round((max(x)-min(x))/4)\n"
   ]
  },
  {
   "cell_type": "markdown",
   "metadata": {},
   "source": [
    "#### 계급과 급간의 예 2\n",
    "> 아래는 미국에 있는 45개 대학의 등록금 자료이다. "
   ]
  },
  {
   "cell_type": "code",
   "execution_count": 1,
   "metadata": {},
   "outputs": [],
   "source": [
    "x <- c(6.5,4.0,7.1,8.3,5.4,7.6,9.0,15.7,16.7,6.4,5.0,8.5,5.7,7.7,7.2,12.4,7.1,5.5,9.7,4.4,7.0,6.3,8.3,6.9,5.7,7.6,7.9,7.9,6.0,8.2,10.4,9.9,3.9,9.8,8.2,5.6,7.9,6.4,7.4,7.0,13.0,8.7,6.4,6.7,7.4)"
   ]
  },
  {
   "cell_type": "code",
   "execution_count": 2,
   "metadata": {},
   "outputs": [
    {
     "data": {
      "text/html": [
       "3.55689330449006"
      ],
      "text/latex": [
       "3.55689330449006"
      ],
      "text/markdown": [
       "3.55689330449006"
      ],
      "text/plain": [
       "[1] 3.556893"
      ]
     },
     "metadata": {},
     "output_type": "display_data"
    },
    {
     "data": {
      "text/html": [
       "4"
      ],
      "text/latex": [
       "4"
      ],
      "text/markdown": [
       "4"
      ],
      "text/plain": [
       "[1] 4"
      ]
     },
     "metadata": {},
     "output_type": "display_data"
    },
    {
     "data": {
      "text/html": [
       "3"
      ],
      "text/latex": [
       "3"
      ],
      "text/markdown": [
       "3"
      ],
      "text/plain": [
       "[1] 3"
      ]
     },
     "metadata": {},
     "output_type": "display_data"
    }
   ],
   "source": [
    "# 계급\n",
    "x.num <- length(x)\n",
    "x.num^(1/3)\n",
    "round(x.num^(1/3))\n",
    "# 급간 \n",
    "round((max(x)-min(x))/4)"
   ]
  },
  {
   "cell_type": "code",
   "execution_count": 3,
   "metadata": {},
   "outputs": [],
   "source": [
    "#### 도수분포표 예1 "
   ]
  },
  {
   "cell_type": "code",
   "execution_count": 13,
   "metadata": {},
   "outputs": [
    {
     "data": {
      "text/html": [
       "3.9"
      ],
      "text/latex": [
       "3.9"
      ],
      "text/markdown": [
       "3.9"
      ],
      "text/plain": [
       "[1] 3.9"
      ]
     },
     "metadata": {},
     "output_type": "display_data"
    },
    {
     "data": {
      "text/html": [
       "16.7"
      ],
      "text/latex": [
       "16.7"
      ],
      "text/markdown": [
       "16.7"
      ],
      "text/plain": [
       "[1] 16.7"
      ]
     },
     "metadata": {},
     "output_type": "display_data"
    }
   ],
   "source": [
    "min(x)\n",
    "max(x)"
   ]
  },
  {
   "cell_type": "code",
   "execution_count": 4,
   "metadata": {},
   "outputs": [
    {
     "data": {
      "text/plain": [
       "x.cut\n",
       "  [3,6)   [6,9)  [9,12) [12,15) [15,18) \n",
       "      9      27       5       2       2 "
      ]
     },
     "metadata": {},
     "output_type": "display_data"
    }
   ],
   "source": [
    "x.cut <- cut(x,breaks = seq(3.0,18.0,by =3.0),right = FALSE) #right=FALSE는 이상~ 미만\n",
    "table(x.cut)"
   ]
  },
  {
   "cell_type": "code",
   "execution_count": 6,
   "metadata": {},
   "outputs": [
    {
     "data": {
      "text/plain": [
       "x.cut\n",
       "[3.89~8.17) [8.17~12.4) [12.4~16.7) \n",
       "         30          12           3 "
      ]
     },
     "metadata": {},
     "output_type": "display_data"
    }
   ],
   "source": [
    "# 이 과정을 자동화 하기 위한 코드 \n",
    "x.num <- length(x)\n",
    "x.classNum <- round(x.num^(1/3))\n",
    "x.classInterval <- round(max(x) - min(x) / x.classNum)\n",
    "\n",
    "x.floor <- floor(min(x))\n",
    "rest <- ceiling(max(x))\n",
    "supplement <- x.classInterval - rest\n",
    "x.ceiling <- ifelse(rest==0, ceiling(max(x)),ceiling(max(x))+ supplement)\n",
    "\n",
    "x.cut <- cut(x,breaks = seq(x.floor,x.ceiling, by = x.classInterval),right =FALSE)\n",
    "x.levels <- gsub(\",\",\"~\",levels(x.cut))\n",
    "x.cut <- cut(x,breaks = seq(x.floor,x.ceiling, by = x.classInterval),right = F, labels = x.levels)\n",
    "table(x.cut)\n"
   ]
  },
  {
   "cell_type": "markdown",
   "metadata": {},
   "source": [
    "#### 상대도수 분포표\n",
    "> - 상대도수는 어느 계급에 속한 도수가 전체 도수에서 차지하는 비율을 말한다.   \n",
    "> - 따라서 상대도수분포표는 상대도수를 각 계급별로 표시한 것이다.   \n",
    "> - prop.table() 함수로 구현한다.   \n",
    "> - 도수분포표 예 2의 결과에 대하여 상대도수 분포표를 작성하시오   "
   ]
  },
  {
   "cell_type": "code",
   "execution_count": 7,
   "metadata": {},
   "outputs": [
    {
     "data": {
      "text/plain": [
       "x.cut\n",
       "[3.89~8.17) [8.17~12.4) [12.4~16.7) \n",
       "       66.7        26.7         6.7 "
      ]
     },
     "metadata": {},
     "output_type": "display_data"
    }
   ],
   "source": [
    "x.table <- table(x.cut)\n",
    "round(prop.table(x.table),digits = 3) * 100"
   ]
  },
  {
   "cell_type": "markdown",
   "metadata": {},
   "source": [
    "#### 숙제 \n",
    "#### titanic 데이터"
   ]
  },
  {
   "cell_type": "code",
   "execution_count": 9,
   "metadata": {},
   "outputs": [],
   "source": [
    "titanic <- read.csv(\"train.csv\")"
   ]
  },
  {
   "cell_type": "code",
   "execution_count": 10,
   "metadata": {},
   "outputs": [
    {
     "data": {
      "text/html": [
       "<table>\n",
       "<thead><tr><th scope=col>PassengerId</th><th scope=col>Survived</th><th scope=col>Pclass</th><th scope=col>Name</th><th scope=col>Sex</th><th scope=col>Age</th><th scope=col>SibSp</th><th scope=col>Parch</th><th scope=col>Ticket</th><th scope=col>Fare</th><th scope=col>Cabin</th><th scope=col>Embarked</th></tr></thead>\n",
       "<tbody>\n",
       "\t<tr><td>1                                                  </td><td>0                                                  </td><td>3                                                  </td><td>Braund, Mr. Owen Harris                            </td><td>male                                               </td><td>22                                                 </td><td>1                                                  </td><td>0                                                  </td><td>A/5 21171                                          </td><td> 7.2500                                            </td><td>                                                   </td><td>S                                                  </td></tr>\n",
       "\t<tr><td>2                                                  </td><td>1                                                  </td><td>1                                                  </td><td>Cumings, Mrs. John Bradley (Florence Briggs Thayer)</td><td>female                                             </td><td>38                                                 </td><td>1                                                  </td><td>0                                                  </td><td>PC 17599                                           </td><td>71.2833                                            </td><td>C85                                                </td><td>C                                                  </td></tr>\n",
       "\t<tr><td>3                                                  </td><td>1                                                  </td><td>3                                                  </td><td>Heikkinen, Miss. Laina                             </td><td>female                                             </td><td>26                                                 </td><td>0                                                  </td><td>0                                                  </td><td>STON/O2. 3101282                                   </td><td> 7.9250                                            </td><td>                                                   </td><td>S                                                  </td></tr>\n",
       "\t<tr><td>4                                                  </td><td>1                                                  </td><td>1                                                  </td><td>Futrelle, Mrs. Jacques Heath (Lily May Peel)       </td><td>female                                             </td><td>35                                                 </td><td>1                                                  </td><td>0                                                  </td><td>113803                                             </td><td>53.1000                                            </td><td>C123                                               </td><td>S                                                  </td></tr>\n",
       "\t<tr><td>5                                                  </td><td>0                                                  </td><td>3                                                  </td><td>Allen, Mr. William Henry                           </td><td>male                                               </td><td>35                                                 </td><td>0                                                  </td><td>0                                                  </td><td>373450                                             </td><td> 8.0500                                            </td><td>                                                   </td><td>S                                                  </td></tr>\n",
       "\t<tr><td>6                                                  </td><td>0                                                  </td><td>3                                                  </td><td>Moran, Mr. James                                   </td><td>male                                               </td><td>NA                                                 </td><td>0                                                  </td><td>0                                                  </td><td>330877                                             </td><td> 8.4583                                            </td><td>                                                   </td><td>Q                                                  </td></tr>\n",
       "</tbody>\n",
       "</table>\n"
      ],
      "text/latex": [
       "\\begin{tabular}{r|llllllllllll}\n",
       " PassengerId & Survived & Pclass & Name & Sex & Age & SibSp & Parch & Ticket & Fare & Cabin & Embarked\\\\\n",
       "\\hline\n",
       "\t 1                                                   & 0                                                   & 3                                                   & Braund, Mr. Owen Harris                             & male                                                & 22                                                  & 1                                                   & 0                                                   & A/5 21171                                           &  7.2500                                             &                                                     & S                                                  \\\\\n",
       "\t 2                                                   & 1                                                   & 1                                                   & Cumings, Mrs. John Bradley (Florence Briggs Thayer) & female                                              & 38                                                  & 1                                                   & 0                                                   & PC 17599                                            & 71.2833                                             & C85                                                 & C                                                  \\\\\n",
       "\t 3                                                   & 1                                                   & 3                                                   & Heikkinen, Miss. Laina                              & female                                              & 26                                                  & 0                                                   & 0                                                   & STON/O2. 3101282                                    &  7.9250                                             &                                                     & S                                                  \\\\\n",
       "\t 4                                                   & 1                                                   & 1                                                   & Futrelle, Mrs. Jacques Heath (Lily May Peel)        & female                                              & 35                                                  & 1                                                   & 0                                                   & 113803                                              & 53.1000                                             & C123                                                & S                                                  \\\\\n",
       "\t 5                                                   & 0                                                   & 3                                                   & Allen, Mr. William Henry                            & male                                                & 35                                                  & 0                                                   & 0                                                   & 373450                                              &  8.0500                                             &                                                     & S                                                  \\\\\n",
       "\t 6                                                   & 0                                                   & 3                                                   & Moran, Mr. James                                    & male                                                & NA                                                  & 0                                                   & 0                                                   & 330877                                              &  8.4583                                             &                                                     & Q                                                  \\\\\n",
       "\\end{tabular}\n"
      ],
      "text/markdown": [
       "\n",
       "PassengerId | Survived | Pclass | Name | Sex | Age | SibSp | Parch | Ticket | Fare | Cabin | Embarked | \n",
       "|---|---|---|---|---|---|\n",
       "| 1                                                   | 0                                                   | 3                                                   | Braund, Mr. Owen Harris                             | male                                                | 22                                                  | 1                                                   | 0                                                   | A/5 21171                                           |  7.2500                                             |                                                     | S                                                   | \n",
       "| 2                                                   | 1                                                   | 1                                                   | Cumings, Mrs. John Bradley (Florence Briggs Thayer) | female                                              | 38                                                  | 1                                                   | 0                                                   | PC 17599                                            | 71.2833                                             | C85                                                 | C                                                   | \n",
       "| 3                                                   | 1                                                   | 3                                                   | Heikkinen, Miss. Laina                              | female                                              | 26                                                  | 0                                                   | 0                                                   | STON/O2. 3101282                                    |  7.9250                                             |                                                     | S                                                   | \n",
       "| 4                                                   | 1                                                   | 1                                                   | Futrelle, Mrs. Jacques Heath (Lily May Peel)        | female                                              | 35                                                  | 1                                                   | 0                                                   | 113803                                              | 53.1000                                             | C123                                                | S                                                   | \n",
       "| 5                                                   | 0                                                   | 3                                                   | Allen, Mr. William Henry                            | male                                                | 35                                                  | 0                                                   | 0                                                   | 373450                                              |  8.0500                                             |                                                     | S                                                   | \n",
       "| 6                                                   | 0                                                   | 3                                                   | Moran, Mr. James                                    | male                                                | NA                                                  | 0                                                   | 0                                                   | 330877                                              |  8.4583                                             |                                                     | Q                                                   | \n",
       "\n",
       "\n"
      ],
      "text/plain": [
       "  PassengerId Survived Pclass\n",
       "1 1           0        3     \n",
       "2 2           1        1     \n",
       "3 3           1        3     \n",
       "4 4           1        1     \n",
       "5 5           0        3     \n",
       "6 6           0        3     \n",
       "  Name                                                Sex    Age SibSp Parch\n",
       "1 Braund, Mr. Owen Harris                             male   22  1     0    \n",
       "2 Cumings, Mrs. John Bradley (Florence Briggs Thayer) female 38  1     0    \n",
       "3 Heikkinen, Miss. Laina                              female 26  0     0    \n",
       "4 Futrelle, Mrs. Jacques Heath (Lily May Peel)        female 35  1     0    \n",
       "5 Allen, Mr. William Henry                            male   35  0     0    \n",
       "6 Moran, Mr. James                                    male   NA  0     0    \n",
       "  Ticket           Fare    Cabin Embarked\n",
       "1 A/5 21171         7.2500       S       \n",
       "2 PC 17599         71.2833 C85   C       \n",
       "3 STON/O2. 3101282  7.9250       S       \n",
       "4 113803           53.1000 C123  S       \n",
       "5 373450            8.0500       S       \n",
       "6 330877            8.4583       Q       "
      ]
     },
     "metadata": {},
     "output_type": "display_data"
    }
   ],
   "source": [
    "head(titanic)"
   ]
  },
  {
   "cell_type": "code",
   "execution_count": 19,
   "metadata": {},
   "outputs": [
    {
     "data": {
      "text/plain": [
       "   Min. 1st Qu.  Median    Mean 3rd Qu.    Max.    NA's \n",
       "   0.42   20.12   28.00   29.70   38.00   80.00     177 "
      ]
     },
     "metadata": {},
     "output_type": "display_data"
    },
    {
     "data": {
      "text/plain": [
       "   Min. 1st Qu.  Median    Mean 3rd Qu.    Max. \n",
       "   0.00    7.91   14.45   32.20   31.00  512.33 "
      ]
     },
     "metadata": {},
     "output_type": "display_data"
    }
   ],
   "source": [
    "summary(titanic$Age)\n",
    "summary(titanic$Fare)"
   ]
  },
  {
   "cell_type": "code",
   "execution_count": 31,
   "metadata": {},
   "outputs": [
    {
     "data": {
      "image/png": "[encoded data removed]",
      "text/plain": [
       "plot without title"
      ]
     },
     "metadata": {},
     "output_type": "display_data"
    }
   ],
   "source": [
    "par ( mfrow = c(2,2) )     # (nr,nc)<- nr : 행의 갯수, nc : 열의 갯수 plot을 만들기 전에 정의되어야하는 함수 \n",
    "\n",
    "boxplot(titanic$Age)\n",
    "boxplot(titanic$Fare)\n"
   ]
  },
  {
   "cell_type": "code",
   "execution_count": 12,
   "metadata": {},
   "outputs": [],
   "source": [
    "### 4. 데이터 요약 "
   ]
  },
  {
   "cell_type": "code",
   "execution_count": null,
   "metadata": {},
   "outputs": [],
   "source": [
    "#### plot \n",
    "> 데이터를 요약하지 않고 그래프로 그리면 다음과 같다. \n"
   ]
  },
  {
   "cell_type": "code",
   "execution_count": null,
   "metadata": {},
   "outputs": [],
   "source": []
  },
  {
   "cell_type": "code",
   "execution_count": 17,
   "metadata": {},
   "outputs": [
    {
     "data": {
      "image/png": "[encoded data removed]",
      "text/plain": [
       "Plot with title \"Histogram of x\""
      ]
     },
     "metadata": {},
     "output_type": "display_data"
    }
   ],
   "source": [
    "x <- c(6.5,4.0,7.1,8.3,5.4,7.6,9.0,15.7,16.7,6.4,5.0,8.5,5.7,7.7,7.2,12.4,7.1,5.5,9.7,4.4,7.0,6.3,8.3,6.9,5.7,7.6,7.9,7.9,6.0,8.2,10.4,9.9,3.9,9.8,8.2,5.6,7.9,6.4,7.4,7.0,13.0,8.7,6.4,6.7,7.4)\n",
    "par ( mfrow = c(2,2) )     # (nr,nc)<- nr : 행의 갯수, nc : 열의 갯수\n",
    "plot(x) # 단순 plot\n",
    "boxplot(x) # boxplot\n",
    "hist(x) # histogram\n",
    "barplot(x) # barplot"
   ]
  },
  {
   "cell_type": "code",
   "execution_count": 18,
   "metadata": {},
   "outputs": [
    {
     "name": "stdout",
     "output_type": "stream",
     "text": [
      "\n",
      "  The decimal point is 1 digit(s) to the right of the |\n",
      "\n",
      "  1 | 89\n",
      "  2 | 128999\n",
      "  3 | 2456\n",
      "  4 | 02\n",
      "  5 | 68\n",
      "  6 | 4\n",
      "\n"
     ]
    }
   ],
   "source": [
    "age <- c(18,21,22,19,34,32,40,42,56,58,64,28,29,29,29,36,35)\n",
    "stem(age) # stem - and - lear plot"
   ]
  },
  {
   "cell_type": "markdown",
   "metadata": {},
   "source": [
    "#### 연습 \n",
    "> - Age, Pclass, Fare에 대한 히스토그램을 그리시오"
   ]
  },
  {
   "cell_type": "code",
   "execution_count": 30,
   "metadata": {},
   "outputs": [
    {
     "data": {
      "image/png": "[encoded data removed]",
      "text/plain": [
       "Plot with title \"Histogram of titanic$Fare\""
      ]
     },
     "metadata": {},
     "output_type": "display_data"
    }
   ],
   "source": [
    "par ( mfrow = c(2,3) )     # (nr,nc)<- nr : 행의 갯수, nc : 열의 갯수\n",
    "\n",
    "hist(titanic$Age)\n",
    "hist(titanic$Pclass)\n",
    "hist(titanic$Fare)\n",
    "\n",
    "\n"
   ]
  },
  {
   "cell_type": "markdown",
   "metadata": {},
   "source": [
    "## 분포의 대칭성 \n",
    "### 비대칭도 구하기"
   ]
  },
  {
   "cell_type": "markdown",
   "metadata": {},
   "source": [
    "#### 왜도와 첨도 \n",
    "> - 비대칭도는 데이터의 분포가 정규분포를 갖는지를 알기 위해서 이용한다    \n",
    "> - 왜도와 첨도의 통계량을 사용하여 파악한다.   \n",
    "\n",
    "> - 왜도는 평균을 중심으로 한 분포의 비대칭 정도를 나타냄   \n",
    "> - 기울어진 방향과 정도를 나타내는 양을 나타냄  \n",
    "> - 값이 0보다 크면 분포의 오른쪽 방향으로 비대칭 꼬리가 치우치고 값이 0보다 작으면 왼쪽 방향으로 비대칭 꼬리가 치우친다.   \n",
    "\n",
    "> - 첨도는 정규분포와 비교하여 얼마나 뾰족한가를 나타냄  \n",
    "> - 관측치들이 얼마나 중심에 몰려있는가를 측정할때 사용   \n",
    "> - 첨도가 3이면 정규분포곡선을, 3보다 크면 정규분포보다 뾰족한 형태를, 3보다 작으면 정규분포보다 완만한 형태의 곡선을 그림   "
   ]
  },
  {
   "cell_type": "code",
   "execution_count": 33,
   "metadata": {},
   "outputs": [
    {
     "name": "stderr",
     "output_type": "stream",
     "text": [
      "Warning message:\n",
      "\"unable to access index for repository http://www.stats.ox.ac.uk/pub/RWin/bin/windows/contrib/3.5:\n",
      "  URL 'http://www.stats.ox.ac.uk/pub/RWin/bin/windows/contrib/3.5/PACKAGES'를 열 수 없습니다\""
     ]
    },
    {
     "name": "stdout",
     "output_type": "stream",
     "text": [
      "package 'moments' successfully unpacked and MD5 sums checked\n",
      "\n",
      "The downloaded binary packages are in\n",
      "\tC:\\Users\\Administrator\\AppData\\Local\\Temp\\RtmpmguRVA\\downloaded_packages\n"
     ]
    }
   ],
   "source": [
    "install.packages(\"moments\")\n",
    "library(moments)"
   ]
  },
  {
   "cell_type": "code",
   "execution_count": 35,
   "metadata": {},
   "outputs": [
    {
     "data": {
      "text/html": [
       "1.56718841069101"
      ],
      "text/latex": [
       "1.56718841069101"
      ],
      "text/markdown": [
       "1.56718841069101"
      ],
      "text/plain": [
       "[1] 1.567188"
      ]
     },
     "metadata": {},
     "output_type": "display_data"
    },
    {
     "data": {
      "text/html": [
       "5.98872398282818"
      ],
      "text/latex": [
       "5.98872398282818"
      ],
      "text/markdown": [
       "5.98872398282818"
      ],
      "text/plain": [
       "[1] 5.988724"
      ]
     },
     "metadata": {},
     "output_type": "display_data"
    }
   ],
   "source": [
    "age <- c(18,21,22,19,34,32,40,42,56,58,64,28,29,29,29,36,35)\n",
    "skewness(x)\n",
    "kurtosis(x)"
   ]
  },
  {
   "cell_type": "code",
   "execution_count": 52,
   "metadata": {},
   "outputs": [
    {
     "data": {
      "image/png": "[encoded data removed]",
      "text/plain": [
       "Plot with title \"density.default(x = x)\""
      ]
     },
     "metadata": {},
     "output_type": "display_data"
    }
   ],
   "source": [
    "plot(density(x)) #확률 밀도 곡선 \n",
    "den.norm <- function(x) dnorm(x, mean = mean(x),sd = sd(x))\n",
    "curve(den.norm,col = 'red',add=TRUE, lty = 2) # 정규분포 곡선 \n",
    "abline(v=mean(x),col = 'blue',lty = 2) #평균 수직선"
   ]
  },
  {
   "cell_type": "code",
   "execution_count": 51,
   "metadata": {},
   "outputs": [
    {
     "data": {
      "text/plain": [
       "\n",
       "FALSE  TRUE \n",
       "  714   177 "
      ]
     },
     "metadata": {},
     "output_type": "display_data"
    }
   ],
   "source": [
    "table(is.na(titanic$Age))"
   ]
  },
  {
   "cell_type": "code",
   "execution_count": 46,
   "metadata": {},
   "outputs": [
    {
     "data": {
      "text/html": [
       "0.388289851469865"
      ],
      "text/latex": [
       "0.388289851469865"
      ],
      "text/markdown": [
       "0.388289851469865"
      ],
      "text/plain": [
       "[1] 0.3882899"
      ]
     },
     "metadata": {},
     "output_type": "display_data"
    },
    {
     "data": {
      "text/html": [
       "3.16863657224286"
      ],
      "text/latex": [
       "3.16863657224286"
      ],
      "text/markdown": [
       "3.16863657224286"
      ],
      "text/plain": [
       "[1] 3.168637"
      ]
     },
     "metadata": {},
     "output_type": "display_data"
    },
    {
     "data": {
      "text/html": [
       "4.77925329237236"
      ],
      "text/latex": [
       "4.77925329237236"
      ],
      "text/markdown": [
       "4.77925329237236"
      ],
      "text/plain": [
       "[1] 4.779253"
      ]
     },
     "metadata": {},
     "output_type": "display_data"
    },
    {
     "data": {
      "text/html": [
       "36.2042892526447"
      ],
      "text/latex": [
       "36.2042892526447"
      ],
      "text/markdown": [
       "36.2042892526447"
      ],
      "text/plain": [
       "[1] 36.20429"
      ]
     },
     "metadata": {},
     "output_type": "display_data"
    }
   ],
   "source": [
    "skewness(titanic$Age,na.rm = TRUE) # 왜도\n",
    "kurtosis(titanic$Age,na.rm = TRUE) # 첨도\n",
    "\n",
    "skewness(titanic$Fare) # 왜도\n",
    "kurtosis(titanic$Fare) # 첨도\n"
   ]
  },
  {
   "cell_type": "code",
   "execution_count": 55,
   "metadata": {},
   "outputs": [
    {
     "name": "stdout",
     "output_type": "stream",
     "text": [
      "\n",
      "  The decimal point is 1 digit(s) to the right of the |\n",
      "\n",
      "  0 | 0111111111111122222222223333334444444444\n",
      "  0 | 5555666777888899999999\n",
      "  1 | 001111233444444\n",
      "  1 | 55555566666666666666666777777777777788888888888888888888888888999999+7\n",
      "  2 | 00000000000000011111111111111111111111112222222222222222222222222223+33\n",
      "  2 | 55555555555555555555555566666666666666666677777777777777777788888888+27\n",
      "  3 | 00000000000000000000000001111111111111111111222222222222222222333333+14\n",
      "  3 | 55555555555555555556666666666666666666666777777788888888888999999999\n",
      "  4 | 000000000000011111111222222222222233333444444444\n",
      "  4 | 55555555555566666777777777888888888999999\n",
      "  5 | 00000000001111111222222344444444\n",
      "  5 | 5566666778888899\n",
      "  6 | 000011122223344\n",
      "  6 | 5556\n",
      "  7 | 001114\n",
      "  7 | \n",
      "  8 | 0\n",
      "\n",
      "\n",
      "  The decimal point is 2 digit(s) to the right of the |\n",
      "\n",
      "  0 | 00000000000000001111111111111111111111111111111111111111111111111111+640\n",
      "  0 | 55555555555555555555555555555566666666666666666666666777777777777777+38\n",
      "  1 | 1111111111122223333444\n",
      "  1 | 55555555566\n",
      "  2 | 111123333\n",
      "  2 | 55666666\n",
      "  3 | \n",
      "  3 | \n",
      "  4 | \n",
      "  4 | \n",
      "  5 | 111\n",
      "\n"
     ]
    },
    {
     "data": {
      "image/png": "[encoded data removed]",
      "text/plain": [
       "Plot with title \"Histogram of titanic$Fare\""
      ]
     },
     "metadata": {},
     "output_type": "display_data"
    }
   ],
   "source": [
    "par ( mfrow = c(2,2) )     # (nr,nc)<- nr : 행의 갯수, nc : 열의 갯수\n",
    "hist(titanic$Age)\n",
    "hist(titanic$Fare)\n",
    "\n",
    "\n",
    "stem(titanic$Age)\n",
    "stem(titanic$Fare)"
   ]
  },
  {
   "cell_type": "code",
   "execution_count": null,
   "metadata": {},
   "outputs": [],
   "source": [
    "#### 타이타닉호를 타고 있던 사람들의 나이는 비교적 정규성을 띠고 있음을 의미 (왜도: 약 0.4, 첨도: 약 3.2)\n",
    "#### 그러나 타이타닉호의 "
   ]
  },
  {
   "cell_type": "code",
   "execution_count": null,
   "metadata": {},
   "outputs": [],
   "source": [
    "0.388289851469865\n",
    "3.16863657224286\n",
    "4.77925329237236\n",
    "36.2042892526447"
   ]
  },
  {
   "cell_type": "code",
   "execution_count": null,
   "metadata": {},
   "outputs": [],
   "source": []
  },
  {
   "cell_type": "code",
   "execution_count": null,
   "metadata": {},
   "outputs": [],
   "source": []
  },
  {
   "cell_type": "code",
   "execution_count": null,
   "metadata": {},
   "outputs": [],
   "source": []
  }
 ],
 "metadata": {
  "kernelspec": {
   "display_name": "R",
   "language": "R",
   "name": "ir"
  },
  "language_info": {
   "codemirror_mode": "r",
   "file_extension": ".r",
   "mimetype": "text/x-r-source",
   "name": "R",
   "pygments_lexer": "r",
   "version": "3.5.1"
  }
 },
 "nbformat": 4,
 "nbformat_minor": 2
}
