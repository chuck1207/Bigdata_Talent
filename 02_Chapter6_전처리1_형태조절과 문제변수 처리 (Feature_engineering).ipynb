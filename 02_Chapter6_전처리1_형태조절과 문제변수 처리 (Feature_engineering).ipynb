{
 "cells": [
  {
   "cell_type": "markdown",
   "metadata": {},
   "source": [
    "# 전처리 1 - 형태조절과 문제변수 처리"
   ]
  },
  {
   "cell_type": "markdown",
   "metadata": {},
   "source": [
    "## Feature Engineering "
   ]
  },
  {
   "cell_type": "markdown",
   "metadata": {},
   "source": [
    "### Feature Engineering "
   ]
  },
  {
   "cell_type": "markdown",
   "metadata": {},
   "source": [
    "#### 데이터 다듬기\n",
    "> - 전처리는 데이터를 분석하기에 적합한 형태로 만드는 것을 말한다. \n",
    "> - 수집된 데이터에서 필요한 속성을 선택해 데이터 재구성, 결측값 및 이상치 처리, 변수를 조작하는 Feature Engineering 등을 진행한다. \n",
    "> - 전처리 과정에 소요되는 시간이 전체 분석 과정의 약 60%를 차지한다. \n",
    "> - Feature Engineering 을 먼저 다루도록 한다. "
   ]
  },
  {
   "cell_type": "markdown",
   "metadata": {},
   "source": [
    "#### 변수 조작 \n",
    ">  Feature Engineering은 데이터를 그대로 이용하기 어려운 경우에 변수에 적절한 과정을 거쳐 분석하기 좋게 만드는 과정   \n",
    ">  주요 방법은 다음과 같다.   \n",
    "    > - Scaling: 척도를 비슷하게 맞춘다(표준화)\n",
    "    > - Binning: 버릴것은 버린다\n",
    "    > - Creating Feature: 없던 Feature를 만든다. \n",
    "    > - Creating Dummy: Dummy변수를 생성했을때 데이터가 더 깔끔해질 수도 있다. "
   ]
  },
  {
   "cell_type": "markdown",
   "metadata": {},
   "source": [
    "#### Scaling \n",
    "> - 비교되는 변수의 범위가 다른 경우, 정규화로 비슷하게 맞출 수 있다. \n",
    "> - 다음의 식을 이용하여 관측치를 정규화한다.  (관측치 - 평균)/ 표준편차  \n",
    "> - R이 제공하는 함수 scale()을 사용해도 같은 결과를 얻을 수 있음 \n",
    "> - 이와 같이 데이터 분석과 해석을 단순화할 수 있도록 변수를 적당한 척도로 바꾸는 것을 자료의 재표현이라고 함 "
   ]
  },
  {
   "cell_type": "code",
   "execution_count": 135,
   "metadata": {
    "scrolled": true
   },
   "outputs": [
    {
     "data": {
      "text/html": [
       "<table>\n",
       "<thead><tr><th scope=col>X</th><th scope=col>pamapas</th><th scope=col>milk</th><th scope=col>tissue</th></tr></thead>\n",
       "<tbody>\n",
       "\t<tr><td>1월 </td><td>283 </td><td>33  </td><td>2500</td></tr>\n",
       "\t<tr><td>2월 </td><td>288 </td><td>31  </td><td>2450</td></tr>\n",
       "\t<tr><td>3월 </td><td>205 </td><td>31  </td><td>2490</td></tr>\n",
       "\t<tr><td>4월 </td><td>204 </td><td>32  </td><td>2750</td></tr>\n",
       "\t<tr><td>5월 </td><td>287 </td><td>33  </td><td>2800</td></tr>\n",
       "\t<tr><td>6월 </td><td>300 </td><td>34  </td><td>2350</td></tr>\n",
       "\t<tr><td>7월 </td><td>310 </td><td>29  </td><td>2450</td></tr>\n",
       "</tbody>\n",
       "</table>\n"
      ],
      "text/latex": [
       "\\begin{tabular}{r|llll}\n",
       " X & pamapas & milk & tissue\\\\\n",
       "\\hline\n",
       "\t 1월  & 283  & 33   & 2500\\\\\n",
       "\t 2월  & 288  & 31   & 2450\\\\\n",
       "\t 3월  & 205  & 31   & 2490\\\\\n",
       "\t 4월  & 204  & 32   & 2750\\\\\n",
       "\t 5월  & 287  & 33   & 2800\\\\\n",
       "\t 6월  & 300  & 34   & 2350\\\\\n",
       "\t 7월  & 310  & 29   & 2450\\\\\n",
       "\\end{tabular}\n"
      ],
      "text/markdown": [
       "\n",
       "X | pamapas | milk | tissue | \n",
       "|---|---|---|---|---|---|---|\n",
       "| 1월  | 283  | 33   | 2500 | \n",
       "| 2월  | 288  | 31   | 2450 | \n",
       "| 3월  | 205  | 31   | 2490 | \n",
       "| 4월  | 204  | 32   | 2750 | \n",
       "| 5월  | 287  | 33   | 2800 | \n",
       "| 6월  | 300  | 34   | 2350 | \n",
       "| 7월  | 310  | 29   | 2450 | \n",
       "\n",
       "\n"
      ],
      "text/plain": [
       "  X   pamapas milk tissue\n",
       "1 1월 283     33   2500  \n",
       "2 2월 288     31   2450  \n",
       "3 3월 205     31   2490  \n",
       "4 4월 204     32   2750  \n",
       "5 5월 287     33   2800  \n",
       "6 6월 300     34   2350  \n",
       "7 7월 310     29   2450  "
      ]
     },
     "metadata": {},
     "output_type": "display_data"
    }
   ],
   "source": [
    "market <- read.csv('market2.csv',)\n",
    "market"
   ]
  },
  {
   "cell_type": "code",
   "execution_count": 137,
   "metadata": {},
   "outputs": [],
   "source": [
    "sc <- data.frame(market[1],scale(market[2:4]))"
   ]
  },
  {
   "cell_type": "code",
   "execution_count": 139,
   "metadata": {},
   "outputs": [
    {
     "data": {
      "text/html": [
       "<table>\n",
       "<thead><tr><th scope=col>X</th><th scope=col>pamapas</th><th scope=col>milk</th><th scope=col>tissue</th></tr></thead>\n",
       "<tbody>\n",
       "\t<tr><td>1월        </td><td> 0.3344691 </td><td> 0.68182919</td><td>-0.2475199 </td></tr>\n",
       "\t<tr><td>2월        </td><td> 0.4470309 </td><td>-0.51137189</td><td>-0.5462509 </td></tr>\n",
       "\t<tr><td>3월        </td><td>-1.4214938 </td><td>-0.51137189</td><td>-0.3072661 </td></tr>\n",
       "\t<tr><td>4월        </td><td>-1.4440061 </td><td> 0.08522865</td><td> 1.2461348 </td></tr>\n",
       "\t<tr><td>5월        </td><td> 0.4245185 </td><td> 0.68182919</td><td> 1.5448658 </td></tr>\n",
       "\t<tr><td>6월        </td><td> 0.7171790 </td><td> 1.27842973</td><td>-1.1437128 </td></tr>\n",
       "\t<tr><td>7월        </td><td> 0.9423024 </td><td>-1.70457297</td><td>-0.5462509 </td></tr>\n",
       "</tbody>\n",
       "</table>\n"
      ],
      "text/latex": [
       "\\begin{tabular}{r|llll}\n",
       " X & pamapas & milk & tissue\\\\\n",
       "\\hline\n",
       "\t 1월         &  0.3344691  &  0.68182919 & -0.2475199 \\\\\n",
       "\t 2월         &  0.4470309  & -0.51137189 & -0.5462509 \\\\\n",
       "\t 3월         & -1.4214938  & -0.51137189 & -0.3072661 \\\\\n",
       "\t 4월         & -1.4440061  &  0.08522865 &  1.2461348 \\\\\n",
       "\t 5월         &  0.4245185  &  0.68182919 &  1.5448658 \\\\\n",
       "\t 6월         &  0.7171790  &  1.27842973 & -1.1437128 \\\\\n",
       "\t 7월         &  0.9423024  & -1.70457297 & -0.5462509 \\\\\n",
       "\\end{tabular}\n"
      ],
      "text/markdown": [
       "\n",
       "X | pamapas | milk | tissue | \n",
       "|---|---|---|---|---|---|---|\n",
       "| 1월         |  0.3344691  |  0.68182919 | -0.2475199  | \n",
       "| 2월         |  0.4470309  | -0.51137189 | -0.5462509  | \n",
       "| 3월         | -1.4214938  | -0.51137189 | -0.3072661  | \n",
       "| 4월         | -1.4440061  |  0.08522865 |  1.2461348  | \n",
       "| 5월         |  0.4245185  |  0.68182919 |  1.5448658  | \n",
       "| 6월         |  0.7171790  |  1.27842973 | -1.1437128  | \n",
       "| 7월         |  0.9423024  | -1.70457297 | -0.5462509  | \n",
       "\n",
       "\n"
      ],
      "text/plain": [
       "  X   pamapas    milk        tissue    \n",
       "1 1월  0.3344691  0.68182919 -0.2475199\n",
       "2 2월  0.4470309 -0.51137189 -0.5462509\n",
       "3 3월 -1.4214938 -0.51137189 -0.3072661\n",
       "4 4월 -1.4440061  0.08522865  1.2461348\n",
       "5 5월  0.4245185  0.68182919  1.5448658\n",
       "6 6월  0.7171790  1.27842973 -1.1437128\n",
       "7 7월  0.9423024 -1.70457297 -0.5462509"
      ]
     },
     "metadata": {},
     "output_type": "display_data"
    }
   ],
   "source": [
    "sc"
   ]
  },
  {
   "cell_type": "code",
   "execution_count": 142,
   "metadata": {},
   "outputs": [],
   "source": [
    "sc1 <- scale(market[2])\n",
    "sc2 <- scale(market[3])\n",
    "sc3 <- scale(market[4])"
   ]
  },
  {
   "cell_type": "code",
   "execution_count": 103,
   "metadata": {},
   "outputs": [],
   "source": [
    "library(ggplot2)"
   ]
  },
  {
   "cell_type": "code",
   "execution_count": 123,
   "metadata": {
    "scrolled": false
   },
   "outputs": [
    {
     "data": {
      "text/html": [
       "<table>\n",
       "<thead><tr><th scope=col>pamapas</th><th scope=col>milk</th><th scope=col>tissue</th></tr></thead>\n",
       "<tbody>\n",
       "\t<tr><td> 0.3344691 </td><td> 0.68182919</td><td>-0.2475199 </td></tr>\n",
       "\t<tr><td> 0.4470309 </td><td>-0.51137189</td><td>-0.5462509 </td></tr>\n",
       "\t<tr><td>-1.4214938 </td><td>-0.51137189</td><td>-0.3072661 </td></tr>\n",
       "\t<tr><td>-1.4440061 </td><td> 0.08522865</td><td> 1.2461348 </td></tr>\n",
       "\t<tr><td> 0.4245185 </td><td> 0.68182919</td><td> 1.5448658 </td></tr>\n",
       "\t<tr><td> 0.7171790 </td><td> 1.27842973</td><td>-1.1437128 </td></tr>\n",
       "\t<tr><td> 0.9423024 </td><td>-1.70457297</td><td>-0.5462509 </td></tr>\n",
       "</tbody>\n",
       "</table>\n"
      ],
      "text/latex": [
       "\\begin{tabular}{r|lll}\n",
       " pamapas & milk & tissue\\\\\n",
       "\\hline\n",
       "\t  0.3344691  &  0.68182919 & -0.2475199 \\\\\n",
       "\t  0.4470309  & -0.51137189 & -0.5462509 \\\\\n",
       "\t -1.4214938  & -0.51137189 & -0.3072661 \\\\\n",
       "\t -1.4440061  &  0.08522865 &  1.2461348 \\\\\n",
       "\t  0.4245185  &  0.68182919 &  1.5448658 \\\\\n",
       "\t  0.7171790  &  1.27842973 & -1.1437128 \\\\\n",
       "\t  0.9423024  & -1.70457297 & -0.5462509 \\\\\n",
       "\\end{tabular}\n"
      ],
      "text/markdown": [
       "\n",
       "pamapas | milk | tissue | \n",
       "|---|---|---|---|---|---|---|\n",
       "|  0.3344691  |  0.68182919 | -0.2475199  | \n",
       "|  0.4470309  | -0.51137189 | -0.5462509  | \n",
       "| -1.4214938  | -0.51137189 | -0.3072661  | \n",
       "| -1.4440061  |  0.08522865 |  1.2461348  | \n",
       "|  0.4245185  |  0.68182919 |  1.5448658  | \n",
       "|  0.7171790  |  1.27842973 | -1.1437128  | \n",
       "|  0.9423024  | -1.70457297 | -0.5462509  | \n",
       "\n",
       "\n"
      ],
      "text/plain": [
       "  pamapas    milk        tissue    \n",
       "1  0.3344691  0.68182919 -0.2475199\n",
       "2  0.4470309 -0.51137189 -0.5462509\n",
       "3 -1.4214938 -0.51137189 -0.3072661\n",
       "4 -1.4440061  0.08522865  1.2461348\n",
       "5  0.4245185  0.68182919  1.5448658\n",
       "6  0.7171790  1.27842973 -1.1437128\n",
       "7  0.9423024 -1.70457297 -0.5462509"
      ]
     },
     "metadata": {},
     "output_type": "display_data"
    }
   ],
   "source": [
    "sc"
   ]
  },
  {
   "cell_type": "code",
   "execution_count": 151,
   "metadata": {},
   "outputs": [
    {
     "data": {
      "image/png": "[encoded data removed]",
      "text/plain": [
       "plot without title"
      ]
     },
     "metadata": {},
     "output_type": "display_data"
    }
   ],
   "source": [
    "plot(sc$pamapas,type = 'l',col = 'blue')\n",
    "lines(sc$milk,type = 'l',col = 'red')\n",
    "lines(sc$tissue, type = 'l',col = 'yellow')"
   ]
  },
  {
   "cell_type": "code",
   "execution_count": 1,
   "metadata": {},
   "outputs": [],
   "source": [
    "iris1 <- iris\n",
    "sc <- scale(iris[1:4])\n",
    "df <- as.data.frame(sc)\n",
    "cb <- cbind(df, iris$Species)"
   ]
  },
  {
   "cell_type": "code",
   "execution_count": 154,
   "metadata": {
    "scrolled": true
   },
   "outputs": [
    {
     "data": {
      "text/html": [
       "<table>\n",
       "<thead><tr><th scope=col>Sepal.Length</th><th scope=col>Sepal.Width</th><th scope=col>Petal.Length</th><th scope=col>Petal.Width</th><th scope=col>iris$Species</th></tr></thead>\n",
       "<tbody>\n",
       "\t<tr><td>-0.89767388</td><td> 1.01560199</td><td>-1.335752  </td><td>-1.3110521 </td><td>setosa     </td></tr>\n",
       "\t<tr><td>-1.13920048</td><td>-0.13153881</td><td>-1.335752  </td><td>-1.3110521 </td><td>setosa     </td></tr>\n",
       "\t<tr><td>-1.38072709</td><td> 0.32731751</td><td>-1.392399  </td><td>-1.3110521 </td><td>setosa     </td></tr>\n",
       "\t<tr><td>-1.50149039</td><td> 0.09788935</td><td>-1.279104  </td><td>-1.3110521 </td><td>setosa     </td></tr>\n",
       "\t<tr><td>-1.01843718</td><td> 1.24503015</td><td>-1.335752  </td><td>-1.3110521 </td><td>setosa     </td></tr>\n",
       "\t<tr><td>-0.53538397</td><td> 1.93331463</td><td>-1.165809  </td><td>-1.0486668 </td><td>setosa     </td></tr>\n",
       "\t<tr><td>-1.50149039</td><td> 0.78617383</td><td>-1.335752  </td><td>-1.1798595 </td><td>setosa     </td></tr>\n",
       "\t<tr><td>-1.01843718</td><td> 0.78617383</td><td>-1.279104  </td><td>-1.3110521 </td><td>setosa     </td></tr>\n",
       "\t<tr><td>-1.74301699</td><td>-0.36096697</td><td>-1.335752  </td><td>-1.3110521 </td><td>setosa     </td></tr>\n",
       "\t<tr><td>-1.13920048</td><td> 0.09788935</td><td>-1.279104  </td><td>-1.4422448 </td><td>setosa     </td></tr>\n",
       "\t<tr><td>-0.53538397</td><td> 1.47445831</td><td>-1.279104  </td><td>-1.3110521 </td><td>setosa     </td></tr>\n",
       "\t<tr><td>-1.25996379</td><td> 0.78617383</td><td>-1.222456  </td><td>-1.3110521 </td><td>setosa     </td></tr>\n",
       "\t<tr><td>-1.25996379</td><td>-0.13153881</td><td>-1.335752  </td><td>-1.4422448 </td><td>setosa     </td></tr>\n",
       "\t<tr><td>-1.86378030</td><td>-0.13153881</td><td>-1.505695  </td><td>-1.4422448 </td><td>setosa     </td></tr>\n",
       "\t<tr><td>-0.05233076</td><td> 2.16274279</td><td>-1.449047  </td><td>-1.3110521 </td><td>setosa     </td></tr>\n",
       "\t<tr><td>-0.17309407</td><td> 3.08045544</td><td>-1.279104  </td><td>-1.0486668 </td><td>setosa     </td></tr>\n",
       "\t<tr><td>-0.53538397</td><td> 1.93331463</td><td>-1.392399  </td><td>-1.0486668 </td><td>setosa     </td></tr>\n",
       "\t<tr><td>-0.89767388</td><td> 1.01560199</td><td>-1.335752  </td><td>-1.1798595 </td><td>setosa     </td></tr>\n",
       "\t<tr><td>-0.17309407</td><td> 1.70388647</td><td>-1.165809  </td><td>-1.1798595 </td><td>setosa     </td></tr>\n",
       "\t<tr><td>-0.89767388</td><td> 1.70388647</td><td>-1.279104  </td><td>-1.1798595 </td><td>setosa     </td></tr>\n",
       "\t<tr><td>-0.53538397</td><td> 0.78617383</td><td>-1.165809  </td><td>-1.3110521 </td><td>setosa     </td></tr>\n",
       "\t<tr><td>-0.89767388</td><td> 1.47445831</td><td>-1.279104  </td><td>-1.0486668 </td><td>setosa     </td></tr>\n",
       "\t<tr><td>-1.50149039</td><td> 1.24503015</td><td>-1.562342  </td><td>-1.3110521 </td><td>setosa     </td></tr>\n",
       "\t<tr><td>-0.89767388</td><td> 0.55674567</td><td>-1.165809  </td><td>-0.9174741 </td><td>setosa     </td></tr>\n",
       "\t<tr><td>-1.25996379</td><td> 0.78617383</td><td>-1.052513  </td><td>-1.3110521 </td><td>setosa     </td></tr>\n",
       "\t<tr><td>-1.01843718</td><td>-0.13153881</td><td>-1.222456  </td><td>-1.3110521 </td><td>setosa     </td></tr>\n",
       "\t<tr><td>-1.01843718</td><td> 0.78617383</td><td>-1.222456  </td><td>-1.0486668 </td><td>setosa     </td></tr>\n",
       "\t<tr><td>-0.77691058</td><td> 1.01560199</td><td>-1.279104  </td><td>-1.3110521 </td><td>setosa     </td></tr>\n",
       "\t<tr><td>-0.77691058</td><td> 0.78617383</td><td>-1.335752  </td><td>-1.3110521 </td><td>setosa     </td></tr>\n",
       "\t<tr><td>-1.38072709</td><td> 0.32731751</td><td>-1.222456  </td><td>-1.3110521 </td><td>setosa     </td></tr>\n",
       "\t<tr><td>...</td><td>...</td><td>...</td><td>...</td><td>...</td></tr>\n",
       "\t<tr><td> 1.27606556</td><td> 0.32731751</td><td>1.1000974  </td><td>1.4439941  </td><td>virginica  </td></tr>\n",
       "\t<tr><td>-0.29385737</td><td>-0.59039513</td><td>0.6469162  </td><td>1.0504160  </td><td>virginica  </td></tr>\n",
       "\t<tr><td> 2.24217198</td><td>-0.59039513</td><td>1.6665739  </td><td>1.0504160  </td><td>virginica  </td></tr>\n",
       "\t<tr><td> 0.55148575</td><td>-0.81982329</td><td>0.6469162  </td><td>0.7880307  </td><td>virginica  </td></tr>\n",
       "\t<tr><td> 1.03453895</td><td> 0.55674567</td><td>1.1000974  </td><td>1.1816087  </td><td>virginica  </td></tr>\n",
       "\t<tr><td> 1.63835547</td><td> 0.32731751</td><td>1.2700404  </td><td>0.7880307  </td><td>virginica  </td></tr>\n",
       "\t<tr><td> 0.43072244</td><td>-0.59039513</td><td>0.5902685  </td><td>0.7880307  </td><td>virginica  </td></tr>\n",
       "\t<tr><td> 0.30995914</td><td>-0.13153881</td><td>0.6469162  </td><td>0.7880307  </td><td>virginica  </td></tr>\n",
       "\t<tr><td> 0.67224905</td><td>-0.59039513</td><td>1.0434497  </td><td>1.1816087  </td><td>virginica  </td></tr>\n",
       "\t<tr><td> 1.63835547</td><td>-0.13153881</td><td>1.1567451  </td><td>0.5256453  </td><td>virginica  </td></tr>\n",
       "\t<tr><td> 1.87988207</td><td>-0.59039513</td><td>1.3266880  </td><td>0.9192234  </td><td>virginica  </td></tr>\n",
       "\t<tr><td> 2.48369858</td><td> 1.70388647</td><td>1.4966310  </td><td>1.0504160  </td><td>virginica  </td></tr>\n",
       "\t<tr><td> 0.67224905</td><td>-0.59039513</td><td>1.0434497  </td><td>1.3128014  </td><td>virginica  </td></tr>\n",
       "\t<tr><td> 0.55148575</td><td>-0.59039513</td><td>0.7602115  </td><td>0.3944526  </td><td>virginica  </td></tr>\n",
       "\t<tr><td> 0.30995914</td><td>-1.04925145</td><td>1.0434497  </td><td>0.2632600  </td><td>virginica  </td></tr>\n",
       "\t<tr><td> 2.24217198</td><td>-0.13153881</td><td>1.3266880  </td><td>1.4439941  </td><td>virginica  </td></tr>\n",
       "\t<tr><td> 0.55148575</td><td> 0.78617383</td><td>1.0434497  </td><td>1.5751867  </td><td>virginica  </td></tr>\n",
       "\t<tr><td> 0.67224905</td><td> 0.09788935</td><td>0.9868021  </td><td>0.7880307  </td><td>virginica  </td></tr>\n",
       "\t<tr><td> 0.18919584</td><td>-0.13153881</td><td>0.5902685  </td><td>0.7880307  </td><td>virginica  </td></tr>\n",
       "\t<tr><td> 1.27606556</td><td> 0.09788935</td><td>0.9301544  </td><td>1.1816087  </td><td>virginica  </td></tr>\n",
       "\t<tr><td> 1.03453895</td><td> 0.09788935</td><td>1.0434497  </td><td>1.5751867  </td><td>virginica  </td></tr>\n",
       "\t<tr><td> 1.27606556</td><td> 0.09788935</td><td>0.7602115  </td><td>1.4439941  </td><td>virginica  </td></tr>\n",
       "\t<tr><td>-0.05233076</td><td>-0.81982329</td><td>0.7602115  </td><td>0.9192234  </td><td>virginica  </td></tr>\n",
       "\t<tr><td> 1.15530226</td><td> 0.32731751</td><td>1.2133927  </td><td>1.4439941  </td><td>virginica  </td></tr>\n",
       "\t<tr><td> 1.03453895</td><td> 0.55674567</td><td>1.1000974  </td><td>1.7063794  </td><td>virginica  </td></tr>\n",
       "\t<tr><td> 1.03453895</td><td>-0.13153881</td><td>0.8168591  </td><td>1.4439941  </td><td>virginica  </td></tr>\n",
       "\t<tr><td> 0.55148575</td><td>-1.27867961</td><td>0.7035638  </td><td>0.9192234  </td><td>virginica  </td></tr>\n",
       "\t<tr><td> 0.79301235</td><td>-0.13153881</td><td>0.8168591  </td><td>1.0504160  </td><td>virginica  </td></tr>\n",
       "\t<tr><td> 0.43072244</td><td> 0.78617383</td><td>0.9301544  </td><td>1.4439941  </td><td>virginica  </td></tr>\n",
       "\t<tr><td> 0.06843254</td><td>-0.13153881</td><td>0.7602115  </td><td>0.7880307  </td><td>virginica  </td></tr>\n",
       "</tbody>\n",
       "</table>\n"
      ],
      "text/latex": [
       "\\begin{tabular}{r|lllll}\n",
       " Sepal.Length & Sepal.Width & Petal.Length & Petal.Width & iris\\$Species\\\\\n",
       "\\hline\n",
       "\t -0.89767388 &  1.01560199 & -1.335752   & -1.3110521  & setosa     \\\\\n",
       "\t -1.13920048 & -0.13153881 & -1.335752   & -1.3110521  & setosa     \\\\\n",
       "\t -1.38072709 &  0.32731751 & -1.392399   & -1.3110521  & setosa     \\\\\n",
       "\t -1.50149039 &  0.09788935 & -1.279104   & -1.3110521  & setosa     \\\\\n",
       "\t -1.01843718 &  1.24503015 & -1.335752   & -1.3110521  & setosa     \\\\\n",
       "\t -0.53538397 &  1.93331463 & -1.165809   & -1.0486668  & setosa     \\\\\n",
       "\t -1.50149039 &  0.78617383 & -1.335752   & -1.1798595  & setosa     \\\\\n",
       "\t -1.01843718 &  0.78617383 & -1.279104   & -1.3110521  & setosa     \\\\\n",
       "\t -1.74301699 & -0.36096697 & -1.335752   & -1.3110521  & setosa     \\\\\n",
       "\t -1.13920048 &  0.09788935 & -1.279104   & -1.4422448  & setosa     \\\\\n",
       "\t -0.53538397 &  1.47445831 & -1.279104   & -1.3110521  & setosa     \\\\\n",
       "\t -1.25996379 &  0.78617383 & -1.222456   & -1.3110521  & setosa     \\\\\n",
       "\t -1.25996379 & -0.13153881 & -1.335752   & -1.4422448  & setosa     \\\\\n",
       "\t -1.86378030 & -0.13153881 & -1.505695   & -1.4422448  & setosa     \\\\\n",
       "\t -0.05233076 &  2.16274279 & -1.449047   & -1.3110521  & setosa     \\\\\n",
       "\t -0.17309407 &  3.08045544 & -1.279104   & -1.0486668  & setosa     \\\\\n",
       "\t -0.53538397 &  1.93331463 & -1.392399   & -1.0486668  & setosa     \\\\\n",
       "\t -0.89767388 &  1.01560199 & -1.335752   & -1.1798595  & setosa     \\\\\n",
       "\t -0.17309407 &  1.70388647 & -1.165809   & -1.1798595  & setosa     \\\\\n",
       "\t -0.89767388 &  1.70388647 & -1.279104   & -1.1798595  & setosa     \\\\\n",
       "\t -0.53538397 &  0.78617383 & -1.165809   & -1.3110521  & setosa     \\\\\n",
       "\t -0.89767388 &  1.47445831 & -1.279104   & -1.0486668  & setosa     \\\\\n",
       "\t -1.50149039 &  1.24503015 & -1.562342   & -1.3110521  & setosa     \\\\\n",
       "\t -0.89767388 &  0.55674567 & -1.165809   & -0.9174741  & setosa     \\\\\n",
       "\t -1.25996379 &  0.78617383 & -1.052513   & -1.3110521  & setosa     \\\\\n",
       "\t -1.01843718 & -0.13153881 & -1.222456   & -1.3110521  & setosa     \\\\\n",
       "\t -1.01843718 &  0.78617383 & -1.222456   & -1.0486668  & setosa     \\\\\n",
       "\t -0.77691058 &  1.01560199 & -1.279104   & -1.3110521  & setosa     \\\\\n",
       "\t -0.77691058 &  0.78617383 & -1.335752   & -1.3110521  & setosa     \\\\\n",
       "\t -1.38072709 &  0.32731751 & -1.222456   & -1.3110521  & setosa     \\\\\n",
       "\t ... & ... & ... & ... & ...\\\\\n",
       "\t  1.27606556 &  0.32731751 & 1.1000974   & 1.4439941   & virginica  \\\\\n",
       "\t -0.29385737 & -0.59039513 & 0.6469162   & 1.0504160   & virginica  \\\\\n",
       "\t  2.24217198 & -0.59039513 & 1.6665739   & 1.0504160   & virginica  \\\\\n",
       "\t  0.55148575 & -0.81982329 & 0.6469162   & 0.7880307   & virginica  \\\\\n",
       "\t  1.03453895 &  0.55674567 & 1.1000974   & 1.1816087   & virginica  \\\\\n",
       "\t  1.63835547 &  0.32731751 & 1.2700404   & 0.7880307   & virginica  \\\\\n",
       "\t  0.43072244 & -0.59039513 & 0.5902685   & 0.7880307   & virginica  \\\\\n",
       "\t  0.30995914 & -0.13153881 & 0.6469162   & 0.7880307   & virginica  \\\\\n",
       "\t  0.67224905 & -0.59039513 & 1.0434497   & 1.1816087   & virginica  \\\\\n",
       "\t  1.63835547 & -0.13153881 & 1.1567451   & 0.5256453   & virginica  \\\\\n",
       "\t  1.87988207 & -0.59039513 & 1.3266880   & 0.9192234   & virginica  \\\\\n",
       "\t  2.48369858 &  1.70388647 & 1.4966310   & 1.0504160   & virginica  \\\\\n",
       "\t  0.67224905 & -0.59039513 & 1.0434497   & 1.3128014   & virginica  \\\\\n",
       "\t  0.55148575 & -0.59039513 & 0.7602115   & 0.3944526   & virginica  \\\\\n",
       "\t  0.30995914 & -1.04925145 & 1.0434497   & 0.2632600   & virginica  \\\\\n",
       "\t  2.24217198 & -0.13153881 & 1.3266880   & 1.4439941   & virginica  \\\\\n",
       "\t  0.55148575 &  0.78617383 & 1.0434497   & 1.5751867   & virginica  \\\\\n",
       "\t  0.67224905 &  0.09788935 & 0.9868021   & 0.7880307   & virginica  \\\\\n",
       "\t  0.18919584 & -0.13153881 & 0.5902685   & 0.7880307   & virginica  \\\\\n",
       "\t  1.27606556 &  0.09788935 & 0.9301544   & 1.1816087   & virginica  \\\\\n",
       "\t  1.03453895 &  0.09788935 & 1.0434497   & 1.5751867   & virginica  \\\\\n",
       "\t  1.27606556 &  0.09788935 & 0.7602115   & 1.4439941   & virginica  \\\\\n",
       "\t -0.05233076 & -0.81982329 & 0.7602115   & 0.9192234   & virginica  \\\\\n",
       "\t  1.15530226 &  0.32731751 & 1.2133927   & 1.4439941   & virginica  \\\\\n",
       "\t  1.03453895 &  0.55674567 & 1.1000974   & 1.7063794   & virginica  \\\\\n",
       "\t  1.03453895 & -0.13153881 & 0.8168591   & 1.4439941   & virginica  \\\\\n",
       "\t  0.55148575 & -1.27867961 & 0.7035638   & 0.9192234   & virginica  \\\\\n",
       "\t  0.79301235 & -0.13153881 & 0.8168591   & 1.0504160   & virginica  \\\\\n",
       "\t  0.43072244 &  0.78617383 & 0.9301544   & 1.4439941   & virginica  \\\\\n",
       "\t  0.06843254 & -0.13153881 & 0.7602115   & 0.7880307   & virginica  \\\\\n",
       "\\end{tabular}\n"
      ],
      "text/markdown": [
       "\n",
       "Sepal.Length | Sepal.Width | Petal.Length | Petal.Width | iris$Species | \n",
       "|---|---|---|---|---|---|---|---|---|---|---|---|---|---|---|---|---|---|---|---|---|---|---|---|---|---|---|---|---|---|---|---|---|---|---|---|---|---|---|---|---|---|---|---|---|---|---|---|---|---|---|---|---|---|---|---|---|---|---|---|---|\n",
       "| -0.89767388 |  1.01560199 | -1.335752   | -1.3110521  | setosa      | \n",
       "| -1.13920048 | -0.13153881 | -1.335752   | -1.3110521  | setosa      | \n",
       "| -1.38072709 |  0.32731751 | -1.392399   | -1.3110521  | setosa      | \n",
       "| -1.50149039 |  0.09788935 | -1.279104   | -1.3110521  | setosa      | \n",
       "| -1.01843718 |  1.24503015 | -1.335752   | -1.3110521  | setosa      | \n",
       "| -0.53538397 |  1.93331463 | -1.165809   | -1.0486668  | setosa      | \n",
       "| -1.50149039 |  0.78617383 | -1.335752   | -1.1798595  | setosa      | \n",
       "| -1.01843718 |  0.78617383 | -1.279104   | -1.3110521  | setosa      | \n",
       "| -1.74301699 | -0.36096697 | -1.335752   | -1.3110521  | setosa      | \n",
       "| -1.13920048 |  0.09788935 | -1.279104   | -1.4422448  | setosa      | \n",
       "| -0.53538397 |  1.47445831 | -1.279104   | -1.3110521  | setosa      | \n",
       "| -1.25996379 |  0.78617383 | -1.222456   | -1.3110521  | setosa      | \n",
       "| -1.25996379 | -0.13153881 | -1.335752   | -1.4422448  | setosa      | \n",
       "| -1.86378030 | -0.13153881 | -1.505695   | -1.4422448  | setosa      | \n",
       "| -0.05233076 |  2.16274279 | -1.449047   | -1.3110521  | setosa      | \n",
       "| -0.17309407 |  3.08045544 | -1.279104   | -1.0486668  | setosa      | \n",
       "| -0.53538397 |  1.93331463 | -1.392399   | -1.0486668  | setosa      | \n",
       "| -0.89767388 |  1.01560199 | -1.335752   | -1.1798595  | setosa      | \n",
       "| -0.17309407 |  1.70388647 | -1.165809   | -1.1798595  | setosa      | \n",
       "| -0.89767388 |  1.70388647 | -1.279104   | -1.1798595  | setosa      | \n",
       "| -0.53538397 |  0.78617383 | -1.165809   | -1.3110521  | setosa      | \n",
       "| -0.89767388 |  1.47445831 | -1.279104   | -1.0486668  | setosa      | \n",
       "| -1.50149039 |  1.24503015 | -1.562342   | -1.3110521  | setosa      | \n",
       "| -0.89767388 |  0.55674567 | -1.165809   | -0.9174741  | setosa      | \n",
       "| -1.25996379 |  0.78617383 | -1.052513   | -1.3110521  | setosa      | \n",
       "| -1.01843718 | -0.13153881 | -1.222456   | -1.3110521  | setosa      | \n",
       "| -1.01843718 |  0.78617383 | -1.222456   | -1.0486668  | setosa      | \n",
       "| -0.77691058 |  1.01560199 | -1.279104   | -1.3110521  | setosa      | \n",
       "| -0.77691058 |  0.78617383 | -1.335752   | -1.3110521  | setosa      | \n",
       "| -1.38072709 |  0.32731751 | -1.222456   | -1.3110521  | setosa      | \n",
       "| ... | ... | ... | ... | ... | \n",
       "|  1.27606556 |  0.32731751 | 1.1000974   | 1.4439941   | virginica   | \n",
       "| -0.29385737 | -0.59039513 | 0.6469162   | 1.0504160   | virginica   | \n",
       "|  2.24217198 | -0.59039513 | 1.6665739   | 1.0504160   | virginica   | \n",
       "|  0.55148575 | -0.81982329 | 0.6469162   | 0.7880307   | virginica   | \n",
       "|  1.03453895 |  0.55674567 | 1.1000974   | 1.1816087   | virginica   | \n",
       "|  1.63835547 |  0.32731751 | 1.2700404   | 0.7880307   | virginica   | \n",
       "|  0.43072244 | -0.59039513 | 0.5902685   | 0.7880307   | virginica   | \n",
       "|  0.30995914 | -0.13153881 | 0.6469162   | 0.7880307   | virginica   | \n",
       "|  0.67224905 | -0.59039513 | 1.0434497   | 1.1816087   | virginica   | \n",
       "|  1.63835547 | -0.13153881 | 1.1567451   | 0.5256453   | virginica   | \n",
       "|  1.87988207 | -0.59039513 | 1.3266880   | 0.9192234   | virginica   | \n",
       "|  2.48369858 |  1.70388647 | 1.4966310   | 1.0504160   | virginica   | \n",
       "|  0.67224905 | -0.59039513 | 1.0434497   | 1.3128014   | virginica   | \n",
       "|  0.55148575 | -0.59039513 | 0.7602115   | 0.3944526   | virginica   | \n",
       "|  0.30995914 | -1.04925145 | 1.0434497   | 0.2632600   | virginica   | \n",
       "|  2.24217198 | -0.13153881 | 1.3266880   | 1.4439941   | virginica   | \n",
       "|  0.55148575 |  0.78617383 | 1.0434497   | 1.5751867   | virginica   | \n",
       "|  0.67224905 |  0.09788935 | 0.9868021   | 0.7880307   | virginica   | \n",
       "|  0.18919584 | -0.13153881 | 0.5902685   | 0.7880307   | virginica   | \n",
       "|  1.27606556 |  0.09788935 | 0.9301544   | 1.1816087   | virginica   | \n",
       "|  1.03453895 |  0.09788935 | 1.0434497   | 1.5751867   | virginica   | \n",
       "|  1.27606556 |  0.09788935 | 0.7602115   | 1.4439941   | virginica   | \n",
       "| -0.05233076 | -0.81982329 | 0.7602115   | 0.9192234   | virginica   | \n",
       "|  1.15530226 |  0.32731751 | 1.2133927   | 1.4439941   | virginica   | \n",
       "|  1.03453895 |  0.55674567 | 1.1000974   | 1.7063794   | virginica   | \n",
       "|  1.03453895 | -0.13153881 | 0.8168591   | 1.4439941   | virginica   | \n",
       "|  0.55148575 | -1.27867961 | 0.7035638   | 0.9192234   | virginica   | \n",
       "|  0.79301235 | -0.13153881 | 0.8168591   | 1.0504160   | virginica   | \n",
       "|  0.43072244 |  0.78617383 | 0.9301544   | 1.4439941   | virginica   | \n",
       "|  0.06843254 | -0.13153881 | 0.7602115   | 0.7880307   | virginica   | \n",
       "\n",
       "\n"
      ],
      "text/plain": [
       "    Sepal.Length Sepal.Width Petal.Length Petal.Width iris$Species\n",
       "1   -0.89767388   1.01560199 -1.335752    -1.3110521  setosa      \n",
       "2   -1.13920048  -0.13153881 -1.335752    -1.3110521  setosa      \n",
       "3   -1.38072709   0.32731751 -1.392399    -1.3110521  setosa      \n",
       "4   -1.50149039   0.09788935 -1.279104    -1.3110521  setosa      \n",
       "5   -1.01843718   1.24503015 -1.335752    -1.3110521  setosa      \n",
       "6   -0.53538397   1.93331463 -1.165809    -1.0486668  setosa      \n",
       "7   -1.50149039   0.78617383 -1.335752    -1.1798595  setosa      \n",
       "8   -1.01843718   0.78617383 -1.279104    -1.3110521  setosa      \n",
       "9   -1.74301699  -0.36096697 -1.335752    -1.3110521  setosa      \n",
       "10  -1.13920048   0.09788935 -1.279104    -1.4422448  setosa      \n",
       "11  -0.53538397   1.47445831 -1.279104    -1.3110521  setosa      \n",
       "12  -1.25996379   0.78617383 -1.222456    -1.3110521  setosa      \n",
       "13  -1.25996379  -0.13153881 -1.335752    -1.4422448  setosa      \n",
       "14  -1.86378030  -0.13153881 -1.505695    -1.4422448  setosa      \n",
       "15  -0.05233076   2.16274279 -1.449047    -1.3110521  setosa      \n",
       "16  -0.17309407   3.08045544 -1.279104    -1.0486668  setosa      \n",
       "17  -0.53538397   1.93331463 -1.392399    -1.0486668  setosa      \n",
       "18  -0.89767388   1.01560199 -1.335752    -1.1798595  setosa      \n",
       "19  -0.17309407   1.70388647 -1.165809    -1.1798595  setosa      \n",
       "20  -0.89767388   1.70388647 -1.279104    -1.1798595  setosa      \n",
       "21  -0.53538397   0.78617383 -1.165809    -1.3110521  setosa      \n",
       "22  -0.89767388   1.47445831 -1.279104    -1.0486668  setosa      \n",
       "23  -1.50149039   1.24503015 -1.562342    -1.3110521  setosa      \n",
       "24  -0.89767388   0.55674567 -1.165809    -0.9174741  setosa      \n",
       "25  -1.25996379   0.78617383 -1.052513    -1.3110521  setosa      \n",
       "26  -1.01843718  -0.13153881 -1.222456    -1.3110521  setosa      \n",
       "27  -1.01843718   0.78617383 -1.222456    -1.0486668  setosa      \n",
       "28  -0.77691058   1.01560199 -1.279104    -1.3110521  setosa      \n",
       "29  -0.77691058   0.78617383 -1.335752    -1.3110521  setosa      \n",
       "30  -1.38072709   0.32731751 -1.222456    -1.3110521  setosa      \n",
       "... ...          ...         ...          ...         ...         \n",
       "121  1.27606556   0.32731751 1.1000974    1.4439941   virginica   \n",
       "122 -0.29385737  -0.59039513 0.6469162    1.0504160   virginica   \n",
       "123  2.24217198  -0.59039513 1.6665739    1.0504160   virginica   \n",
       "124  0.55148575  -0.81982329 0.6469162    0.7880307   virginica   \n",
       "125  1.03453895   0.55674567 1.1000974    1.1816087   virginica   \n",
       "126  1.63835547   0.32731751 1.2700404    0.7880307   virginica   \n",
       "127  0.43072244  -0.59039513 0.5902685    0.7880307   virginica   \n",
       "128  0.30995914  -0.13153881 0.6469162    0.7880307   virginica   \n",
       "129  0.67224905  -0.59039513 1.0434497    1.1816087   virginica   \n",
       "130  1.63835547  -0.13153881 1.1567451    0.5256453   virginica   \n",
       "131  1.87988207  -0.59039513 1.3266880    0.9192234   virginica   \n",
       "132  2.48369858   1.70388647 1.4966310    1.0504160   virginica   \n",
       "133  0.67224905  -0.59039513 1.0434497    1.3128014   virginica   \n",
       "134  0.55148575  -0.59039513 0.7602115    0.3944526   virginica   \n",
       "135  0.30995914  -1.04925145 1.0434497    0.2632600   virginica   \n",
       "136  2.24217198  -0.13153881 1.3266880    1.4439941   virginica   \n",
       "137  0.55148575   0.78617383 1.0434497    1.5751867   virginica   \n",
       "138  0.67224905   0.09788935 0.9868021    0.7880307   virginica   \n",
       "139  0.18919584  -0.13153881 0.5902685    0.7880307   virginica   \n",
       "140  1.27606556   0.09788935 0.9301544    1.1816087   virginica   \n",
       "141  1.03453895   0.09788935 1.0434497    1.5751867   virginica   \n",
       "142  1.27606556   0.09788935 0.7602115    1.4439941   virginica   \n",
       "143 -0.05233076  -0.81982329 0.7602115    0.9192234   virginica   \n",
       "144  1.15530226   0.32731751 1.2133927    1.4439941   virginica   \n",
       "145  1.03453895   0.55674567 1.1000974    1.7063794   virginica   \n",
       "146  1.03453895  -0.13153881 0.8168591    1.4439941   virginica   \n",
       "147  0.55148575  -1.27867961 0.7035638    0.9192234   virginica   \n",
       "148  0.79301235  -0.13153881 0.8168591    1.0504160   virginica   \n",
       "149  0.43072244   0.78617383 0.9301544    1.4439941   virginica   \n",
       "150  0.06843254  -0.13153881 0.7602115    0.7880307   virginica   "
      ]
     },
     "metadata": {},
     "output_type": "display_data"
    }
   ],
   "source": [
    "cb"
   ]
  },
  {
   "cell_type": "markdown",
   "metadata": {},
   "source": [
    "#### Binning \n",
    "> - 만약 관측치가 연속형이면서 범위가 너무 다양할 경우, 적절히 그룹을 지어주면 데이터를 이해하기 쉬워진다. 즉, 연속형 변수를 범주형 변수로 만든다. \n",
    "> - 10세 ~ 60세까지 연령별로 쓰는 용돈을 조사하는 경우, 10세 단위로 연령대를 묶어 평균값을 보는 것이 더 이해하기 쉽다. "
   ]
  },
  {
   "cell_type": "code",
   "execution_count": 1,
   "metadata": {},
   "outputs": [
    {
     "data": {
      "text/html": [
       "<table>\n",
       "<thead><tr><th scope=col>age</th><th scope=col>money</th></tr></thead>\n",
       "<tbody>\n",
       "\t<tr><td>10    </td><td>  3000</td></tr>\n",
       "\t<tr><td>11    </td><td>  3000</td></tr>\n",
       "\t<tr><td>12    </td><td>  3500</td></tr>\n",
       "\t<tr><td>13    </td><td>  3500</td></tr>\n",
       "\t<tr><td>14    </td><td>  6000</td></tr>\n",
       "\t<tr><td>15    </td><td>  5000</td></tr>\n",
       "\t<tr><td>16    </td><td>  5000</td></tr>\n",
       "\t<tr><td>17    </td><td>  8000</td></tr>\n",
       "\t<tr><td>18    </td><td>  8000</td></tr>\n",
       "\t<tr><td>19    </td><td> 10000</td></tr>\n",
       "\t<tr><td>20    </td><td> 30000</td></tr>\n",
       "\t<tr><td>21    </td><td> 20000</td></tr>\n",
       "\t<tr><td>22    </td><td> 20000</td></tr>\n",
       "\t<tr><td>23    </td><td> 50000</td></tr>\n",
       "\t<tr><td>24    </td><td>100000</td></tr>\n",
       "\t<tr><td>25    </td><td> 50000</td></tr>\n",
       "\t<tr><td>26    </td><td>100000</td></tr>\n",
       "\t<tr><td>27    </td><td> 80000</td></tr>\n",
       "\t<tr><td>28    </td><td>100000</td></tr>\n",
       "\t<tr><td>29    </td><td>150000</td></tr>\n",
       "\t<tr><td>30    </td><td>150000</td></tr>\n",
       "\t<tr><td>31    </td><td>200000</td></tr>\n",
       "\t<tr><td>32    </td><td>220000</td></tr>\n",
       "\t<tr><td>33    </td><td>230000</td></tr>\n",
       "\t<tr><td>34    </td><td>240000</td></tr>\n",
       "\t<tr><td>35    </td><td>250000</td></tr>\n",
       "\t<tr><td>36    </td><td>300000</td></tr>\n",
       "\t<tr><td>37    </td><td>350000</td></tr>\n",
       "\t<tr><td>38    </td><td>380000</td></tr>\n",
       "\t<tr><td>39    </td><td>390000</td></tr>\n",
       "\t<tr><td>40    </td><td>390000</td></tr>\n",
       "\t<tr><td>41    </td><td>400000</td></tr>\n",
       "\t<tr><td>42    </td><td>410000</td></tr>\n",
       "\t<tr><td>43    </td><td>420000</td></tr>\n",
       "\t<tr><td>44    </td><td>430000</td></tr>\n",
       "\t<tr><td>45    </td><td>420000</td></tr>\n",
       "\t<tr><td>46    </td><td>420000</td></tr>\n",
       "\t<tr><td>47    </td><td>420000</td></tr>\n",
       "\t<tr><td>48    </td><td>410000</td></tr>\n",
       "\t<tr><td>49    </td><td>400000</td></tr>\n",
       "\t<tr><td>50    </td><td>400000</td></tr>\n",
       "\t<tr><td>51    </td><td>390000</td></tr>\n",
       "\t<tr><td>52    </td><td>380000</td></tr>\n",
       "\t<tr><td>53    </td><td>370000</td></tr>\n",
       "\t<tr><td>54    </td><td>360000</td></tr>\n",
       "\t<tr><td>55    </td><td>350000</td></tr>\n",
       "\t<tr><td>56    </td><td>340000</td></tr>\n",
       "\t<tr><td>57    </td><td>330000</td></tr>\n",
       "\t<tr><td>58    </td><td>300000</td></tr>\n",
       "\t<tr><td>59    </td><td>250000</td></tr>\n",
       "\t<tr><td>60    </td><td>230000</td></tr>\n",
       "\t<tr><td>61    </td><td>220000</td></tr>\n",
       "\t<tr><td>62    </td><td>210000</td></tr>\n",
       "\t<tr><td>63    </td><td>200000</td></tr>\n",
       "\t<tr><td>64    </td><td>200000</td></tr>\n",
       "\t<tr><td>65    </td><td>190000</td></tr>\n",
       "\t<tr><td>66    </td><td>130000</td></tr>\n",
       "\t<tr><td>67    </td><td>150000</td></tr>\n",
       "</tbody>\n",
       "</table>\n"
      ],
      "text/latex": [
       "\\begin{tabular}{r|ll}\n",
       " age & money\\\\\n",
       "\\hline\n",
       "\t 10     &   3000\\\\\n",
       "\t 11     &   3000\\\\\n",
       "\t 12     &   3500\\\\\n",
       "\t 13     &   3500\\\\\n",
       "\t 14     &   6000\\\\\n",
       "\t 15     &   5000\\\\\n",
       "\t 16     &   5000\\\\\n",
       "\t 17     &   8000\\\\\n",
       "\t 18     &   8000\\\\\n",
       "\t 19     &  10000\\\\\n",
       "\t 20     &  30000\\\\\n",
       "\t 21     &  20000\\\\\n",
       "\t 22     &  20000\\\\\n",
       "\t 23     &  50000\\\\\n",
       "\t 24     & 100000\\\\\n",
       "\t 25     &  50000\\\\\n",
       "\t 26     & 100000\\\\\n",
       "\t 27     &  80000\\\\\n",
       "\t 28     & 100000\\\\\n",
       "\t 29     & 150000\\\\\n",
       "\t 30     & 150000\\\\\n",
       "\t 31     & 200000\\\\\n",
       "\t 32     & 220000\\\\\n",
       "\t 33     & 230000\\\\\n",
       "\t 34     & 240000\\\\\n",
       "\t 35     & 250000\\\\\n",
       "\t 36     & 300000\\\\\n",
       "\t 37     & 350000\\\\\n",
       "\t 38     & 380000\\\\\n",
       "\t 39     & 390000\\\\\n",
       "\t 40     & 390000\\\\\n",
       "\t 41     & 400000\\\\\n",
       "\t 42     & 410000\\\\\n",
       "\t 43     & 420000\\\\\n",
       "\t 44     & 430000\\\\\n",
       "\t 45     & 420000\\\\\n",
       "\t 46     & 420000\\\\\n",
       "\t 47     & 420000\\\\\n",
       "\t 48     & 410000\\\\\n",
       "\t 49     & 400000\\\\\n",
       "\t 50     & 400000\\\\\n",
       "\t 51     & 390000\\\\\n",
       "\t 52     & 380000\\\\\n",
       "\t 53     & 370000\\\\\n",
       "\t 54     & 360000\\\\\n",
       "\t 55     & 350000\\\\\n",
       "\t 56     & 340000\\\\\n",
       "\t 57     & 330000\\\\\n",
       "\t 58     & 300000\\\\\n",
       "\t 59     & 250000\\\\\n",
       "\t 60     & 230000\\\\\n",
       "\t 61     & 220000\\\\\n",
       "\t 62     & 210000\\\\\n",
       "\t 63     & 200000\\\\\n",
       "\t 64     & 200000\\\\\n",
       "\t 65     & 190000\\\\\n",
       "\t 66     & 130000\\\\\n",
       "\t 67     & 150000\\\\\n",
       "\\end{tabular}\n"
      ],
      "text/markdown": [
       "\n",
       "age | money | \n",
       "|---|---|---|---|---|---|---|---|---|---|---|---|---|---|---|---|---|---|---|---|---|---|---|---|---|---|---|---|---|---|---|---|---|---|---|---|---|---|---|---|---|---|---|---|---|---|---|---|---|---|---|---|---|---|---|---|---|---|\n",
       "| 10     |   3000 | \n",
       "| 11     |   3000 | \n",
       "| 12     |   3500 | \n",
       "| 13     |   3500 | \n",
       "| 14     |   6000 | \n",
       "| 15     |   5000 | \n",
       "| 16     |   5000 | \n",
       "| 17     |   8000 | \n",
       "| 18     |   8000 | \n",
       "| 19     |  10000 | \n",
       "| 20     |  30000 | \n",
       "| 21     |  20000 | \n",
       "| 22     |  20000 | \n",
       "| 23     |  50000 | \n",
       "| 24     | 100000 | \n",
       "| 25     |  50000 | \n",
       "| 26     | 100000 | \n",
       "| 27     |  80000 | \n",
       "| 28     | 100000 | \n",
       "| 29     | 150000 | \n",
       "| 30     | 150000 | \n",
       "| 31     | 200000 | \n",
       "| 32     | 220000 | \n",
       "| 33     | 230000 | \n",
       "| 34     | 240000 | \n",
       "| 35     | 250000 | \n",
       "| 36     | 300000 | \n",
       "| 37     | 350000 | \n",
       "| 38     | 380000 | \n",
       "| 39     | 390000 | \n",
       "| 40     | 390000 | \n",
       "| 41     | 400000 | \n",
       "| 42     | 410000 | \n",
       "| 43     | 420000 | \n",
       "| 44     | 430000 | \n",
       "| 45     | 420000 | \n",
       "| 46     | 420000 | \n",
       "| 47     | 420000 | \n",
       "| 48     | 410000 | \n",
       "| 49     | 400000 | \n",
       "| 50     | 400000 | \n",
       "| 51     | 390000 | \n",
       "| 52     | 380000 | \n",
       "| 53     | 370000 | \n",
       "| 54     | 360000 | \n",
       "| 55     | 350000 | \n",
       "| 56     | 340000 | \n",
       "| 57     | 330000 | \n",
       "| 58     | 300000 | \n",
       "| 59     | 250000 | \n",
       "| 60     | 230000 | \n",
       "| 61     | 220000 | \n",
       "| 62     | 210000 | \n",
       "| 63     | 200000 | \n",
       "| 64     | 200000 | \n",
       "| 65     | 190000 | \n",
       "| 66     | 130000 | \n",
       "| 67     | 150000 | \n",
       "\n",
       "\n"
      ],
      "text/plain": [
       "   age money \n",
       "1  10    3000\n",
       "2  11    3000\n",
       "3  12    3500\n",
       "4  13    3500\n",
       "5  14    6000\n",
       "6  15    5000\n",
       "7  16    5000\n",
       "8  17    8000\n",
       "9  18    8000\n",
       "10 19   10000\n",
       "11 20   30000\n",
       "12 21   20000\n",
       "13 22   20000\n",
       "14 23   50000\n",
       "15 24  100000\n",
       "16 25   50000\n",
       "17 26  100000\n",
       "18 27   80000\n",
       "19 28  100000\n",
       "20 29  150000\n",
       "21 30  150000\n",
       "22 31  200000\n",
       "23 32  220000\n",
       "24 33  230000\n",
       "25 34  240000\n",
       "26 35  250000\n",
       "27 36  300000\n",
       "28 37  350000\n",
       "29 38  380000\n",
       "30 39  390000\n",
       "31 40  390000\n",
       "32 41  400000\n",
       "33 42  410000\n",
       "34 43  420000\n",
       "35 44  430000\n",
       "36 45  420000\n",
       "37 46  420000\n",
       "38 47  420000\n",
       "39 48  410000\n",
       "40 49  400000\n",
       "41 50  400000\n",
       "42 51  390000\n",
       "43 52  380000\n",
       "44 53  370000\n",
       "45 54  360000\n",
       "46 55  350000\n",
       "47 56  340000\n",
       "48 57  330000\n",
       "49 58  300000\n",
       "50 59  250000\n",
       "51 60  230000\n",
       "52 61  220000\n",
       "53 62  210000\n",
       "54 63  200000\n",
       "55 64  200000\n",
       "56 65  190000\n",
       "57 66  130000\n",
       "58 67  150000"
      ]
     },
     "metadata": {},
     "output_type": "display_data"
    }
   ],
   "source": [
    "data <- read.csv(\"agemoney.csv\")\n",
    "data"
   ]
  },
  {
   "cell_type": "code",
   "execution_count": 3,
   "metadata": {},
   "outputs": [
    {
     "data": {
      "text/html": [
       "<table>\n",
       "<thead><tr><th scope=col>age</th><th scope=col>money</th></tr></thead>\n",
       "<tbody>\n",
       "\t<tr><td>10    </td><td>  5500</td></tr>\n",
       "\t<tr><td>20    </td><td> 70000</td></tr>\n",
       "\t<tr><td>30    </td><td>271000</td></tr>\n",
       "\t<tr><td>40    </td><td>412000</td></tr>\n",
       "\t<tr><td>50    </td><td>347000</td></tr>\n",
       "</tbody>\n",
       "</table>\n"
      ],
      "text/latex": [
       "\\begin{tabular}{r|ll}\n",
       " age & money\\\\\n",
       "\\hline\n",
       "\t 10     &   5500\\\\\n",
       "\t 20     &  70000\\\\\n",
       "\t 30     & 271000\\\\\n",
       "\t 40     & 412000\\\\\n",
       "\t 50     & 347000\\\\\n",
       "\\end{tabular}\n"
      ],
      "text/markdown": [
       "\n",
       "age | money | \n",
       "|---|---|---|---|---|\n",
       "| 10     |   5500 | \n",
       "| 20     |  70000 | \n",
       "| 30     | 271000 | \n",
       "| 40     | 412000 | \n",
       "| 50     | 347000 | \n",
       "\n",
       "\n"
      ],
      "text/plain": [
       "  age money \n",
       "1 10    5500\n",
       "2 20   70000\n",
       "3 30  271000\n",
       "4 40  412000\n",
       "5 50  347000"
      ]
     },
     "metadata": {},
     "output_type": "display_data"
    }
   ],
   "source": [
    "age10 <- mean(data[data$age >= 10 & data$age<20,2])\n",
    "age20 <- mean(data[data$age >= 20 & data$age<30,2])\n",
    "age30 <- mean(data[data$age >= 30 & data$age<40,2])\n",
    "age40 <- mean(data[data$age >= 40 & data$age<50,2])\n",
    "age50 <- mean(data[data$age >= 50 & data$age<60,2])\n",
    "age60 <- mean(data[data$age >= 60 & data$age<70,2])\n",
    "\n",
    "data.mean <- data.frame(age = c(10,20,30,40,50,60), money = c(age10,age20,age30,age40,age50,age60))\n",
    "data.mean"
   ]
  },
  {
   "cell_type": "markdown",
   "metadata": {},
   "source": [
    "#### Creating Feature\n",
    "> - 주어진 변수만으로는 의미있는 결과가 나오지 않을 때, 변수의 속성을 추가해본다. \n",
    "> - 판매량 데이터에서 주말 판매량이 주중 판매량과 다를 경우, 요일 혹은 주말 여부를 추가하면 의미있는 분석 결과를 얻을 수 있다."
   ]
  },
  {
   "cell_type": "code",
   "execution_count": 21,
   "metadata": {},
   "outputs": [
    {
     "data": {
      "text/html": [
       "<ol class=list-inline>\n",
       "\t<li>'2016-11-01'</li>\n",
       "\t<li>'2016-11-01'</li>\n",
       "\t<li>'2016-11-03'</li>\n",
       "\t<li>'2016-11-05'</li>\n",
       "</ol>\n"
      ],
      "text/latex": [
       "\\begin{enumerate*}\n",
       "\\item '2016-11-01'\n",
       "\\item '2016-11-01'\n",
       "\\item '2016-11-03'\n",
       "\\item '2016-11-05'\n",
       "\\end{enumerate*}\n"
      ],
      "text/markdown": [
       "1. '2016-11-01'\n",
       "2. '2016-11-01'\n",
       "3. '2016-11-03'\n",
       "4. '2016-11-05'\n",
       "\n",
       "\n"
      ],
      "text/plain": [
       "[1] \"2016-11-01\" \"2016-11-01\" \"2016-11-03\" \"2016-11-05\""
      ]
     },
     "metadata": {},
     "output_type": "display_data"
    },
    {
     "data": {
      "text/html": [
       "'character'"
      ],
      "text/latex": [
       "'character'"
      ],
      "text/markdown": [
       "'character'"
      ],
      "text/plain": [
       "[1] \"character\""
      ]
     },
     "metadata": {},
     "output_type": "display_data"
    }
   ],
   "source": [
    "date.txt <- c(\"2016-11-01\",'2016-11-01','2016-11-03','2016-11-05')\n",
    "date.txt\n",
    "class(date.txt)"
   ]
  },
  {
   "cell_type": "code",
   "execution_count": 23,
   "metadata": {},
   "outputs": [
    {
     "data": {
      "text/html": [
       "<ol class=list-inline>\n",
       "\t<li><time datetime=\"2016-11-01\">2016-11-01</time></li>\n",
       "\t<li><time datetime=\"2016-11-01\">2016-11-01</time></li>\n",
       "\t<li><time datetime=\"2016-11-03\">2016-11-03</time></li>\n",
       "\t<li><time datetime=\"2016-11-05\">2016-11-05</time></li>\n",
       "</ol>\n"
      ],
      "text/latex": [
       "\\begin{enumerate*}\n",
       "\\item 2016-11-01\n",
       "\\item 2016-11-01\n",
       "\\item 2016-11-03\n",
       "\\item 2016-11-05\n",
       "\\end{enumerate*}\n"
      ],
      "text/markdown": [
       "1. 2016-11-01\n",
       "2. 2016-11-01\n",
       "3. 2016-11-03\n",
       "4. 2016-11-05\n",
       "\n",
       "\n"
      ],
      "text/plain": [
       "[1] \"2016-11-01\" \"2016-11-01\" \"2016-11-03\" \"2016-11-05\""
      ]
     },
     "metadata": {},
     "output_type": "display_data"
    },
    {
     "data": {
      "text/html": [
       "'Date'"
      ],
      "text/latex": [
       "'Date'"
      ],
      "text/markdown": [
       "'Date'"
      ],
      "text/plain": [
       "[1] \"Date\""
      ]
     },
     "metadata": {},
     "output_type": "display_data"
    }
   ],
   "source": [
    "date.as.date <- as.Date(date.txt)\n",
    "date.as.date\n",
    "class(date.as.date)"
   ]
  },
  {
   "cell_type": "code",
   "execution_count": 11,
   "metadata": {},
   "outputs": [],
   "source": [
    "sales <- read.csv('sales.csv')"
   ]
  },
  {
   "cell_type": "code",
   "execution_count": 13,
   "metadata": {},
   "outputs": [],
   "source": [
    "sales$판매일 <- as.Date(sales$판매일)"
   ]
  },
  {
   "cell_type": "code",
   "execution_count": 14,
   "metadata": {},
   "outputs": [
    {
     "name": "stdout",
     "output_type": "stream",
     "text": [
      "'data.frame':\t4 obs. of  5 variables:\n",
      " $ 상품.id   : Factor w/ 4 levels \"A001\",\"A002\",..: 1 2 3 4\n",
      " $ 소비자성별: Factor w/ 2 levels \"남\",\"여\": 1 2 2 2\n",
      " $ 판매량    : int  2 1 2 1\n",
      " $ 판매일    : Date, format: \"2016-11-01\" \"2016-11-01\" ...\n",
      " $ 요일      : Factor w/ 3 levels \"수요일\",\"월요일\",..: 3 3 2 1\n"
     ]
    }
   ],
   "source": [
    "str(sales)"
   ]
  },
  {
   "cell_type": "code",
   "execution_count": 24,
   "metadata": {},
   "outputs": [],
   "source": [
    "date.as.date.week.full <- format(date.as.date, format = \"%Y - %m - %A\")\n",
    "date.as.date.week.only <- format(date.as.date, format = \"%A\")"
   ]
  },
  {
   "cell_type": "code",
   "execution_count": 25,
   "metadata": {},
   "outputs": [
    {
     "data": {
      "text/html": [
       "<ol class=list-inline>\n",
       "\t<li>'2016 - 11 - 화요일'</li>\n",
       "\t<li>'2016 - 11 - 화요일'</li>\n",
       "\t<li>'2016 - 11 - 목요일'</li>\n",
       "\t<li>'2016 - 11 - 토요일'</li>\n",
       "</ol>\n"
      ],
      "text/latex": [
       "\\begin{enumerate*}\n",
       "\\item '2016 - 11 - 화요일'\n",
       "\\item '2016 - 11 - 화요일'\n",
       "\\item '2016 - 11 - 목요일'\n",
       "\\item '2016 - 11 - 토요일'\n",
       "\\end{enumerate*}\n"
      ],
      "text/markdown": [
       "1. '2016 - 11 - 화요일'\n",
       "2. '2016 - 11 - 화요일'\n",
       "3. '2016 - 11 - 목요일'\n",
       "4. '2016 - 11 - 토요일'\n",
       "\n",
       "\n"
      ],
      "text/plain": [
       "[1] \"2016 - 11 - 화요일\" \"2016 - 11 - 화요일\" \"2016 - 11 - 목요일\"\n",
       "[4] \"2016 - 11 - 토요일\""
      ]
     },
     "metadata": {},
     "output_type": "display_data"
    },
    {
     "data": {
      "text/html": [
       "<ol class=list-inline>\n",
       "\t<li>'화요일'</li>\n",
       "\t<li>'화요일'</li>\n",
       "\t<li>'목요일'</li>\n",
       "\t<li>'토요일'</li>\n",
       "</ol>\n"
      ],
      "text/latex": [
       "\\begin{enumerate*}\n",
       "\\item '화요일'\n",
       "\\item '화요일'\n",
       "\\item '목요일'\n",
       "\\item '토요일'\n",
       "\\end{enumerate*}\n"
      ],
      "text/markdown": [
       "1. '화요일'\n",
       "2. '화요일'\n",
       "3. '목요일'\n",
       "4. '토요일'\n",
       "\n",
       "\n"
      ],
      "text/plain": [
       "[1] \"화요일\" \"화요일\" \"목요일\" \"토요일\""
      ]
     },
     "metadata": {},
     "output_type": "display_data"
    }
   ],
   "source": [
    "date.as.date.week.full\n",
    "date.as.date.week.only"
   ]
  },
  {
   "cell_type": "markdown",
   "metadata": {},
   "source": [
    "#### Creating Dummy \n",
    "> - 데이터의 값을 0과 1로만 나타내고 싶은 경우, 기존의 변수를 분리하여 0 또는 1로 표현\n",
    "> - 원 핫 인코딩(one - hot encoding)이라고도 한다. \n"
   ]
  },
  {
   "cell_type": "code",
   "execution_count": null,
   "metadata": {},
   "outputs": [],
   "source": [
    "> - 팩터형 변수를 숫자인 dummy variables로 변환한다."
   ]
  },
  {
   "cell_type": "code",
   "execution_count": 16,
   "metadata": {},
   "outputs": [],
   "source": [
    "v <- factor(c(\"A\",\"B\",\"A\",\"A\",\"C\"))\n",
    "df <- data.frame(v)\n",
    "dv <- model.matrix(~v, data = df)[,-1]"
   ]
  },
  {
   "cell_type": "code",
   "execution_count": 17,
   "metadata": {},
   "outputs": [
    {
     "data": {
      "text/html": [
       "<table>\n",
       "<thead><tr><th></th><th scope=col>vB</th><th scope=col>vC</th></tr></thead>\n",
       "<tbody>\n",
       "\t<tr><th scope=row>1</th><td>0</td><td>0</td></tr>\n",
       "\t<tr><th scope=row>2</th><td>1</td><td>0</td></tr>\n",
       "\t<tr><th scope=row>3</th><td>0</td><td>0</td></tr>\n",
       "\t<tr><th scope=row>4</th><td>0</td><td>0</td></tr>\n",
       "\t<tr><th scope=row>5</th><td>0</td><td>1</td></tr>\n",
       "</tbody>\n",
       "</table>\n"
      ],
      "text/latex": [
       "\\begin{tabular}{r|ll}\n",
       "  & vB & vC\\\\\n",
       "\\hline\n",
       "\t1 & 0 & 0\\\\\n",
       "\t2 & 1 & 0\\\\\n",
       "\t3 & 0 & 0\\\\\n",
       "\t4 & 0 & 0\\\\\n",
       "\t5 & 0 & 1\\\\\n",
       "\\end{tabular}\n"
      ],
      "text/markdown": [
       "\n",
       "| <!--/--> | vB | vC | \n",
       "|---|---|---|---|---|\n",
       "| 1 | 0 | 0 | \n",
       "| 2 | 1 | 0 | \n",
       "| 3 | 0 | 0 | \n",
       "| 4 | 0 | 0 | \n",
       "| 5 | 0 | 1 | \n",
       "\n",
       "\n"
      ],
      "text/plain": [
       "  vB vC\n",
       "1 0  0 \n",
       "2 1  0 \n",
       "3 0  0 \n",
       "4 0  0 \n",
       "5 0  1 "
      ]
     },
     "metadata": {},
     "output_type": "display_data"
    }
   ],
   "source": [
    "dv"
   ]
  },
  {
   "cell_type": "code",
   "execution_count": null,
   "metadata": {},
   "outputs": [],
   "source": [
    "#### 연습1\n",
    "> - 다음의 날짜 벡터에서 '화',\"수\",\"토\",\"화\"만 출력되게 하시오 \n",
    "> - 또한 년도와 월이 16-11, 17-11, 18-11, 19-11 로만 출력되게 하시오 "
   ]
  },
  {
   "cell_type": "code",
   "execution_count": 30,
   "metadata": {},
   "outputs": [],
   "source": [
    "date.txt <- c(\"2016-11-01\",'2017-11-01','2018-11-03','2019-11-05')\n",
    "date.txt <- as.Date(date.txt)\n",
    "date.day <- format(date.txt, format = \"%A\")\n",
    "date.year <- format(date.txt, format = \"%y - %m\")"
   ]
  },
  {
   "cell_type": "code",
   "execution_count": 31,
   "metadata": {
    "scrolled": true
   },
   "outputs": [
    {
     "data": {
      "text/html": [
       "<ol class=list-inline>\n",
       "\t<li>'화요일'</li>\n",
       "\t<li>'수요일'</li>\n",
       "\t<li>'토요일'</li>\n",
       "\t<li>'화요일'</li>\n",
       "</ol>\n"
      ],
      "text/latex": [
       "\\begin{enumerate*}\n",
       "\\item '화요일'\n",
       "\\item '수요일'\n",
       "\\item '토요일'\n",
       "\\item '화요일'\n",
       "\\end{enumerate*}\n"
      ],
      "text/markdown": [
       "1. '화요일'\n",
       "2. '수요일'\n",
       "3. '토요일'\n",
       "4. '화요일'\n",
       "\n",
       "\n"
      ],
      "text/plain": [
       "[1] \"화요일\" \"수요일\" \"토요일\" \"화요일\""
      ]
     },
     "metadata": {},
     "output_type": "display_data"
    },
    {
     "data": {
      "text/html": [
       "<ol class=list-inline>\n",
       "\t<li>'16 - 11'</li>\n",
       "\t<li>'17 - 11'</li>\n",
       "\t<li>'18 - 11'</li>\n",
       "\t<li>'19 - 11'</li>\n",
       "</ol>\n"
      ],
      "text/latex": [
       "\\begin{enumerate*}\n",
       "\\item '16 - 11'\n",
       "\\item '17 - 11'\n",
       "\\item '18 - 11'\n",
       "\\item '19 - 11'\n",
       "\\end{enumerate*}\n"
      ],
      "text/markdown": [
       "1. '16 - 11'\n",
       "2. '17 - 11'\n",
       "3. '18 - 11'\n",
       "4. '19 - 11'\n",
       "\n",
       "\n"
      ],
      "text/plain": [
       "[1] \"16 - 11\" \"17 - 11\" \"18 - 11\" \"19 - 11\""
      ]
     },
     "metadata": {},
     "output_type": "display_data"
    }
   ],
   "source": [
    "date.day\n",
    "date.year"
   ]
  },
  {
   "cell_type": "markdown",
   "metadata": {},
   "source": [
    "#### 연습 2\n",
    "> - Bining을 통해 타이타닉 탑승자의 10세 단위 별 평균 생존율을 구하시오\n",
    "> - Bining을 통해 타이타닉 탑승자의 10세 단위별 평균 좌성 등급을 구하시오"
   ]
  },
  {
   "cell_type": "code",
   "execution_count": 90,
   "metadata": {},
   "outputs": [
    {
     "ename": "ERROR",
     "evalue": "Error in read.table(file = file, header = header, sep = sep, quote = quote, : 사용되지 않은 인자 (na.rm = TRUE)\n",
     "output_type": "error",
     "traceback": [
      "Error in read.table(file = file, header = header, sep = sep, quote = quote, : 사용되지 않은 인자 (na.rm = TRUE)\nTraceback:\n",
      "1. read.csv(\"train.csv\", na.rm = TRUE)"
     ]
    }
   ],
   "source": []
  },
  {
   "cell_type": "code",
   "execution_count": 89,
   "metadata": {},
   "outputs": [
    {
     "ename": "ERROR",
     "evalue": "Error in read.table(file = file, header = header, sep = sep, quote = quote, : 사용되지 않은 인자 (na.rm = TRUE)\n",
     "output_type": "error",
     "traceback": [
      "Error in read.table(file = file, header = header, sep = sep, quote = quote, : 사용되지 않은 인자 (na.rm = TRUE)\nTraceback:\n",
      "1. read.csv(\"train.csv\", na.rm = TRUE)"
     ]
    }
   ],
   "source": [
    "train <- read.csv('train.csv', na.rm = TRUE)\n",
    "train"
   ]
  },
  {
   "cell_type": "code",
   "execution_count": 69,
   "metadata": {
    "collapsed": true
   },
   "outputs": [
    {
     "data": {
      "text/html": [
       "<table>\n",
       "<thead><tr><th scope=col>age</th><th scope=col>money</th></tr></thead>\n",
       "<tbody>\n",
       "\t<tr><td>10 </td><td> 61</td></tr>\n",
       "\t<tr><td>20 </td><td> 41</td></tr>\n",
       "\t<tr><td>30 </td><td>143</td></tr>\n",
       "\t<tr><td>40 </td><td> 77</td></tr>\n",
       "\t<tr><td>50 </td><td> 94</td></tr>\n",
       "\t<tr><td>60 </td><td> 73</td></tr>\n",
       "\t<tr><td>10 </td><td> 55</td></tr>\n",
       "\t<tr><td>20 </td><td> 34</td></tr>\n",
       "\t<tr><td>30 </td><td> 28</td></tr>\n",
       "\t<tr><td>40 </td><td> 20</td></tr>\n",
       "\t<tr><td>50 </td><td> 13</td></tr>\n",
       "\t<tr><td>60 </td><td>  6</td></tr>\n",
       "</tbody>\n",
       "</table>\n"
      ],
      "text/latex": [
       "\\begin{tabular}{r|ll}\n",
       " age & money\\\\\n",
       "\\hline\n",
       "\t 10  &  61\\\\\n",
       "\t 20  &  41\\\\\n",
       "\t 30  & 143\\\\\n",
       "\t 40  &  77\\\\\n",
       "\t 50  &  94\\\\\n",
       "\t 60  &  73\\\\\n",
       "\t 10  &  55\\\\\n",
       "\t 20  &  34\\\\\n",
       "\t 30  &  28\\\\\n",
       "\t 40  &  20\\\\\n",
       "\t 50  &  13\\\\\n",
       "\t 60  &   6\\\\\n",
       "\\end{tabular}\n"
      ],
      "text/markdown": [
       "\n",
       "age | money | \n",
       "|---|---|---|---|---|---|---|---|---|---|---|---|\n",
       "| 10  |  61 | \n",
       "| 20  |  41 | \n",
       "| 30  | 143 | \n",
       "| 40  |  77 | \n",
       "| 50  |  94 | \n",
       "| 60  |  73 | \n",
       "| 10  |  55 | \n",
       "| 20  |  34 | \n",
       "| 30  |  28 | \n",
       "| 40  |  20 | \n",
       "| 50  |  13 | \n",
       "| 60  |   6 | \n",
       "\n",
       "\n"
      ],
      "text/plain": [
       "   age money\n",
       "1  10   61  \n",
       "2  20   41  \n",
       "3  30  143  \n",
       "4  40   77  \n",
       "5  50   94  \n",
       "6  60   73  \n",
       "7  10   55  \n",
       "8  20   34  \n",
       "9  30   28  \n",
       "10 40   20  \n",
       "11 50   13  \n",
       "12 60    6  "
      ]
     },
     "metadata": {},
     "output_type": "display_data"
    }
   ],
   "source": [
    "age10 <- table(train[train$Age >= 10 & train$Age<20,2])\n",
    "age20 <- table(train[train$Age >= 20 & train$Age<30,2])\n",
    "age30 <- table(train[train$Age >= 30 & train$Age<40,2])\n",
    "age40 <- table(train[train$Age >= 40 & train$Age<50,2])\n",
    "age50 <- table(train[train$Age >= 50 & train$Age<60,2])\n",
    "age60 <- table(train[train$Age >= 60 & train$Age<70,2])"
   ]
  },
  {
   "cell_type": "code",
   "execution_count": 122,
   "metadata": {},
   "outputs": [
    {
     "data": {
      "text/plain": [
       "\n",
       " 0  1 \n",
       "61 41 "
      ]
     },
     "metadata": {},
     "output_type": "display_data"
    }
   ],
   "source": [
    "age10"
   ]
  },
  {
   "cell_type": "code",
   "execution_count": 71,
   "metadata": {
    "scrolled": true
   },
   "outputs": [],
   "source": [
    "rate <- function(x){\n",
    "    round(x[2]/sum(x),4)*100\n",
    "}"
   ]
  },
  {
   "cell_type": "code",
   "execution_count": 73,
   "metadata": {},
   "outputs": [
    {
     "data": {
      "text/html": [
       "<strong>1:</strong> 40.2"
      ],
      "text/latex": [
       "\\textbf{1:} 40.2"
      ],
      "text/markdown": [
       "**1:** 40.2"
      ],
      "text/plain": [
       "   1 \n",
       "40.2 "
      ]
     },
     "metadata": {},
     "output_type": "display_data"
    },
    {
     "data": {
      "text/html": [
       "<strong>1:</strong> 35"
      ],
      "text/latex": [
       "\\textbf{1:} 35"
      ],
      "text/markdown": [
       "**1:** 35"
      ],
      "text/plain": [
       " 1 \n",
       "35 "
      ]
     },
     "metadata": {},
     "output_type": "display_data"
    },
    {
     "data": {
      "text/html": [
       "<strong>1:</strong> 43.71"
      ],
      "text/latex": [
       "\\textbf{1:} 43.71"
      ],
      "text/markdown": [
       "**1:** 43.71"
      ],
      "text/plain": [
       "    1 \n",
       "43.71 "
      ]
     },
     "metadata": {},
     "output_type": "display_data"
    },
    {
     "data": {
      "text/html": [
       "<strong>1:</strong> 38.2"
      ],
      "text/latex": [
       "\\textbf{1:} 38.2"
      ],
      "text/markdown": [
       "**1:** 38.2"
      ],
      "text/plain": [
       "   1 \n",
       "38.2 "
      ]
     },
     "metadata": {},
     "output_type": "display_data"
    },
    {
     "data": {
      "text/html": [
       "<strong>1:</strong> 41.67"
      ],
      "text/latex": [
       "\\textbf{1:} 41.67"
      ],
      "text/markdown": [
       "**1:** 41.67"
      ],
      "text/plain": [
       "    1 \n",
       "41.67 "
      ]
     },
     "metadata": {},
     "output_type": "display_data"
    },
    {
     "data": {
      "text/html": [
       "<strong>1:</strong> 31.58"
      ],
      "text/latex": [
       "\\textbf{1:} 31.58"
      ],
      "text/markdown": [
       "**1:** 31.58"
      ],
      "text/plain": [
       "    1 \n",
       "31.58 "
      ]
     },
     "metadata": {},
     "output_type": "display_data"
    }
   ],
   "source": [
    "rate(age10)\n",
    "rate(age20)\n",
    "rate(age30)\n",
    "rate(age40)\n",
    "rate(age50)\n",
    "rate(age60)"
   ]
  },
  {
   "cell_type": "code",
   "execution_count": 78,
   "metadata": {},
   "outputs": [
    {
     "data": {
      "text/html": [
       "<table>\n",
       "<thead><tr><th scope=col>age</th><th scope=col>Survived</th></tr></thead>\n",
       "<tbody>\n",
       "\t<tr><td>10   </td><td>40.20</td></tr>\n",
       "\t<tr><td>20   </td><td>35.00</td></tr>\n",
       "\t<tr><td>30   </td><td>43.71</td></tr>\n",
       "\t<tr><td>40   </td><td>38.20</td></tr>\n",
       "\t<tr><td>50   </td><td>41.67</td></tr>\n",
       "\t<tr><td>60   </td><td>31.58</td></tr>\n",
       "</tbody>\n",
       "</table>\n"
      ],
      "text/latex": [
       "\\begin{tabular}{r|ll}\n",
       " age & Survived\\\\\n",
       "\\hline\n",
       "\t 10    & 40.20\\\\\n",
       "\t 20    & 35.00\\\\\n",
       "\t 30    & 43.71\\\\\n",
       "\t 40    & 38.20\\\\\n",
       "\t 50    & 41.67\\\\\n",
       "\t 60    & 31.58\\\\\n",
       "\\end{tabular}\n"
      ],
      "text/markdown": [
       "\n",
       "age | Survived | \n",
       "|---|---|---|---|---|---|\n",
       "| 10    | 40.20 | \n",
       "| 20    | 35.00 | \n",
       "| 30    | 43.71 | \n",
       "| 40    | 38.20 | \n",
       "| 50    | 41.67 | \n",
       "| 60    | 31.58 | \n",
       "\n",
       "\n"
      ],
      "text/plain": [
       "  age Survived\n",
       "1 10  40.20   \n",
       "2 20  35.00   \n",
       "3 30  43.71   \n",
       "4 40  38.20   \n",
       "5 50  41.67   \n",
       "6 60  31.58   "
      ]
     },
     "metadata": {},
     "output_type": "display_data"
    }
   ],
   "source": [
    "data.mean <- data.frame(age = c(10,20,30,40,50,60),\n",
    "                        Survived = c(rate(age10),rate(age20),rate(age30),rate(age40),rate(age50),rate(age60)))\n",
    "data.mean"
   ]
  },
  {
   "cell_type": "code",
   "execution_count": 97,
   "metadata": {},
   "outputs": [],
   "source": [
    "pclass10 <- mean(train[train$Age >= 10 & train$Age<20,10],na.rm = TRUE)\n",
    "pclass20 <- mean(train[train$Age >= 20 & train$Age<30,10],na.rm = TRUE)\n",
    "pclass30 <- mean(train[train$Age >= 30 & train$Age<40,10],na.rm = TRUE)\n",
    "pclass40 <- mean(train[train$Age >= 40 & train$Age<50,10],na.rm = TRUE)\n",
    "pclass50 <- mean(train[train$Age >= 50 & train$Age<60,10],na.rm = TRUE)\n",
    "pclass60 <- mean(train[train$Age >= 60 & train$Age<70,10],na.rm = TRUE)"
   ]
  },
  {
   "cell_type": "code",
   "execution_count": 100,
   "metadata": {
    "scrolled": true
   },
   "outputs": [
    {
     "data": {
      "text/html": [
       "<table>\n",
       "<thead><tr><th scope=col>age</th><th scope=col>Survived</th></tr></thead>\n",
       "<tbody>\n",
       "\t<tr><td>10      </td><td>32.53513</td></tr>\n",
       "\t<tr><td>20      </td><td>27.27894</td></tr>\n",
       "\t<tr><td>30      </td><td>40.37729</td></tr>\n",
       "\t<tr><td>40      </td><td>38.00230</td></tr>\n",
       "\t<tr><td>50      </td><td>47.93333</td></tr>\n",
       "\t<tr><td>60      </td><td>48.36754</td></tr>\n",
       "</tbody>\n",
       "</table>\n"
      ],
      "text/latex": [
       "\\begin{tabular}{r|ll}\n",
       " age & Survived\\\\\n",
       "\\hline\n",
       "\t 10       & 32.53513\\\\\n",
       "\t 20       & 27.27894\\\\\n",
       "\t 30       & 40.37729\\\\\n",
       "\t 40       & 38.00230\\\\\n",
       "\t 50       & 47.93333\\\\\n",
       "\t 60       & 48.36754\\\\\n",
       "\\end{tabular}\n"
      ],
      "text/markdown": [
       "\n",
       "age | Survived | \n",
       "|---|---|---|---|---|---|\n",
       "| 10       | 32.53513 | \n",
       "| 20       | 27.27894 | \n",
       "| 30       | 40.37729 | \n",
       "| 40       | 38.00230 | \n",
       "| 50       | 47.93333 | \n",
       "| 60       | 48.36754 | \n",
       "\n",
       "\n"
      ],
      "text/plain": [
       "  age Survived\n",
       "1 10  32.53513\n",
       "2 20  27.27894\n",
       "3 30  40.37729\n",
       "4 40  38.00230\n",
       "5 50  47.93333\n",
       "6 60  48.36754"
      ]
     },
     "metadata": {},
     "output_type": "display_data"
    }
   ],
   "source": [
    "data.mean <- data.frame(age = c(10,20,30,40,50,60),\n",
    "                        Survived = c(pclass10,pclass20,pclass30,pclass40,pclass50,pclass60))\n",
    "data.mean"
   ]
  },
  {
   "cell_type": "code",
   "execution_count": 110,
   "metadata": {},
   "outputs": [
    {
     "data": {
      "text/html": [
       "'data.frame'"
      ],
      "text/latex": [
       "'data.frame'"
      ],
      "text/markdown": [
       "'data.frame'"
      ],
      "text/plain": [
       "[1] \"data.frame\""
      ]
     },
     "metadata": {},
     "output_type": "display_data"
    }
   ],
   "source": [
    "class(train)"
   ]
  },
  {
   "cell_type": "code",
   "execution_count": 113,
   "metadata": {},
   "outputs": [],
   "source": [
    "df <- model.matrix(~Sex, data = train)[,-1]"
   ]
  },
  {
   "cell_type": "code",
   "execution_count": 120,
   "metadata": {
    "scrolled": true
   },
   "outputs": [
    {
     "data": {
      "text/html": [
       "<table>\n",
       "<thead><tr><th></th><th scope=col>EmbarkedC</th><th scope=col>EmbarkedQ</th><th scope=col>EmbarkedS</th></tr></thead>\n",
       "<tbody>\n",
       "\t<tr><th scope=row>1</th><td>0</td><td>0</td><td>1</td></tr>\n",
       "\t<tr><th scope=row>2</th><td>1</td><td>0</td><td>0</td></tr>\n",
       "\t<tr><th scope=row>3</th><td>0</td><td>0</td><td>1</td></tr>\n",
       "\t<tr><th scope=row>4</th><td>0</td><td>0</td><td>1</td></tr>\n",
       "\t<tr><th scope=row>5</th><td>0</td><td>0</td><td>1</td></tr>\n",
       "\t<tr><th scope=row>6</th><td>0</td><td>1</td><td>0</td></tr>\n",
       "</tbody>\n",
       "</table>\n"
      ],
      "text/latex": [
       "\\begin{tabular}{r|lll}\n",
       "  & EmbarkedC & EmbarkedQ & EmbarkedS\\\\\n",
       "\\hline\n",
       "\t1 & 0 & 0 & 1\\\\\n",
       "\t2 & 1 & 0 & 0\\\\\n",
       "\t3 & 0 & 0 & 1\\\\\n",
       "\t4 & 0 & 0 & 1\\\\\n",
       "\t5 & 0 & 0 & 1\\\\\n",
       "\t6 & 0 & 1 & 0\\\\\n",
       "\\end{tabular}\n"
      ],
      "text/markdown": [
       "\n",
       "| <!--/--> | EmbarkedC | EmbarkedQ | EmbarkedS | \n",
       "|---|---|---|---|---|---|\n",
       "| 1 | 0 | 0 | 1 | \n",
       "| 2 | 1 | 0 | 0 | \n",
       "| 3 | 0 | 0 | 1 | \n",
       "| 4 | 0 | 0 | 1 | \n",
       "| 5 | 0 | 0 | 1 | \n",
       "| 6 | 0 | 1 | 0 | \n",
       "\n",
       "\n"
      ],
      "text/plain": [
       "  EmbarkedC EmbarkedQ EmbarkedS\n",
       "1 0         0         1        \n",
       "2 1         0         0        \n",
       "3 0         0         1        \n",
       "4 0         0         1        \n",
       "5 0         0         1        \n",
       "6 0         1         0        "
      ]
     },
     "metadata": {},
     "output_type": "display_data"
    }
   ],
   "source": [
    "head(df)"
   ]
  },
  {
   "cell_type": "code",
   "execution_count": 117,
   "metadata": {},
   "outputs": [],
   "source": [
    "df <- model.matrix(~Embarked, data = train)[,-1]"
   ]
  },
  {
   "cell_type": "code",
   "execution_count": 119,
   "metadata": {},
   "outputs": [
    {
     "data": {
      "text/html": [
       "<table>\n",
       "<thead><tr><th></th><th scope=col>EmbarkedC</th><th scope=col>EmbarkedQ</th><th scope=col>EmbarkedS</th></tr></thead>\n",
       "<tbody>\n",
       "\t<tr><th scope=row>1</th><td>0</td><td>0</td><td>1</td></tr>\n",
       "\t<tr><th scope=row>2</th><td>1</td><td>0</td><td>0</td></tr>\n",
       "\t<tr><th scope=row>3</th><td>0</td><td>0</td><td>1</td></tr>\n",
       "\t<tr><th scope=row>4</th><td>0</td><td>0</td><td>1</td></tr>\n",
       "\t<tr><th scope=row>5</th><td>0</td><td>0</td><td>1</td></tr>\n",
       "\t<tr><th scope=row>6</th><td>0</td><td>1</td><td>0</td></tr>\n",
       "</tbody>\n",
       "</table>\n"
      ],
      "text/latex": [
       "\\begin{tabular}{r|lll}\n",
       "  & EmbarkedC & EmbarkedQ & EmbarkedS\\\\\n",
       "\\hline\n",
       "\t1 & 0 & 0 & 1\\\\\n",
       "\t2 & 1 & 0 & 0\\\\\n",
       "\t3 & 0 & 0 & 1\\\\\n",
       "\t4 & 0 & 0 & 1\\\\\n",
       "\t5 & 0 & 0 & 1\\\\\n",
       "\t6 & 0 & 1 & 0\\\\\n",
       "\\end{tabular}\n"
      ],
      "text/markdown": [
       "\n",
       "| <!--/--> | EmbarkedC | EmbarkedQ | EmbarkedS | \n",
       "|---|---|---|---|---|---|\n",
       "| 1 | 0 | 0 | 1 | \n",
       "| 2 | 1 | 0 | 0 | \n",
       "| 3 | 0 | 0 | 1 | \n",
       "| 4 | 0 | 0 | 1 | \n",
       "| 5 | 0 | 0 | 1 | \n",
       "| 6 | 0 | 1 | 0 | \n",
       "\n",
       "\n"
      ],
      "text/plain": [
       "  EmbarkedC EmbarkedQ EmbarkedS\n",
       "1 0         0         1        \n",
       "2 1         0         0        \n",
       "3 0         0         1        \n",
       "4 0         0         1        \n",
       "5 0         0         1        \n",
       "6 0         1         0        "
      ]
     },
     "metadata": {},
     "output_type": "display_data"
    }
   ],
   "source": [
    "head(df)"
   ]
  },
  {
   "cell_type": "code",
   "execution_count": null,
   "metadata": {},
   "outputs": [],
   "source": [
    "r"
   ]
  },
  {
   "cell_type": "code",
   "execution_count": null,
   "metadata": {},
   "outputs": [],
   "source": []
  },
  {
   "cell_type": "code",
   "execution_count": null,
   "metadata": {},
   "outputs": [],
   "source": []
  },
  {
   "cell_type": "code",
   "execution_count": null,
   "metadata": {},
   "outputs": [],
   "source": []
  },
  {
   "cell_type": "code",
   "execution_count": null,
   "metadata": {},
   "outputs": [],
   "source": []
  }
 ],
 "metadata": {
  "kernelspec": {
   "display_name": "R",
   "language": "R",
   "name": "ir"
  },
  "language_info": {
   "codemirror_mode": "r",
   "file_extension": ".r",
   "mimetype": "text/x-r-source",
   "name": "R",
   "pygments_lexer": "r",
   "version": "3.5.1"
  }
 },
 "nbformat": 4,
 "nbformat_minor": 2
}
