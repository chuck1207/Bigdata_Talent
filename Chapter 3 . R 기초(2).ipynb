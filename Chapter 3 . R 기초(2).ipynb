{
 "cells": [
  {
   "cell_type": "markdown",
   "metadata": {},
   "source": [
    "# 1. matrix\n",
    "# 2. data frame\n",
    "# 3. matrix, data frame 다루기\n",
    "# 4. 파일에서 데이터 읽기/쓰기\n",
    "# 5 list, factor"
   ]
  },
  {
   "cell_type": "markdown",
   "metadata": {},
   "source": [
    "# 1. matrix\n",
    "## 분석을 위한 데ㅣ터는 2차원 테이블 형태가 데부분\n",
    "## vector: 1차원 데이터를 저장하기 위한 자료구조 \n",
    "## matrix와 data frame의 차이는 matrix는 데이터 타입이 동일하나 data frame은 컬럼별로 다른 데이터 타입을 가질 수 있다. "
   ]
  },
  {
   "cell_type": "code",
   "execution_count": 3,
   "metadata": {},
   "outputs": [
    {
     "data": {
      "text/html": [
       "<table>\n",
       "<tbody>\n",
       "\t<tr><td>1 </td><td>5 </td><td> 9</td><td>13</td><td>17</td></tr>\n",
       "\t<tr><td>2 </td><td>6 </td><td>10</td><td>14</td><td>18</td></tr>\n",
       "\t<tr><td>3 </td><td>7 </td><td>11</td><td>15</td><td>19</td></tr>\n",
       "\t<tr><td>4 </td><td>8 </td><td>12</td><td>16</td><td>20</td></tr>\n",
       "</tbody>\n",
       "</table>\n"
      ],
      "text/latex": [
       "\\begin{tabular}{lllll}\n",
       "\t 1  & 5  &  9 & 13 & 17\\\\\n",
       "\t 2  & 6  & 10 & 14 & 18\\\\\n",
       "\t 3  & 7  & 11 & 15 & 19\\\\\n",
       "\t 4  & 8  & 12 & 16 & 20\\\\\n",
       "\\end{tabular}\n"
      ],
      "text/markdown": [
       "\n",
       "| 1  | 5  |  9 | 13 | 17 | \n",
       "| 2  | 6  | 10 | 14 | 18 | \n",
       "| 3  | 7  | 11 | 15 | 19 | \n",
       "| 4  | 8  | 12 | 16 | 20 | \n",
       "\n",
       "\n"
      ],
      "text/plain": [
       "     [,1] [,2] [,3] [,4] [,5]\n",
       "[1,] 1    5     9   13   17  \n",
       "[2,] 2    6    10   14   18  \n",
       "[3,] 3    7    11   15   19  \n",
       "[4,] 4    8    12   16   20  "
      ]
     },
     "metadata": {},
     "output_type": "display_data"
    },
    {
     "data": {
      "text/html": [
       "<table>\n",
       "<tbody>\n",
       "\t<tr><td> 1</td><td> 2</td><td> 3</td><td> 4</td><td> 5</td></tr>\n",
       "\t<tr><td> 6</td><td> 7</td><td> 8</td><td> 9</td><td>10</td></tr>\n",
       "\t<tr><td>11</td><td>12</td><td>13</td><td>14</td><td>15</td></tr>\n",
       "\t<tr><td>16</td><td>17</td><td>18</td><td>19</td><td>20</td></tr>\n",
       "</tbody>\n",
       "</table>\n"
      ],
      "text/latex": [
       "\\begin{tabular}{lllll}\n",
       "\t  1 &  2 &  3 &  4 &  5\\\\\n",
       "\t  6 &  7 &  8 &  9 & 10\\\\\n",
       "\t 11 & 12 & 13 & 14 & 15\\\\\n",
       "\t 16 & 17 & 18 & 19 & 20\\\\\n",
       "\\end{tabular}\n"
      ],
      "text/markdown": [
       "\n",
       "|  1 |  2 |  3 |  4 |  5 | \n",
       "|  6 |  7 |  8 |  9 | 10 | \n",
       "| 11 | 12 | 13 | 14 | 15 | \n",
       "| 16 | 17 | 18 | 19 | 20 | \n",
       "\n",
       "\n"
      ],
      "text/plain": [
       "     [,1] [,2] [,3] [,4] [,5]\n",
       "[1,]  1    2    3    4    5  \n",
       "[2,]  6    7    8    9   10  \n",
       "[3,] 11   12   13   14   15  \n",
       "[4,] 16   17   18   19   20  "
      ]
     },
     "metadata": {},
     "output_type": "display_data"
    }
   ],
   "source": [
    "# matrix의 생성\n",
    "z <- matrix(1:20,nrow =4, ncol = 5) \n",
    "# 인자에 byrow = T 추가한다면 행 위주로 데이터를 추가 디폴트 값은 컬럼 위주로 데이터 추가 \n",
    "z\n",
    "z1 <- matrix(1:20,nrow = 4, ncol = 5, byrow = T)\n",
    "z1"
   ]
  },
  {
   "cell_type": "code",
   "execution_count": 5,
   "metadata": {},
   "outputs": [
    {
     "data": {
      "text/html": [
       "<table>\n",
       "<thead><tr><th scope=col>x</th><th scope=col>y</th></tr></thead>\n",
       "<tbody>\n",
       "\t<tr><td>1</td><td>5</td></tr>\n",
       "\t<tr><td>2</td><td>6</td></tr>\n",
       "\t<tr><td>3</td><td>7</td></tr>\n",
       "\t<tr><td>4</td><td>8</td></tr>\n",
       "</tbody>\n",
       "</table>\n"
      ],
      "text/latex": [
       "\\begin{tabular}{ll}\n",
       " x & y\\\\\n",
       "\\hline\n",
       "\t 1 & 5\\\\\n",
       "\t 2 & 6\\\\\n",
       "\t 3 & 7\\\\\n",
       "\t 4 & 8\\\\\n",
       "\\end{tabular}\n"
      ],
      "text/markdown": [
       "\n",
       "x | y | \n",
       "|---|---|---|---|\n",
       "| 1 | 5 | \n",
       "| 2 | 6 | \n",
       "| 3 | 7 | \n",
       "| 4 | 8 | \n",
       "\n",
       "\n"
      ],
      "text/plain": [
       "     x y\n",
       "[1,] 1 5\n",
       "[2,] 2 6\n",
       "[3,] 3 7\n",
       "[4,] 4 8"
      ]
     },
     "metadata": {},
     "output_type": "display_data"
    },
    {
     "data": {
      "text/html": [
       "<table>\n",
       "<tbody>\n",
       "\t<tr><th scope=row>x</th><td>1</td><td>2</td><td>3</td><td>4</td></tr>\n",
       "\t<tr><th scope=row>y</th><td>5</td><td>6</td><td>7</td><td>8</td></tr>\n",
       "</tbody>\n",
       "</table>\n"
      ],
      "text/latex": [
       "\\begin{tabular}{r|llll}\n",
       "\tx & 1 & 2 & 3 & 4\\\\\n",
       "\ty & 5 & 6 & 7 & 8\\\\\n",
       "\\end{tabular}\n"
      ],
      "text/markdown": [
       "\n",
       "| x | 1 | 2 | 3 | 4 | \n",
       "| y | 5 | 6 | 7 | 8 | \n",
       "\n",
       "\n"
      ],
      "text/plain": [
       "  [,1] [,2] [,3] [,4]\n",
       "x 1    2    3    4   \n",
       "y 5    6    7    8   "
      ]
     },
     "metadata": {},
     "output_type": "display_data"
    },
    {
     "data": {
      "text/html": [
       "<table>\n",
       "<tbody>\n",
       "\t<tr><th scope=row>x</th><td>1</td><td>2</td><td>3</td><td>4</td></tr>\n",
       "\t<tr><th scope=row>y</th><td>5</td><td>6</td><td>7</td><td>8</td></tr>\n",
       "\t<tr><th scope=row>x</th><td>1</td><td>2</td><td>3</td><td>4</td></tr>\n",
       "</tbody>\n",
       "</table>\n"
      ],
      "text/latex": [
       "\\begin{tabular}{r|llll}\n",
       "\tx & 1 & 2 & 3 & 4\\\\\n",
       "\ty & 5 & 6 & 7 & 8\\\\\n",
       "\tx & 1 & 2 & 3 & 4\\\\\n",
       "\\end{tabular}\n"
      ],
      "text/markdown": [
       "\n",
       "| x | 1 | 2 | 3 | 4 | \n",
       "| y | 5 | 6 | 7 | 8 | \n",
       "| x | 1 | 2 | 3 | 4 | \n",
       "\n",
       "\n"
      ],
      "text/plain": [
       "  [,1] [,2] [,3] [,4]\n",
       "x 1    2    3    4   \n",
       "y 5    6    7    8   \n",
       "x 1    2    3    4   "
      ]
     },
     "metadata": {},
     "output_type": "display_data"
    },
    {
     "data": {
      "text/html": [
       "<table>\n",
       "<thead><tr><th scope=col></th><th scope=col></th><th scope=col></th><th scope=col></th><th scope=col></th><th scope=col>x</th></tr></thead>\n",
       "<tbody>\n",
       "\t<tr><td>1 </td><td>5 </td><td> 9</td><td>13</td><td>17</td><td>1 </td></tr>\n",
       "\t<tr><td>2 </td><td>6 </td><td>10</td><td>14</td><td>18</td><td>2 </td></tr>\n",
       "\t<tr><td>3 </td><td>7 </td><td>11</td><td>15</td><td>19</td><td>3 </td></tr>\n",
       "\t<tr><td>4 </td><td>8 </td><td>12</td><td>16</td><td>20</td><td>4 </td></tr>\n",
       "</tbody>\n",
       "</table>\n"
      ],
      "text/latex": [
       "\\begin{tabular}{llllll}\n",
       "  &  &  &  &  & x\\\\\n",
       "\\hline\n",
       "\t 1  & 5  &  9 & 13 & 17 & 1 \\\\\n",
       "\t 2  & 6  & 10 & 14 & 18 & 2 \\\\\n",
       "\t 3  & 7  & 11 & 15 & 19 & 3 \\\\\n",
       "\t 4  & 8  & 12 & 16 & 20 & 4 \\\\\n",
       "\\end{tabular}\n"
      ],
      "text/markdown": [
       "\n",
       " |  |  |  |  | x | \n",
       "|---|---|---|---|\n",
       "| 1  | 5  |  9 | 13 | 17 | 1  | \n",
       "| 2  | 6  | 10 | 14 | 18 | 2  | \n",
       "| 3  | 7  | 11 | 15 | 19 | 3  | \n",
       "| 4  | 8  | 12 | 16 | 20 | 4  | \n",
       "\n",
       "\n"
      ],
      "text/plain": [
       "                  x\n",
       "[1,] 1 5  9 13 17 1\n",
       "[2,] 2 6 10 14 18 2\n",
       "[3,] 3 7 11 15 19 3\n",
       "[4,] 4 8 12 16 20 4"
      ]
     },
     "metadata": {},
     "output_type": "display_data"
    }
   ],
   "source": [
    "# 기존의 vector또는 matrix를 결합해 새로운 행렬을 만들 수도 있다.\n",
    "x <- 1:4\n",
    "y <- 5:8\n",
    "m1 <- cbind(x,y)\n",
    "m2 <- rbind(x,y)\n",
    "m1\n",
    "m2\n",
    "m3 <- rbind(m2,x)\n",
    "m4 <- cbind(z,x)\n",
    "m3\n",
    "m4"
   ]
  },
  {
   "cell_type": "code",
   "execution_count": 6,
   "metadata": {},
   "outputs": [
    {
     "data": {
      "text/html": [
       "10"
      ],
      "text/latex": [
       "10"
      ],
      "text/markdown": [
       "10"
      ],
      "text/plain": [
       "[1] 10"
      ]
     },
     "metadata": {},
     "output_type": "display_data"
    },
    {
     "data": {
      "text/html": [
       "13"
      ],
      "text/latex": [
       "13"
      ],
      "text/markdown": [
       "13"
      ],
      "text/plain": [
       "[1] 13"
      ]
     },
     "metadata": {},
     "output_type": "display_data"
    },
    {
     "data": {
      "text/html": [
       "<ol class=list-inline>\n",
       "\t<li>2</li>\n",
       "\t<li>6</li>\n",
       "\t<li>10</li>\n",
       "\t<li>14</li>\n",
       "\t<li>18</li>\n",
       "</ol>\n"
      ],
      "text/latex": [
       "\\begin{enumerate*}\n",
       "\\item 2\n",
       "\\item 6\n",
       "\\item 10\n",
       "\\item 14\n",
       "\\item 18\n",
       "\\end{enumerate*}\n"
      ],
      "text/markdown": [
       "1. 2\n",
       "2. 6\n",
       "3. 10\n",
       "4. 14\n",
       "5. 18\n",
       "\n",
       "\n"
      ],
      "text/plain": [
       "[1]  2  6 10 14 18"
      ]
     },
     "metadata": {},
     "output_type": "display_data"
    },
    {
     "data": {
      "text/html": [
       "<ol class=list-inline>\n",
       "\t<li>13</li>\n",
       "\t<li>14</li>\n",
       "\t<li>15</li>\n",
       "\t<li>16</li>\n",
       "</ol>\n"
      ],
      "text/latex": [
       "\\begin{enumerate*}\n",
       "\\item 13\n",
       "\\item 14\n",
       "\\item 15\n",
       "\\item 16\n",
       "\\end{enumerate*}\n"
      ],
      "text/markdown": [
       "1. 13\n",
       "2. 14\n",
       "3. 15\n",
       "4. 16\n",
       "\n",
       "\n"
      ],
      "text/plain": [
       "[1] 13 14 15 16"
      ]
     },
     "metadata": {},
     "output_type": "display_data"
    }
   ],
   "source": [
    "# matrix 안에서의 위치지정\n",
    "z[2,3]\n",
    "z[1,4]\n",
    "z[2,]\n",
    "z[,4]"
   ]
  },
  {
   "cell_type": "code",
   "execution_count": 7,
   "metadata": {},
   "outputs": [
    {
     "data": {
      "text/plain": [
       "NULL"
      ]
     },
     "metadata": {},
     "output_type": "display_data"
    },
    {
     "data": {
      "text/plain": [
       "NULL"
      ]
     },
     "metadata": {},
     "output_type": "display_data"
    },
    {
     "data": {
      "text/html": [
       "<table>\n",
       "<thead><tr><th></th><th scope=col>col1</th><th scope=col>col2</th><th scope=col>col3</th><th scope=col>col4</th><th scope=col>col5</th></tr></thead>\n",
       "<tbody>\n",
       "\t<tr><th scope=row>row1</th><td>1 </td><td>5 </td><td> 9</td><td>13</td><td>17</td></tr>\n",
       "\t<tr><th scope=row>row2</th><td>2 </td><td>6 </td><td>10</td><td>14</td><td>18</td></tr>\n",
       "\t<tr><th scope=row>row3</th><td>3 </td><td>7 </td><td>11</td><td>15</td><td>19</td></tr>\n",
       "\t<tr><th scope=row>row4</th><td>4 </td><td>8 </td><td>12</td><td>16</td><td>20</td></tr>\n",
       "</tbody>\n",
       "</table>\n"
      ],
      "text/latex": [
       "\\begin{tabular}{r|lllll}\n",
       "  & col1 & col2 & col3 & col4 & col5\\\\\n",
       "\\hline\n",
       "\trow1 & 1  & 5  &  9 & 13 & 17\\\\\n",
       "\trow2 & 2  & 6  & 10 & 14 & 18\\\\\n",
       "\trow3 & 3  & 7  & 11 & 15 & 19\\\\\n",
       "\trow4 & 4  & 8  & 12 & 16 & 20\\\\\n",
       "\\end{tabular}\n"
      ],
      "text/markdown": [
       "\n",
       "| <!--/--> | col1 | col2 | col3 | col4 | col5 | \n",
       "|---|---|---|---|\n",
       "| row1 | 1  | 5  |  9 | 13 | 17 | \n",
       "| row2 | 2  | 6  | 10 | 14 | 18 | \n",
       "| row3 | 3  | 7  | 11 | 15 | 19 | \n",
       "| row4 | 4  | 8  | 12 | 16 | 20 | \n",
       "\n",
       "\n"
      ],
      "text/plain": [
       "     col1 col2 col3 col4 col5\n",
       "row1 1    5     9   13   17  \n",
       "row2 2    6    10   14   18  \n",
       "row3 3    7    11   15   19  \n",
       "row4 4    8    12   16   20  "
      ]
     },
     "metadata": {},
     "output_type": "display_data"
    }
   ],
   "source": [
    "rownames(z)\n",
    "colnames(z)\n",
    "rownames(z) <- c(\"row1\",\"row2\",\"row3\",\"row4\")\n",
    "colnames(z) <- c(\"col1\",\"col2\",\"col3\",\"col4\",\"col5\")\n",
    "z"
   ]
  },
  {
   "cell_type": "code",
   "execution_count": null,
   "metadata": {},
   "outputs": [],
   "source": [
    "# [연습1]"
   ]
  },
  {
   "cell_type": "code",
   "execution_count": 18,
   "metadata": {},
   "outputs": [
    {
     "data": {
      "text/html": [
       "<table>\n",
       "<thead><tr><th scope=col>m</th><th scope=col>f</th></tr></thead>\n",
       "<tbody>\n",
       "\t<tr><td>10</td><td>21</td></tr>\n",
       "\t<tr><td>40</td><td>60</td></tr>\n",
       "\t<tr><td>60</td><td>70</td></tr>\n",
       "\t<tr><td>20</td><td>30</td></tr>\n",
       "</tbody>\n",
       "</table>\n"
      ],
      "text/latex": [
       "\\begin{tabular}{ll}\n",
       " m & f\\\\\n",
       "\\hline\n",
       "\t 10 & 21\\\\\n",
       "\t 40 & 60\\\\\n",
       "\t 60 & 70\\\\\n",
       "\t 20 & 30\\\\\n",
       "\\end{tabular}\n"
      ],
      "text/markdown": [
       "\n",
       "m | f | \n",
       "|---|---|---|---|\n",
       "| 10 | 21 | \n",
       "| 40 | 60 | \n",
       "| 60 | 70 | \n",
       "| 20 | 30 | \n",
       "\n",
       "\n"
      ],
      "text/plain": [
       "     m  f \n",
       "[1,] 10 21\n",
       "[2,] 40 60\n",
       "[3,] 60 70\n",
       "[4,] 20 30"
      ]
     },
     "metadata": {},
     "output_type": "display_data"
    },
    {
     "data": {
      "text/html": [
       "<table>\n",
       "<thead><tr><th scope=col>male</th><th scope=col>female</th></tr></thead>\n",
       "<tbody>\n",
       "\t<tr><td>10</td><td>21</td></tr>\n",
       "\t<tr><td>40</td><td>60</td></tr>\n",
       "\t<tr><td>60</td><td>70</td></tr>\n",
       "\t<tr><td>20</td><td>30</td></tr>\n",
       "</tbody>\n",
       "</table>\n"
      ],
      "text/latex": [
       "\\begin{tabular}{ll}\n",
       " male & female\\\\\n",
       "\\hline\n",
       "\t 10 & 21\\\\\n",
       "\t 40 & 60\\\\\n",
       "\t 60 & 70\\\\\n",
       "\t 20 & 30\\\\\n",
       "\\end{tabular}\n"
      ],
      "text/markdown": [
       "\n",
       "male | female | \n",
       "|---|---|---|---|\n",
       "| 10 | 21 | \n",
       "| 40 | 60 | \n",
       "| 60 | 70 | \n",
       "| 20 | 30 | \n",
       "\n",
       "\n"
      ],
      "text/plain": [
       "     male female\n",
       "[1,] 10   21    \n",
       "[2,] 40   60    \n",
       "[3,] 60   70    \n",
       "[4,] 20   30    "
      ]
     },
     "metadata": {},
     "output_type": "display_data"
    },
    {
     "data": {
      "text/html": [
       "<ol class=list-inline>\n",
       "\t<li>21</li>\n",
       "\t<li>60</li>\n",
       "\t<li>70</li>\n",
       "\t<li>30</li>\n",
       "</ol>\n"
      ],
      "text/latex": [
       "\\begin{enumerate*}\n",
       "\\item 21\n",
       "\\item 60\n",
       "\\item 70\n",
       "\\item 30\n",
       "\\end{enumerate*}\n"
      ],
      "text/markdown": [
       "1. 21\n",
       "2. 60\n",
       "3. 70\n",
       "4. 30\n",
       "\n",
       "\n"
      ],
      "text/plain": [
       "[1] 21 60 70 30"
      ]
     },
     "metadata": {},
     "output_type": "display_data"
    },
    {
     "data": {
      "text/html": [
       "<ol class=list-inline>\n",
       "\t<li>21</li>\n",
       "\t<li>60</li>\n",
       "\t<li>70</li>\n",
       "\t<li>30</li>\n",
       "</ol>\n"
      ],
      "text/latex": [
       "\\begin{enumerate*}\n",
       "\\item 21\n",
       "\\item 60\n",
       "\\item 70\n",
       "\\item 30\n",
       "\\end{enumerate*}\n"
      ],
      "text/markdown": [
       "1. 21\n",
       "2. 60\n",
       "3. 70\n",
       "4. 30\n",
       "\n",
       "\n"
      ],
      "text/plain": [
       "[1] 21 60 70 30"
      ]
     },
     "metadata": {},
     "output_type": "display_data"
    },
    {
     "data": {
      "text/html": [
       "<strong>female:</strong> 70"
      ],
      "text/latex": [
       "\\textbf{female:} 70"
      ],
      "text/markdown": [
       "**female:** 70"
      ],
      "text/plain": [
       "female \n",
       "    70 "
      ]
     },
     "metadata": {},
     "output_type": "display_data"
    }
   ],
   "source": [
    "# 다음과 같은 내용의 matrix를 생성하시오\n",
    "m <- c(10,40,60,20)\n",
    "f <- c(21,60,70,30)\n",
    "score <- cbind(m,f)\n",
    "score\n",
    "# 컬럼의 이름을 각각 male,female로 바꾸시오\n",
    "colnames(score) <- c(\"male\",\"female\")\n",
    "score\n",
    "# 2행에 있는 모든 값을 보이시오 \n",
    "score[,2]\n",
    "# female의 모든 값을 보이시오\n",
    "score[,'female']\n",
    "# 3행 2열의 값을 보이시오\n",
    "score[3,2]"
   ]
  },
  {
   "cell_type": "code",
   "execution_count": null,
   "metadata": {},
   "outputs": [],
   "source": [
    "# 2. Data Frame"
   ]
  },
  {
   "cell_type": "code",
   "execution_count": 9,
   "metadata": {},
   "outputs": [
    {
     "data": {
      "text/html": [
       "<table>\n",
       "<thead><tr><th scope=col>city</th><th scope=col>rank</th></tr></thead>\n",
       "<tbody>\n",
       "\t<tr><td>Seoul</td><td>1    </td></tr>\n",
       "</tbody>\n",
       "</table>\n"
      ],
      "text/latex": [
       "\\begin{tabular}{r|ll}\n",
       " city & rank\\\\\n",
       "\\hline\n",
       "\t Seoul & 1    \\\\\n",
       "\\end{tabular}\n"
      ],
      "text/markdown": [
       "\n",
       "city | rank | \n",
       "|---|\n",
       "| Seoul | 1     | \n",
       "\n",
       "\n"
      ],
      "text/plain": [
       "  city  rank\n",
       "1 Seoul 1   "
      ]
     },
     "metadata": {},
     "output_type": "display_data"
    },
    {
     "data": {
      "text/html": [
       "<table>\n",
       "<thead><tr><th></th><th scope=col>city</th><th scope=col>rank</th></tr></thead>\n",
       "<tbody>\n",
       "\t<tr><th scope=row>2</th><td>Tokyo</td><td>3    </td></tr>\n",
       "</tbody>\n",
       "</table>\n"
      ],
      "text/latex": [
       "\\begin{tabular}{r|ll}\n",
       "  & city & rank\\\\\n",
       "\\hline\n",
       "\t2 & Tokyo & 3    \\\\\n",
       "\\end{tabular}\n"
      ],
      "text/markdown": [
       "\n",
       "| <!--/--> | city | rank | \n",
       "|---|\n",
       "| 2 | Tokyo | 3     | \n",
       "\n",
       "\n"
      ],
      "text/plain": [
       "  city  rank\n",
       "2 Tokyo 3   "
      ]
     },
     "metadata": {},
     "output_type": "display_data"
    },
    {
     "data": {
      "text/html": [
       "<table>\n",
       "<thead><tr><th></th><th scope=col>city</th><th scope=col>rank</th></tr></thead>\n",
       "<tbody>\n",
       "\t<tr><th scope=row>3</th><td>washington</td><td>2         </td></tr>\n",
       "</tbody>\n",
       "</table>\n"
      ],
      "text/latex": [
       "\\begin{tabular}{r|ll}\n",
       "  & city & rank\\\\\n",
       "\\hline\n",
       "\t3 & washington & 2         \\\\\n",
       "\\end{tabular}\n"
      ],
      "text/markdown": [
       "\n",
       "| <!--/--> | city | rank | \n",
       "|---|\n",
       "| 3 | washington | 2          | \n",
       "\n",
       "\n"
      ],
      "text/plain": [
       "  city       rank\n",
       "3 washington 2   "
      ]
     },
     "metadata": {},
     "output_type": "display_data"
    },
    {
     "data": {
      "text/html": [
       "<table>\n",
       "<thead><tr><th scope=col>city</th><th scope=col>rank</th></tr></thead>\n",
       "<tbody>\n",
       "\t<tr><td>Seoul     </td><td>1         </td></tr>\n",
       "\t<tr><td>Tokyo     </td><td>3         </td></tr>\n",
       "\t<tr><td>washington</td><td>2         </td></tr>\n",
       "</tbody>\n",
       "</table>\n"
      ],
      "text/latex": [
       "\\begin{tabular}{r|ll}\n",
       " city & rank\\\\\n",
       "\\hline\n",
       "\t Seoul      & 1         \\\\\n",
       "\t Tokyo      & 3         \\\\\n",
       "\t washington & 2         \\\\\n",
       "\\end{tabular}\n"
      ],
      "text/markdown": [
       "\n",
       "city | rank | \n",
       "|---|---|---|\n",
       "| Seoul      | 1          | \n",
       "| Tokyo      | 3          | \n",
       "| washington | 2          | \n",
       "\n",
       "\n"
      ],
      "text/plain": [
       "  city       rank\n",
       "1 Seoul      1   \n",
       "2 Tokyo      3   \n",
       "3 washington 2   "
      ]
     },
     "metadata": {},
     "output_type": "display_data"
    }
   ],
   "source": [
    "# data frame 만들기\n",
    "city <- c(\"Seoul\",\"Tokyo\",\"washington\")\n",
    "rank <- c(1,3,2)\n",
    "city.info  <- data.frame(city, rank)\n",
    "\n",
    "city.info[1,]\n",
    "city.info[2,]\n",
    "city.info[3,]\n",
    "city.info"
   ]
  },
  {
   "cell_type": "code",
   "execution_count": null,
   "metadata": {},
   "outputs": [],
   "source": []
  },
  {
   "cell_type": "code",
   "execution_count": 5,
   "metadata": {},
   "outputs": [
    {
     "data": {
      "text/html": [
       "<table>\n",
       "<thead><tr><th scope=col>Sepal.Length</th><th scope=col>Sepal.Width</th><th scope=col>Petal.Length</th><th scope=col>Petal.Width</th><th scope=col>Species</th></tr></thead>\n",
       "<tbody>\n",
       "\t<tr><td>5.1   </td><td>3.5   </td><td>1.4   </td><td>0.2   </td><td>setosa</td></tr>\n",
       "\t<tr><td>4.9   </td><td>3.0   </td><td>1.4   </td><td>0.2   </td><td>setosa</td></tr>\n",
       "\t<tr><td>4.7   </td><td>3.2   </td><td>1.3   </td><td>0.2   </td><td>setosa</td></tr>\n",
       "\t<tr><td>4.6   </td><td>3.1   </td><td>1.5   </td><td>0.2   </td><td>setosa</td></tr>\n",
       "\t<tr><td>5.0   </td><td>3.6   </td><td>1.4   </td><td>0.2   </td><td>setosa</td></tr>\n",
       "\t<tr><td>5.4   </td><td>3.9   </td><td>1.7   </td><td>0.4   </td><td>setosa</td></tr>\n",
       "</tbody>\n",
       "</table>\n"
      ],
      "text/latex": [
       "\\begin{tabular}{r|lllll}\n",
       " Sepal.Length & Sepal.Width & Petal.Length & Petal.Width & Species\\\\\n",
       "\\hline\n",
       "\t 5.1    & 3.5    & 1.4    & 0.2    & setosa\\\\\n",
       "\t 4.9    & 3.0    & 1.4    & 0.2    & setosa\\\\\n",
       "\t 4.7    & 3.2    & 1.3    & 0.2    & setosa\\\\\n",
       "\t 4.6    & 3.1    & 1.5    & 0.2    & setosa\\\\\n",
       "\t 5.0    & 3.6    & 1.4    & 0.2    & setosa\\\\\n",
       "\t 5.4    & 3.9    & 1.7    & 0.4    & setosa\\\\\n",
       "\\end{tabular}\n"
      ],
      "text/markdown": [
       "\n",
       "Sepal.Length | Sepal.Width | Petal.Length | Petal.Width | Species | \n",
       "|---|---|---|---|---|---|\n",
       "| 5.1    | 3.5    | 1.4    | 0.2    | setosa | \n",
       "| 4.9    | 3.0    | 1.4    | 0.2    | setosa | \n",
       "| 4.7    | 3.2    | 1.3    | 0.2    | setosa | \n",
       "| 4.6    | 3.1    | 1.5    | 0.2    | setosa | \n",
       "| 5.0    | 3.6    | 1.4    | 0.2    | setosa | \n",
       "| 5.4    | 3.9    | 1.7    | 0.4    | setosa | \n",
       "\n",
       "\n"
      ],
      "text/plain": [
       "  Sepal.Length Sepal.Width Petal.Length Petal.Width Species\n",
       "1 5.1          3.5         1.4          0.2         setosa \n",
       "2 4.9          3.0         1.4          0.2         setosa \n",
       "3 4.7          3.2         1.3          0.2         setosa \n",
       "4 4.6          3.1         1.5          0.2         setosa \n",
       "5 5.0          3.6         1.4          0.2         setosa \n",
       "6 5.4          3.9         1.7          0.4         setosa "
      ]
     },
     "metadata": {},
     "output_type": "display_data"
    },
    {
     "data": {
      "text/html": [
       "TRUE"
      ],
      "text/latex": [
       "TRUE"
      ],
      "text/markdown": [
       "TRUE"
      ],
      "text/plain": [
       "[1] TRUE"
      ]
     },
     "metadata": {},
     "output_type": "display_data"
    },
    {
     "data": {
      "text/html": [
       "<ol class=list-inline>\n",
       "\t<li>setosa</li>\n",
       "\t<li>setosa</li>\n",
       "\t<li>setosa</li>\n",
       "\t<li>setosa</li>\n",
       "\t<li>setosa</li>\n",
       "\t<li>setosa</li>\n",
       "</ol>\n",
       "\n",
       "<details>\n",
       "\t<summary style=display:list-item;cursor:pointer>\n",
       "\t\t<strong>Levels</strong>:\n",
       "\t</summary>\n",
       "\t<ol class=list-inline>\n",
       "\t\t<li>'setosa'</li>\n",
       "\t\t<li>'versicolor'</li>\n",
       "\t\t<li>'virginica'</li>\n",
       "\t</ol>\n",
       "</details>"
      ],
      "text/latex": [
       "\\begin{enumerate*}\n",
       "\\item setosa\n",
       "\\item setosa\n",
       "\\item setosa\n",
       "\\item setosa\n",
       "\\item setosa\n",
       "\\item setosa\n",
       "\\end{enumerate*}\n",
       "\n",
       "\\emph{Levels}: \\begin{enumerate*}\n",
       "\\item 'setosa'\n",
       "\\item 'versicolor'\n",
       "\\item 'virginica'\n",
       "\\end{enumerate*}\n"
      ],
      "text/markdown": [
       "1. setosa\n",
       "2. setosa\n",
       "3. setosa\n",
       "4. setosa\n",
       "5. setosa\n",
       "6. setosa\n",
       "\n",
       "\n",
       "\n",
       "**Levels**: 1. 'setosa'\n",
       "2. 'versicolor'\n",
       "3. 'virginica'\n",
       "\n",
       "\n"
      ],
      "text/plain": [
       "[1] setosa setosa setosa setosa setosa setosa\n",
       "Levels: setosa versicolor virginica"
      ]
     },
     "metadata": {},
     "output_type": "display_data"
    },
    {
     "data": {
      "text/html": [
       "<table>\n",
       "<thead><tr><th scope=col>Species</th></tr></thead>\n",
       "<tbody>\n",
       "\t<tr><td>setosa</td></tr>\n",
       "\t<tr><td>setosa</td></tr>\n",
       "\t<tr><td>setosa</td></tr>\n",
       "\t<tr><td>setosa</td></tr>\n",
       "\t<tr><td>setosa</td></tr>\n",
       "\t<tr><td>setosa</td></tr>\n",
       "</tbody>\n",
       "</table>\n"
      ],
      "text/latex": [
       "\\begin{tabular}{r|l}\n",
       " Species\\\\\n",
       "\\hline\n",
       "\t setosa\\\\\n",
       "\t setosa\\\\\n",
       "\t setosa\\\\\n",
       "\t setosa\\\\\n",
       "\t setosa\\\\\n",
       "\t setosa\\\\\n",
       "\\end{tabular}\n"
      ],
      "text/markdown": [
       "\n",
       "Species | \n",
       "|---|---|---|---|---|---|\n",
       "| setosa | \n",
       "| setosa | \n",
       "| setosa | \n",
       "| setosa | \n",
       "| setosa | \n",
       "| setosa | \n",
       "\n",
       "\n"
      ],
      "text/plain": [
       "  Species\n",
       "1 setosa \n",
       "2 setosa \n",
       "3 setosa \n",
       "4 setosa \n",
       "5 setosa \n",
       "6 setosa "
      ]
     },
     "metadata": {},
     "output_type": "display_data"
    },
    {
     "data": {
      "text/html": [
       "<ol class=list-inline>\n",
       "\t<li>setosa</li>\n",
       "\t<li>setosa</li>\n",
       "\t<li>setosa</li>\n",
       "\t<li>setosa</li>\n",
       "\t<li>setosa</li>\n",
       "\t<li>setosa</li>\n",
       "</ol>\n",
       "\n",
       "<details>\n",
       "\t<summary style=display:list-item;cursor:pointer>\n",
       "\t\t<strong>Levels</strong>:\n",
       "\t</summary>\n",
       "\t<ol class=list-inline>\n",
       "\t\t<li>'setosa'</li>\n",
       "\t\t<li>'versicolor'</li>\n",
       "\t\t<li>'virginica'</li>\n",
       "\t</ol>\n",
       "</details>"
      ],
      "text/latex": [
       "\\begin{enumerate*}\n",
       "\\item setosa\n",
       "\\item setosa\n",
       "\\item setosa\n",
       "\\item setosa\n",
       "\\item setosa\n",
       "\\item setosa\n",
       "\\end{enumerate*}\n",
       "\n",
       "\\emph{Levels}: \\begin{enumerate*}\n",
       "\\item 'setosa'\n",
       "\\item 'versicolor'\n",
       "\\item 'virginica'\n",
       "\\end{enumerate*}\n"
      ],
      "text/markdown": [
       "1. setosa\n",
       "2. setosa\n",
       "3. setosa\n",
       "4. setosa\n",
       "5. setosa\n",
       "6. setosa\n",
       "\n",
       "\n",
       "\n",
       "**Levels**: 1. 'setosa'\n",
       "2. 'versicolor'\n",
       "3. 'virginica'\n",
       "\n",
       "\n"
      ],
      "text/plain": [
       "[1] setosa setosa setosa setosa setosa setosa\n",
       "Levels: setosa versicolor virginica"
      ]
     },
     "metadata": {},
     "output_type": "display_data"
    }
   ],
   "source": [
    "# data.frame인 경우 열(Column)별 데이터를 뽑는 것이 가능하다. (matrix에서는 불가능)\n",
    "# data.frame의 경우 컬럼별로 데이터를 뽑을 경우 그 결과가 data.frame으로 출력\n",
    "# 그러나 matrix는 vactor형식으로 출력\n",
    "\n",
    "head(iris) \n",
    "is.data.frame(iris)\n",
    "head(iris[,\"Species\"]) # 벡터로 출력\n",
    "head(iris['Species']) # 데이터 프레임으로 출력\n",
    "head(iris$Species) # 벡터로 출력"
   ]
  },
  {
   "cell_type": "code",
   "execution_count": 19,
   "metadata": {},
   "outputs": [
    {
     "data": {
      "text/html": [
       "<table>\n",
       "<thead><tr><th scope=col>Sepal.Length</th><th scope=col>Sepal.Width</th></tr></thead>\n",
       "<tbody>\n",
       "\t<tr><td>5.1</td><td>3.5</td></tr>\n",
       "\t<tr><td>4.9</td><td>3.0</td></tr>\n",
       "\t<tr><td>4.7</td><td>3.2</td></tr>\n",
       "\t<tr><td>4.6</td><td>3.1</td></tr>\n",
       "\t<tr><td>5.0</td><td>3.6</td></tr>\n",
       "\t<tr><td>5.4</td><td>3.9</td></tr>\n",
       "</tbody>\n",
       "</table>\n"
      ],
      "text/latex": [
       "\\begin{tabular}{r|ll}\n",
       " Sepal.Length & Sepal.Width\\\\\n",
       "\\hline\n",
       "\t 5.1 & 3.5\\\\\n",
       "\t 4.9 & 3.0\\\\\n",
       "\t 4.7 & 3.2\\\\\n",
       "\t 4.6 & 3.1\\\\\n",
       "\t 5.0 & 3.6\\\\\n",
       "\t 5.4 & 3.9\\\\\n",
       "\\end{tabular}\n"
      ],
      "text/markdown": [
       "\n",
       "Sepal.Length | Sepal.Width | \n",
       "|---|---|---|---|---|---|\n",
       "| 5.1 | 3.5 | \n",
       "| 4.9 | 3.0 | \n",
       "| 4.7 | 3.2 | \n",
       "| 4.6 | 3.1 | \n",
       "| 5.0 | 3.6 | \n",
       "| 5.4 | 3.9 | \n",
       "\n",
       "\n"
      ],
      "text/plain": [
       "  Sepal.Length Sepal.Width\n",
       "1 5.1          3.5        \n",
       "2 4.9          3.0        \n",
       "3 4.7          3.2        \n",
       "4 4.6          3.1        \n",
       "5 5.0          3.6        \n",
       "6 5.4          3.9        "
      ]
     },
     "metadata": {},
     "output_type": "display_data"
    },
    {
     "data": {
      "text/html": [
       "<table>\n",
       "<thead><tr><th scope=col>Sepal.Length</th><th scope=col>Petal.Length</th><th scope=col>Species</th></tr></thead>\n",
       "<tbody>\n",
       "\t<tr><td>5.1   </td><td>1.4   </td><td>setosa</td></tr>\n",
       "\t<tr><td>4.9   </td><td>1.4   </td><td>setosa</td></tr>\n",
       "\t<tr><td>4.7   </td><td>1.3   </td><td>setosa</td></tr>\n",
       "\t<tr><td>4.6   </td><td>1.5   </td><td>setosa</td></tr>\n",
       "\t<tr><td>5.0   </td><td>1.4   </td><td>setosa</td></tr>\n",
       "\t<tr><td>5.4   </td><td>1.7   </td><td>setosa</td></tr>\n",
       "</tbody>\n",
       "</table>\n"
      ],
      "text/latex": [
       "\\begin{tabular}{r|lll}\n",
       " Sepal.Length & Petal.Length & Species\\\\\n",
       "\\hline\n",
       "\t 5.1    & 1.4    & setosa\\\\\n",
       "\t 4.9    & 1.4    & setosa\\\\\n",
       "\t 4.7    & 1.3    & setosa\\\\\n",
       "\t 4.6    & 1.5    & setosa\\\\\n",
       "\t 5.0    & 1.4    & setosa\\\\\n",
       "\t 5.4    & 1.7    & setosa\\\\\n",
       "\\end{tabular}\n"
      ],
      "text/markdown": [
       "\n",
       "Sepal.Length | Petal.Length | Species | \n",
       "|---|---|---|---|---|---|\n",
       "| 5.1    | 1.4    | setosa | \n",
       "| 4.9    | 1.4    | setosa | \n",
       "| 4.7    | 1.3    | setosa | \n",
       "| 4.6    | 1.5    | setosa | \n",
       "| 5.0    | 1.4    | setosa | \n",
       "| 5.4    | 1.7    | setosa | \n",
       "\n",
       "\n"
      ],
      "text/plain": [
       "  Sepal.Length Petal.Length Species\n",
       "1 5.1          1.4          setosa \n",
       "2 4.9          1.4          setosa \n",
       "3 4.7          1.3          setosa \n",
       "4 4.6          1.5          setosa \n",
       "5 5.0          1.4          setosa \n",
       "6 5.4          1.7          setosa "
      ]
     },
     "metadata": {},
     "output_type": "display_data"
    },
    {
     "data": {
      "text/html": [
       "<table>\n",
       "<thead><tr><th scope=col>Sepal.Length</th><th scope=col>Sepal.Width</th><th scope=col>Petal.Length</th><th scope=col>Petal.Width</th><th scope=col>Species</th></tr></thead>\n",
       "<tbody>\n",
       "\t<tr><td>5.1   </td><td>3.5   </td><td>1.4   </td><td>0.2   </td><td>setosa</td></tr>\n",
       "\t<tr><td>4.9   </td><td>3.0   </td><td>1.4   </td><td>0.2   </td><td>setosa</td></tr>\n",
       "\t<tr><td>4.7   </td><td>3.2   </td><td>1.3   </td><td>0.2   </td><td>setosa</td></tr>\n",
       "\t<tr><td>4.6   </td><td>3.1   </td><td>1.5   </td><td>0.2   </td><td>setosa</td></tr>\n",
       "\t<tr><td>5.0   </td><td>3.6   </td><td>1.4   </td><td>0.2   </td><td>setosa</td></tr>\n",
       "\t<tr><td>5.4   </td><td>3.9   </td><td>1.7   </td><td>0.4   </td><td>setosa</td></tr>\n",
       "</tbody>\n",
       "</table>\n"
      ],
      "text/latex": [
       "\\begin{tabular}{r|lllll}\n",
       " Sepal.Length & Sepal.Width & Petal.Length & Petal.Width & Species\\\\\n",
       "\\hline\n",
       "\t 5.1    & 3.5    & 1.4    & 0.2    & setosa\\\\\n",
       "\t 4.9    & 3.0    & 1.4    & 0.2    & setosa\\\\\n",
       "\t 4.7    & 3.2    & 1.3    & 0.2    & setosa\\\\\n",
       "\t 4.6    & 3.1    & 1.5    & 0.2    & setosa\\\\\n",
       "\t 5.0    & 3.6    & 1.4    & 0.2    & setosa\\\\\n",
       "\t 5.4    & 3.9    & 1.7    & 0.4    & setosa\\\\\n",
       "\\end{tabular}\n"
      ],
      "text/markdown": [
       "\n",
       "Sepal.Length | Sepal.Width | Petal.Length | Petal.Width | Species | \n",
       "|---|---|---|---|---|---|\n",
       "| 5.1    | 3.5    | 1.4    | 0.2    | setosa | \n",
       "| 4.9    | 3.0    | 1.4    | 0.2    | setosa | \n",
       "| 4.7    | 3.2    | 1.3    | 0.2    | setosa | \n",
       "| 4.6    | 3.1    | 1.5    | 0.2    | setosa | \n",
       "| 5.0    | 3.6    | 1.4    | 0.2    | setosa | \n",
       "| 5.4    | 3.9    | 1.7    | 0.4    | setosa | \n",
       "\n",
       "\n"
      ],
      "text/plain": [
       "  Sepal.Length Sepal.Width Petal.Length Petal.Width Species\n",
       "1 5.1          3.5         1.4          0.2         setosa \n",
       "2 4.9          3.0         1.4          0.2         setosa \n",
       "3 4.7          3.2         1.3          0.2         setosa \n",
       "4 4.6          3.1         1.5          0.2         setosa \n",
       "5 5.0          3.6         1.4          0.2         setosa \n",
       "6 5.4          3.9         1.7          0.4         setosa "
      ]
     },
     "metadata": {},
     "output_type": "display_data"
    },
    {
     "data": {
      "text/html": [
       "<table>\n",
       "<thead><tr><th scope=col>Sepal.Length</th><th scope=col>Sepal.Width</th><th scope=col>Petal.Length</th></tr></thead>\n",
       "<tbody>\n",
       "\t<tr><td>5.1</td><td>3.5</td><td>1.4</td></tr>\n",
       "\t<tr><td>4.9</td><td>3.0</td><td>1.4</td></tr>\n",
       "\t<tr><td>4.7</td><td>3.2</td><td>1.3</td></tr>\n",
       "\t<tr><td>4.6</td><td>3.1</td><td>1.5</td></tr>\n",
       "\t<tr><td>5.0</td><td>3.6</td><td>1.4</td></tr>\n",
       "\t<tr><td>5.4</td><td>3.9</td><td>1.7</td></tr>\n",
       "</tbody>\n",
       "</table>\n"
      ],
      "text/latex": [
       "\\begin{tabular}{r|lll}\n",
       " Sepal.Length & Sepal.Width & Petal.Length\\\\\n",
       "\\hline\n",
       "\t 5.1 & 3.5 & 1.4\\\\\n",
       "\t 4.9 & 3.0 & 1.4\\\\\n",
       "\t 4.7 & 3.2 & 1.3\\\\\n",
       "\t 4.6 & 3.1 & 1.5\\\\\n",
       "\t 5.0 & 3.6 & 1.4\\\\\n",
       "\t 5.4 & 3.9 & 1.7\\\\\n",
       "\\end{tabular}\n"
      ],
      "text/markdown": [
       "\n",
       "Sepal.Length | Sepal.Width | Petal.Length | \n",
       "|---|---|---|---|---|---|\n",
       "| 5.1 | 3.5 | 1.4 | \n",
       "| 4.9 | 3.0 | 1.4 | \n",
       "| 4.7 | 3.2 | 1.3 | \n",
       "| 4.6 | 3.1 | 1.5 | \n",
       "| 5.0 | 3.6 | 1.4 | \n",
       "| 5.4 | 3.9 | 1.7 | \n",
       "\n",
       "\n"
      ],
      "text/plain": [
       "  Sepal.Length Sepal.Width Petal.Length\n",
       "1 5.1          3.5         1.4         \n",
       "2 4.9          3.0         1.4         \n",
       "3 4.7          3.2         1.3         \n",
       "4 4.6          3.1         1.5         \n",
       "5 5.0          3.6         1.4         \n",
       "6 5.4          3.9         1.7         "
      ]
     },
     "metadata": {},
     "output_type": "display_data"
    }
   ],
   "source": [
    "# 선택적으로 데이터를 확인\n",
    "head(iris[,c(1:2)])\n",
    "head(iris[,c(1,3,5)])\n",
    "head(iris[1:50,])\n",
    "head(iris[1:50,c(1:3)])"
   ]
  },
  {
   "cell_type": "code",
   "execution_count": null,
   "metadata": {},
   "outputs": [],
   "source": []
  },
  {
   "cell_type": "code",
   "execution_count": null,
   "metadata": {},
   "outputs": [],
   "source": [
    "# matrix, data.frame 다루기"
   ]
  },
  {
   "cell_type": "code",
   "execution_count": null,
   "metadata": {},
   "outputs": [],
   "source": [
    "str(iris) #데이터 셋 요약 보기\n",
    "unique(iris[,5]) # 종의 종류 보기 (중복제거)\n",
    "table(iris[,\"Specie\"]) #품종의 종류별 instance count"
   ]
  },
  {
   "cell_type": "code",
   "execution_count": 22,
   "metadata": {},
   "outputs": [
    {
     "data": {
      "text/html": [
       "<dl class=dl-horizontal>\n",
       "\t<dt>Sepal.Length</dt>\n",
       "\t\t<dd>876.5</dd>\n",
       "\t<dt>Sepal.Width</dt>\n",
       "\t\t<dd>458.6</dd>\n",
       "\t<dt>Petal.Length</dt>\n",
       "\t\t<dd>563.7</dd>\n",
       "\t<dt>Petal.Width</dt>\n",
       "\t\t<dd>179.9</dd>\n",
       "</dl>\n"
      ],
      "text/latex": [
       "\\begin{description*}\n",
       "\\item[Sepal.Length] 876.5\n",
       "\\item[Sepal.Width] 458.6\n",
       "\\item[Petal.Length] 563.7\n",
       "\\item[Petal.Width] 179.9\n",
       "\\end{description*}\n"
      ],
      "text/markdown": [
       "Sepal.Length\n",
       ":   876.5Sepal.Width\n",
       ":   458.6Petal.Length\n",
       ":   563.7Petal.Width\n",
       ":   179.9\n",
       "\n"
      ],
      "text/plain": [
       "Sepal.Length  Sepal.Width Petal.Length  Petal.Width \n",
       "       876.5        458.6        563.7        179.9 "
      ]
     },
     "metadata": {},
     "output_type": "display_data"
    },
    {
     "data": {
      "text/html": [
       "<dl class=dl-horizontal>\n",
       "\t<dt>Sepal.Length</dt>\n",
       "\t\t<dd>5.84333333333333</dd>\n",
       "\t<dt>Sepal.Width</dt>\n",
       "\t\t<dd>3.05733333333333</dd>\n",
       "\t<dt>Petal.Length</dt>\n",
       "\t\t<dd>3.758</dd>\n",
       "\t<dt>Petal.Width</dt>\n",
       "\t\t<dd>1.19933333333333</dd>\n",
       "</dl>\n"
      ],
      "text/latex": [
       "\\begin{description*}\n",
       "\\item[Sepal.Length] 5.84333333333333\n",
       "\\item[Sepal.Width] 3.05733333333333\n",
       "\\item[Petal.Length] 3.758\n",
       "\\item[Petal.Width] 1.19933333333333\n",
       "\\end{description*}\n"
      ],
      "text/markdown": [
       "Sepal.Length\n",
       ":   5.84333333333333Sepal.Width\n",
       ":   3.05733333333333Petal.Length\n",
       ":   3.758Petal.Width\n",
       ":   1.19933333333333\n",
       "\n"
      ],
      "text/plain": [
       "Sepal.Length  Sepal.Width Petal.Length  Petal.Width \n",
       "    5.843333     3.057333     3.758000     1.199333 "
      ]
     },
     "metadata": {},
     "output_type": "display_data"
    },
    {
     "data": {
      "text/html": [
       "<ol class=list-inline>\n",
       "\t<li>10.2</li>\n",
       "\t<li>9.5</li>\n",
       "\t<li>9.4</li>\n",
       "\t<li>9.4</li>\n",
       "\t<li>10.2</li>\n",
       "\t<li>11.4</li>\n",
       "</ol>\n"
      ],
      "text/latex": [
       "\\begin{enumerate*}\n",
       "\\item 10.2\n",
       "\\item 9.5\n",
       "\\item 9.4\n",
       "\\item 9.4\n",
       "\\item 10.2\n",
       "\\item 11.4\n",
       "\\end{enumerate*}\n"
      ],
      "text/markdown": [
       "1. 10.2\n",
       "2. 9.5\n",
       "3. 9.4\n",
       "4. 9.4\n",
       "5. 10.2\n",
       "6. 11.4\n",
       "\n",
       "\n"
      ],
      "text/plain": [
       "[1] 10.2  9.5  9.4  9.4 10.2 11.4"
      ]
     },
     "metadata": {},
     "output_type": "display_data"
    },
    {
     "data": {
      "text/html": [
       "<ol class=list-inline>\n",
       "\t<li>2.55</li>\n",
       "\t<li>2.375</li>\n",
       "\t<li>2.35</li>\n",
       "\t<li>2.35</li>\n",
       "\t<li>2.55</li>\n",
       "\t<li>2.85</li>\n",
       "</ol>\n"
      ],
      "text/latex": [
       "\\begin{enumerate*}\n",
       "\\item 2.55\n",
       "\\item 2.375\n",
       "\\item 2.35\n",
       "\\item 2.35\n",
       "\\item 2.55\n",
       "\\item 2.85\n",
       "\\end{enumerate*}\n"
      ],
      "text/markdown": [
       "1. 2.55\n",
       "2. 2.375\n",
       "3. 2.35\n",
       "4. 2.35\n",
       "5. 2.55\n",
       "6. 2.85\n",
       "\n",
       "\n"
      ],
      "text/plain": [
       "[1] 2.550 2.375 2.350 2.350 2.550 2.850"
      ]
     },
     "metadata": {},
     "output_type": "display_data"
    }
   ],
   "source": [
    "colSums(iris[,-5]) # 열별 합계\n",
    "colMeans(iris[,-5]) # 열별 평균\n",
    "head(rowSums(iris[,-5])) # 행별 합계\n",
    "head(rowMeans(iris[,-5])) # 행별 평균"
   ]
  },
  {
   "cell_type": "code",
   "execution_count": 23,
   "metadata": {},
   "outputs": [
    {
     "data": {
      "text/html": [
       "<table>\n",
       "<tbody>\n",
       "\t<tr><td>1 </td><td>5 </td><td> 9</td><td>13</td><td>17</td></tr>\n",
       "\t<tr><td>2 </td><td>6 </td><td>10</td><td>14</td><td>18</td></tr>\n",
       "\t<tr><td>3 </td><td>7 </td><td>11</td><td>15</td><td>19</td></tr>\n",
       "\t<tr><td>4 </td><td>8 </td><td>12</td><td>16</td><td>20</td></tr>\n",
       "</tbody>\n",
       "</table>\n"
      ],
      "text/latex": [
       "\\begin{tabular}{lllll}\n",
       "\t 1  & 5  &  9 & 13 & 17\\\\\n",
       "\t 2  & 6  & 10 & 14 & 18\\\\\n",
       "\t 3  & 7  & 11 & 15 & 19\\\\\n",
       "\t 4  & 8  & 12 & 16 & 20\\\\\n",
       "\\end{tabular}\n"
      ],
      "text/markdown": [
       "\n",
       "| 1  | 5  |  9 | 13 | 17 | \n",
       "| 2  | 6  | 10 | 14 | 18 | \n",
       "| 3  | 7  | 11 | 15 | 19 | \n",
       "| 4  | 8  | 12 | 16 | 20 | \n",
       "\n",
       "\n"
      ],
      "text/plain": [
       "     [,1] [,2] [,3] [,4] [,5]\n",
       "[1,] 1    5     9   13   17  \n",
       "[2,] 2    6    10   14   18  \n",
       "[3,] 3    7    11   15   19  \n",
       "[4,] 4    8    12   16   20  "
      ]
     },
     "metadata": {},
     "output_type": "display_data"
    },
    {
     "data": {
      "text/html": [
       "<table>\n",
       "<tbody>\n",
       "\t<tr><td> 1</td><td> 2</td><td> 3</td><td> 4</td></tr>\n",
       "\t<tr><td> 5</td><td> 6</td><td> 7</td><td> 8</td></tr>\n",
       "\t<tr><td> 9</td><td>10</td><td>11</td><td>12</td></tr>\n",
       "\t<tr><td>13</td><td>14</td><td>15</td><td>16</td></tr>\n",
       "\t<tr><td>17</td><td>18</td><td>19</td><td>20</td></tr>\n",
       "</tbody>\n",
       "</table>\n"
      ],
      "text/latex": [
       "\\begin{tabular}{llll}\n",
       "\t  1 &  2 &  3 &  4\\\\\n",
       "\t  5 &  6 &  7 &  8\\\\\n",
       "\t  9 & 10 & 11 & 12\\\\\n",
       "\t 13 & 14 & 15 & 16\\\\\n",
       "\t 17 & 18 & 19 & 20\\\\\n",
       "\\end{tabular}\n"
      ],
      "text/markdown": [
       "\n",
       "|  1 |  2 |  3 |  4 | \n",
       "|  5 |  6 |  7 |  8 | \n",
       "|  9 | 10 | 11 | 12 | \n",
       "| 13 | 14 | 15 | 16 | \n",
       "| 17 | 18 | 19 | 20 | \n",
       "\n",
       "\n"
      ],
      "text/plain": [
       "     [,1] [,2] [,3] [,4]\n",
       "[1,]  1    2    3    4  \n",
       "[2,]  5    6    7    8  \n",
       "[3,]  9   10   11   12  \n",
       "[4,] 13   14   15   16  \n",
       "[5,] 17   18   19   20  "
      ]
     },
     "metadata": {},
     "output_type": "display_data"
    }
   ],
   "source": [
    "# 행과 열 변환하기(transpose)하기 \n",
    "z <- matrix(1:20,nrow =4, ncol=5)\n",
    "z\n",
    "t(z)"
   ]
  },
  {
   "cell_type": "code",
   "execution_count": 25,
   "metadata": {},
   "outputs": [
    {
     "data": {
      "text/html": [
       "<table>\n",
       "<thead><tr><th scope=col>Sepal.Length</th><th scope=col>Sepal.Width</th><th scope=col>Petal.Length</th><th scope=col>Petal.Width</th><th scope=col>Species</th></tr></thead>\n",
       "<tbody>\n",
       "\t<tr><td>5.1   </td><td>3.5   </td><td>1.4   </td><td>0.2   </td><td>setosa</td></tr>\n",
       "\t<tr><td>4.9   </td><td>3.0   </td><td>1.4   </td><td>0.2   </td><td>setosa</td></tr>\n",
       "\t<tr><td>4.7   </td><td>3.2   </td><td>1.3   </td><td>0.2   </td><td>setosa</td></tr>\n",
       "\t<tr><td>4.6   </td><td>3.1   </td><td>1.5   </td><td>0.2   </td><td>setosa</td></tr>\n",
       "\t<tr><td>5.0   </td><td>3.6   </td><td>1.4   </td><td>0.2   </td><td>setosa</td></tr>\n",
       "\t<tr><td>5.4   </td><td>3.9   </td><td>1.7   </td><td>0.4   </td><td>setosa</td></tr>\n",
       "</tbody>\n",
       "</table>\n"
      ],
      "text/latex": [
       "\\begin{tabular}{r|lllll}\n",
       " Sepal.Length & Sepal.Width & Petal.Length & Petal.Width & Species\\\\\n",
       "\\hline\n",
       "\t 5.1    & 3.5    & 1.4    & 0.2    & setosa\\\\\n",
       "\t 4.9    & 3.0    & 1.4    & 0.2    & setosa\\\\\n",
       "\t 4.7    & 3.2    & 1.3    & 0.2    & setosa\\\\\n",
       "\t 4.6    & 3.1    & 1.5    & 0.2    & setosa\\\\\n",
       "\t 5.0    & 3.6    & 1.4    & 0.2    & setosa\\\\\n",
       "\t 5.4    & 3.9    & 1.7    & 0.4    & setosa\\\\\n",
       "\\end{tabular}\n"
      ],
      "text/markdown": [
       "\n",
       "Sepal.Length | Sepal.Width | Petal.Length | Petal.Width | Species | \n",
       "|---|---|---|---|---|---|\n",
       "| 5.1    | 3.5    | 1.4    | 0.2    | setosa | \n",
       "| 4.9    | 3.0    | 1.4    | 0.2    | setosa | \n",
       "| 4.7    | 3.2    | 1.3    | 0.2    | setosa | \n",
       "| 4.6    | 3.1    | 1.5    | 0.2    | setosa | \n",
       "| 5.0    | 3.6    | 1.4    | 0.2    | setosa | \n",
       "| 5.4    | 3.9    | 1.7    | 0.4    | setosa | \n",
       "\n",
       "\n"
      ],
      "text/plain": [
       "  Sepal.Length Sepal.Width Petal.Length Petal.Width Species\n",
       "1 5.1          3.5         1.4          0.2         setosa \n",
       "2 4.9          3.0         1.4          0.2         setosa \n",
       "3 4.7          3.2         1.3          0.2         setosa \n",
       "4 4.6          3.1         1.5          0.2         setosa \n",
       "5 5.0          3.6         1.4          0.2         setosa \n",
       "6 5.4          3.9         1.7          0.4         setosa "
      ]
     },
     "metadata": {},
     "output_type": "display_data"
    },
    {
     "data": {
      "text/html": [
       "<table>\n",
       "<thead><tr><th></th><th scope=col>Sepal.Length</th><th scope=col>Sepal.Width</th><th scope=col>Petal.Length</th><th scope=col>Petal.Width</th><th scope=col>Species</th></tr></thead>\n",
       "<tbody>\n",
       "\t<tr><th scope=row>16</th><td>5.7   </td><td>4.4   </td><td>1.5   </td><td>0.4   </td><td>setosa</td></tr>\n",
       "\t<tr><th scope=row>33</th><td>5.2   </td><td>4.1   </td><td>1.5   </td><td>0.1   </td><td>setosa</td></tr>\n",
       "\t<tr><th scope=row>34</th><td>5.5   </td><td>4.2   </td><td>1.4   </td><td>0.2   </td><td>setosa</td></tr>\n",
       "</tbody>\n",
       "</table>\n"
      ],
      "text/latex": [
       "\\begin{tabular}{r|lllll}\n",
       "  & Sepal.Length & Sepal.Width & Petal.Length & Petal.Width & Species\\\\\n",
       "\\hline\n",
       "\t16 & 5.7    & 4.4    & 1.5    & 0.4    & setosa\\\\\n",
       "\t33 & 5.2    & 4.1    & 1.5    & 0.1    & setosa\\\\\n",
       "\t34 & 5.5    & 4.2    & 1.4    & 0.2    & setosa\\\\\n",
       "\\end{tabular}\n"
      ],
      "text/markdown": [
       "\n",
       "| <!--/--> | Sepal.Length | Sepal.Width | Petal.Length | Petal.Width | Species | \n",
       "|---|---|---|\n",
       "| 16 | 5.7    | 4.4    | 1.5    | 0.4    | setosa | \n",
       "| 33 | 5.2    | 4.1    | 1.5    | 0.1    | setosa | \n",
       "| 34 | 5.5    | 4.2    | 1.4    | 0.2    | setosa | \n",
       "\n",
       "\n"
      ],
      "text/plain": [
       "   Sepal.Length Sepal.Width Petal.Length Petal.Width Species\n",
       "16 5.7          4.4         1.5          0.4         setosa \n",
       "33 5.2          4.1         1.5          0.1         setosa \n",
       "34 5.5          4.2         1.4          0.2         setosa "
      ]
     },
     "metadata": {},
     "output_type": "display_data"
    }
   ],
   "source": [
    "# subset: 조건에 맞는 행(row) 추출\n",
    "# subset은 matrix에서 잘 안됨\n",
    "\n",
    "IR.1 <- subset(iris,Species == \"setosa\")\n",
    "head(IR.1)\n",
    "IR.2 <- subset(iris, Sepal.Length> 5.0 &\n",
    "              Sepal.Width> 4.0)\n",
    "IR.2"
   ]
  },
  {
   "cell_type": "code",
   "execution_count": 26,
   "metadata": {},
   "outputs": [
    {
     "data": {
      "text/html": [
       "<table>\n",
       "<tbody>\n",
       "\t<tr><td>1 </td><td>5 </td><td> 9</td><td>13</td><td>17</td></tr>\n",
       "\t<tr><td>2 </td><td>6 </td><td>10</td><td>14</td><td>18</td></tr>\n",
       "\t<tr><td>3 </td><td>7 </td><td>11</td><td>15</td><td>19</td></tr>\n",
       "\t<tr><td>4 </td><td>8 </td><td>12</td><td>16</td><td>20</td></tr>\n",
       "</tbody>\n",
       "</table>\n"
      ],
      "text/latex": [
       "\\begin{tabular}{lllll}\n",
       "\t 1  & 5  &  9 & 13 & 17\\\\\n",
       "\t 2  & 6  & 10 & 14 & 18\\\\\n",
       "\t 3  & 7  & 11 & 15 & 19\\\\\n",
       "\t 4  & 8  & 12 & 16 & 20\\\\\n",
       "\\end{tabular}\n"
      ],
      "text/markdown": [
       "\n",
       "| 1  | 5  |  9 | 13 | 17 | \n",
       "| 2  | 6  | 10 | 14 | 18 | \n",
       "| 3  | 7  | 11 | 15 | 19 | \n",
       "| 4  | 8  | 12 | 16 | 20 | \n",
       "\n",
       "\n"
      ],
      "text/plain": [
       "     [,1] [,2] [,3] [,4] [,5]\n",
       "[1,] 1    5     9   13   17  \n",
       "[2,] 2    6    10   14   18  \n",
       "[3,] 3    7    11   15   19  \n",
       "[4,] 4    8    12   16   20  "
      ]
     },
     "metadata": {},
     "output_type": "display_data"
    },
    {
     "data": {
      "text/html": [
       "<table>\n",
       "<tbody>\n",
       "\t<tr><td>21</td><td>25</td><td>29</td><td>33</td><td>37</td></tr>\n",
       "\t<tr><td>22</td><td>26</td><td>30</td><td>34</td><td>38</td></tr>\n",
       "\t<tr><td>23</td><td>27</td><td>31</td><td>35</td><td>39</td></tr>\n",
       "\t<tr><td>24</td><td>28</td><td>32</td><td>36</td><td>40</td></tr>\n",
       "</tbody>\n",
       "</table>\n"
      ],
      "text/latex": [
       "\\begin{tabular}{lllll}\n",
       "\t 21 & 25 & 29 & 33 & 37\\\\\n",
       "\t 22 & 26 & 30 & 34 & 38\\\\\n",
       "\t 23 & 27 & 31 & 35 & 39\\\\\n",
       "\t 24 & 28 & 32 & 36 & 40\\\\\n",
       "\\end{tabular}\n"
      ],
      "text/markdown": [
       "\n",
       "| 21 | 25 | 29 | 33 | 37 | \n",
       "| 22 | 26 | 30 | 34 | 38 | \n",
       "| 23 | 27 | 31 | 35 | 39 | \n",
       "| 24 | 28 | 32 | 36 | 40 | \n",
       "\n",
       "\n"
      ],
      "text/plain": [
       "     [,1] [,2] [,3] [,4] [,5]\n",
       "[1,] 21   25   29   33   37  \n",
       "[2,] 22   26   30   34   38  \n",
       "[3,] 23   27   31   35   39  \n",
       "[4,] 24   28   32   36   40  "
      ]
     },
     "metadata": {},
     "output_type": "display_data"
    },
    {
     "data": {
      "text/html": [
       "<table>\n",
       "<tbody>\n",
       "\t<tr><td>22</td><td>30</td><td>38</td><td>46</td><td>54</td></tr>\n",
       "\t<tr><td>24</td><td>32</td><td>40</td><td>48</td><td>56</td></tr>\n",
       "\t<tr><td>26</td><td>34</td><td>42</td><td>50</td><td>58</td></tr>\n",
       "\t<tr><td>28</td><td>36</td><td>44</td><td>52</td><td>60</td></tr>\n",
       "</tbody>\n",
       "</table>\n"
      ],
      "text/latex": [
       "\\begin{tabular}{lllll}\n",
       "\t 22 & 30 & 38 & 46 & 54\\\\\n",
       "\t 24 & 32 & 40 & 48 & 56\\\\\n",
       "\t 26 & 34 & 42 & 50 & 58\\\\\n",
       "\t 28 & 36 & 44 & 52 & 60\\\\\n",
       "\\end{tabular}\n"
      ],
      "text/markdown": [
       "\n",
       "| 22 | 30 | 38 | 46 | 54 | \n",
       "| 24 | 32 | 40 | 48 | 56 | \n",
       "| 26 | 34 | 42 | 50 | 58 | \n",
       "| 28 | 36 | 44 | 52 | 60 | \n",
       "\n",
       "\n"
      ],
      "text/plain": [
       "     [,1] [,2] [,3] [,4] [,5]\n",
       "[1,] 22   30   38   46   54  \n",
       "[2,] 24   32   40   48   56  \n",
       "[3,] 26   34   42   50   58  \n",
       "[4,] 28   36   44   52   60  "
      ]
     },
     "metadata": {},
     "output_type": "display_data"
    },
    {
     "data": {
      "text/html": [
       "<table>\n",
       "<tbody>\n",
       "\t<tr><td>20</td><td>20</td><td>20</td><td>20</td><td>20</td></tr>\n",
       "\t<tr><td>20</td><td>20</td><td>20</td><td>20</td><td>20</td></tr>\n",
       "\t<tr><td>20</td><td>20</td><td>20</td><td>20</td><td>20</td></tr>\n",
       "\t<tr><td>20</td><td>20</td><td>20</td><td>20</td><td>20</td></tr>\n",
       "</tbody>\n",
       "</table>\n"
      ],
      "text/latex": [
       "\\begin{tabular}{lllll}\n",
       "\t 20 & 20 & 20 & 20 & 20\\\\\n",
       "\t 20 & 20 & 20 & 20 & 20\\\\\n",
       "\t 20 & 20 & 20 & 20 & 20\\\\\n",
       "\t 20 & 20 & 20 & 20 & 20\\\\\n",
       "\\end{tabular}\n"
      ],
      "text/markdown": [
       "\n",
       "| 20 | 20 | 20 | 20 | 20 | \n",
       "| 20 | 20 | 20 | 20 | 20 | \n",
       "| 20 | 20 | 20 | 20 | 20 | \n",
       "| 20 | 20 | 20 | 20 | 20 | \n",
       "\n",
       "\n"
      ],
      "text/plain": [
       "     [,1] [,2] [,3] [,4] [,5]\n",
       "[1,] 20   20   20   20   20  \n",
       "[2,] 20   20   20   20   20  \n",
       "[3,] 20   20   20   20   20  \n",
       "[4,] 20   20   20   20   20  "
      ]
     },
     "metadata": {},
     "output_type": "display_data"
    },
    {
     "data": {
      "text/html": [
       "<table>\n",
       "<tbody>\n",
       "\t<tr><td>21.000000</td><td>5.000000 </td><td>3.222222 </td><td>2.538462 </td><td>2.176471 </td></tr>\n",
       "\t<tr><td>11.000000</td><td>4.333333 </td><td>3.000000 </td><td>2.428571 </td><td>2.111111 </td></tr>\n",
       "\t<tr><td> 7.666667</td><td>3.857143 </td><td>2.818182 </td><td>2.333333 </td><td>2.052632 </td></tr>\n",
       "\t<tr><td> 6.000000</td><td>3.500000 </td><td>2.666667 </td><td>2.250000 </td><td>2.000000 </td></tr>\n",
       "</tbody>\n",
       "</table>\n"
      ],
      "text/latex": [
       "\\begin{tabular}{lllll}\n",
       "\t 21.000000 & 5.000000  & 3.222222  & 2.538462  & 2.176471 \\\\\n",
       "\t 11.000000 & 4.333333  & 3.000000  & 2.428571  & 2.111111 \\\\\n",
       "\t  7.666667 & 3.857143  & 2.818182  & 2.333333  & 2.052632 \\\\\n",
       "\t  6.000000 & 3.500000  & 2.666667  & 2.250000  & 2.000000 \\\\\n",
       "\\end{tabular}\n"
      ],
      "text/markdown": [
       "\n",
       "| 21.000000 | 5.000000  | 3.222222  | 2.538462  | 2.176471  | \n",
       "| 11.000000 | 4.333333  | 3.000000  | 2.428571  | 2.111111  | \n",
       "|  7.666667 | 3.857143  | 2.818182  | 2.333333  | 2.052632  | \n",
       "|  6.000000 | 3.500000  | 2.666667  | 2.250000  | 2.000000  | \n",
       "\n",
       "\n"
      ],
      "text/plain": [
       "     [,1]      [,2]     [,3]     [,4]     [,5]    \n",
       "[1,] 21.000000 5.000000 3.222222 2.538462 2.176471\n",
       "[2,] 11.000000 4.333333 3.000000 2.428571 2.111111\n",
       "[3,]  7.666667 3.857143 2.818182 2.333333 2.052632\n",
       "[4,]  6.000000 3.500000 2.666667 2.250000 2.000000"
      ]
     },
     "metadata": {},
     "output_type": "display_data"
    },
    {
     "data": {
      "text/html": [
       "<table>\n",
       "<tbody>\n",
       "\t<tr><td>21 </td><td>125</td><td>261</td><td>429</td><td>629</td></tr>\n",
       "\t<tr><td>44 </td><td>156</td><td>300</td><td>476</td><td>684</td></tr>\n",
       "\t<tr><td>69 </td><td>189</td><td>341</td><td>525</td><td>741</td></tr>\n",
       "\t<tr><td>96 </td><td>224</td><td>384</td><td>576</td><td>800</td></tr>\n",
       "</tbody>\n",
       "</table>\n"
      ],
      "text/latex": [
       "\\begin{tabular}{lllll}\n",
       "\t 21  & 125 & 261 & 429 & 629\\\\\n",
       "\t 44  & 156 & 300 & 476 & 684\\\\\n",
       "\t 69  & 189 & 341 & 525 & 741\\\\\n",
       "\t 96  & 224 & 384 & 576 & 800\\\\\n",
       "\\end{tabular}\n"
      ],
      "text/markdown": [
       "\n",
       "| 21  | 125 | 261 | 429 | 629 | \n",
       "| 44  | 156 | 300 | 476 | 684 | \n",
       "| 69  | 189 | 341 | 525 | 741 | \n",
       "| 96  | 224 | 384 | 576 | 800 | \n",
       "\n",
       "\n"
      ],
      "text/plain": [
       "     [,1] [,2] [,3] [,4] [,5]\n",
       "[1,] 21   125  261  429  629 \n",
       "[2,] 44   156  300  476  684 \n",
       "[3,] 69   189  341  525  741 \n",
       "[4,] 96   224  384  576  800 "
      ]
     },
     "metadata": {},
     "output_type": "display_data"
    }
   ],
   "source": [
    "# matrix 간에도 사칙연산 가능(행/열의 수가 동일할 때)\n",
    "# 수학시간에 배우는 행렬의 곱과는 다르고 단순히 대응하는 위치에 있는 수치들끼리 사칙연산 수행\n",
    "a <- matrix(1:20,4,5)\n",
    "b <- matrix(21:40,4,5)\n",
    "a\n",
    "b\n",
    "a+b\n",
    "b-a\n",
    "b/a\n",
    "a*b"
   ]
  },
  {
   "cell_type": "code",
   "execution_count": 27,
   "metadata": {},
   "outputs": [
    {
     "data": {
      "text/html": [
       "'data.frame'"
      ],
      "text/latex": [
       "'data.frame'"
      ],
      "text/markdown": [
       "'data.frame'"
      ],
      "text/plain": [
       "[1] \"data.frame\""
      ]
     },
     "metadata": {},
     "output_type": "display_data"
    },
    {
     "data": {
      "text/html": [
       "'matrix'"
      ],
      "text/latex": [
       "'matrix'"
      ],
      "text/markdown": [
       "'matrix'"
      ],
      "text/plain": [
       "[1] \"matrix\""
      ]
     },
     "metadata": {},
     "output_type": "display_data"
    }
   ],
   "source": [
    "# matrix와 Data Frame은 외관상 비슷 \n",
    "# 자료 구조를 확인하기 위해 class함수를 사용 \n",
    "class(iris)\n",
    "class(state.x77)"
   ]
  },
  {
   "cell_type": "code",
   "execution_count": 28,
   "metadata": {},
   "outputs": [
    {
     "data": {
      "text/html": [
       "<table>\n",
       "<thead><tr><th scope=col>Sepal.Length</th><th scope=col>Sepal.Width</th><th scope=col>Petal.Length</th><th scope=col>Petal.Width</th></tr></thead>\n",
       "<tbody>\n",
       "\t<tr><td>5.1</td><td>3.5</td><td>1.4</td><td>0.2</td></tr>\n",
       "\t<tr><td>4.9</td><td>3.0</td><td>1.4</td><td>0.2</td></tr>\n",
       "\t<tr><td>4.7</td><td>3.2</td><td>1.3</td><td>0.2</td></tr>\n",
       "\t<tr><td>4.6</td><td>3.1</td><td>1.5</td><td>0.2</td></tr>\n",
       "\t<tr><td>5.0</td><td>3.6</td><td>1.4</td><td>0.2</td></tr>\n",
       "\t<tr><td>5.4</td><td>3.9</td><td>1.7</td><td>0.4</td></tr>\n",
       "</tbody>\n",
       "</table>\n"
      ],
      "text/latex": [
       "\\begin{tabular}{llll}\n",
       " Sepal.Length & Sepal.Width & Petal.Length & Petal.Width\\\\\n",
       "\\hline\n",
       "\t 5.1 & 3.5 & 1.4 & 0.2\\\\\n",
       "\t 4.9 & 3.0 & 1.4 & 0.2\\\\\n",
       "\t 4.7 & 3.2 & 1.3 & 0.2\\\\\n",
       "\t 4.6 & 3.1 & 1.5 & 0.2\\\\\n",
       "\t 5.0 & 3.6 & 1.4 & 0.2\\\\\n",
       "\t 5.4 & 3.9 & 1.7 & 0.4\\\\\n",
       "\\end{tabular}\n"
      ],
      "text/markdown": [
       "\n",
       "Sepal.Length | Sepal.Width | Petal.Length | Petal.Width | \n",
       "|---|---|---|---|---|---|\n",
       "| 5.1 | 3.5 | 1.4 | 0.2 | \n",
       "| 4.9 | 3.0 | 1.4 | 0.2 | \n",
       "| 4.7 | 3.2 | 1.3 | 0.2 | \n",
       "| 4.6 | 3.1 | 1.5 | 0.2 | \n",
       "| 5.0 | 3.6 | 1.4 | 0.2 | \n",
       "| 5.4 | 3.9 | 1.7 | 0.4 | \n",
       "\n",
       "\n"
      ],
      "text/plain": [
       "     Sepal.Length Sepal.Width Petal.Length Petal.Width\n",
       "[1,] 5.1          3.5         1.4          0.2        \n",
       "[2,] 4.9          3.0         1.4          0.2        \n",
       "[3,] 4.7          3.2         1.3          0.2        \n",
       "[4,] 4.6          3.1         1.5          0.2        \n",
       "[5,] 5.0          3.6         1.4          0.2        \n",
       "[6,] 5.4          3.9         1.7          0.4        "
      ]
     },
     "metadata": {},
     "output_type": "display_data"
    },
    {
     "data": {
      "text/html": [
       "'matrix'"
      ],
      "text/latex": [
       "'matrix'"
      ],
      "text/markdown": [
       "'matrix'"
      ],
      "text/plain": [
       "[1] \"matrix\""
      ]
     },
     "metadata": {},
     "output_type": "display_data"
    }
   ],
   "source": [
    "# dataframe을 matrix형태로 변환\n",
    "iris.m <- as.matrix(iris[,1:4])\n",
    "head(iris.m)\n",
    "class(iris.m)"
   ]
  },
  {
   "cell_type": "code",
   "execution_count": null,
   "metadata": {},
   "outputs": [],
   "source": [
    "# 4. 파일에 데이터 읽기/쓰기"
   ]
  },
  {
   "cell_type": "code",
   "execution_count": null,
   "metadata": {},
   "outputs": [],
   "source": [
    "# 파일에서 데이터 읽어보기 \n",
    "# csv 포멧으로 저장\n",
    "# read.csv()함수 이용 \n",
    "# 디렉토리 구분자는 \\가 아닌 /를 사용 "
   ]
  },
  {
   "cell_type": "code",
   "execution_count": 30,
   "metadata": {},
   "outputs": [
    {
     "data": {
      "text/html": [
       "'D:/py_fi/1._R기초교육/Rworks'"
      ],
      "text/latex": [
       "'D:/py\\_fi/1.\\_R기초교육/Rworks'"
      ],
      "text/markdown": [
       "'D:/py_fi/1._R기초교육/Rworks'"
      ],
      "text/plain": [
       "[1] \"D:/py_fi/1._R기초교육/Rworks\""
      ]
     },
     "metadata": {},
     "output_type": "display_data"
    },
    {
     "data": {
      "text/html": [
       "'D:/py_fi/1._R기초교육/Rworks'"
      ],
      "text/latex": [
       "'D:/py\\_fi/1.\\_R기초교육/Rworks'"
      ],
      "text/markdown": [
       "'D:/py_fi/1._R기초교육/Rworks'"
      ],
      "text/plain": [
       "[1] \"D:/py_fi/1._R기초교육/Rworks\""
      ]
     },
     "metadata": {},
     "output_type": "display_data"
    },
    {
     "data": {
      "text/html": [
       "<table>\n",
       "<thead><tr><th scope=col>SL</th><th scope=col>SW</th><th scope=col>PL</th><th scope=col>PW</th><th scope=col>Group</th></tr></thead>\n",
       "<tbody>\n",
       "\t<tr><td>5.1   </td><td>3.5   </td><td>1.4   </td><td>0.2   </td><td>setosa</td></tr>\n",
       "\t<tr><td>4.9   </td><td>3.0   </td><td>1.4   </td><td>0.2   </td><td>setosa</td></tr>\n",
       "\t<tr><td>4.7   </td><td>3.2   </td><td>1.3   </td><td>0.2   </td><td>setosa</td></tr>\n",
       "\t<tr><td>4.6   </td><td>3.1   </td><td>1.5   </td><td>0.2   </td><td>setosa</td></tr>\n",
       "\t<tr><td>5.0   </td><td>3.6   </td><td>1.4   </td><td>0.2   </td><td>setosa</td></tr>\n",
       "\t<tr><td>5.4   </td><td>3.9   </td><td>1.7   </td><td>0.4   </td><td>setosa</td></tr>\n",
       "</tbody>\n",
       "</table>\n"
      ],
      "text/latex": [
       "\\begin{tabular}{r|lllll}\n",
       " SL & SW & PL & PW & Group\\\\\n",
       "\\hline\n",
       "\t 5.1    & 3.5    & 1.4    & 0.2    & setosa\\\\\n",
       "\t 4.9    & 3.0    & 1.4    & 0.2    & setosa\\\\\n",
       "\t 4.7    & 3.2    & 1.3    & 0.2    & setosa\\\\\n",
       "\t 4.6    & 3.1    & 1.5    & 0.2    & setosa\\\\\n",
       "\t 5.0    & 3.6    & 1.4    & 0.2    & setosa\\\\\n",
       "\t 5.4    & 3.9    & 1.7    & 0.4    & setosa\\\\\n",
       "\\end{tabular}\n"
      ],
      "text/markdown": [
       "\n",
       "SL | SW | PL | PW | Group | \n",
       "|---|---|---|---|---|---|\n",
       "| 5.1    | 3.5    | 1.4    | 0.2    | setosa | \n",
       "| 4.9    | 3.0    | 1.4    | 0.2    | setosa | \n",
       "| 4.7    | 3.2    | 1.3    | 0.2    | setosa | \n",
       "| 4.6    | 3.1    | 1.5    | 0.2    | setosa | \n",
       "| 5.0    | 3.6    | 1.4    | 0.2    | setosa | \n",
       "| 5.4    | 3.9    | 1.7    | 0.4    | setosa | \n",
       "\n",
       "\n"
      ],
      "text/plain": [
       "  SL  SW  PL  PW  Group \n",
       "1 5.1 3.5 1.4 0.2 setosa\n",
       "2 4.9 3.0 1.4 0.2 setosa\n",
       "3 4.7 3.2 1.3 0.2 setosa\n",
       "4 4.6 3.1 1.5 0.2 setosa\n",
       "5 5.0 3.6 1.4 0.2 setosa\n",
       "6 5.4 3.9 1.7 0.4 setosa"
      ]
     },
     "metadata": {},
     "output_type": "display_data"
    }
   ],
   "source": [
    "getwd()\n",
    "setwd(\"D:/py_fi/1._R기초교육/Rworks\")\n",
    "getwd()\n",
    "mydata <- read.csv(\"test.csv\",header = TRUE) # 첫줄이 컬럼이 아닌 데이터일 경우 header = False로 인자 변경 TRUE는 디폴트값\n",
    "head(mydata)"
   ]
  },
  {
   "cell_type": "code",
   "execution_count": null,
   "metadata": {},
   "outputs": [],
   "source": [
    "# 5. List와 Factor"
   ]
  },
  {
   "cell_type": "code",
   "execution_count": 32,
   "metadata": {},
   "outputs": [
    {
     "data": {
      "text/html": [
       "<dl>\n",
       "\t<dt>$name</dt>\n",
       "\t\t<dd>'kim'</dd>\n",
       "\t<dt>$address</dt>\n",
       "\t\t<dd>'busan'</dd>\n",
       "\t<dt>$boolean</dt>\n",
       "\t\t<dd>TRUE</dd>\n",
       "</dl>\n"
      ],
      "text/latex": [
       "\\begin{description}\n",
       "\\item[\\$name] 'kim'\n",
       "\\item[\\$address] 'busan'\n",
       "\\item[\\$boolean] TRUE\n",
       "\\end{description}\n"
      ],
      "text/markdown": [
       "$name\n",
       ":   'kim'\n",
       "$address\n",
       ":   'busan'\n",
       "$boolean\n",
       ":   TRUE\n",
       "\n",
       "\n"
      ],
      "text/plain": [
       "$name\n",
       "[1] \"kim\"\n",
       "\n",
       "$address\n",
       "[1] \"busan\"\n",
       "\n",
       "$boolean\n",
       "[1] TRUE\n"
      ]
     },
     "metadata": {},
     "output_type": "display_data"
    },
    {
     "data": {
      "text/html": [
       "'kim'"
      ],
      "text/latex": [
       "'kim'"
      ],
      "text/markdown": [
       "'kim'"
      ],
      "text/plain": [
       "[1] \"kim\""
      ]
     },
     "metadata": {},
     "output_type": "display_data"
    },
    {
     "data": {
      "text/html": [
       "'kim'"
      ],
      "text/latex": [
       "'kim'"
      ],
      "text/markdown": [
       "'kim'"
      ],
      "text/plain": [
       "[1] \"kim\""
      ]
     },
     "metadata": {},
     "output_type": "display_data"
    }
   ],
   "source": [
    "# List\n",
    "# 벡터와 비슷하나 벡터와 달리 여러 자료형의 데이터를 섞어서 저장할 수 있다. (vactor나 data frame등도 원소로 저장 가능)\n",
    "\n",
    "member <- list(name = 'kim',address = 'busan',boolean = TRUE)\n",
    "member\n",
    "\n",
    "# list에서 요소값을 불러올때는 [[]]\n",
    "member[[1]]\n",
    "member$name"
   ]
  },
  {
   "cell_type": "code",
   "execution_count": 35,
   "metadata": {},
   "outputs": [
    {
     "name": "stdout",
     "output_type": "stream",
     "text": [
      "[1] A  A  AB O  B \n",
      "Levels: A AB B O\n"
     ]
    },
    {
     "data": {
      "text/html": [
       "TRUE"
      ],
      "text/latex": [
       "TRUE"
      ],
      "text/markdown": [
       "TRUE"
      ],
      "text/plain": [
       "[1] TRUE"
      ]
     },
     "metadata": {},
     "output_type": "display_data"
    },
    {
     "name": "stderr",
     "output_type": "stream",
     "text": [
      "Warning message in `[<-.factor`(`*tmp*`, 6, value = \"D\"):\n",
      "\"invalid factor level, NA generated\""
     ]
    }
   ],
   "source": [
    "# factor \n",
    "# 문자형 변수로서 특정 종류의 값만 가질 수 있는 데이터 타입 \n",
    "# 혈액형과 같이 종류에 대한 데이터 타입에 사용한다. \n",
    "blood_type <- factor(c(\"A\",\"A\",\"AB\",\"O\",\"B\"))\n",
    "print(blood_type)\n",
    "is.factor(blood_type)\n",
    "blood_type[6] <- \"D\" # 오류 발생"
   ]
  },
  {
   "cell_type": "code",
   "execution_count": 36,
   "metadata": {},
   "outputs": [
    {
     "data": {
      "text/html": [
       "<ol class=list-inline>\n",
       "\t<li>A</li>\n",
       "\t<li>A</li>\n",
       "\t<li>AB</li>\n",
       "\t<li>O</li>\n",
       "\t<li>B</li>\n",
       "\t<li>&lt;NA&gt;</li>\n",
       "</ol>\n",
       "\n",
       "<details>\n",
       "\t<summary style=display:list-item;cursor:pointer>\n",
       "\t\t<strong>Levels</strong>:\n",
       "\t</summary>\n",
       "\t<ol class=list-inline>\n",
       "\t\t<li>'A'</li>\n",
       "\t\t<li>'AB'</li>\n",
       "\t\t<li>'B'</li>\n",
       "\t\t<li>'O'</li>\n",
       "\t</ol>\n",
       "</details>"
      ],
      "text/latex": [
       "\\begin{enumerate*}\n",
       "\\item A\n",
       "\\item A\n",
       "\\item AB\n",
       "\\item O\n",
       "\\item B\n",
       "\\item <NA>\n",
       "\\end{enumerate*}\n",
       "\n",
       "\\emph{Levels}: \\begin{enumerate*}\n",
       "\\item 'A'\n",
       "\\item 'AB'\n",
       "\\item 'B'\n",
       "\\item 'O'\n",
       "\\end{enumerate*}\n"
      ],
      "text/markdown": [
       "1. A\n",
       "2. A\n",
       "3. AB\n",
       "4. O\n",
       "5. B\n",
       "6. &lt;NA&gt;\n",
       "\n",
       "\n",
       "\n",
       "**Levels**: 1. 'A'\n",
       "2. 'AB'\n",
       "3. 'B'\n",
       "4. 'O'\n",
       "\n",
       "\n"
      ],
      "text/plain": [
       "[1] A    A    AB   O    B    <NA>\n",
       "Levels: A AB B O"
      ]
     },
     "metadata": {},
     "output_type": "display_data"
    },
    {
     "data": {
      "text/html": [
       "<ol class=list-inline>\n",
       "\t<li>1</li>\n",
       "\t<li>1</li>\n",
       "\t<li>2</li>\n",
       "\t<li>4</li>\n",
       "\t<li>3</li>\n",
       "\t<li>&lt;NA&gt;</li>\n",
       "</ol>\n"
      ],
      "text/latex": [
       "\\begin{enumerate*}\n",
       "\\item 1\n",
       "\\item 1\n",
       "\\item 2\n",
       "\\item 4\n",
       "\\item 3\n",
       "\\item <NA>\n",
       "\\end{enumerate*}\n"
      ],
      "text/markdown": [
       "1. 1\n",
       "2. 1\n",
       "3. 2\n",
       "4. 4\n",
       "5. 3\n",
       "6. &lt;NA&gt;\n",
       "\n",
       "\n"
      ],
      "text/plain": [
       "[1]  1  1  2  4  3 NA"
      ]
     },
     "metadata": {},
     "output_type": "display_data"
    },
    {
     "name": "stdout",
     "output_type": "stream",
     "text": [
      "[1] A    A    AB   O    B    <NA>\n",
      "Levels: A AB B O\n"
     ]
    }
   ],
   "source": [
    "# Factor는 Label 순서대로 숫자로 변환할 수 있다. \n",
    "blood_type\n",
    "as.numeric(blood_type)\n"
   ]
  }
 ],
 "metadata": {
  "kernelspec": {
   "display_name": "R",
   "language": "R",
   "name": "ir"
  },
  "language_info": {
   "codemirror_mode": "r",
   "file_extension": ".r",
   "mimetype": "text/x-r-source",
   "name": "R",
   "pygments_lexer": "r",
   "version": "3.5.1"
  }
 },
 "nbformat": 4,
 "nbformat_minor": 2
}
